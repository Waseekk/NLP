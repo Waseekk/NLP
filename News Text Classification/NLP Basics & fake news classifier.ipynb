{
 "cells": [
  {
   "cell_type": "code",
   "execution_count": null,
   "id": "f6ebae8a",
   "metadata": {},
   "outputs": [],
   "source": []
  },
  {
   "cell_type": "markdown",
   "id": "d705cc07",
   "metadata": {},
   "source": [
    "The Jupyter Notebook is structured into various sections, each addressing distinct techniques and concepts related to natural language processing and text analysis. The initial section delves into string manipulation with `re.split()` and `re.findall()`. Following this, the notebook introduces the fundamental concept of tokenization, demonstrating word tokenization using the NLTK library and showcasing the application of regular expressions with `re.search()` and `re.match()`. The subsequent section advances into more complex tokenization tasks, including handling non-ascii characters and visualizing word lengths using NLTK. Moving on, the notebook explores simple topic identification methodologies, such as the bag-of-words model and the creation of a corpus with gensim. Additionally, it discusses Named Entity Recognition (NER) using NLTK and compares it with spaCy. The final sections shift focus towards practical applications, specifically a Fake News Classifier. Techniques covered include text vectorization using CountVectorizer and TfidfVectorizer, inspecting vectors, and training/testing the classifier. The notebook concludes by providing insights into model improvement and methods for inspecting the model's performance.\n"
   ]
  },
  {
   "cell_type": "code",
   "execution_count": 1,
   "id": "0f6fbd89",
   "metadata": {},
   "outputs": [],
   "source": [
    "import pandas as pd\n",
    "import matplotlib.pyplot as plt\n",
    "import  numpy as np"
   ]
  },
  {
   "cell_type": "code",
   "execution_count": 3,
   "id": "504bfa5e",
   "metadata": {},
   "outputs": [],
   "source": [
    "import re\n",
    "from nltk.tokenize import word_tokenize,sent_tokenize,regexp_tokenize,TweetTokenizer"
   ]
  },
  {
   "cell_type": "code",
   "execution_count": 3,
   "id": "69dcd15f",
   "metadata": {},
   "outputs": [],
   "source": [
    "#3\n",
    "from collections import Counter,defaultdict\n",
    "from collections import defaultdict\n",
    "import itertools\n",
    "from nltk.stem import WordNetLemmatizer\n",
    "import nltk\n",
    "#nltk.download('wordnet')\n",
    "from gensim.corpora.dictionary import Dictionary\n",
    "from gensim.models.tfidfmodel import TfidfModel\n"
   ]
  },
  {
   "cell_type": "code",
   "execution_count": 7,
   "id": "7d2650aa",
   "metadata": {},
   "outputs": [],
   "source": [
    "import spacy"
   ]
  },
  {
   "cell_type": "code",
   "execution_count": 2,
   "id": "664a2d7a",
   "metadata": {},
   "outputs": [],
   "source": [
    "from sklearn.feature_extraction.text import CountVectorizer\n",
    "from sklearn.model_selection import train_test_split\n",
    "from sklearn.feature_extraction.text import TfidfVectorizer\n",
    "from sklearn.naive_bayes import MultinomialNB\n",
    "from sklearn import metrics"
   ]
  },
  {
   "cell_type": "code",
   "execution_count": 12,
   "id": "c5cfa329",
   "metadata": {},
   "outputs": [],
   "source": [
    "#pip install polyglot"
   ]
  },
  {
   "cell_type": "code",
   "execution_count": null,
   "id": "0cfa52d3",
   "metadata": {},
   "outputs": [],
   "source": []
  },
  {
   "cell_type": "markdown",
   "id": "9686cf92",
   "metadata": {},
   "source": [
    "#### re.split() and re.findall()"
   ]
  },
  {
   "cell_type": "code",
   "execution_count": 5,
   "id": "5042133f",
   "metadata": {},
   "outputs": [],
   "source": [
    "my_string=\"Let's write RegEx!  Won't that be fun?  I sure think so.  Can you find 4 sentences?  Or perhaps, all 19 words?\"\n"
   ]
  },
  {
   "cell_type": "code",
   "execution_count": 6,
   "id": "5780b5be",
   "metadata": {},
   "outputs": [
    {
     "name": "stdout",
     "output_type": "stream",
     "text": [
      "[\"Let's write RegEx\", \"  Won't that be fun\", '  I sure think so', '  Can you find 4 sentences', '  Or perhaps, all 19 words', '']\n",
      "['Let', 'RegEx', 'Won', 'Can', 'Or']\n",
      "[\"Let's\", 'write', 'RegEx!', \"Won't\", 'that', 'be', 'fun?', 'I', 'sure', 'think', 'so.', 'Can', 'you', 'find', '4', 'sentences?', 'Or', 'perhaps,', 'all', '19', 'words?']\n",
      "['4', '19']\n"
     ]
    }
   ],
   "source": [
    "# Write a pattern to match sentence endings: sentence_endings\n",
    "sentence_endings = r\"[\\.?!]\"\n",
    "\n",
    "# Split my_string on sentence endings and print the result\n",
    "print(re.split(sentence_endings, my_string))\n",
    "\n",
    "# Find all capitalized words in my_string and print the result\n",
    "capitalized_words = r\"[A-Z]\\w+\"\n",
    "print(re.findall(capitalized_words, my_string))\n",
    "\n",
    "# Split my_string on spaces and print the result\n",
    "spaces = r\"\\s+\"\n",
    "print(re.split(spaces, my_string))\n",
    "\n",
    "# Find all digits in my_string and print the result\n",
    "digits = r\"\\d+\"\n",
    "print(re.findall(digits, my_string))"
   ]
  },
  {
   "cell_type": "markdown",
   "id": "186606f3",
   "metadata": {},
   "source": [
    "## Introduction to tokenization\n",
    "#### Word tokenization with NLTk\n",
    "sent_tokenize, regexp_tokenize, TweetTokenizer"
   ]
  },
  {
   "cell_type": "code",
   "execution_count": null,
   "id": "f5066ede",
   "metadata": {},
   "outputs": [],
   "source": []
  },
  {
   "cell_type": "code",
   "execution_count": 18,
   "id": "7dd65bf5",
   "metadata": {},
   "outputs": [],
   "source": [
    "file_path=r'G:\\\\datacamp\\\\NLP\\New folder\\\\grail.txt'\n",
    "with open(file_path, 'r') as file:\n",
    "        grail = file.read()"
   ]
  },
  {
   "cell_type": "code",
   "execution_count": 30,
   "id": "3ed7bcc5",
   "metadata": {},
   "outputs": [],
   "source": [
    "#grail\n",
    "SCENE_1=\"[wind] [clop clop clop] \\nKING ARTHUR: Whoa there!  [clop clop clop] \\nSOLDIER #1: Halt!  Who goes there?\\nARTHUR: It is I, Arthur, son of Uther Pendragon, from the castle of Camelot.  King of the Britons, defeator of the Saxons, sovereign of all England!\\nSOLDIER #1: Pull the other one!\\nARTHUR: I am, ...  and this is my trusty servant Patsy.  We have ridden the length and breadth of the land in search of knights who will join me in my court at Camelot.  I must speak with your lord and master.\\nSOLDIER #1: What?  Ridden on a horse?\\nARTHUR: Yes!\\nSOLDIER #1: You're using coconuts!\\nARTHUR: What?\\nSOLDIER #1: You've got two empty halves of coconut and you're bangin' 'em together.\\nARTHUR: So?  We have ridden since the snows of winter covered this land, through the kingdom of Mercea, through--\\nSOLDIER #1: Where'd you get the coconuts?\\nARTHUR: We found them.\\nSOLDIER #1: Found them?  In Mercea?  The coconut's tropical!\\nARTHUR: What do you mean?\\nSOLDIER #1: Well, this is a temperate zone.\\nARTHUR: The swallow may fly south with the sun or the house martin or the plover may seek warmer climes in winter, yet these are not strangers to our land?\\nSOLDIER #1: Are you suggesting coconuts migrate?\\nARTHUR: Not at all.  They could be carried.\\nSOLDIER #1: What?  A swallow carrying a coconut?\\nARTHUR: It could grip it by the husk!\\nSOLDIER #1: It's not a question of where he grips it!  It's a simple question of weight ratios!  A five ounce bird could not carry a one pound coconut.\\nARTHUR: Well, it doesn't matter.  Will you go and tell your master that Arthur from the Court of Camelot is here.\\nSOLDIER #1: Listen.  In order to maintain air-speed velocity, a swallow needs to beat its wings forty-three times every second, right?\\nARTHUR: Please!\\nSOLDIER #1: Am I right?\\nARTHUR: I'm not interested!\\nSOLDIER #2: It could be carried by an African swallow!\\nSOLDIER #1: Oh, yeah, an African swallow maybe, but not a European swallow.  That's my point.\\nSOLDIER #2: Oh, yeah, I agree with that.\\nARTHUR: Will you ask your master if he wants to join my court at Camelot?!\\nSOLDIER #1: But then of course a-- African swallows are non-migratory.\\nSOLDIER #2: Oh, yeah...\\nSOLDIER #1: So they couldn't bring a coconut back anyway...  [clop clop clop] \\nSOLDIER #2: Wait a minute!  Supposing two swallows carried it together?\\nSOLDIER #1: No, they'd have to have it on a line.\\nSOLDIER #2: Well, simple!  They'd just use a strand of creeper!\\nSOLDIER #1: What, held under the dorsal guiding feathers?\\nSOLDIER #2: Well, why not?\\n\""
   ]
  },
  {
   "cell_type": "code",
   "execution_count": 36,
   "id": "6e3b479d",
   "metadata": {},
   "outputs": [
    {
     "name": "stdout",
     "output_type": "stream",
     "text": [
      "\n",
      "********Sentences******* ['[wind] [clop clop clop] \\nKING ARTHUR: Whoa there!', '[clop clop clop] \\nSOLDIER #1: Halt!', 'Who goes there?', 'ARTHUR: It is I, Arthur, son of Uther Pendragon, from the castle of Camelot.', 'King of the Britons, defeator of the Saxons, sovereign of all England!', 'SOLDIER #1: Pull the other one!', 'ARTHUR: I am, ...  and this is my trusty servant Patsy.', 'We have ridden the length and breadth of the land in search of knights who will join me in my court at Camelot.', 'I must speak with your lord and master.', 'SOLDIER #1: What?', 'Ridden on a horse?', 'ARTHUR: Yes!', \"SOLDIER #1: You're using coconuts!\", 'ARTHUR: What?', \"SOLDIER #1: You've got two empty halves of coconut and you're bangin' 'em together.\", 'ARTHUR: So?', \"We have ridden since the snows of winter covered this land, through the kingdom of Mercea, through--\\nSOLDIER #1: Where'd you get the coconuts?\", 'ARTHUR: We found them.', 'SOLDIER #1: Found them?', 'In Mercea?', \"The coconut's tropical!\", 'ARTHUR: What do you mean?', 'SOLDIER #1: Well, this is a temperate zone.', 'ARTHUR: The swallow may fly south with the sun or the house martin or the plover may seek warmer climes in winter, yet these are not strangers to our land?', 'SOLDIER #1: Are you suggesting coconuts migrate?', 'ARTHUR: Not at all.', 'They could be carried.', 'SOLDIER #1: What?', 'A swallow carrying a coconut?', 'ARTHUR: It could grip it by the husk!', \"SOLDIER #1: It's not a question of where he grips it!\", \"It's a simple question of weight ratios!\", 'A five ounce bird could not carry a one pound coconut.', \"ARTHUR: Well, it doesn't matter.\", 'Will you go and tell your master that Arthur from the Court of Camelot is here.', 'SOLDIER #1: Listen.', 'In order to maintain air-speed velocity, a swallow needs to beat its wings forty-three times every second, right?', 'ARTHUR: Please!', 'SOLDIER #1: Am I right?', \"ARTHUR: I'm not interested!\", 'SOLDIER #2: It could be carried by an African swallow!', 'SOLDIER #1: Oh, yeah, an African swallow maybe, but not a European swallow.', \"That's my point.\", 'SOLDIER #2: Oh, yeah, I agree with that.', 'ARTHUR: Will you ask your master if he wants to join my court at Camelot?!', 'SOLDIER #1: But then of course a-- African swallows are non-migratory.', 'SOLDIER #2: Oh, yeah...', \"SOLDIER #1: So they couldn't bring a coconut back anyway...  [clop clop clop] \\nSOLDIER #2: Wait a minute!\", 'Supposing two swallows carried it together?', \"SOLDIER #1: No, they'd have to have it on a line.\", 'SOLDIER #2: Well, simple!', \"They'd just use a strand of creeper!\", 'SOLDIER #1: What, held under the dorsal guiding feathers?', 'SOLDIER #2: Well, why not?']\n",
      "\n",
      "*******word*********** ['ARTHUR', ':', 'It', 'is', 'I', ',', 'Arthur', ',', 'son', 'of', 'Uther', 'Pendragon', ',', 'from', 'the', 'castle', 'of', 'Camelot', '.']\n",
      "\n",
      "**************unique set************** {'Camelot', 'Patsy', 'since', 'Pendragon', \"'re\", 'maybe', 'this', \"'\", 'climes', 'be', 'Am', '2', 'Wait', 'I', '...', 'minute', 'they', 'empty', 'found', 'beat', 'just', 'creeper', 'am', 'carry', 'the', 'right', 'point', '[', 'It', 'Listen', '#', 'does', 'trusty', 'or', 'grips', 'knights', 'ridden', 'The', 'on', 'these', 'then', 'there', 'do', 'strangers', 'tell', 'Arthur', 'interested', 'held', 'every', 'African', 'So', 'where', 'them', 'from', 'must', 'Ridden', 'In', 'carried', 'feathers', 'Halt', 'We', 'bangin', 'matter', 'England', 'if', 'me', 'simple', 'swallows', 'a', 'back', 'velocity', 'Saxons', 'through', 'use', 'are', 'horse', 'got', 'King', 'snows', 'husk', 'Will', '.', 'speak', ']', 'you', \"n't\", 'have', 'Supposing', 'under', 'son', 'why', 'warmer', 'suggesting', 'here', 'swallow', 'Court', 'fly', 'of', 'pound', 'Whoa', 'and', 'air-speed', 'SOLDIER', 'winter', 'may', \"'ve\", '--', 'using', 'our', 'Oh', 'Uther', 'court', 'European', 'Found', 'non-migratory', 'goes', 'Are', 'he', 'one', 'line', '1', 'guiding', 'other', 'it', 'master', ',', 'get', 'by', 'Not', 'castle', 'sovereign', 'You', 'could', '!', 'course', 'two', 'Yes', 'search', 'ask', 'times', 'all', 'wants', 'sun', 'kingdom', 'mean', 'needs', 'at', 'temperate', 'ounce', 'strand', 'bird', 'defeator', ':', \"'m\", 'Who', 'zone', 'yeah', 'halves', 'maintain', 'carrying', 'tropical', \"'em\", 'together', 'dorsal', 'Please', 'A', 'house', \"'d\", 'bring', 'coconut', 'migrate', '?', 'Britons', 'your', 'join', 'They', 'my', \"'s\", 'south', 'its', 'but', 'length', 'Where', 'wings', 'will', 'forty-three', 'Well', 'coconuts', 'That', 'not', 'lord', 'in', 'Pull', 'ARTHUR', 'breadth', 'who', 'Mercea', 'yet', 'anyway', 'clop', 'grip', 'that', 'But', 'weight', 'land', 'What', 'to', 'seek', 'is', 'five', 'go', 'with', 'covered', 'plover', 'agree', 'KING', 'order', 'an', 'No', 'martin', 'question', 'ratios', 'second', 'wind', 'servant'}\n"
     ]
    }
   ],
   "source": [
    "# Split scene_one into sentences: sentences\n",
    "sentences = sent_tokenize(SCENE_1)\n",
    "\n",
    "print(\"\\n********Sentences*******\",sentences)\n",
    "# Use word_tokenize to tokenize the fourth sentence: tokenized_sent\n",
    "tokenized_sent = word_tokenize(sentences[3])\n",
    "print(\"\\n*******word***********\",tokenized_sent)\n",
    "# Make a set of unique tokens in the entire scene: unique_tokens\n",
    "unique_tokens = set(word_tokenize(SCENE_1))\n",
    "# Print the unique tokens result\n",
    "print(\"\\n**************unique set**************\",unique_tokens)"
   ]
  },
  {
   "cell_type": "markdown",
   "id": "b5157755",
   "metadata": {},
   "source": [
    "#### re.search()/ re.match()"
   ]
  },
  {
   "cell_type": "code",
   "execution_count": 39,
   "id": "992c011d",
   "metadata": {},
   "outputs": [
    {
     "name": "stdout",
     "output_type": "stream",
     "text": [
      "571 579\n"
     ]
    }
   ],
   "source": [
    "# Search for the first occurrence of \"coconuts\" in scene_one: match\n",
    "match = re.search(\"coconuts\", SCENE_1)\n",
    "\n",
    "# Print the start and end indexes of match\n",
    "print(match.start(), match.end())"
   ]
  },
  {
   "cell_type": "code",
   "execution_count": 45,
   "id": "77e3188c",
   "metadata": {},
   "outputs": [
    {
     "name": "stdout",
     "output_type": "stream",
     "text": [
      "<re.Match object; span=(0, 23), match='[wind] [clop clop clop]'>\n"
     ]
    }
   ],
   "source": [
    "# Write a regular expression to search for anything in square brackets: pattern1\n",
    "pattern1 = r\"\\[.*]\"\n",
    "\n",
    "# Use re.search to find the first text in square brackets\n",
    "print(re.search(pattern1, SCENE_1))"
   ]
  },
  {
   "cell_type": "code",
   "execution_count": 46,
   "id": "34d9ca7f",
   "metadata": {},
   "outputs": [
    {
     "name": "stdout",
     "output_type": "stream",
     "text": [
      "<re.Match object; span=(0, 7), match='ARTHUR:'>\n"
     ]
    }
   ],
   "source": [
    "# Find the script notation at the beginning of the fourth sentence and print it\n",
    "pattern2 = r\"[\\w\\s]+:\"\n",
    "print(re.match(pattern2, sentences[3]))"
   ]
  },
  {
   "cell_type": "markdown",
   "id": "4e698daa",
   "metadata": {},
   "source": [
    "## Advanced tokenization with NLTK and regex"
   ]
  },
  {
   "cell_type": "code",
   "execution_count": 67,
   "id": "0326b547",
   "metadata": {},
   "outputs": [
    {
     "data": {
      "text/plain": [
       "['SOLDIER',\n",
       " '#',\n",
       " '1',\n",
       " 'Found',\n",
       " 'them',\n",
       " '?',\n",
       " 'In',\n",
       " 'Mercea',\n",
       " '?',\n",
       " 'The',\n",
       " 'coconut',\n",
       " 's',\n",
       " 'tropical',\n",
       " '!']"
      ]
     },
     "execution_count": 67,
     "metadata": {},
     "output_type": "execute_result"
    }
   ],
   "source": [
    "my_string = \"SOLDIER #1: Found them? In Mercea? The coconut's tropical!\"\n",
    "regexp_tokenize(my_string, r\"(\\w+|\\d|\\?|!|#)\")\n",
    "#all word or # all digit or all ?|!\n"
   ]
  },
  {
   "cell_type": "code",
   "execution_count": 68,
   "id": "97a4e07f",
   "metadata": {},
   "outputs": [
    {
     "name": "stdout",
     "output_type": "stream",
     "text": [
      "['#nlp', '#python']\n",
      "['#NLP', '#learning']\n",
      "['@datacamp', '#nlp', '#python']\n"
     ]
    }
   ],
   "source": [
    "tweets = [\n",
    "    ['#nlp', '#python'],\n",
    "    ['This is the best #nlp exercise ive found online! #python', '#NLP is super fun! <3 #learning', 'Thanks @datacamp :) #nlp #python']\n",
    "]\n",
    "\n",
    "# Define a regex pattern to find hashtags: pattern1\n",
    "pattern1 = r\"#\\w+\"\n",
    "pattern2 = r\"([@|#]\\w+)\" #********************\n",
    "\n",
    "# Iterate over each tweet and apply the tokenizer\n",
    "for tweet in tweets[1]:  # Skip the first element since it's a list of hashtags\n",
    "    hashtags = regexp_tokenize(tweet, pattern2)\n",
    "    print(hashtags)"
   ]
  },
  {
   "cell_type": "code",
   "execution_count": 66,
   "id": "86404104",
   "metadata": {},
   "outputs": [
    {
     "name": "stdout",
     "output_type": "stream",
     "text": [
      "[['This', 'is', 'the', 'best', '#nlp', 'exercise', 'ive', 'found', 'online', '!', '#python'], ['#NLP', 'is', 'super', 'fun', '!', '<3', '#learning'], ['Thanks', '@datacamp', ':)', '#nlp', '#python']]\n"
     ]
    }
   ],
   "source": [
    "###############tweettokenizer\n",
    "tknzr = TweetTokenizer()\n",
    "\n",
    "# Iterate over each tweet and tokenize\n",
    "all_tokens = [tknzr.tokenize(tweet) for tweet in tweets[1]]\n",
    "print(all_tokens)"
   ]
  },
  {
   "cell_type": "markdown",
   "id": "5e14d9a0",
   "metadata": {},
   "source": [
    "#### Non-ascii tokenization\n",
    "In this exercise, you'll practice advanced tokenization by tokenizing some non-ascii based text. You'll be using German with emoji!"
   ]
  },
  {
   "cell_type": "code",
   "execution_count": 71,
   "id": "4c4fced6",
   "metadata": {},
   "outputs": [
    {
     "name": "stdout",
     "output_type": "stream",
     "text": [
      "['Wann', 'gehen', 'wir', 'Pizza', 'essen', '?', '🍕', 'Und', 'fährst', 'du', 'mit', 'Über', '?', '🚕']\n",
      "['Wann', 'Pizza', 'Und', 'Über']\n",
      "['🍕', '🚕']\n"
     ]
    }
   ],
   "source": [
    "german_text='Wann gehen wir Pizza essen? 🍕 Und fährst du mit Über? 🚕'\n",
    "# Tokenize and print all words in german_text\n",
    "all_words = word_tokenize(german_text)\n",
    "print(all_words)\n",
    "\n",
    "# Tokenize and print only capital words\n",
    "capital_words = r\"[A-ZÜ]\\w+\"\n",
    "print(regexp_tokenize(german_text, capital_words))\n",
    "\n",
    "# Tokenize and print only emoji\n",
    "emoji = \"['\\U0001F300-\\U0001F5FF'|'\\U0001F600-\\U0001F64F'|'\\U0001F680-\\U0001F6FF'|'\\u2600-\\u26FF\\u2700-\\u27BF']\"\n",
    "print(regexp_tokenize(german_text, emoji))"
   ]
  },
  {
   "cell_type": "markdown",
   "id": "3cddc9c0",
   "metadata": {},
   "source": [
    "#### Charting word length with NLTK\n",
    "Charting practice\n",
    "Try using your new skills to find and chart the number of words per line"
   ]
  },
  {
   "cell_type": "code",
   "execution_count": 75,
   "id": "d37db794",
   "metadata": {},
   "outputs": [
    {
     "data": {
      "image/png": "[encoded data removed]",
      "text/plain": [
       "<Figure size 640x480 with 1 Axes>"
      ]
     },
     "metadata": {},
     "output_type": "display_data"
    }
   ],
   "source": [
    "# Split the script inholy_grailto lines: lines\n",
    "lines = grail.split('\\n')\n",
    "\n",
    "# Replace all script lines for speaker\n",
    "pattern = \"[A-Z]{2,}(\\s)?(#\\d)?([A-Z]{2,})?:\" ##se below\n",
    "lines = [re.sub(pattern, '', l) for l in lines]\n",
    "\n",
    "# Tokenize each line: tokenized_lines\n",
    "tokenized_lines = [regexp_tokenize(s,\"\\w+\") for s in lines]\n",
    "\n",
    "# Make a frequency list of lengths: line_num_words\n",
    "line_num_words = [len(t_line) for t_line in tokenized_lines]\n",
    "\n",
    "# Plot a histogram of the line lengths\n",
    "plt.hist(line_num_words)\n",
    "\n",
    "# Show the plot\n",
    "plt.show()"
   ]
  },
  {
   "cell_type": "code",
   "execution_count": 106,
   "id": "b996862f",
   "metadata": {},
   "outputs": [
    {
     "name": "stdout",
     "output_type": "stream",
     "text": [
      "KING ARTHUR: Whoa there!  [clop clop clop] \n",
      "[' Whoa there!  [clop clop clop] ', ' Halt!  Who goes there?', ' It is I, Arthur, son of Uther Pendragon, from the castle of Camelot.  King of the Britons, defeator of the Saxons, sovereign of all England!', ' Pull the other one!']\n",
      "tokenized_lines ['Whoa', 'there', 'clop', 'clop', 'clop']\n"
     ]
    },
    {
     "data": {
      "image/png": "[encoded data removed]",
      "text/plain": [
       "<Figure size 640x480 with 1 Axes>"
      ]
     },
     "metadata": {},
     "output_type": "display_data"
    }
   ],
   "source": [
    "import re\n",
    "from nltk.tokenize import regexp_tokenize\n",
    "import matplotlib.pyplot as plt\n",
    "\n",
    "# Assuming you have loaded 'grail' with your script\n",
    "\n",
    "# Split the script into lines\n",
    "lines = grail.split('\\n')\n",
    "print(lines[1])\n",
    "# Replace all script lines for speaker\n",
    "pattern = \"[A-Z]{2,}(\\s)?(#\\d)?([A-Z]{2,})?:\"\n",
    "lines = [re.sub(pattern, '', l) for l in lines] ## removes speaker information\n",
    "print(lines[1:5])\n",
    "\n",
    "# Tokenize each line excluding punctuation: tokenized_lines\n",
    "tokenized_lines = [regexp_tokenize(s, pattern=r\"\\b\\w+\\b\") for s in lines]\n",
    "print('tokenized_lines',tokenized_lines[1])\n",
    "\n",
    "# Make a frequency list of lengths: line_num_words\n",
    "line_num_words = [len(t_line) for t_line in tokenized_lines]\n",
    "\n",
    "#print(line_num_words[0])\n",
    "\n",
    "# Plot a histogram of the line lengths\n",
    "plt.hist(line_num_words, bins=20, edgecolor='black')\n",
    "plt.xlabel('Number of Words in a Line')\n",
    "plt.ylabel('Frequency')\n",
    "plt.title('Distribution of Number of Words in Each Line')\n",
    "plt.show()\n"
   ]
  },
  {
   "cell_type": "markdown",
   "id": "d8cbb1d4",
   "metadata": {},
   "source": [
    "\"[A-Z]{2,}\": Matches two or more uppercase letters (assumed to be the speaker's name).<br>\n",
    "(\\s)?: Optional whitespace character (space) after the speaker's name.<br>\n",
    "(#\\d)?: Optional speaker identifier, which starts with # followed by one or more digits.<br>\n",
    "([A-Z]{2,})?: Optional additional uppercase letters (used for some speakers with longer names).<br>\n",
    ":: Matches the colon that separates the speaker from the dialogue.<br>\n",
    "The re.sub function replaces any matching pattern in each line with an empty string (''), effectively removing the speaker information.<br>"
   ]
  },
  {
   "cell_type": "markdown",
   "id": "211a32d6",
   "metadata": {},
   "source": [
    "| Tokenizer                         | Usage                                                      | Example                                           |\n",
    "|-----------------------------------|------------------------------------------------------------|---------------------------------------------------|\n",
    "| Word Tokenizer (`word_tokenize`)  | Tokenizes text into words.                                  | `from nltk.tokenize import word_tokenize`<br>`text = \"This is a sample sentence.\"`<br>`tokens = word_tokenize(text)`                  |\n",
    "| WordPunct Tokenizer (`wordpunct_tokenize`) | Tokenizes text using punctuation as separators. | `from nltk.tokenize import wordpunct_tokenize`<br>`text = \"This is a sample sentence.\"`<br>`tokens = wordpunct_tokenize(text)`        |\n",
    "| Whitespace Tokenizer (`WhitespaceTokenizer`) | Tokenizes text based on whitespace. | `from nltk.tokenize import WhitespaceTokenizer`<br>`tokenizer = WhitespaceTokenizer()`<br>`text = \"This is a sample sentence.\"`<br>`tokens = tokenizer.tokenize(text)` |\n",
    "| Regexp Tokenizer (`regexp_tokenize`) | Tokenizes text based on a regular expression pattern. | `from nltk.tokenize import regexp_tokenize`<br>`text = \"This is a sample sentence.\"`<br>`pattern = r\"\\b\\w+\\b\"`<br>`tokens = regexp_tokenize(text, pattern)` |\n",
    "| Sent Tokenizer (`sent_tokenize`) | Tokenizes text into sentences. | `from nltk.tokenize import sent_tokenize`<br>`text = \"This is a sample sentence. Another sentence follows.\"`<br>`sentences = sent_tokenize(text)` |\n",
    "| Treebank Tokenizer (`TreebankWordTokenizer`) | Tokenizes text using the Penn Treebank conventions. | `from nltk.tokenize import TreebankWordTokenizer`<br>`tokenizer = TreebankWordTokenizer()`<br>`text = \"This is a sample sentence.\"`<br>`tokens = tokenizer.tokenize(text)` |\n"
   ]
  },
  {
   "cell_type": "code",
   "execution_count": null,
   "id": "efbd9f02",
   "metadata": {},
   "outputs": [],
   "source": []
  },
  {
   "cell_type": "markdown",
   "id": "33d3e568",
   "metadata": {},
   "source": [
    "## Simple topic identification\n",
    "#### Bag-of-words "
   ]
  },
  {
   "cell_type": "code",
   "execution_count": 11,
   "id": "4a2ad675",
   "metadata": {},
   "outputs": [],
   "source": [
    "article_debug_path='G:\\\\datacamp\\\\NLP\\\\New folder\\\\Wikipedia articles\\\\Wikipedia articles\\\\wiki_text_debugging.txt'\n",
    "with open(article_debug_path, 'r') as file:\n",
    "        article_debug = file.read()"
   ]
  },
  {
   "cell_type": "code",
   "execution_count": 18,
   "id": "b8e6951e",
   "metadata": {},
   "outputs": [
    {
     "data": {
      "text/plain": [
       "'\\'\\'\\'Debugging\\'\\'\\' is the process of finding and resolving of defects that prevent correct operation of computer software or a system.  \\n\\nNumerous books have been written about debugging (see below: #Further reading|Further reading), as it involves numerous aspects, including interactive debugging, control flow, integration testing, Logfile|log files, monitoring (Application monitoring|application, System Monitoring|system), memory dumps, Profiling (computer programming)|profiling, Statistical Process Control, and special design tactics to improve detection while simplifying changes.\\n\\nOrigin\\nA computer log entry from the Mark&nbsp;II, with a moth taped to the page\\n\\nThe terms \"bug\" and \"debugging\" are popularly attributed to Admiral Grace Hopper in the 1940s.[http://foldoc.org/Grace+Hopper Grace Hopper]  from FOLDOC While she was working on a Harvard Mark II|Mark II Computer at Harvard University, her associates discovered a moth stuck in a relay and thereby impeding operation, whereupon she remarked that they were \"debugging\" the system. However the term \"bug\" in the meaning of technical error dates back at least to 1878 and Thomas Edison (see software bug for a full discussion), and \"debugging\" seems to have been used as a term in aeronautics before entering the world of computers. Indeed, in an interview Grace Hopper remarked that she was not coining the term{{Citation needed|date=July 2015}}. The moth fit the already existing terminology, so it was saved.  A letter from J. Robert Oppenheimer (director of the WWII atomic bomb \"Manhattan\" project at Los Alamos, NM) used the term in a letter to Dr. Ernest Lawrence at UC Berkeley, dated October 27, 1944,http://bancroft.berkeley.edu/Exhibits/physics/images/bigscience25.jpg regarding the recruitment of additional technical staff.\\n\\nThe Oxford English Dictionary entry for \"debug\" quotes the term \"debugging\" used in reference to airplane engine testing in a 1945 article in the Journal of the Royal Aeronautical Society. An article in \"Airforce\" (June 1945 p.&nbsp;50) also refers to debugging, this time of aircraft cameras.  Hopper\\'s computer bug|bug was found on September 9, 1947. The term was not adopted by computer programmers until the early 1950s.\\nThe seminal article by GillS. Gill, [http://www.jstor.org/stable/98663 The Diagnosis of Mistakes in Programmes on the EDSAC], Proceedings of the Royal Society of London. Series A, Mathematical and Physical Sciences, Vol. 206, No. 1087 (May 22, 1951), pp. 538-554 in 1951 is the earliest in-depth discussion of programming errors, but it does not use the term \"bug\" or \"debugging\".\\nIn the Association for Computing Machinery|ACM\\'s digital library, the term \"debugging\" is first used in three papers from 1952 ACM National Meetings.Robert V. D. Campbell, [http://portal.acm.org/citation.cfm?id=609784.609786 Evolution of automatic computation], Proceedings of the 1952 ACM national meeting (Pittsburgh), p 29-32, 1952.Alex Orden, [http://portal.acm.org/citation.cfm?id=609784.609793 Solution of systems of linear inequalities on a digital computer], Proceedings of the 1952 ACM national meeting (Pittsburgh), p. 91-95, 1952.Howard B. Demuth, John B. Jackson, Edmund Klein, N. Metropolis, Walter Orvedahl, James H. Richardson, [http://portal.acm.org/citation.cfm?id=800259.808982 MANIAC], Proceedings of the 1952 ACM national meeting (Toronto), p. 13-16 Two of the three use the term in quotation marks.\\nBy 1963 \"debugging\" was a common enough term to be mentioned in passing without explanation on page 1 of the Compatible Time-Sharing System|CTSS manual.[http://www.bitsavers.org/pdf/mit/ctss/CTSS_ProgrammersGuide.pdf The Compatible Time-Sharing System], M.I.T. Press, 1963\\n\\nKidwell\\'s article \\'\\'Stalking the Elusive Computer Bug\\'\\'Peggy Aldrich Kidwell, [http://ieeexplore.ieee.org/xpl/freeabs_all.jsp?tp=&arnumber=728224&isnumber=15706 Stalking the Elusive Computer Bug], IEEE Annals of the History of Computing, 1998. discusses the etymology of \"bug\" and \"debug\" in greater detail.\\n\\nScope\\nAs software and electronic systems have become generally more complex, the various common debugging techniques have expanded with more methods to detect anomalies, assess impact, and schedule software patches or full updates to a system. The words \"anomaly\" and \"discrepancy\" can be used, as being more neutral terms, to avoid the words \"error\" and \"defect\" or \"bug\" where there might be an implication that all so-called \\'\\'errors\\'\\', \\'\\'defects\\'\\' or \\'\\'bugs\\'\\' must be fixed (at all costs). Instead, an impact assessment can be made to determine if changes to remove an \\'\\'anomaly\\'\\' (or \\'\\'discrepancy\\'\\') would be cost-effective for the system, or perhaps a scheduled new release might render the change(s) unnecessary. Not all issues are life-critical or mission-critical in a system. Also, it is important to avoid the situation where a change might be more upsetting to users, long-term, than living with the known problem(s) (where the \"cure would be worse than the disease\"). Basing decisions of the acceptability of some anomalies can avoid a culture of a \"zero-defects\" mandate, where people might be tempted to deny the existence of problems so that the result would appear as zero \\'\\'defects\\'\\'. Considering the collateral issues, such as the cost-versus-benefit impact assessment, then broader debugging techniques will expand to determine the frequency of anomalies (how often the same \"bugs\" occur) to help assess their impact to the overall system.\\n\\nTools\\nDebugging on video game consoles is usually done with special hardware such as this Xbox (console)|Xbox debug unit intended for developers.\\n\\nDebugging ranges in complexity from fixing simple errors to performing lengthy and tiresome tasks of data collection, analysis, and scheduling updates.  The debugging skill of the programmer can be a major factor in the ability to debug a problem, but the difficulty of software debugging varies greatly with the complexity of the system, and also depends, to some extent, on the programming language(s) used and the available tools, such as \\'\\'debuggers\\'\\'. Debuggers are software tools which enable the programmer to monitor the execution (computers)|execution of a program, stop it, restart it, set breakpoints, and change values in memory. The term \\'\\'debugger\\'\\' can also refer to the person who is doing the debugging.\\n\\nGenerally, high-level programming languages, such as Java (programming language)|Java, make debugging easier, because they have features such as exception handling that make real sources of erratic behaviour easier to spot. In programming languages such as C (programming language)|C or assembly language|assembly, bugs may cause silent problems such as memory corruption, and it is often difficult to see where the initial problem happened. In those cases, memory debugging|memory debugger tools may be needed.\\n\\nIn certain situations, general purpose software tools that are language specific in nature can be very useful.  These take the form of \\'\\'List of tools for static code analysis|static code analysis tools\\'\\'.  These tools look for a very specific set of known problems, some common and some rare, within the source code.  All such issues detected by these tools would rarely be picked up by a compiler or interpreter, thus they are not syntax checkers, but more semantic checkers.  Some tools claim to be able to detect 300+ unique problems. Both commercial and free tools exist in various languages.  These tools can be extremely useful when checking very large source trees, where it is impractical to do code walkthroughs.  A typical example of a problem detected would be a variable dereference that occurs \\'\\'before\\'\\' the variable is assigned a value.  Another example would be to perform strong type checking when the language does not require such.  Thus, they are better at locating likely errors, versus actual errors.  As a result, these tools have a reputation of false positives.  The old Unix \\'\\'Lint programming tool|lint\\'\\' program is an early example.\\n\\nFor debugging electronic hardware (e.g., computer hardware) as well as low-level software (e.g., BIOSes, device drivers) and firmware, instruments such as oscilloscopes, logic analyzers or in-circuit emulator|in-circuit emulators (ICEs) are often used, alone or in combination.  An ICE may perform many of the typical software debugger\\'s tasks on low-level software and firmware.\\n\\nDebugging process \\nNormally the first step in debugging is to attempt to reproduce the problem. This can be a non-trivial task, for example as with Parallel computing|parallel processes or some unusual software bugs. Also, specific user environment and usage history can make it difficult to reproduce the problem.\\n\\nAfter the bug is reproduced, the input of the program may need to be simplified to make it easier to debug. For example, a bug in a compiler can make it Crash (computing)|crash when parsing some large source file. However, after simplification of the test case, only few lines from the original source file can be sufficient to reproduce the same crash. Such simplification can be made manually, using a Divide and conquer algorithm|divide-and-conquer approach. The programmer will try to remove some parts of original test case and check if the problem still exists. When debugging the problem in a Graphical user interface|GUI, the programmer can try to skip some user interaction from the original problem description and check if remaining actions are sufficient for bugs to appear.\\n\\nAfter the test case is sufficiently simplified, a programmer can use a debugger tool to examine program states (values of variables, plus the call stack) and track down the origin of the problem(s). Alternatively, Tracing (software)|tracing can be used. In simple cases, tracing is just a few print statements, which output the values of variables at certain points of program execution.{{citation needed|date=February 2016}}\\n\\n Techniques \\n \\'\\'Interactive debugging\\'\\'\\n \\'\\'{{visible anchor|Print debugging}}\\'\\' (or tracing) is the act of watching (live or recorded) trace statements, or print statements, that indicate the flow of execution of a process. This is sometimes called \\'\\'{{visible anchor|printf debugging}}\\'\\', due to the use of the printf function in C. This kind of debugging was turned on by the command TRON in the original versions of the novice-oriented BASIC programming language. TRON stood for, \"Trace On.\" TRON caused the line numbers of each BASIC command line to print as the program ran.\\n \\'\\'Remote debugging\\'\\' is the process of debugging a program running on a system different from the debugger. To start remote debugging, a debugger connects to a remote system over a network. The debugger can then control the execution of the program on the remote system and retrieve information about its state.\\n \\'\\'Post-mortem debugging\\'\\' is debugging of the program after it has already Crash (computing)|crashed. Related techniques often include various tracing techniques (for example,[http://www.drdobbs.com/tools/185300443 Postmortem Debugging, Stephen Wormuller, Dr. Dobbs Journal, 2006]) and/or analysis of memory dump (or core dump) of the crashed process. The dump of the process could be obtained automatically by the system (for example, when process has terminated due to an unhandled exception), or by a programmer-inserted instruction, or manually by the interactive user.\\n \\'\\'\"Wolf fence\" algorithm:\\'\\' Edward Gauss described this simple but very useful and now famous algorithm in a 1982 article for communications of the ACM as follows: \"There\\'s one wolf in Alaska; how do you find it? First build a fence down the middle of the state, wait for the wolf to howl, determine which side of the fence it is on. Repeat process on that side only, until you get to the point where you can see the wolf.\"<ref name=\"communications of the ACM\">{{cite journal | title=\"Pracniques: The \"Wolf Fence\" Algorithm for Debugging\", | author=E. J. Gauss | year=1982}} This is implemented e.g. in the Git (software)|Git version control system as the command \\'\\'git bisect\\'\\', which uses the above algorithm to determine which Commit (data management)|commit introduced a particular bug.\\n \\'\\'Delta Debugging\\'\\'{{snd}} a technique of automating test case simplification.Andreas Zeller: <cite>Why Programs Fail: A Guide to Systematic Debugging</cite>, Morgan Kaufmann, 2005. ISBN 1-55860-866-4{{rp|p.123}}<!-- for redirect from \\'Saff Squeeze\\' -->\\n \\'\\'Saff Squeeze\\'\\'{{snd}} a technique of isolating failure within the test using progressive inlining of parts of the failing test.[http://www.threeriversinstitute.org/HitEmHighHitEmLow.html Kent Beck, Hit \\'em High, Hit \\'em Low: Regression Testing and the Saff Squeeze]\\n\\nDebugging for embedded systems\\nIn contrast to the general purpose computer software design environment, a primary characteristic of embedded environments is the sheer number of different platforms available to the developers (CPU architectures, vendors, operating systems and their variants). Embedded systems are, by definition, not general-purpose designs: they are typically developed for a single task (or small range of tasks), and the platform is chosen specifically to optimize that application. Not only does this fact make life tough for embedded system developers, it also makes debugging and testing of these systems harder as well, since different debugging tools are needed in different platforms.\\n\\nto identify and fix bugs in the system (e.g. logical or synchronization problems in the code, or a design error in the hardware);\\nto collect information about the operating states of the system that may then be used to analyze the system: to find ways to boost its performance or to optimize other important characteristics (e.g. energy consumption, reliability, real-time response etc.).\\n\\nAnti-debugging\\nAnti-debugging is \"the implementation of one or more techniques within computer code that hinders attempts at reverse engineering or debugging a target process\".<ref name=\"veracode-antidebugging\">{{cite web |url=http://www.veracode.com/blog/2008/12/anti-debugging-series-part-i/ |title=Anti-Debugging Series - Part I |last=Shields |first=Tyler |date=2008-12-02 |work=Veracode |accessdate=2009-03-17}} It is actively used by recognized publishers in copy protection|copy-protection schemas, but is also used by malware to complicate its detection and elimination.<ref name=\"soft-prot\">[http://people.seas.harvard.edu/~mgagnon/software_protection_through_anti_debugging.pdf Software Protection through Anti-Debugging Michael N Gagnon, Stephen Taylor, Anup Ghosh] Techniques used in anti-debugging include:\\nAPI-based: check for the existence of a debugger using system information\\nException-based: check to see if exceptions are interfered with\\nProcess and thread blocks: check whether process and thread blocks have been manipulated\\nModified code: check for code modifications made by a debugger handling software breakpoints\\nHardware- and register-based: check for hardware breakpoints and CPU registers\\nTiming and latency: check the time taken for the execution of instructions\\nDetecting and penalizing debugger<ref name=\"soft-prot\" /><!-- reference does not exist -->\\n\\nAn early example of anti-debugging existed in early versions of Microsoft Word which, if a debugger was detected, produced a message that said: \"The tree of evil bears bitter fruit. Now trashing program disk.\", after which it caused the floppy disk drive to emit alarming noises with the intent of scaring the user away from attempting it again.<ref name=\"SecurityEngineeringRA\">{{cite book | url=http://www.cl.cam.ac.uk/~rja14/book.html | author=Ross J. Anderson | title=Security Engineering | isbn = 0-471-38922-6 | page=684 }}<ref name=\"toastytech\">{{cite web | url=http://toastytech.com/guis/word1153.html | title=Microsoft Word for DOS 1.15}}\\n'"
      ]
     },
     "execution_count": 18,
     "metadata": {},
     "output_type": "execute_result"
    }
   ],
   "source": [
    "article_debug"
   ]
  },
  {
   "cell_type": "code",
   "execution_count": 12,
   "id": "a62b7ddc",
   "metadata": {},
   "outputs": [
    {
     "name": "stdout",
     "output_type": "stream",
     "text": [
      "[(',', 151), ('the', 150), ('.', 89), ('of', 81), (\"''\", 69), ('to', 63), ('a', 60), ('``', 47), ('in', 44), ('and', 41)]\n"
     ]
    }
   ],
   "source": [
    "# Tokenize the article: tokens\n",
    "tokens = word_tokenize(article_debug)\n",
    "\n",
    "# Convert the tokens into lowercase: lower_tokens\n",
    "lower_tokens = [t.lower() for t in tokens]\n",
    "# Create a Counter with the lowercase tokens: bow_simple\n",
    "bow_simple = Counter(lower_tokens)\n",
    "\n",
    "# Print the 10 most common tokens\n",
    "print(bow_simple.most_common(10))"
   ]
  },
  {
   "cell_type": "code",
   "execution_count": 17,
   "id": "01454846",
   "metadata": {},
   "outputs": [],
   "source": [
    "from nltk.corpus import stopwords"
   ]
  },
  {
   "cell_type": "code",
   "execution_count": 19,
   "id": "6e09d486",
   "metadata": {},
   "outputs": [
    {
     "name": "stdout",
     "output_type": "stream",
     "text": [
      "alpha_only ['is', 'the', 'process', 'of', 'finding', 'and', 'resolving', 'of', 'defects', 'that']\n",
      "lemmatized ['process', 'finding', 'resolving', 'defect', 'prevent', 'correct', 'operation', 'computer', 'software', 'system']\n",
      "[('debugging', 39), ('system', 25), ('bug', 17), ('software', 16), ('problem', 15), ('tool', 15), ('computer', 14), ('process', 13), ('term', 13), ('debugger', 13)]\n"
     ]
    }
   ],
   "source": [
    "# Import WordNetLemmatizer\n",
    "from nltk.stem import WordNetLemmatizer\n",
    "\n",
    "# Retain alphabetic words: alpha_only\n",
    "alpha_only = [t for t in lower_tokens if t.isalpha()]\n",
    "print('alpha_only',alpha_only[:10])\n",
    "# Remove all stop words: no_stops\n",
    "no_stops = [t for t in alpha_only if t not in stopwords.words('english')]\n",
    "#print('no_stops',no_stops)\n",
    "\n",
    "# Instantiate the WordNetLemmatizer\n",
    "wordnet_lemmatizer = WordNetLemmatizer()\n",
    "\n",
    "# Lemmatize all tokens into a new list: lemmatized\n",
    "lemmatized = [wordnet_lemmatizer.lemmatize(t) for t in no_stops]\n",
    "print('lemmatized',lemmatized[:10])\n",
    "\n",
    "# Create the bag-of-words: bow\n",
    "bow = Counter(lemmatized)\n",
    "\n",
    "# Print the 10 most common tokens\n",
    "print(bow.most_common(10))"
   ]
  },
  {
   "cell_type": "code",
   "execution_count": null,
   "id": "51651da8",
   "metadata": {},
   "outputs": [],
   "source": []
  },
  {
   "cell_type": "code",
   "execution_count": 20,
   "id": "65a97c40",
   "metadata": {},
   "outputs": [
    {
     "name": "stdout",
     "output_type": "stream",
     "text": [
      "[('debugging', 39), ('system', 25), ('bug', 17), ('software', 16), ('problem', 15), ('tool', 15), ('computer', 14), ('process', 13), ('term', 13), ('debugger', 13)]\n"
     ]
    }
   ],
   "source": [
    "tokens = word_tokenize(article_debug)\n",
    "\n",
    "# Filter out non-alphabetic tokens using regular expressions\n",
    "alpha_only = [t for t in tokens if re.match('^[a-zA-Z]+$', t)]\n",
    "\n",
    "# Convert the tokens into lowercase\n",
    "lower_tokens = [t.lower() for t in alpha_only]\n",
    "\n",
    "# Remove stop words\n",
    "no_stops = [t for t in lower_tokens if t not in stopwords.words('english')]\n",
    "\n",
    "# Lemmatize the remaining tokens\n",
    "wordnet_lemmatizer = WordNetLemmatizer()\n",
    "lemmatized = [wordnet_lemmatizer.lemmatize(t) for t in no_stops]\n",
    "\n",
    "# Create the bag-of-words\n",
    "bow = Counter(lemmatized)\n",
    "\n",
    "# Print the 10 most common tokens\n",
    "print(bow.most_common(10))"
   ]
  },
  {
   "cell_type": "code",
   "execution_count": null,
   "id": "5fbab804",
   "metadata": {},
   "outputs": [],
   "source": [
    "### functions and play"
   ]
  },
  {
   "cell_type": "code",
   "execution_count": 24,
   "id": "59473768",
   "metadata": {},
   "outputs": [
    {
     "name": "stdout",
     "output_type": "stream",
     "text": [
      "[('debugging', 39), ('system', 25), ('bug', 17), ('software', 16), ('problem', 15), ('tool', 15), ('computer', 14), ('process', 13), ('term', 13), ('debugger', 13)]\n"
     ]
    }
   ],
   "source": [
    "import string\n",
    "from nltk.tokenize import word_tokenize\n",
    "from nltk.corpus import stopwords\n",
    "from nltk.stem import WordNetLemmatizer\n",
    "from collections import Counter\n",
    "\n",
    "# Assuming you have already read the file into article_debug\n",
    "\n",
    "# Tokenize the article using NLTK's word_tokenize\n",
    "tokens = word_tokenize(article_debug)\n",
    "\n",
    "# Remove punctuation from tokens\n",
    "tokens = [t for t in tokens if t not in string.punctuation]\n",
    "\n",
    "# Filter out non-alphabetic tokens using isalpha()\n",
    "alpha_only = [t for t in tokens if t.isalpha()]\n",
    "\n",
    "# Convert the tokens into lowercase\n",
    "lower_tokens = [t.lower() for t in alpha_only]\n",
    "\n",
    "# Remove stop words\n",
    "no_stops = [t for t in lower_tokens if t not in stopwords.words('english')]\n",
    "\n",
    "# Lemmatize the remaining tokens\n",
    "wordnet_lemmatizer = WordNetLemmatizer()\n",
    "lemmatized = [wordnet_lemmatizer.lemmatize(t) for t in no_stops]\n",
    "\n",
    "# Create the bag-of-words\n",
    "bow = Counter(lemmatized)\n",
    "\n",
    "# Print the 10 most common tokens\n",
    "print(bow.most_common(10))"
   ]
  },
  {
   "cell_type": "code",
   "execution_count": null,
   "id": "4d2c0dc3",
   "metadata": {},
   "outputs": [],
   "source": []
  },
  {
   "cell_type": "code",
   "execution_count": 25,
   "id": "d5f4c284",
   "metadata": {},
   "outputs": [],
   "source": [
    "def process_file(file_path, articles_word=None):\n",
    "    \"\"\"\n",
    "    Process the text in the given file path and generate a bag-of-words (BoW) representation.\n",
    "    \n",
    "    If articles_word is provided, append the words to the existing list.\n",
    "\n",
    "    Parameters:\n",
    "    - file_path (str): The path to the text file.\n",
    "    - articles_word (list): List to store the bag-of-words representations.\n",
    "\n",
    "    Returns:\n",
    "    - articles_word (list): Updated list of bag-of-words.\n",
    "    \"\"\"\n",
    "    # Read the content of the file\n",
    "    with open(file_path, 'r') as file:\n",
    "        article_text = file.read()\n",
    "\n",
    "    # Tokenize the article using NLTK's word_tokenize\n",
    "    tokens = word_tokenize(article_text)\n",
    "\n",
    "    # Convert the tokens into lowercase\n",
    "    lower_tokens = [t.lower() for t in tokens]\n",
    "\n",
    "    # Create a Counter with the lowercase tokens (bow_simple)\n",
    "    bow_simple = Counter(lower_tokens)\n",
    "\n",
    "    # Retain alphabetic words\n",
    "    alpha_only = [t for t in lower_tokens if t.isalpha()]\n",
    "\n",
    "    # Remove stop words\n",
    "    no_stops = [t for t in alpha_only if t not in stopwords.words('english')]\n",
    "\n",
    "    # Instantiate the WordNetLemmatizer\n",
    "    wordnet_lemmatizer = WordNetLemmatizer()\n",
    "\n",
    "    # Lemmatize all tokens into a new list (lemmatized)\n",
    "    lemmatized = [wordnet_lemmatizer.lemmatize(t) for t in no_stops]\n",
    "\n",
    "    # Create the bag-of-words (bow)\n",
    "    bow = Counter(lemmatized)\n",
    "\n",
    "    # Update articles_word\n",
    "    if articles_word is None:\n",
    "        articles_word = [bow]\n",
    "    else:\n",
    "        articles_word.append(bow)\n",
    "\n",
    "    return articles_word"
   ]
  },
  {
   "cell_type": "code",
   "execution_count": 26,
   "id": "1603d874",
   "metadata": {},
   "outputs": [],
   "source": [
    "articles_word = process_file('G:\\\\datacamp\\\\NLP\\\\New folder\\\\Wikipedia articles\\\\Wikipedia articles\\\\wiki_text_debugging.txt')"
   ]
  },
  {
   "cell_type": "code",
   "execution_count": 30,
   "id": "5b757b28",
   "metadata": {},
   "outputs": [],
   "source": [
    "articles_word = process_file('G:\\\\datacamp\\\\NLP\\\\New folder\\\\Wikipedia articles\\\\Wikipedia articles\\\\wiki_text_program.txt', articles_word)"
   ]
  },
  {
   "cell_type": "code",
   "execution_count": 33,
   "id": "48d16445",
   "metadata": {},
   "outputs": [],
   "source": [
    "articles_word=process_file('G:\\\\datacamp\\\\NLP\\\\New folder\\\\Wikipedia articles\\\\Wikipedia articles\\\\wiki_text_malware.txt', articles_word)"
   ]
  },
  {
   "cell_type": "code",
   "execution_count": 39,
   "id": "434e570c",
   "metadata": {},
   "outputs": [],
   "source": [
    "def preprocess_text(text):\n",
    "    \"\"\"\n",
    "    Preprocess the input text by lowercasing, tokenizing, and removing stop words and punctuation.\n",
    "\n",
    "    Parameters:\n",
    "    - text (str): The input text.\n",
    "\n",
    "    Returns:\n",
    "    - preprocessed_text (list): List of preprocessed words.\n",
    "    \"\"\"\n",
    "    # Lowercasing\n",
    "    lowercased_text = text.lower()\n",
    "\n",
    "    # Tokenization\n",
    "    tokens = word_tokenize(lowercased_text)\n",
    "\n",
    "    # Remove punctuation\n",
    "    tokens = [t for t in tokens if t not in string.punctuation]\n",
    "\n",
    "    # Remove stop words\n",
    "    stop_words = set(stopwords.words('english'))\n",
    "    tokens = [t for t in tokens if t not in stop_words]\n",
    "\n",
    "    # Lemmatization\n",
    "    wordnet_lemmatizer = WordNetLemmatizer()\n",
    "    lemmatized_tokens = [wordnet_lemmatizer.lemmatize(t) for t in tokens]\n",
    "\n",
    "    return lemmatized_tokens\n",
    "\n",
    "# Example usage:\n",
    "article_debug_path = 'G:\\\\datacamp\\\\NLP\\\\New folder\\\\Wikipedia articles\\\\Wikipedia articles\\\\wiki_text_debugging.txt'\n",
    "\n",
    "with open(article_debug_path, 'r') as file:\n",
    "    article_debug = file.read()\n",
    "preprocessed_text_debug = preprocess_text(article_debug)\n",
    "#print(\"Preprocessed Text:\", preprocessed_text)"
   ]
  },
  {
   "cell_type": "code",
   "execution_count": 40,
   "id": "9e9d332b",
   "metadata": {},
   "outputs": [],
   "source": [
    "articles_words=[]\n",
    "articles_words.append(preprocessed_text_debug)"
   ]
  },
  {
   "cell_type": "code",
   "execution_count": 45,
   "id": "fc7d9821",
   "metadata": {},
   "outputs": [],
   "source": [
    "article_debug_path = 'G:\\\\datacamp\\\\NLP\\\\New folder\\\\Wikipedia articles\\\\Wikipedia articles\\\\wiki_text_malware.txt'\n",
    "\n",
    "with open(article_debug_path, 'r') as file:\n",
    "    article_debug = file.read()\n",
    "preprocessed_text_malware = preprocess_text(article_debug)\n",
    "articles_words.append(preprocessed_text_malware)"
   ]
  },
  {
   "cell_type": "code",
   "execution_count": null,
   "id": "0917fe10",
   "metadata": {},
   "outputs": [],
   "source": [
    "article_debug_path = 'G:\\\\datacamp\\\\NLP\\\\New folder\\\\Wikipedia articles\\\\Wikipedia articles\\\\wiki_text_malware.txt'\n",
    "\n",
    "with open(article_debug_path, 'r') as file:\n",
    "    article_debug = file.read()\n",
    "preprocessed_text_malware = preprocess_text(article_debug)\n",
    "articles_words.append(preprocessed_text_malware)"
   ]
  },
  {
   "cell_type": "code",
   "execution_count": 47,
   "id": "f7108b77",
   "metadata": {},
   "outputs": [],
   "source": [
    "article_debug_path = 'G:\\\\datacamp\\\\NLP\\\\New folder\\\\Wikipedia articles\\\\Wikipedia articles\\\\wiki_text_language.txt'\n",
    "\n",
    "with open(article_debug_path, 'r') as file:\n",
    "    article_debug = file.read()\n",
    "preprocessed_text_language = preprocess_text(article_debug)\n",
    "articles_words.append(preprocessed_text_language)"
   ]
  },
  {
   "cell_type": "code",
   "execution_count": 48,
   "id": "0ffadfd0",
   "metadata": {},
   "outputs": [],
   "source": [
    "article_debug_path = 'G:\\\\datacamp\\\\NLP\\\\New folder\\\\Wikipedia articles\\\\Wikipedia articles\\\\wiki_text_program.txt'\n",
    "\n",
    "with open(article_debug_path, 'r') as file:\n",
    "    article_debug = file.read()\n",
    "preprocessed_text_program = preprocess_text(article_debug)\n",
    "articles_words.append(preprocessed_text_program)"
   ]
  },
  {
   "cell_type": "code",
   "execution_count": 50,
   "id": "560e825f",
   "metadata": {},
   "outputs": [],
   "source": [
    "article_debug_path = 'G:\\\\datacamp\\\\NLP\\\\New folder\\\\Wikipedia articles\\\\Wikipedia articles\\\\wiki_text_software.txt'\n",
    "\n",
    "with open(article_debug_path, 'r') as file:\n",
    "    article_debug = file.read()\n",
    "preprocessed_text_software = preprocess_text(article_debug)\n",
    "articles_words.append(preprocessed_text_software)"
   ]
  },
  {
   "cell_type": "code",
   "execution_count": 52,
   "id": "3a06a500",
   "metadata": {},
   "outputs": [],
   "source": [
    "article_debug_path = 'G:\\\\datacamp\\\\NLP\\\\New folder\\\\Wikipedia articles\\\\Wikipedia articles\\\\wiki_text_debugger.txt'\n",
    "\n",
    "with open(article_debug_path, 'r') as file:\n",
    "    article_debug = file.read()\n",
    "preprocessed_text_debugger = preprocess_text(article_debug)\n",
    "articles_words.append(preprocessed_text_debugger)"
   ]
  },
  {
   "cell_type": "code",
   "execution_count": null,
   "id": "a76e7282",
   "metadata": {},
   "outputs": [],
   "source": []
  },
  {
   "cell_type": "markdown",
   "id": "c44e1cd7",
   "metadata": {},
   "source": [
    "#### Creating and querying a corpus with gensim\n",
    "It's time to apply the methods to create your first gensim dictionary and corpus!"
   ]
  },
  {
   "cell_type": "code",
   "execution_count": 61,
   "id": "1b5bd9eb",
   "metadata": {},
   "outputs": [
    {
     "name": "stdout",
     "output_type": "stream",
     "text": [
      "computer\n",
      "[(0, 53), (3, 5), (5, 4), (51, 35), (52, 1), (53, 1), (59, 1), (60, 3), (73, 3), (76, 1)]\n",
      "6\n"
     ]
    }
   ],
   "source": [
    "\n",
    "# Import Dictionary\n",
    "from gensim.corpora.dictionary import Dictionary\n",
    "\n",
    "# Create a Dictionary from the articles: dictionary\n",
    "dictionary = Dictionary(articles_words)\n",
    "\n",
    "# Select the id for \"computer\": computer_id\n",
    "computer_id = dictionary.token2id.get(\"computer\")\n",
    "\n",
    "# Use computer_id with the dictionary to print the word\n",
    "print(dictionary.get(computer_id))\n",
    "\n",
    "# Create a MmCorpus: corpus\n",
    "corpus = [dictionary.doc2bow(article) for article in articles_words]\n",
    "\n",
    "# Print the first 10 word ids with their frequency counts from the fifth document\n",
    "print(corpus[4][:10])\n",
    "print(len(articles_words))"
   ]
  },
  {
   "cell_type": "markdown",
   "id": "3d5c5fe8",
   "metadata": {},
   "source": [
    "The bag-of-words representation for the fifth document shows the word IDs and their frequencies. For example, the word with ID 0 appears 53 times in the fifth document."
   ]
  },
  {
   "cell_type": "code",
   "execution_count": 59,
   "id": "5a277799",
   "metadata": {},
   "outputs": [
    {
     "name": "stdout",
     "output_type": "stream",
     "text": [
      "Word corresponding to ID 1: 'debugging\n"
     ]
    }
   ],
   "source": [
    "word_id_1 = dictionary.id2token[1]\n",
    "print(\"Word corresponding to ID 1:\", word_id_1)"
   ]
  },
  {
   "cell_type": "markdown",
   "id": "e6a8c7cc",
   "metadata": {},
   "source": [
    "#### Gensim bag-of-words\n",
    "Now, you'll use your new gensim corpus and dictionary to see the most common terms per document and across all documents. You can use your dictionary to look up the terms. Take a guess at what the topics are and feel free to explore more documents in the IPython Shell!<p>\n",
    "\n",
    "You have access to the dictionary and corpus objects you created in the previous exercise, as well as the Python defaultdict and itertools to help with the creation of intermediate data structures for analysis.\n",
    "\n",
    "<code>defaultdict</code> allows us to initialize a dictionary that will assign a default value to non-existent keys. By supplying the argument <code>int</code>, we are able to ensure that any non-existent keys are automatically assigned a default value of 0. This makes it ideal for storing the counts of words in this exercise.\n",
    "\n",
    "<code>itertools.chain.from_iterable()</code> allows us to iterate through a set of sequences as if they were one continuous sequence. Using this function, we can easily iterate through our corpus object (which is a list of lists).\n",
    "\n",
    "The fifth document from corpus is stored in the variable doc, which has been sorted in descending order."
   ]
  },
  {
   "cell_type": "code",
   "execution_count": 65,
   "id": "f138db37",
   "metadata": {},
   "outputs": [],
   "source": [
    "from collections import defaultdict\n",
    "import itertools"
   ]
  },
  {
   "cell_type": "code",
   "execution_count": 68,
   "id": "bbfb1a89",
   "metadata": {},
   "outputs": [
    {
     "name": "stdout",
     "output_type": "stream",
     "text": [
      "software 161\n",
      "computer 55\n",
      "'' 53\n",
      "application 37\n",
      "`` 35\n",
      "'' 322\n",
      "software 273\n",
      "computer 262\n",
      "`` 170\n",
      "program 159\n"
     ]
    }
   ],
   "source": [
    "# Save the fifth document: doc\n",
    "doc = corpus[4]\n",
    "\n",
    "# Sort the doc for frequency: bow_doc\n",
    "bow_doc = sorted(doc, key=lambda w: w[1], reverse=True)\n",
    "\n",
    "# Print the top 5 words of the document alongside the count\n",
    "for word_id, word_count in bow_doc[:5]:\n",
    "    print(dictionary.get(word_id), word_count)\n",
    "    \n",
    "# Create the defaultdict: total_word_count\n",
    "total_word_count = defaultdict(int)\n",
    "for word_id, word_count in itertools.chain.from_iterable(corpus):\n",
    "    total_word_count[word_id] += word_count\n",
    "    \n",
    "# Create a sorted list from the defaultdict: sorted_word_count\n",
    "sorted_word_count = sorted(total_word_count.items(), key=lambda w: w[1], reverse=True) \n",
    "\n",
    "# Print the top 5 words across all documents alongside the count\n",
    "for key,value in sorted_word_count[:5]:\n",
    "    print(dictionary.get(key),value)"
   ]
  },
  {
   "cell_type": "markdown",
   "id": "598932d7",
   "metadata": {},
   "source": [
    "#### Tf-idf with Wikipedia\n",
    "Now it's your turn to determine new significant terms for your corpus by applying gensim's tf-idf. You will again have access to the same corpus and dictionary objects you created in the previous exercises - dictionary, corpus, and doc. Will tf-idf make for more interesting results on the document level?"
   ]
  },
  {
   "cell_type": "code",
   "execution_count": 70,
   "id": "95331821",
   "metadata": {},
   "outputs": [
    {
     "name": "stdout",
     "output_type": "stream",
     "text": [
      "[(5, 0.010321980085760985), (52, 0.009810484728263303), (53, 0.01554925040819492), (59, 0.01554925040819492), (60, 0.029431454184789912)]\n"
     ]
    }
   ],
   "source": [
    "# Create a new TfidfModel using the corpus: tfidf\n",
    "tfidf = TfidfModel(corpus)\n",
    "\n",
    "# Calculate the tfidf weights of doc: tfidf_weights\n",
    "tfidf_weights = tfidf[doc]\n",
    "\n",
    "# Print the first five weights\n",
    "print(tfidf_weights[:5])"
   ]
  },
  {
   "cell_type": "code",
   "execution_count": 71,
   "id": "c59c15a9",
   "metadata": {},
   "outputs": [
    {
     "name": "stdout",
     "output_type": "stream",
     "text": [
      "[(5, 0.010321980085760985), (52, 0.009810484728263303), (53, 0.01554925040819492), (59, 0.01554925040819492), (60, 0.029431454184789912)]\n",
      "patent 0.35503629191041514\n",
      "application 0.21233433015746975\n",
      "” 0.15696775565221285\n",
      "apis 0.15215841081874934\n",
      "license 0.15215841081874934\n"
     ]
    }
   ],
   "source": [
    "# Create a new TfidfModel using the corpus: tfidf\n",
    "tfidf = TfidfModel(corpus)\n",
    "\n",
    "# Calculate the tfidf weights of doc: tfidf_weights\n",
    "tfidf_weights = tfidf[doc]\n",
    "\n",
    "# Print the first five weights\n",
    "print(tfidf_weights[:5])\n",
    "\n",
    "# Sort the weights from highest to lowest: sorted_tfidf_weights\n",
    "sorted_tfidf_weights = sorted(tfidf_weights, key=lambda w: w[1], reverse=True)\n",
    "\n",
    "# Print the top 5 weighted words\n",
    "for term_id, weight in sorted_tfidf_weights[:5]:\n",
    "    print(dictionary.get(term_id), weight)"
   ]
  },
  {
   "cell_type": "code",
   "execution_count": null,
   "id": "bde32661",
   "metadata": {},
   "outputs": [],
   "source": []
  },
  {
   "cell_type": "markdown",
   "id": "b0ec8284",
   "metadata": {},
   "source": [
    "## Named-entity recognition\n",
    "\n",
    "#### NER with NLTK\n",
    "You're now going to have some fun with named-entity recognition!"
   ]
  },
  {
   "cell_type": "code",
   "execution_count": 1,
   "id": "95e3b368",
   "metadata": {},
   "outputs": [],
   "source": [
    "article_debug_path='G:\\\\datacamp\\\\NLP\\\\New folder\\\\Wikipedia articles\\\\Wikipedia articles\\\\wiki_text_debugging.txt'\n",
    "with open(article_debug_path, encoding=\"utf8\") as file:\n",
    "        article_debug = file.read()"
   ]
  },
  {
   "cell_type": "code",
   "execution_count": 4,
   "id": "b1fea16b",
   "metadata": {},
   "outputs": [],
   "source": [
    "uber_apple_p=r'G:\\\\datacamp\\\\NLP\\\\New folder\\\\News articles\\\\News articles\\\\uber_apple.txt'\n",
    "with open(uber_apple_p, encoding=\"utf8\") as file:\n",
    "      uber_apple=file.read()"
   ]
  },
  {
   "cell_type": "code",
   "execution_count": 7,
   "id": "3e876c2d",
   "metadata": {},
   "outputs": [
    {
     "data": {
      "text/plain": [
       "'The taxi-hailing company Uber brings into very sharp focus the question of whether corporations can'"
      ]
     },
     "execution_count": 7,
     "metadata": {},
     "output_type": "execute_result"
    }
   ],
   "source": [
    "uber_apple[1:100]"
   ]
  },
  {
   "cell_type": "code",
   "execution_count": 30,
   "id": "2cbc07e3",
   "metadata": {},
   "outputs": [
    {
     "name": "stdout",
     "output_type": "stream",
     "text": [
      "<generator object ParserI.parse_sents.<locals>.<genexpr> at 0x0000024A43E0FA40>\n",
      "(NE Uber/NNP)\n",
      "(NE Beyond/NN)\n",
      "(NE Apple/NNP)\n",
      "(NE Uber/NNP)\n",
      "(NE Uber/NNP)\n",
      "(NE Travis/NNP Kalanick/NNP)\n",
      "(NE Tim/NNP Cook/NNP)\n",
      "(NE Apple/NNP)\n",
      "(NE Silicon/NNP Valley/NNP)\n",
      "(NE CEO/NNP)\n",
      "(NE Yahoo/NNP)\n",
      "(NE Marissa/NNP Mayer/NNP)\n"
     ]
    }
   ],
   "source": [
    "\n",
    "# Tokenize the article into sentences: sentences\n",
    "sentences = sent_tokenize(uber_apple)\n",
    "#print(sentences[0:5])\n",
    "# Tokenize each sentence into words: token_sentences\n",
    "token_sentences = [word_tokenize(sent) for sent in sentences]\n",
    "#print(token_sentences[0:5])\n",
    "# Tag each tokenized sentence into parts of speech: pos_sentences\n",
    "pos_sentences = [nltk.pos_tag(sent) for sent in token_sentences] \n",
    "#print(pos_sentences[0:5])\n",
    "# Create the named entity chunks: chunked_sentences\n",
    "chunked_sentences = nltk.ne_chunk_sents(pos_sentences,binary=True) #This line performs Named Entity Recognition (NER) chunking on the part-of-speech tagged sentences using NLTK's ne_chunk_sents function. It identifies and groups together entities such as persons, organizations, and locations. The binary=True argument indicates that the chunker should only recognize named entities without further classifying them.\n",
    "print(chunked_sentences)\n",
    "# Test for stems of the tree with 'NE' tags\n",
    "for sent in chunked_sentences:\n",
    "    for chunk in sent:\n",
    "        if hasattr(chunk, \"label\") and chunk.label() == \"NE\":\n",
    "            print(chunk)"
   ]
  },
  {
   "cell_type": "markdown",
   "id": "ef149f9e",
   "metadata": {},
   "source": [
    "#### Charting practice\n",
    "In this exercise, you'll use some extracted named entities and their groupings from a series of newspaper articles to chart the diversity of named entity types in the articles."
   ]
  },
  {
   "cell_type": "code",
   "execution_count": 52,
   "id": "7f05f26a",
   "metadata": {},
   "outputs": [
    {
     "name": "stdout",
     "output_type": "stream",
     "text": [
      "<generator object ParserI.parse_sents.<locals>.<genexpr> at 0x0000024A3FA98640>\n"
     ]
    }
   ],
   "source": [
    "#binary=False\n",
    "\n",
    "\n",
    "\n",
    "\n",
    "articles_p=r'G:\\\\datacamp\\\\NLP\\\\New folder\\\\News articles\\\\News articles\\\\articles.txt'\n",
    "with open(articles_p, encoding=\"utf8\") as file:\n",
    "      articles=file.read()\n",
    "\n",
    "\n",
    "\n",
    "#Tokenize the article into sentences: sentences\n",
    "sentences = sent_tokenize(articles)\n",
    "#print(sentences[0:5])\n",
    "# Tokenize each sentence into words: token_sentences\n",
    "token_sentences = [word_tokenize(sent) for sent in sentences]\n",
    "#print(token_sentences[0:5])\n",
    "# Tag each tokenized sentence into parts of speech: pos_sentences\n",
    "pos_sentences = [nltk.pos_tag(sent) for sent in token_sentences] \n",
    "#print(pos_sentences[0:5])\n",
    "# Create the named entity chunks: chunked_sentences\n",
    "chunked_sentences = nltk.ne_chunk_sents(pos_sentences,binary=False) #This line performs Named Entity Recognition (NER) chunking on the part-of-speech tagged sentences using NLTK's ne_chunk_sents function. It identifies and groups together entities such as persons, organizations, and locations. The binary=True argument indicates that the chunker should only recognize named entities without further classifying them.\n",
    "print(chunked_sentences)\n",
    "# Test for stems of the tree with 'NE' tags\n",
    "#for sent in chunked_sentences:\n",
    " #   for chunk in sent:\n",
    "  #      if hasattr(chunk, \"label\") and chunk.label() == \"NE\":\n",
    "   #         print(chunk)"
   ]
  },
  {
   "cell_type": "code",
   "execution_count": 53,
   "id": "19f7e6d0",
   "metadata": {},
   "outputs": [
    {
     "name": "stdout",
     "output_type": "stream",
     "text": [
      "defaultdict(<class 'int'>, {'ORGANIZATION': 33, 'GPE': 115, 'PERSON': 70, 'LOCATION': 1, 'FACILITY': 1})\n",
      "['ORGANIZATION', 'GPE', 'PERSON', 'LOCATION', 'FACILITY']\n"
     ]
    }
   ],
   "source": [
    "# Create the defaultdict: ner_categories\n",
    "ner_categories = defaultdict(int)\n",
    "\n",
    "# Create the nested for loop\n",
    "for sent in chunked_sentences:\n",
    "    for chunk in sent:\n",
    "        if hasattr(chunk, 'label'):\n",
    "            ner_categories[chunk.label()] += 1\n",
    "print(ner_categories)            \n",
    "# Create a list from the dictionary keys for the chart labels: labels\n",
    "labels = list(ner_categories.keys())\n",
    "print(labels)"
   ]
  },
  {
   "cell_type": "code",
   "execution_count": 54,
   "id": "8111d156",
   "metadata": {},
   "outputs": [
    {
     "data": {
      "image/png": "[encoded data removed]",
      "text/plain": [
       "<Figure size 640x480 with 1 Axes>"
      ]
     },
     "metadata": {},
     "output_type": "display_data"
    }
   ],
   "source": [
    "# Create a list of the values: values\n",
    "values = [ner_categories.get(v) for v in labels]\n",
    "\n",
    "# Create the pie chart\n",
    "plt.pie(values, labels=labels, autopct='%1.1f%%', startangle=140)\n",
    "\n",
    "# Display the chart\n",
    "plt.show()"
   ]
  },
  {
   "cell_type": "markdown",
   "id": "b4129bfe",
   "metadata": {},
   "source": [
    "#### Comparing NLTK with spaCy NER\n",
    "Using the same text you used in the first exercise of this chapter, you'll now see the results using spaCy's NER annotator. How will they compare?\n",
    "\n",
    "The article has been pre-loaded as article. To minimize execution times, you'll be asked to specify the keyword argument disable=['tagger', 'parser', 'matcher'] when loading the spaCy model, because you only care about the entity in this exercise."
   ]
  },
  {
   "cell_type": "code",
   "execution_count": 68,
   "id": "b212c7ed",
   "metadata": {},
   "outputs": [
    {
     "name": "stdout",
     "output_type": "stream",
     "text": [
      "ORG Apple\n",
      "PERSON Uber\n",
      "PERSON Travis Kalanick\n",
      "ORG Uber\n",
      "PERSON Tim Cook\n",
      "ORG Apple\n",
      "CARDINAL Millions\n",
      "ORG Uber\n",
      "LOC Silicon Valley’s\n",
      "NORP democratic\n",
      "ORG Yahoo\n",
      "PERSON Marissa Mayer\n",
      "MONEY 186\n"
     ]
    }
   ],
   "source": [
    "\n",
    "\n",
    "# Instantiate the English model: nlp\n",
    "#nlp = spacy.load('en_core_web_sm',disable=['tagger', 'parser', 'matcher'])\n",
    "nlp = spacy.load('en_core_web_sm')\n",
    "# Create a new document: doc\n",
    "doc = nlp(uber_apple)\n",
    "\n",
    "# Print all of the found entities and their labels\n",
    "for ent in doc.ents:\n",
    "    print(ent.label_, ent.text)"
   ]
  },
  {
   "cell_type": "markdown",
   "id": "3e5ff43c",
   "metadata": {},
   "source": [
    "## Fake News Classifier\n",
    "#### CountVectorizer for text classification"
   ]
  },
  {
   "cell_type": "code",
   "execution_count": 4,
   "id": "28865c37",
   "metadata": {},
   "outputs": [
    {
     "data": {
      "text/html": [
       "<div>\n",
       "<style scoped>\n",
       "    .dataframe tbody tr th:only-of-type {\n",
       "        vertical-align: middle;\n",
       "    }\n",
       "\n",
       "    .dataframe tbody tr th {\n",
       "        vertical-align: top;\n",
       "    }\n",
       "\n",
       "    .dataframe thead th {\n",
       "        text-align: right;\n",
       "    }\n",
       "</style>\n",
       "<table border=\"1\" class=\"dataframe\">\n",
       "  <thead>\n",
       "    <tr style=\"text-align: right;\">\n",
       "      <th></th>\n",
       "      <th>Unnamed: 0</th>\n",
       "      <th>title</th>\n",
       "      <th>text</th>\n",
       "      <th>label</th>\n",
       "    </tr>\n",
       "  </thead>\n",
       "  <tbody>\n",
       "    <tr>\n",
       "      <th>0</th>\n",
       "      <td>8476</td>\n",
       "      <td>You Can Smell Hillary’s Fear</td>\n",
       "      <td>Daniel Greenfield, a Shillman Journalism Fello...</td>\n",
       "      <td>FAKE</td>\n",
       "    </tr>\n",
       "    <tr>\n",
       "      <th>1</th>\n",
       "      <td>10294</td>\n",
       "      <td>Watch The Exact Moment Paul Ryan Committed Pol...</td>\n",
       "      <td>Google Pinterest Digg Linkedin Reddit Stumbleu...</td>\n",
       "      <td>FAKE</td>\n",
       "    </tr>\n",
       "    <tr>\n",
       "      <th>2</th>\n",
       "      <td>3608</td>\n",
       "      <td>Kerry to go to Paris in gesture of sympathy</td>\n",
       "      <td>U.S. Secretary of State John F. Kerry said Mon...</td>\n",
       "      <td>REAL</td>\n",
       "    </tr>\n",
       "    <tr>\n",
       "      <th>3</th>\n",
       "      <td>10142</td>\n",
       "      <td>Bernie supporters on Twitter erupt in anger ag...</td>\n",
       "      <td>— Kaydee King (@KaydeeKing) November 9, 2016 T...</td>\n",
       "      <td>FAKE</td>\n",
       "    </tr>\n",
       "    <tr>\n",
       "      <th>4</th>\n",
       "      <td>875</td>\n",
       "      <td>The Battle of New York: Why This Primary Matters</td>\n",
       "      <td>It's primary day in New York and front-runners...</td>\n",
       "      <td>REAL</td>\n",
       "    </tr>\n",
       "  </tbody>\n",
       "</table>\n",
       "</div>"
      ],
      "text/plain": [
       "   Unnamed: 0                                              title  \\\n",
       "0        8476                       You Can Smell Hillary’s Fear   \n",
       "1       10294  Watch The Exact Moment Paul Ryan Committed Pol...   \n",
       "2        3608        Kerry to go to Paris in gesture of sympathy   \n",
       "3       10142  Bernie supporters on Twitter erupt in anger ag...   \n",
       "4         875   The Battle of New York: Why This Primary Matters   \n",
       "\n",
       "                                                text label  \n",
       "0  Daniel Greenfield, a Shillman Journalism Fello...  FAKE  \n",
       "1  Google Pinterest Digg Linkedin Reddit Stumbleu...  FAKE  \n",
       "2  U.S. Secretary of State John F. Kerry said Mon...  REAL  \n",
       "3  — Kaydee King (@KaydeeKing) November 9, 2016 T...  FAKE  \n",
       "4  It's primary day in New York and front-runners...  REAL  "
      ]
     },
     "execution_count": 4,
     "metadata": {},
     "output_type": "execute_result"
    }
   ],
   "source": [
    "df=pd.read_csv('fake_or_real_news.csv')\n",
    "df.head()"
   ]
  },
  {
   "cell_type": "code",
   "execution_count": 5,
   "id": "a12ab03e",
   "metadata": {},
   "outputs": [
    {
     "name": "stdout",
     "output_type": "stream",
     "text": [
      "<class 'pandas.core.frame.DataFrame'>\n",
      "RangeIndex: 6335 entries, 0 to 6334\n",
      "Data columns (total 4 columns):\n",
      " #   Column      Non-Null Count  Dtype \n",
      "---  ------      --------------  ----- \n",
      " 0   Unnamed: 0  6335 non-null   int64 \n",
      " 1   title       6335 non-null   object\n",
      " 2   text        6335 non-null   object\n",
      " 3   label       6335 non-null   object\n",
      "dtypes: int64(1), object(3)\n",
      "memory usage: 198.1+ KB\n"
     ]
    }
   ],
   "source": [
    "df.info()"
   ]
  },
  {
   "cell_type": "code",
   "execution_count": 6,
   "id": "ae2292e4",
   "metadata": {},
   "outputs": [
    {
     "name": "stdout",
     "output_type": "stream",
     "text": [
      "['00' '000' '0000' '00000031' '000035' '00006' '0001' '0001pt' '000ft'\n",
      " '000km']\n"
     ]
    }
   ],
   "source": [
    "\n",
    "\n",
    "# Create a series to store the labels: y\n",
    "y = df.label\n",
    "\n",
    "# Create training and test sets\n",
    "X_train, X_test, y_train, y_test = train_test_split(df[\"text\"],y,test_size=.33,random_state=53)\n",
    "\n",
    "# Initialize a CountVectorizer object: count_vectorizer\n",
    "count_vectorizer = CountVectorizer(stop_words='english')\n",
    "\n",
    "# Transform the training data using only the 'text' column values: count_train \n",
    "count_train = count_vectorizer.fit_transform(X_train.values)\n",
    "\n",
    "# Transform the test data using only the 'text' column values: count_test \n",
    "count_test = count_vectorizer.transform(X_test.values)\n",
    "\n",
    "# Print the first 10 features of the count_vectorizer\n",
    "print(count_vectorizer.get_feature_names_out()[:10])"
   ]
  },
  {
   "cell_type": "markdown",
   "id": "bcdfc2fe",
   "metadata": {},
   "source": [
    "#### TfidfVectorizer for text classification\n",
    "Similar to the sparse CountVectorizer created in the previous exercise, you'll work on creating tf-idf vectors for your documents. You'll set up a TfidfVectorizer and investigate some of its features."
   ]
  },
  {
   "cell_type": "code",
   "execution_count": 7,
   "id": "92cf0519",
   "metadata": {},
   "outputs": [
    {
     "name": "stdout",
     "output_type": "stream",
     "text": [
      "['00' '000' '0000' '00000031' '000035' '00006' '0001' '0001pt' '000ft'\n",
      " '000km']\n",
      "[[0.        0.        0.        ... 0.        0.        0.       ]\n",
      " [0.        0.        0.        ... 0.        0.        0.       ]\n",
      " [0.        0.        0.        ... 0.        0.        0.       ]\n",
      " ...\n",
      " [0.        0.        0.        ... 0.        0.        0.       ]\n",
      " [0.        0.0121467 0.        ... 0.        0.        0.       ]\n",
      " [0.        0.0165804 0.        ... 0.        0.        0.       ]]\n"
     ]
    }
   ],
   "source": [
    "# Initialize a TfidfVectorizer object: tfidf_vectorizer\n",
    "tfidf_vectorizer = TfidfVectorizer(stop_words=\"english\",max_df=.7)\n",
    "\n",
    "# Transform the training data: tfidf_train \n",
    "tfidf_train = tfidf_vectorizer.fit_transform(X_train)\n",
    "\n",
    "# Transform the test data: tfidf_test \n",
    "tfidf_test = tfidf_vectorizer.transform(X_test)\n",
    "\n",
    "# Print the first 10 features\n",
    "# Print the first 10 features\n",
    "print(tfidf_vectorizer.get_feature_names_out()[:10])\n",
    "\n",
    "# Print the first 5 vectors of the tfidf training data\n",
    "print(tfidf_train.A[:10])\n"
   ]
  },
  {
   "cell_type": "markdown",
   "id": "cc5fab00",
   "metadata": {},
   "source": [
    "#### Inspecting the vectors\n",
    "To get a better idea of how the vectors work, you'll investigate them by converting them into pandas DataFrames."
   ]
  },
  {
   "cell_type": "code",
   "execution_count": 8,
   "id": "36a9a30e",
   "metadata": {},
   "outputs": [
    {
     "name": "stdout",
     "output_type": "stream",
     "text": [
      "   00  000  0000  00000031  000035  00006  0001  0001pt  000ft  000km  ...  \\\n",
      "0   0    0     0         0       0      0     0       0      0      0  ...   \n",
      "1   0    0     0         0       0      0     0       0      0      0  ...   \n",
      "2   0    0     0         0       0      0     0       0      0      0  ...   \n",
      "3   0    0     0         0       0      0     0       0      0      0  ...   \n",
      "4   0    0     0         0       0      0     0       0      0      0  ...   \n",
      "\n",
      "   حلب  عربي  عن  لم  ما  محاولات  من  هذا  والمرضى  ยงade  \n",
      "0    0     0   0   0   0        0   0    0        0      0  \n",
      "1    0     0   0   0   0        0   0    0        0      0  \n",
      "2    0     0   0   0   0        0   0    0        0      0  \n",
      "3    0     0   0   0   0        0   0    0        0      0  \n",
      "4    0     0   0   0   0        0   0    0        0      0  \n",
      "\n",
      "[5 rows x 56922 columns]\n",
      "    00  000  0000  00000031  000035  00006  0001  0001pt  000ft  000km  ...  \\\n",
      "0  0.0  0.0   0.0       0.0     0.0    0.0   0.0     0.0    0.0    0.0  ...   \n",
      "1  0.0  0.0   0.0       0.0     0.0    0.0   0.0     0.0    0.0    0.0  ...   \n",
      "2  0.0  0.0   0.0       0.0     0.0    0.0   0.0     0.0    0.0    0.0  ...   \n",
      "3  0.0  0.0   0.0       0.0     0.0    0.0   0.0     0.0    0.0    0.0  ...   \n",
      "4  0.0  0.0   0.0       0.0     0.0    0.0   0.0     0.0    0.0    0.0  ...   \n",
      "\n",
      "   حلب  عربي   عن   لم   ما  محاولات   من  هذا  والمرضى  ยงade  \n",
      "0  0.0   0.0  0.0  0.0  0.0      0.0  0.0  0.0      0.0    0.0  \n",
      "1  0.0   0.0  0.0  0.0  0.0      0.0  0.0  0.0      0.0    0.0  \n",
      "2  0.0   0.0  0.0  0.0  0.0      0.0  0.0  0.0      0.0    0.0  \n",
      "3  0.0   0.0  0.0  0.0  0.0      0.0  0.0  0.0      0.0    0.0  \n",
      "4  0.0   0.0  0.0  0.0  0.0      0.0  0.0  0.0      0.0    0.0  \n",
      "\n",
      "[5 rows x 56922 columns]\n",
      "set()\n",
      "False\n"
     ]
    }
   ],
   "source": [
    "# Create the CountVectorizer DataFrame: count_df\n",
    "count_df = pd.DataFrame(count_train.A, columns=count_vectorizer.get_feature_names_out())\n",
    "\n",
    "# Create the TfidfVectorizer DataFrame: tfidf_df\n",
    "tfidf_df = pd.DataFrame(tfidf_train.A, columns=tfidf_vectorizer.get_feature_names_out())\n",
    "\n",
    "# Print the head of count_df\n",
    "print(count_df.head())\n",
    "\n",
    "# Print the head of tfidf_df\n",
    "print(tfidf_df.head())\n",
    "\n",
    "# Calculate the difference in columns: difference\n",
    "difference = set(count_df.columns) - set(tfidf_df.columns)\n",
    "print(difference)\n",
    "\n",
    "# Check whether the DataFrames are equal\n",
    "print(count_df.equals(tfidf_df))\n"
   ]
  },
  {
   "cell_type": "code",
   "execution_count": null,
   "id": "bc827b86",
   "metadata": {},
   "outputs": [],
   "source": []
  },
  {
   "cell_type": "code",
   "execution_count": 9,
   "id": "47e06e2e",
   "metadata": {},
   "outputs": [],
   "source": [
    "from sklearn.naive_bayes import MultinomialNB\n",
    "from sklearn import metrics"
   ]
  },
  {
   "cell_type": "markdown",
   "id": "15d21321",
   "metadata": {},
   "source": [
    "#### Training and testing the \"fake news\" model with countervectorizer"
   ]
  },
  {
   "cell_type": "code",
   "execution_count": 10,
   "id": "aac744ee",
   "metadata": {},
   "outputs": [
    {
     "name": "stdout",
     "output_type": "stream",
     "text": [
      "0.893352462936394\n",
      "[[ 865  143]\n",
      " [  80 1003]]\n"
     ]
    }
   ],
   "source": [
    "# Instantiate a Multinomial Naive Bayes classifier: nb_classifier\n",
    "nb_classifier = MultinomialNB()\n",
    "\n",
    "# Fit the classifier to the training data\n",
    "nb_classifier.fit(count_train,y_train)\n",
    "\n",
    "# Create the predicted tags: pred\n",
    "pred = nb_classifier.predict(count_test)\n",
    "\n",
    "# Calculate the accuracy score: score\n",
    "score = metrics.accuracy_score(y_test,pred)\n",
    "print(score)\n",
    "# Calculate the confusion matrix: cm\n",
    "cm = metrics.confusion_matrix(y_test, pred, labels=['FAKE', 'REAL'])\n",
    "print(cm)"
   ]
  },
  {
   "cell_type": "markdown",
   "id": "268c2e83",
   "metadata": {},
   "source": [
    "#### Training and testing the \"fake news\" model with TfidfVectorizer\n",
    "Now that you have evaluated the model using the CountVectorizer, you'll do the same using the TfidfVectorizer with a Naive Bayes model."
   ]
  },
  {
   "cell_type": "code",
   "execution_count": 11,
   "id": "9fc0a4b7",
   "metadata": {},
   "outputs": [
    {
     "name": "stdout",
     "output_type": "stream",
     "text": [
      "0.8565279770444764\n",
      "[[ 739  269]\n",
      " [  31 1052]]\n"
     ]
    }
   ],
   "source": [
    "# Create a Multinomial Naive Bayes classifier: nb_classifier\n",
    "nb_classifier = MultinomialNB()\n",
    "\n",
    "# Fit the classifier to the training data\n",
    "nb_classifier.fit(tfidf_train, y_train)\n",
    "\n",
    "# Create the predicted tags: pred\n",
    "pred = nb_classifier.predict(tfidf_test)\n",
    "\n",
    "# Calculate the accuracy score: score\n",
    "score = metrics.accuracy_score(y_test, pred)\n",
    "print(score)\n",
    "\n",
    "# Calculate the confusion matrix: cm\n",
    "cm = metrics.confusion_matrix(y_test, pred, labels=['FAKE', 'REAL'])\n",
    "print(cm)"
   ]
  },
  {
   "cell_type": "code",
   "execution_count": null,
   "id": "0ffc59f7",
   "metadata": {},
   "outputs": [],
   "source": []
  },
  {
   "cell_type": "code",
   "execution_count": 16,
   "id": "b2f3bb43",
   "metadata": {},
   "outputs": [
    {
     "name": "stdout",
     "output_type": "stream",
     "text": [
      "              precision    recall  f1-score   support\n",
      "\n",
      "        FAKE       0.85      0.93      0.89      1008\n",
      "        REAL       0.92      0.85      0.88      1083\n",
      "\n",
      "    accuracy                           0.89      2091\n",
      "   macro avg       0.89      0.89      0.89      2091\n",
      "weighted avg       0.89      0.89      0.89      2091\n",
      "\n"
     ]
    }
   ],
   "source": [
    "from sklearn.ensemble import GradientBoostingClassifier\n",
    "from sklearn.metrics import classification_report\n",
    "\n",
    "# Create a GradientBoostingClassifier\n",
    "clf = GradientBoostingClassifier()\n",
    "\n",
    "# Fit the classifier to the training data\n",
    "clf.fit(count_train, y_train)\n",
    "\n",
    "# Get the predictions for the test data\n",
    "y_pred = clf.predict(count_test)\n",
    "\n",
    "# Print the classification report\n",
    "print(classification_report(y_test, y_pred))"
   ]
  },
  {
   "cell_type": "code",
   "execution_count": 17,
   "id": "a109a53c",
   "metadata": {},
   "outputs": [
    {
     "name": "stdout",
     "output_type": "stream",
     "text": [
      "              precision    recall  f1-score   support\n",
      "\n",
      "        FAKE       0.86      0.92      0.89      1008\n",
      "        REAL       0.92      0.87      0.89      1083\n",
      "\n",
      "    accuracy                           0.89      2091\n",
      "   macro avg       0.89      0.89      0.89      2091\n",
      "weighted avg       0.89      0.89      0.89      2091\n",
      "\n"
     ]
    }
   ],
   "source": [
    "from sklearn.ensemble import GradientBoostingClassifier\n",
    "from sklearn.metrics import classification_report\n",
    "\n",
    "# Create a GradientBoostingClassifier\n",
    "clf = GradientBoostingClassifier()\n",
    "\n",
    "# Fit the classifier to the training data\n",
    "clf.fit(tfidf_train, y_train)\n",
    "\n",
    "# Get the predictions for the test data\n",
    "y_pred = clf.predict(tfidf_test)\n",
    "\n",
    "# Print the classification report\n",
    "print(classification_report(y_test, y_pred))"
   ]
  },
  {
   "cell_type": "markdown",
   "id": "67456b85",
   "metadata": {},
   "source": [
    "#### Improving your model\n",
    "Your job in this exercise is to test a few different alpha levels using the Tfidf vectors to determine if there is a better performing combination."
   ]
  },
  {
   "cell_type": "code",
   "execution_count": 16,
   "id": "8852380b",
   "metadata": {},
   "outputs": [
    {
     "name": "stdout",
     "output_type": "stream",
     "text": [
      "Alpha:  0.0\n",
      "Score:  0.8813964610234337\n",
      "\n",
      "Alpha:  0.1\n",
      "Score:  0.8976566236250598\n",
      "\n",
      "Alpha:  0.2\n",
      "Score:  0.8938307030129125\n",
      "\n",
      "Alpha:  0.30000000000000004\n",
      "Score:  0.8900047824007652\n",
      "\n",
      "Alpha:  0.4\n",
      "Score:  0.8857006217120995\n",
      "\n",
      "Alpha:  0.5\n"
     ]
    },
    {
     "name": "stderr",
     "output_type": "stream",
     "text": [
      "C:\\Users\\hp\\anaconda3\\Lib\\site-packages\\sklearn\\naive_bayes.py:624: FutureWarning: The default value for `force_alpha` will change to `True` in 1.4. To suppress this warning, manually set the value of `force_alpha`.\n",
      "  warnings.warn(\n",
      "C:\\Users\\hp\\anaconda3\\Lib\\site-packages\\sklearn\\naive_bayes.py:633: UserWarning: alpha too small will result in numeric errors, setting alpha = 1.0e-10. Use `force_alpha=True` to keep alpha unchanged.\n",
      "  warnings.warn(\n"
     ]
    },
    {
     "name": "stdout",
     "output_type": "stream",
     "text": [
      "Score:  0.8842659014825442\n",
      "\n",
      "Alpha:  0.6000000000000001\n",
      "Score:  0.874701099952176\n",
      "\n",
      "Alpha:  0.7000000000000001\n",
      "Score:  0.8703969392635102\n",
      "\n",
      "Alpha:  0.8\n",
      "Score:  0.8660927785748446\n",
      "\n",
      "Alpha:  0.9\n",
      "Score:  0.8589191774270684\n",
      "\n"
     ]
    }
   ],
   "source": [
    "# Create the list of alphas: alphas\n",
    "alphas = np.arange(0,1,.1)\n",
    "\n",
    "# Define train_and_predict()\n",
    "def train_and_predict(alpha):\n",
    "    # Instantiate the classifier: nb_classifier\n",
    "    nb_classifier = MultinomialNB(alpha=alpha)\n",
    "    # Fit to the training data\n",
    "    nb_classifier.fit(tfidf_train,y_train)\n",
    "    # Predict the labels: pred\n",
    "    pred = nb_classifier.predict(tfidf_test)\n",
    "    # Compute accuracy: score\n",
    "    score = metrics.accuracy_score(y_test, pred)\n",
    "    return score\n",
    "\n",
    "# Iterate over the alphas and print the corresponding score\n",
    "for alpha in alphas:\n",
    "    print('Alpha: ', alpha)\n",
    "    print('Score: ', train_and_predict(alpha))\n",
    "    print()\n"
   ]
  },
  {
   "cell_type": "markdown",
   "id": "a0767620",
   "metadata": {},
   "source": [
    "#### Inspecting your model\n",
    "Now that you have built a \"fake news\" classifier, you'll investigate what it has learned. You can map the important vector weights back to actual words using some simple inspection techniques."
   ]
  },
  {
   "cell_type": "code",
   "execution_count": 27,
   "id": "9b348164",
   "metadata": {},
   "outputs": [
    {
     "name": "stdout",
     "output_type": "stream",
     "text": [
      "FAKE [(-11.280753302177917, '128th'), (-11.280753302177917, '13½'), (-11.280753302177917, '143m'), (-11.280753302177917, '147'), (-11.280753302177917, '148'), (-11.280753302177917, '14m'), (-11.280753302177917, '1500s'), (-11.280753302177917, '150th'), (-11.280753302177917, '15e'), (-11.280753302177917, '161'), (-11.280753302177917, '1621'), (-11.280753302177917, '1650'), (-11.280753302177917, '1689'), (-11.280753302177917, '1777'), (-11.280753302177917, '179'), (-11.280753302177917, '1797'), (-11.280753302177917, '1798'), (-11.280753302177917, '17s'), (-11.280753302177917, '1801'), (-11.280753302177917, '1804'), (-11.280753302177917, '1817'), (-11.280753302177917, '1820s'), (-11.280753302177917, '1824'), (-11.280753302177917, '1829'), (-11.280753302177917, '1831'), (-11.280753302177917, '1842'), (-11.280753302177917, '1845'), (-11.280753302177917, '1849'), (-11.280753302177917, '1853'), (-11.280753302177917, '1856'), (-11.280753302177917, '1857'), (-11.280753302177917, '1860s'), (-11.280753302177917, '1864'), (-11.280753302177917, '1865'), (-11.280753302177917, '1870s'), (-11.280753302177917, '1876'), (-11.280753302177917, '1877'), (-11.280753302177917, '1878'), (-11.280753302177917, '1887'), (-11.280753302177917, '1890'), (-11.280753302177917, '1890s'), (-11.280753302177917, '18f'), (-11.280753302177917, '1900s'), (-11.280753302177917, '1904'), (-11.280753302177917, '190th'), (-11.280753302177917, '1910s'), (-11.280753302177917, '191bn'), (-11.280753302177917, '194'), (-11.280753302177917, '1bs'), (-11.280753302177917, '1oth'), (-11.280753302177917, '1tn'), (-11.280753302177917, '2016ers'), (-11.280753302177917, '202'), (-11.280753302177917, '2032'), (-11.280753302177917, '2033'), (-11.280753302177917, '2035'), (-11.280753302177917, '2036'), (-11.280753302177917, '2042'), (-11.280753302177917, '2064'), (-11.280753302177917, '209'), (-11.280753302177917, '20am'), (-11.280753302177917, '20tn'), (-11.280753302177917, '210'), (-11.280753302177917, '2100'), (-11.280753302177917, '211'), (-11.280753302177917, '2110'), (-11.280753302177917, '2117'), (-11.280753302177917, '219'), (-11.280753302177917, '227kg'), (-11.280753302177917, '22m'), (-11.280753302177917, '231'), (-11.280753302177917, '236'), (-11.280753302177917, '237'), (-11.280753302177917, '238'), (-11.280753302177917, '239'), (-11.280753302177917, '244'), (-11.280753302177917, '244th'), (-11.280753302177917, '246'), (-11.280753302177917, '2472'), (-11.280753302177917, '250m'), (-11.280753302177917, '2544'), (-11.280753302177917, '263'), (-11.280753302177917, '267'), (-11.280753302177917, '281'), (-11.280753302177917, '282'), (-11.280753302177917, '283'), (-11.280753302177917, '285'), (-11.280753302177917, '291'), (-11.280753302177917, '294'), (-11.280753302177917, '296'), (-11.280753302177917, '298'), (-11.280753302177917, '2a'), (-11.280753302177917, '2b'), (-11.280753302177917, '2degrees'), (-11.280753302177917, '2paragraphs'), (-11.280753302177917, '2percent'), (-11.280753302177917, '2s'), (-11.280753302177917, '2x'), (-11.280753302177917, '300k'), (-11.280753302177917, '300kg')]\n",
      "REAL [(-8.036772745824807, 'president'), (-8.022187159522364, 'american'), (-8.013319806154513, 'media'), (-8.007761560290644, 'donald'), (-8.006632122322646, 'october'), (-7.989623223030759, 'government'), (-7.929695447721539, 'like'), (-7.922750601304927, 'war'), (-7.915731838943572, 'new'), (-7.908889774759155, 'world'), (-7.885018054191407, 'just'), (-7.758145325115569, 'said'), (-7.7498037548099585, 'russia'), (-7.697669509488481, 'fbi'), (-7.604825769578616, '2016'), (-7.554879292243166, 'election'), (-7.541640806988918, 'people'), (-7.235945549755579, 'hillary'), (-6.923220068888362, 'clinton'), (-6.867377223688766, 'trump')]\n"
     ]
    }
   ],
   "source": [
    "# Get the class labels: class_labels\n",
    "class_labels = nb_classifier.classes_\n",
    "\n",
    "# Extract the features: feature_names\n",
    "feature_names = tfidf_vectorizer.get_feature_names_out()\n",
    "\n",
    "# Zip the feature names together with the coefficient array and sort by weights: feat_with_weights\n",
    "feat_with_weights = sorted(zip(nb_classifier.feature_log_prob_[0], feature_names))\n",
    "#list(zip(model.feature_log_prob_[0], cv.get_feature_names()))\n",
    "# Print the first class label and the top 20 feat_with_weights entries\n",
    "print(class_labels[0], feat_with_weights[50:150])\n",
    "\n",
    "# Print the second class label and the bottom 20 feat_with_weights entries\n",
    "print(class_labels[1], feat_with_weights[-20:])"
   ]
  },
  {
   "cell_type": "code",
   "execution_count": null,
   "id": "125312d5",
   "metadata": {},
   "outputs": [],
   "source": [
    "from sklearn.ensemble import GradientBoostingClassifier\n",
    "from sklearn.model_selection import GridSearchCV\n",
    "\n",
    "# Create a GradientBoostingClassifier\n",
    "clf = GradientBoostingClassifier()\n",
    "\n",
    "# Define the parameter grid to search\n",
    "param_grid = {\n",
    "    'n_estimators': [50, 100, 150],             # Number of trees\n",
    "    'learning_rate': [0.01, 0.1, 0.2],          # Step size shrinkage\n",
    "    'max_depth': [3, 4, 5],                     # Maximum depth of the individual trees\n",
    "    'min_samples_split': [2, 5, 10],            # Minimum number of samples required to split an internal node\n",
    "    'min_samples_leaf': [1, 2, 4],              # Minimum number of samples required to be at a leaf node\n",
    "    'subsample': [0.8, 1.0]                     # Fraction of samples used for fitting the individual base learners\n",
    "}\n",
    "\n",
    "# Create GridSearchCV object\n",
    "grid_search = GridSearchCV(clf, param_grid, cv=5, scoring='accuracy', n_jobs=-1)\n",
    "\n",
    "# Fit the grid search to the data\n",
    "grid_search.fit(tfidf_train, y_train)\n",
    "\n",
    "# Print the best parameters found\n",
    "print(\"Best Parameters:\", grid_search.best_params_)\n",
    "\n",
    "# Get the best model\n",
    "best_model = grid_search.best_estimator_\n",
    "\n",
    "# Evaluate the best model on the test set\n",
    "y_pred = best_model.predict(tfidf_test)\n",
    "\n",
    "# Print the classification report\n",
    "print(\"Classification Report:\")\n",
    "print(classification_report(y_test, y_pred))"
   ]
  },
  {
   "cell_type": "code",
   "execution_count": null,
   "id": "c120f6bb",
   "metadata": {},
   "outputs": [],
   "source": []
  }
 ],
 "metadata": {
  "kernelspec": {
   "display_name": "Python 3 (ipykernel)",
   "language": "python",
   "name": "python3"
  },
  "language_info": {
   "codemirror_mode": {
    "name": "ipython",
    "version": 3
   },
   "file_extension": ".py",
   "mimetype": "text/x-python",
   "name": "python",
   "nbconvert_exporter": "python",
   "pygments_lexer": "ipython3",
   "version": "3.11.7"
  },
  "toc": {
   "base_numbering": 1,
   "nav_menu": {},
   "number_sections": true,
   "sideBar": true,
   "skip_h1_title": false,
   "title_cell": "Table of Contents",
   "title_sidebar": "Contents",
   "toc_cell": false,
   "toc_position": {
    "height": "calc(100% - 180px)",
    "left": "10px",
    "top": "150px",
    "width": "310.188px"
   },
   "toc_section_display": true,
   "toc_window_display": true
  }
 },
 "nbformat": 4,
 "nbformat_minor": 5
}
