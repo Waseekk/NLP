{
 "cells": [
  {
   "cell_type": "markdown",
   "id": "21a105e0",
   "metadata": {},
   "source": []
  },
  {
   "cell_type": "markdown",
   "id": "396224f7",
   "metadata": {},
   "source": [
    "# Project Notebook: Text Identification with FastText\n",
    "FastText is a popular open-source, free, lightweight library that allows users to learn text representations and perform text classification tasks efficiently. It was developed by Facebook's AI Research (FAIR) lab. FastText is known for its speed and ability to handle large datasets.<p>\n",
    "\n",
    "FastText primarily supports supervised learning, where a model is trained on labeled data to make predictions on new, unseen data. However, it doesn't have built-in functionality for unsupervised learning. In unsupervised learning, the algorithm doesn't have labeled data and aims to find patterns or representations within the data.<p>\n",
    "\n",
    "That said, you can use FastText for unsupervised tasks by leveraging its ability to learn word embeddings. The unsupervised approach often involves training FastText on a large corpus to learn word representations and then using those embeddings for downstream tasks or analysis.<p>\n",
    "    \n",
    "    Fasttext is pre trained word vectors on 'Common Crawl' and 'Wikipedia'. We can learn more about fasttext on https://fasttext.cc/docs/en/crawl-vectors.html\n",
    " "
   ]
  },
  {
   "cell_type": "markdown",
   "id": "806372b3",
   "metadata": {},
   "source": [
    "\n",
    "## Problem Statement\n",
    "\n",
    "In this notebook, we embark on two distinct projects utilizing FastText - supervised and unsupervised machine learning for text identification. The primary objective is to leverage FastText's capabilities in capturing semantic relationships among words through unsupervised learning, and subsequently, employing it for product category prediction through supervised learning.\n",
    "\n",
    "## Dataset\n",
    "\n",
    "We will be working with the \"E-commerce Text Classification\" dataset sourced from Kaggle [here](https://www.kaggle.com/datasets/saurabhshahane/ecommerce-text-classification/data). This dataset contains product descriptions and corresponding categories, serving as the foundation for our exploration.\n",
    "\n",
    "## Projects Overview\n",
    "\n",
    "### Unsupervised Learning:\n",
    "Our first project involves training a FastText model in an unsupervised manner to capture word similarities within our dataset. The goal is to generate word embeddings that encode semantic relationships, enabling us to measure the similarity between different words.\n",
    "\n",
    "### Supervised Learning:\n",
    "The second project focuses on supervised learning, where we train a FastText model to predict product categories based on their descriptions. We preprocess the data, split it into training and testing sets, and evaluate the model's performance using relevant metrics.\n",
    "\n",
    "## Steps:\n",
    "\n",
    "1. **Data Exploration:**\n",
    "   - Explore the structure and characteristics of the provided dataset.\n",
    "\n",
    "2. **Unsupervised Learning:**\n",
    "   - Train a FastText model in an unsupervised manner to capture word similarities.\n",
    "\n",
    "3. **Supervised Learning:**\n",
    "   - Prepare the data for supervised learning by preprocessing and splitting into training and testing sets.\n",
    "   - Train a FastText model for product category prediction.\n",
    "\n",
    "4. **Model Evaluation:**\n",
    "   - Assess the performance of the supervised learning model using relevant metrics.\n",
    "\n",
    "5. **Conclusion and Further Exploration:**\n",
    "   - Summarize the findings and propose potential avenues for further exploration or improvement.\n",
    "\n",
    "Through these projects, we aim to demonstrate the versatility of FastText in both unsupervised and supervised contexts for effective text identification and classification.\n"
   ]
  },
  {
   "cell_type": "code",
   "execution_count": 30,
   "id": "293b7285",
   "metadata": {},
   "outputs": [],
   "source": [
    "#pip install fasttext\n",
    "#pip install fasttext-wheel\n"
   ]
  },
  {
   "cell_type": "markdown",
   "id": "f1512036",
   "metadata": {},
   "source": [
    "# Unsupervised Model Training \n",
    "In unsupervised learning with FastText, the model is trained on unlabeled data to learn meaningful representations of words or phrases. FastText employs techniques such as skip-gram to capture semantic relationships and similarities between words. This unsupervised approach is valuable for tasks like word embedding generation, semantic similarity analysis, and clustering, where the model extracts patterns and structures from data without relying on predefined labels.\n",
    "\n",
    "\n",
    "<p>\n",
    "\n",
    "In this section we will first load the fasttext model then train it on our ecomerce dataset so that the model can better understand the words based on our data."
   ]
  },
  {
   "cell_type": "markdown",
   "id": "83ebd325",
   "metadata": {},
   "source": [
    "### loading fasttext model"
   ]
  },
  {
   "cell_type": "code",
   "execution_count": 1,
   "id": "8b634407",
   "metadata": {},
   "outputs": [],
   "source": [
    "import fasttext"
   ]
  },
  {
   "cell_type": "code",
   "execution_count": 2,
   "id": "46d4919e",
   "metadata": {},
   "outputs": [],
   "source": [
    "model_en = fasttext.load_model('G:\\\\2024\\\\NLP\\\\cc.en.300.bin\\\\cc.en.300.bin') # fastText wikipedia dataset"
   ]
  },
  {
   "cell_type": "markdown",
   "id": "1f0c2dae",
   "metadata": {},
   "source": [
    "In seeking to identify words that share similarity or a strong semantic relationship with a specific term, such as 'table,' we leverage the concept of word vectors obtained through the application of FastText. By training an unsupervised FastText model on a relevant text corpus, we generate vector representations for words. These vectors encapsulate semantic information, allowing us to quantify the similarity between words.<p>\n",
    "\n",
    "Upon model training, the get_nearest_neighbors function facilitates the retrieval of words most closely associated with the target term, 'table,' based on the learned word embeddings. The resulting output provides a list of words alongside their respective similarity scores, highlighting those with the highest semantic affinity to the queried term."
   ]
  },
  {
   "cell_type": "code",
   "execution_count": 60,
   "id": "6ffac3d8",
   "metadata": {},
   "outputs": [
    {
     "data": {
      "text/plain": [
       "[(0.8093202114105225, 'tables'),\n",
       " (0.7205384969711304, 'table.This'),\n",
       " (0.7094437479972839, 'table.The'),\n",
       " (0.7015632390975952, 'table.'),\n",
       " (0.6971700191497803, 'table.But'),\n",
       " (0.6922351717948914, 'table.So'),\n",
       " (0.6912224292755127, 'table-'),\n",
       " (0.6758333444595337, 'table.I'),\n",
       " (0.6712210774421692, 'table.When'),\n",
       " (0.6669521927833557, 'tabel')]"
      ]
     },
     "execution_count": 60,
     "metadata": {},
     "output_type": "execute_result"
    }
   ],
   "source": [
    "model_en.get_nearest_neighbors('table') # kheer is a south asian sweet "
   ]
  },
  {
   "cell_type": "markdown",
   "id": "c71124b3",
   "metadata": {},
   "source": [
    "\n",
    "In this section, we explore the concept of word similarity using the FastText model. The `get_nearest_neighbors` method in FastText allows us to identify words that exhibit the closest semantic relationships to a specified term. The similarity between words is computed through the cosine similarity metric applied to the learned word vectors within the model.<p> Now we will train this model based on our dataset and check the similarity again after training.\n"
   ]
  },
  {
   "cell_type": "code",
   "execution_count": 4,
   "id": "f346d51d",
   "metadata": {},
   "outputs": [],
   "source": [
    "#dir(model_en)"
   ]
  },
  {
   "cell_type": "code",
   "execution_count": 8,
   "id": "ed7f4a38",
   "metadata": {},
   "outputs": [
    {
     "name": "stdout",
     "output_type": "stream",
     "text": [
      "Help on method get_analogies in module fasttext.FastText:\n",
      "\n",
      "get_analogies(wordA, wordB, wordC, k=10, on_unicode_error='strict') method of fasttext.FastText._FastText instance\n",
      "\n"
     ]
    }
   ],
   "source": [
    "#help(model_en.get_analogies)"
   ]
  },
  {
   "cell_type": "code",
   "execution_count": 5,
   "id": "62ed77cf",
   "metadata": {},
   "outputs": [
    {
     "data": {
      "text/plain": [
       "[(0.5573194622993469, 'drives'),\n",
       " (0.5201934576034546, 'dirve'),\n",
       " (0.49024200439453125, 'drive.I'),\n",
       " (0.48620370030403137, 'drive.It'),\n",
       " (0.4767036736011505, 'drive.You'),\n",
       " (0.4736213684082031, 'drive.This'),\n",
       " (0.47208210825920105, 'drive.As'),\n",
       " (0.46843627095222473, 'drive.The'),\n",
       " (0.46421313285827637, 'drive.So'),\n",
       " (0.46390312910079956, 'drive.And')]"
      ]
     },
     "execution_count": 5,
     "metadata": {},
     "output_type": "execute_result"
    }
   ],
   "source": [
    "#The method tries to find a word that is related to 'driver' in the same way as 'sailor' is related to 'ship'.\n",
    "model_en.get_analogies(\"ship \",\"sailor \",\"drive\")"
   ]
  },
  {
   "cell_type": "code",
   "execution_count": 18,
   "id": "6a4b1cb9",
   "metadata": {},
   "outputs": [
    {
     "data": {
      "text/plain": [
       "300"
      ]
     },
     "execution_count": 18,
     "metadata": {},
     "output_type": "execute_result"
    }
   ],
   "source": [
    "model_en.get_dimension()"
   ]
  },
  {
   "cell_type": "markdown",
   "id": "310bcf1a",
   "metadata": {},
   "source": [
    "## Unsupervised Learning: FastText Model Exploration\n",
    "\n",
    "In this section, we delve into unsupervised learning by training a FastText model on e-commerce data. Our objective is to assess the model's proficiency in identifying specific words based on its pre-training. Initially, we examine the results of a pre-trained FastText model to obtain similar words related to 'table.' Utilizing the `get_nearest_neighbors` method, we retrieve the nearest vectors of the term 'table' from the model. Subsequently, we plan to reevaluate this analysis after training the model on our specific e-commerce dataset, aiming to observe potential improvements and domain-specific word relationships.\n"
   ]
  },
  {
   "cell_type": "code",
   "execution_count": 61,
   "id": "5b8d790f",
   "metadata": {},
   "outputs": [],
   "source": [
    "nearest_neighbors_model_en = model_en.get_nearest_neighbors('table')"
   ]
  },
  {
   "cell_type": "code",
   "execution_count": 62,
   "id": "6252c25e",
   "metadata": {},
   "outputs": [
    {
     "data": {
      "text/html": [
       "<div>\n",
       "<style scoped>\n",
       "    .dataframe tbody tr th:only-of-type {\n",
       "        vertical-align: middle;\n",
       "    }\n",
       "\n",
       "    .dataframe tbody tr th {\n",
       "        vertical-align: top;\n",
       "    }\n",
       "\n",
       "    .dataframe thead th {\n",
       "        text-align: right;\n",
       "    }\n",
       "</style>\n",
       "<table border=\"1\" class=\"dataframe\">\n",
       "  <thead>\n",
       "    <tr style=\"text-align: right;\">\n",
       "      <th></th>\n",
       "      <th>Similarity</th>\n",
       "      <th>Word</th>\n",
       "    </tr>\n",
       "  </thead>\n",
       "  <tbody>\n",
       "    <tr>\n",
       "      <th>0</th>\n",
       "      <td>0.809320</td>\n",
       "      <td>tables</td>\n",
       "    </tr>\n",
       "    <tr>\n",
       "      <th>1</th>\n",
       "      <td>0.720538</td>\n",
       "      <td>table.This</td>\n",
       "    </tr>\n",
       "    <tr>\n",
       "      <th>2</th>\n",
       "      <td>0.709444</td>\n",
       "      <td>table.The</td>\n",
       "    </tr>\n",
       "    <tr>\n",
       "      <th>3</th>\n",
       "      <td>0.701563</td>\n",
       "      <td>table.</td>\n",
       "    </tr>\n",
       "    <tr>\n",
       "      <th>4</th>\n",
       "      <td>0.697170</td>\n",
       "      <td>table.But</td>\n",
       "    </tr>\n",
       "    <tr>\n",
       "      <th>5</th>\n",
       "      <td>0.692235</td>\n",
       "      <td>table.So</td>\n",
       "    </tr>\n",
       "    <tr>\n",
       "      <th>6</th>\n",
       "      <td>0.691222</td>\n",
       "      <td>table-</td>\n",
       "    </tr>\n",
       "    <tr>\n",
       "      <th>7</th>\n",
       "      <td>0.675833</td>\n",
       "      <td>table.I</td>\n",
       "    </tr>\n",
       "    <tr>\n",
       "      <th>8</th>\n",
       "      <td>0.671221</td>\n",
       "      <td>table.When</td>\n",
       "    </tr>\n",
       "    <tr>\n",
       "      <th>9</th>\n",
       "      <td>0.666952</td>\n",
       "      <td>tabel</td>\n",
       "    </tr>\n",
       "  </tbody>\n",
       "</table>\n",
       "</div>"
      ],
      "text/plain": [
       "   Similarity        Word\n",
       "0    0.809320      tables\n",
       "1    0.720538  table.This\n",
       "2    0.709444   table.The\n",
       "3    0.701563      table.\n",
       "4    0.697170   table.But\n",
       "5    0.692235    table.So\n",
       "6    0.691222      table-\n",
       "7    0.675833     table.I\n",
       "8    0.671221  table.When\n",
       "9    0.666952       tabel"
      ]
     },
     "execution_count": 62,
     "metadata": {},
     "output_type": "execute_result"
    }
   ],
   "source": [
    "df_model_en = pd.DataFrame(nearest_neighbors_model_en, columns=['Similarity', 'Word'])\n",
    "df_model_en"
   ]
  },
  {
   "cell_type": "code",
   "execution_count": 63,
   "id": "dc4ef7ca",
   "metadata": {},
   "outputs": [
    {
     "data": {
      "text/plain": [
       "-1998892"
      ]
     },
     "execution_count": 63,
     "metadata": {},
     "output_type": "execute_result"
    }
   ],
   "source": [
    "# we can also get the id of any specific word\n",
    "model_en.get_label_id('table')"
   ]
  },
  {
   "cell_type": "markdown",
   "id": "9e6125a3",
   "metadata": {},
   "source": [
    "### Data Loading"
   ]
  },
  {
   "cell_type": "code",
   "execution_count": 64,
   "id": "12454388",
   "metadata": {},
   "outputs": [
    {
     "name": "stdout",
     "output_type": "stream",
     "text": [
      "(50425, 2)\n"
     ]
    },
    {
     "data": {
      "text/html": [
       "<div>\n",
       "<style scoped>\n",
       "    .dataframe tbody tr th:only-of-type {\n",
       "        vertical-align: middle;\n",
       "    }\n",
       "\n",
       "    .dataframe tbody tr th {\n",
       "        vertical-align: top;\n",
       "    }\n",
       "\n",
       "    .dataframe thead th {\n",
       "        text-align: right;\n",
       "    }\n",
       "</style>\n",
       "<table border=\"1\" class=\"dataframe\">\n",
       "  <thead>\n",
       "    <tr style=\"text-align: right;\">\n",
       "      <th></th>\n",
       "      <th>category</th>\n",
       "      <th>description</th>\n",
       "    </tr>\n",
       "  </thead>\n",
       "  <tbody>\n",
       "    <tr>\n",
       "      <th>0</th>\n",
       "      <td>Household</td>\n",
       "      <td>Paper Plane Design Framed Wall Hanging Motivat...</td>\n",
       "    </tr>\n",
       "    <tr>\n",
       "      <th>1</th>\n",
       "      <td>Household</td>\n",
       "      <td>SAF 'Floral' Framed Painting (Wood, 30 inch x ...</td>\n",
       "    </tr>\n",
       "    <tr>\n",
       "      <th>2</th>\n",
       "      <td>Household</td>\n",
       "      <td>SAF 'UV Textured Modern Art Print Framed' Pain...</td>\n",
       "    </tr>\n",
       "  </tbody>\n",
       "</table>\n",
       "</div>"
      ],
      "text/plain": [
       "    category                                        description\n",
       "0  Household  Paper Plane Design Framed Wall Hanging Motivat...\n",
       "1  Household  SAF 'Floral' Framed Painting (Wood, 30 inch x ...\n",
       "2  Household  SAF 'UV Textured Modern Art Print Framed' Pain..."
      ]
     },
     "execution_count": 64,
     "metadata": {},
     "output_type": "execute_result"
    }
   ],
   "source": [
    "ecommerce= pd.read_csv(\"ecommerce_dataset.csv\",  names=[\"category\", \"description\"],header=None)\n",
    "print(ecommerce.shape)\n",
    "ecommerce.head(3)"
   ]
  },
  {
   "cell_type": "code",
   "execution_count": 74,
   "id": "500f40a8",
   "metadata": {},
   "outputs": [
    {
     "name": "stdout",
     "output_type": "stream",
     "text": [
      "<class 'pandas.core.frame.DataFrame'>\n",
      "RangeIndex: 50425 entries, 0 to 50424\n",
      "Data columns (total 2 columns):\n",
      " #   Column       Non-Null Count  Dtype \n",
      "---  ------       --------------  ----- \n",
      " 0   category     50425 non-null  object\n",
      " 1   description  50425 non-null  object\n",
      "dtypes: object(2)\n",
      "memory usage: 788.0+ KB\n"
     ]
    }
   ],
   "source": [
    "ecommerce.info()"
   ]
  },
  {
   "cell_type": "code",
   "execution_count": 76,
   "id": "54b2d00f",
   "metadata": {},
   "outputs": [
    {
     "data": {
      "text/plain": [
       "(50425, 2)"
      ]
     },
     "execution_count": 76,
     "metadata": {},
     "output_type": "execute_result"
    }
   ],
   "source": [
    "ecommerce.dropna(inplace=True)\n",
    "ecommerce.shape"
   ]
  },
  {
   "cell_type": "code",
   "execution_count": 65,
   "id": "994db6a7",
   "metadata": {},
   "outputs": [
    {
     "data": {
      "text/plain": [
       "'Paper Plane Design Framed Wall Hanging Motivational Office Decor Art Prints (8.7 X 8.7 inch) - Set of 4 Painting made up in synthetic frame with uv textured print which gives multi effects and attracts towards it. This is an special series of paintings which makes your wall very beautiful and gives a royal touch. This painting is ready to hang, you would be proud to possess this unique painting that is a niche apart. We use only the most modern and efficient printing technology on our prints, with only the and inks and precision epson, roland and hp printers. This innovative hd printing technique results in durable and spectacular looking prints of the highest that last a lifetime. We print solely with top-notch 100% inks, to achieve brilliant and true colours. Due to their high level of uv resistance, our prints retain their beautiful colours for many years. Add colour and style to your living space with this digitally printed painting. Some are for pleasure and some for eternal bliss.so bring home this elegant print that is lushed with rich colors that makes it nothing but sheer elegance to be to your friends and family.it would be treasured forever by whoever your lucky recipient is. Liven up your place with these intriguing paintings that are high definition hd graphic digital prints for home, office or any room.'"
      ]
     },
     "execution_count": 65,
     "metadata": {},
     "output_type": "execute_result"
    }
   ],
   "source": [
    "# see the instructions of the recipe\n",
    "ecommerce.description[0]"
   ]
  },
  {
   "cell_type": "markdown",
   "id": "31ec809c",
   "metadata": {},
   "source": [
    "### preprocessing"
   ]
  },
  {
   "cell_type": "code",
   "execution_count": 94,
   "id": "0ad54600",
   "metadata": {},
   "outputs": [],
   "source": [
    "import re\n",
    "from nltk.tokenize import word_tokenize\n",
    "from nltk.corpus import stopwords\n",
    "\n",
    "import re\n",
    "\n",
    "def preprocess(text):\n",
    "    if isinstance(text, str):\n",
    "        text = re.sub(r'[^\\w\\s\\']', ' ', text)\n",
    "        text = re.sub(' +', ' ', text)\n",
    "        return text.strip().lower()\n",
    "    else:\n",
    "        return str(text)"
   ]
  },
  {
   "cell_type": "markdown",
   "id": "e3677ec8",
   "metadata": {},
   "source": [
    "Now we will apply the preprocess function of data instructions column. FastText expects its input data to be in the form of a text file where each line represents a document or a piece of text."
   ]
  },
  {
   "cell_type": "code",
   "execution_count": 69,
   "id": "75d35739",
   "metadata": {},
   "outputs": [
    {
     "name": "stdout",
     "output_type": "stream",
     "text": [
      "[(0.7381492257118225, 'tablecloth'), (0.7243741750717163, 'dining'), (0.7216840982437134, 'tablecloths'), (0.7159408926963806, 'tables'), (0.6671674251556396, 'placemats'), (0.6631715297698975, 'bedside'), (0.6451259255409241, 'placemat'), (0.637414813041687, 'nestable'), (0.6306925415992737, 'tiltable'), (0.6303355693817139, 'dinning')]\n"
     ]
    }
   ],
   "source": [
    "# Apply preprocessing to TranslatedInstructions column\n",
    "ecommerce['description'] = ecommerce['description'] .map(preprocess)\n",
    "\n",
    "# Save the preprocessed data to a text file\n",
    "ecommerce.to_csv(\"description.txt\", columns=[\"description\"], header=None, index=False)\n",
    "\n",
    "# Train a FastText model on the preprocessed data\n",
    "model1 = fasttext.train_unsupervised(\"description.txt\")\n",
    "\n",
    "# Get the nearest neighbors for the word \"table\" in the trained model\n",
    "nearest_neighbors = model1.get_nearest_neighbors(\"table\")\n",
    "\n",
    "# Print the nearest neighbors\n",
    "print(nearest_neighbors)"
   ]
  },
  {
   "cell_type": "markdown",
   "id": "687e8a3d",
   "metadata": {},
   "source": [
    "For detailed information on the parameters used in the `train_unsupervised` function in FastText, please refer to the official documentation [here](https://fasttext.cc/docs/en/unsupervised-tutorial.html).\n",
    "\n",
    "When fine-tuning the model based on specific requirements, consider the following key parameters:\n",
    "\n",
    "- **`epochs`**: Default value is 5. It determines how many times the model will loop over the same dataset during training, influencing the depth of learning.\n",
    "\n",
    "- **`lr`**: Learning rate. This parameter governs the step size at each iteration while moving towards a minimum of the loss function, impacting the convergence speed and stability.\n",
    "\n",
    "- **`thread`**: Number of threads for training. It defines the parallelism during training, affecting the efficiency of the process.\n",
    "\n",
    "Customizing these parameters allows for fine-tuning the FastText model to better suit the characteristics and nuances of the specific dataset, enhancing its learning and predictive capabilities.\n",
    "\n"
   ]
  },
  {
   "cell_type": "code",
   "execution_count": 70,
   "id": "c2b351b9",
   "metadata": {},
   "outputs": [
    {
     "data": {
      "text/html": [
       "<div>\n",
       "<style scoped>\n",
       "    .dataframe tbody tr th:only-of-type {\n",
       "        vertical-align: middle;\n",
       "    }\n",
       "\n",
       "    .dataframe tbody tr th {\n",
       "        vertical-align: top;\n",
       "    }\n",
       "\n",
       "    .dataframe thead th {\n",
       "        text-align: right;\n",
       "    }\n",
       "</style>\n",
       "<table border=\"1\" class=\"dataframe\">\n",
       "  <thead>\n",
       "    <tr style=\"text-align: right;\">\n",
       "      <th></th>\n",
       "      <th>Similarity</th>\n",
       "      <th>Word</th>\n",
       "    </tr>\n",
       "  </thead>\n",
       "  <tbody>\n",
       "    <tr>\n",
       "      <th>0</th>\n",
       "      <td>0.738149</td>\n",
       "      <td>tablecloth</td>\n",
       "    </tr>\n",
       "    <tr>\n",
       "      <th>1</th>\n",
       "      <td>0.724374</td>\n",
       "      <td>dining</td>\n",
       "    </tr>\n",
       "    <tr>\n",
       "      <th>2</th>\n",
       "      <td>0.721684</td>\n",
       "      <td>tablecloths</td>\n",
       "    </tr>\n",
       "    <tr>\n",
       "      <th>3</th>\n",
       "      <td>0.715941</td>\n",
       "      <td>tables</td>\n",
       "    </tr>\n",
       "    <tr>\n",
       "      <th>4</th>\n",
       "      <td>0.667167</td>\n",
       "      <td>placemats</td>\n",
       "    </tr>\n",
       "    <tr>\n",
       "      <th>5</th>\n",
       "      <td>0.663172</td>\n",
       "      <td>bedside</td>\n",
       "    </tr>\n",
       "    <tr>\n",
       "      <th>6</th>\n",
       "      <td>0.645126</td>\n",
       "      <td>placemat</td>\n",
       "    </tr>\n",
       "    <tr>\n",
       "      <th>7</th>\n",
       "      <td>0.637415</td>\n",
       "      <td>nestable</td>\n",
       "    </tr>\n",
       "    <tr>\n",
       "      <th>8</th>\n",
       "      <td>0.630693</td>\n",
       "      <td>tiltable</td>\n",
       "    </tr>\n",
       "    <tr>\n",
       "      <th>9</th>\n",
       "      <td>0.630336</td>\n",
       "      <td>dinning</td>\n",
       "    </tr>\n",
       "  </tbody>\n",
       "</table>\n",
       "</div>"
      ],
      "text/plain": [
       "   Similarity         Word\n",
       "0    0.738149   tablecloth\n",
       "1    0.724374       dining\n",
       "2    0.721684  tablecloths\n",
       "3    0.715941       tables\n",
       "4    0.667167    placemats\n",
       "5    0.663172      bedside\n",
       "6    0.645126     placemat\n",
       "7    0.637415     nestable\n",
       "8    0.630693     tiltable\n",
       "9    0.630336      dinning"
      ]
     },
     "execution_count": 70,
     "metadata": {},
     "output_type": "execute_result"
    }
   ],
   "source": [
    "# getting the similaries after training\n",
    "nearest_neighbors_model1 = model1.get_nearest_neighbors('table')\n",
    "df_model1 = pd.DataFrame(nearest_neighbors_model1, columns=['Similarity', 'Word'])\n",
    "df_model1"
   ]
  },
  {
   "cell_type": "markdown",
   "id": "ae13b78a",
   "metadata": {},
   "source": [
    "### Comparing\n",
    "Now comparing the result before and after training the model we can get"
   ]
  },
  {
   "cell_type": "code",
   "execution_count": 75,
   "id": "23ef5b72",
   "metadata": {},
   "outputs": [
    {
     "name": "stdout",
     "output_type": "stream",
     "text": [
      "    Similarity_model_en(before)         Word  Similarity_model(after)\n",
      "0                      0.809320       tables                 0.715941\n",
      "1                      0.720538   table.This                      NaN\n",
      "2                      0.709444    table.The                      NaN\n",
      "3                      0.701563       table.                      NaN\n",
      "4                      0.697170    table.But                      NaN\n",
      "5                      0.692235     table.So                      NaN\n",
      "6                      0.691222       table-                      NaN\n",
      "7                      0.675833      table.I                      NaN\n",
      "8                      0.671221   table.When                      NaN\n",
      "9                      0.666952        tabel                      NaN\n",
      "10                          NaN   tablecloth                 0.738149\n",
      "11                          NaN       dining                 0.724374\n",
      "12                          NaN  tablecloths                 0.721684\n",
      "13                          NaN    placemats                 0.667167\n",
      "14                          NaN      bedside                 0.663172\n",
      "15                          NaN     placemat                 0.645126\n",
      "16                          NaN     nestable                 0.637415\n",
      "17                          NaN     tiltable                 0.630693\n",
      "18                          NaN      dinning                 0.630336\n"
     ]
    }
   ],
   "source": [
    "df_comparison = pd.merge(df_model_en, df_model1, on='Word', suffixes=('_model_en(before)', '_model(after)'), how='outer')\n",
    "\n",
    "# Print or display the comparison DataFrame\n",
    "print(df_comparison)"
   ]
  },
  {
   "cell_type": "markdown",
   "id": "d523ec5a",
   "metadata": {},
   "source": [
    "### Analysis of Word Similarity Results\n",
    "\n",
    "The table presents the results of word similarity before and after preprocessing using the FastText model. In the 'Similarity_model_en' column, initial similarity scores demonstrate relationships with the word 'tables' and variations of the word 'table.' After preprocessing, the 'Similarity_model' column reveals new associations, highlighting similar terms like 'tablecloth,' 'dining,' and 'placemats.' The transformation suggests improved semantic representations and a broader understanding of related words in the context of the dataset. Further exploration and fine-tuning of preprocessing techniques may enhance the model's ability to capture nuanced similarities.\n"
   ]
  },
  {
   "cell_type": "markdown",
   "id": "1d9126be",
   "metadata": {},
   "source": [
    "# Supervised Model Training\n",
    "In supervised learning with FastText, the model is trained on a labeled dataset, where each text sample is associated with a predefined category or label. FastText efficiently learns text representations by considering subword information, allowing it to capture morphological and semantic features. The trained model can then classify new, unseen text samples into predefined categories based on the learned representations, making it suitable for tasks such as text classification, sentiment analysis, and topic categorization.<p>\n",
    "    \n",
    "Here, We are using ecommerce dataset to predict the label/class of a item where it belongs."
   ]
  },
  {
   "cell_type": "code",
   "execution_count": 88,
   "id": "6354f687",
   "metadata": {},
   "outputs": [
    {
     "name": "stdout",
     "output_type": "stream",
     "text": [
      "(50425, 2)\n"
     ]
    },
    {
     "data": {
      "text/html": [
       "<div>\n",
       "<style scoped>\n",
       "    .dataframe tbody tr th:only-of-type {\n",
       "        vertical-align: middle;\n",
       "    }\n",
       "\n",
       "    .dataframe tbody tr th {\n",
       "        vertical-align: top;\n",
       "    }\n",
       "\n",
       "    .dataframe thead th {\n",
       "        text-align: right;\n",
       "    }\n",
       "</style>\n",
       "<table border=\"1\" class=\"dataframe\">\n",
       "  <thead>\n",
       "    <tr style=\"text-align: right;\">\n",
       "      <th></th>\n",
       "      <th>category</th>\n",
       "      <th>description</th>\n",
       "    </tr>\n",
       "  </thead>\n",
       "  <tbody>\n",
       "    <tr>\n",
       "      <th>0</th>\n",
       "      <td>Household</td>\n",
       "      <td>Paper Plane Design Framed Wall Hanging Motivat...</td>\n",
       "    </tr>\n",
       "    <tr>\n",
       "      <th>1</th>\n",
       "      <td>Household</td>\n",
       "      <td>SAF 'Floral' Framed Painting (Wood, 30 inch x ...</td>\n",
       "    </tr>\n",
       "    <tr>\n",
       "      <th>2</th>\n",
       "      <td>Household</td>\n",
       "      <td>SAF 'UV Textured Modern Art Print Framed' Pain...</td>\n",
       "    </tr>\n",
       "  </tbody>\n",
       "</table>\n",
       "</div>"
      ],
      "text/plain": [
       "    category                                        description\n",
       "0  Household  Paper Plane Design Framed Wall Hanging Motivat...\n",
       "1  Household  SAF 'Floral' Framed Painting (Wood, 30 inch x ...\n",
       "2  Household  SAF 'UV Textured Modern Art Print Framed' Pain..."
      ]
     },
     "execution_count": 88,
     "metadata": {},
     "output_type": "execute_result"
    }
   ],
   "source": [
    "ecommerce= pd.read_csv(\"ecommerce_dataset.csv\",  names=[\"category\", \"description\"],header=None)\n",
    "print(ecommerce.shape)\n",
    "ecommerce.head(3)"
   ]
  },
  {
   "cell_type": "markdown",
   "id": "1d19fd69",
   "metadata": {},
   "source": [
    "There is no nan values in the dataset."
   ]
  },
  {
   "cell_type": "code",
   "execution_count": 89,
   "id": "f84d890d",
   "metadata": {},
   "outputs": [
    {
     "data": {
      "text/plain": [
       "'Paper Plane Design Framed Wall Hanging Motivational Office Decor Art Prints (8.7 X 8.7 inch) - Set of 4 Painting made up in synthetic frame with uv textured print which gives multi effects and attracts towards it. This is an special series of paintings which makes your wall very beautiful and gives a royal touch. This painting is ready to hang, you would be proud to possess this unique painting that is a niche apart. We use only the most modern and efficient printing technology on our prints, with only the and inks and precision epson, roland and hp printers. This innovative hd printing technique results in durable and spectacular looking prints of the highest that last a lifetime. We print solely with top-notch 100% inks, to achieve brilliant and true colours. Due to their high level of uv resistance, our prints retain their beautiful colours for many years. Add colour and style to your living space with this digitally printed painting. Some are for pleasure and some for eternal bliss.so bring home this elegant print that is lushed with rich colors that makes it nothing but sheer elegance to be to your friends and family.it would be treasured forever by whoever your lucky recipient is. Liven up your place with these intriguing paintings that are high definition hd graphic digital prints for home, office or any room.'"
      ]
     },
     "execution_count": 89,
     "metadata": {},
     "output_type": "execute_result"
    }
   ],
   "source": [
    "ecommerce.description[0]"
   ]
  },
  {
   "cell_type": "code",
   "execution_count": null,
   "id": "4efb4c7d",
   "metadata": {},
   "outputs": [],
   "source": []
  },
  {
   "cell_type": "code",
   "execution_count": 90,
   "id": "c30a1708",
   "metadata": {},
   "outputs": [
    {
     "data": {
      "text/plain": [
       "category\n",
       "Household                 19313\n",
       "Books                     11820\n",
       "Electronics               10621\n",
       "Clothing & Accessories     8671\n",
       "Name: count, dtype: int64"
      ]
     },
     "execution_count": 90,
     "metadata": {},
     "output_type": "execute_result"
    }
   ],
   "source": [
    "# CHECKING THE LABEL COUNT\n",
    "ecommerce.category.value_counts()"
   ]
  },
  {
   "cell_type": "markdown",
   "id": "9efeba96",
   "metadata": {},
   "source": [
    "## Formatting & Preprocessing\n",
    "In FastText, adding a prefix like 'label' to each category and combining it with the text is a formatting requirement for supervised text classification. This prefix helps FastText recognize and distinguish between the category labels and the actual text during training. The combined format ensures that the model understands the association between the provided labels and their corresponding textual descriptions, allowing it to learn and make accurate predictions on new, unseen data."
   ]
  },
  {
   "cell_type": "code",
   "execution_count": 91,
   "id": "60a9d267",
   "metadata": {},
   "outputs": [
    {
     "data": {
      "text/html": [
       "<div>\n",
       "<style scoped>\n",
       "    .dataframe tbody tr th:only-of-type {\n",
       "        vertical-align: middle;\n",
       "    }\n",
       "\n",
       "    .dataframe tbody tr th {\n",
       "        vertical-align: top;\n",
       "    }\n",
       "\n",
       "    .dataframe thead th {\n",
       "        text-align: right;\n",
       "    }\n",
       "</style>\n",
       "<table border=\"1\" class=\"dataframe\">\n",
       "  <thead>\n",
       "    <tr style=\"text-align: right;\">\n",
       "      <th></th>\n",
       "      <th>category</th>\n",
       "      <th>description</th>\n",
       "      <th>category_description</th>\n",
       "    </tr>\n",
       "  </thead>\n",
       "  <tbody>\n",
       "    <tr>\n",
       "      <th>0</th>\n",
       "      <td>__label__Household</td>\n",
       "      <td>Paper Plane Design Framed Wall Hanging Motivat...</td>\n",
       "      <td>__label__Household Paper Plane Design Framed W...</td>\n",
       "    </tr>\n",
       "    <tr>\n",
       "      <th>1</th>\n",
       "      <td>__label__Household</td>\n",
       "      <td>SAF 'Floral' Framed Painting (Wood, 30 inch x ...</td>\n",
       "      <td>__label__Household SAF 'Floral' Framed Paintin...</td>\n",
       "    </tr>\n",
       "    <tr>\n",
       "      <th>2</th>\n",
       "      <td>__label__Household</td>\n",
       "      <td>SAF 'UV Textured Modern Art Print Framed' Pain...</td>\n",
       "      <td>__label__Household SAF 'UV Textured Modern Art...</td>\n",
       "    </tr>\n",
       "  </tbody>\n",
       "</table>\n",
       "</div>"
      ],
      "text/plain": [
       "             category                                        description  \\\n",
       "0  __label__Household  Paper Plane Design Framed Wall Hanging Motivat...   \n",
       "1  __label__Household  SAF 'Floral' Framed Painting (Wood, 30 inch x ...   \n",
       "2  __label__Household  SAF 'UV Textured Modern Art Print Framed' Pain...   \n",
       "\n",
       "                                category_description  \n",
       "0  __label__Household Paper Plane Design Framed W...  \n",
       "1  __label__Household SAF 'Floral' Framed Paintin...  \n",
       "2  __label__Household SAF 'UV Textured Modern Art...  "
      ]
     },
     "execution_count": 91,
     "metadata": {},
     "output_type": "execute_result"
    }
   ],
   "source": [
    "ecommerce.category.replace(\"Clothing & Accessories\", \"Clothing_Accessories\", inplace=True)\n",
    "ecommerce['category'] = '__label__' + ecommerce['category'].astype(str)\n",
    "ecommerce['category_description'] = ecommerce['category'] + ' ' + ecommerce['description']\n",
    "ecommerce.head(3)\n"
   ]
  },
  {
   "cell_type": "code",
   "execution_count": null,
   "id": "b4700d18",
   "metadata": {},
   "outputs": [],
   "source": []
  },
  {
   "cell_type": "code",
   "execution_count": 92,
   "id": "f357e5bf",
   "metadata": {},
   "outputs": [],
   "source": [
    "def preprocess(text):\n",
    "    text = re.sub(r'[^\\w\\s\\']',' ', text)\n",
    "    text = re.sub(' +', ' ', text)\n",
    "    return text.strip().lower() "
   ]
  },
  {
   "cell_type": "code",
   "execution_count": 95,
   "id": "ab76e058",
   "metadata": {},
   "outputs": [],
   "source": [
    "def preprocess(text):\n",
    "    if isinstance(text, str):\n",
    "        text = re.sub(r'[^\\w\\s\\']', ' ', text)\n",
    "        text = re.sub(' +', ' ', text)\n",
    "        return text.strip().lower()\n",
    "    else:\n",
    "        return str(text)"
   ]
  },
  {
   "cell_type": "code",
   "execution_count": 96,
   "id": "407baf2b",
   "metadata": {},
   "outputs": [
    {
     "data": {
      "text/html": [
       "<div>\n",
       "<style scoped>\n",
       "    .dataframe tbody tr th:only-of-type {\n",
       "        vertical-align: middle;\n",
       "    }\n",
       "\n",
       "    .dataframe tbody tr th {\n",
       "        vertical-align: top;\n",
       "    }\n",
       "\n",
       "    .dataframe thead th {\n",
       "        text-align: right;\n",
       "    }\n",
       "</style>\n",
       "<table border=\"1\" class=\"dataframe\">\n",
       "  <thead>\n",
       "    <tr style=\"text-align: right;\">\n",
       "      <th></th>\n",
       "      <th>category</th>\n",
       "      <th>description</th>\n",
       "      <th>category_description</th>\n",
       "    </tr>\n",
       "  </thead>\n",
       "  <tbody>\n",
       "    <tr>\n",
       "      <th>0</th>\n",
       "      <td>__label__Household</td>\n",
       "      <td>Paper Plane Design Framed Wall Hanging Motivat...</td>\n",
       "      <td>__label__household paper plane design framed w...</td>\n",
       "    </tr>\n",
       "    <tr>\n",
       "      <th>1</th>\n",
       "      <td>__label__Household</td>\n",
       "      <td>SAF 'Floral' Framed Painting (Wood, 30 inch x ...</td>\n",
       "      <td>__label__household saf 'floral' framed paintin...</td>\n",
       "    </tr>\n",
       "    <tr>\n",
       "      <th>2</th>\n",
       "      <td>__label__Household</td>\n",
       "      <td>SAF 'UV Textured Modern Art Print Framed' Pain...</td>\n",
       "      <td>__label__household saf 'uv textured modern art...</td>\n",
       "    </tr>\n",
       "    <tr>\n",
       "      <th>3</th>\n",
       "      <td>__label__Household</td>\n",
       "      <td>SAF Flower Print Framed Painting (Synthetic, 1...</td>\n",
       "      <td>__label__household saf flower print framed pai...</td>\n",
       "    </tr>\n",
       "    <tr>\n",
       "      <th>4</th>\n",
       "      <td>__label__Household</td>\n",
       "      <td>Incredible Gifts India Wooden Happy Birthday U...</td>\n",
       "      <td>__label__household incredible gifts india wood...</td>\n",
       "    </tr>\n",
       "  </tbody>\n",
       "</table>\n",
       "</div>"
      ],
      "text/plain": [
       "             category                                        description  \\\n",
       "0  __label__Household  Paper Plane Design Framed Wall Hanging Motivat...   \n",
       "1  __label__Household  SAF 'Floral' Framed Painting (Wood, 30 inch x ...   \n",
       "2  __label__Household  SAF 'UV Textured Modern Art Print Framed' Pain...   \n",
       "3  __label__Household  SAF Flower Print Framed Painting (Synthetic, 1...   \n",
       "4  __label__Household  Incredible Gifts India Wooden Happy Birthday U...   \n",
       "\n",
       "                                category_description  \n",
       "0  __label__household paper plane design framed w...  \n",
       "1  __label__household saf 'floral' framed paintin...  \n",
       "2  __label__household saf 'uv textured modern art...  \n",
       "3  __label__household saf flower print framed pai...  \n",
       "4  __label__household incredible gifts india wood...  "
      ]
     },
     "execution_count": 96,
     "metadata": {},
     "output_type": "execute_result"
    }
   ],
   "source": [
    "ecommerce['category_description'] = ecommerce['category_description'].map(preprocess)\n",
    "ecommerce.head()"
   ]
  },
  {
   "cell_type": "markdown",
   "id": "a6879357",
   "metadata": {},
   "source": [
    "## training the data"
   ]
  },
  {
   "cell_type": "code",
   "execution_count": 97,
   "id": "b8ec55fb",
   "metadata": {},
   "outputs": [],
   "source": [
    "from sklearn.model_selection import train_test_split\n",
    "\n",
    "train, test = train_test_split(ecommerce, test_size=0.2) # 20% test, 80% train"
   ]
  },
  {
   "cell_type": "code",
   "execution_count": 98,
   "id": "4524ab40",
   "metadata": {},
   "outputs": [
    {
     "data": {
      "text/plain": [
       "((40340, 3), (10085, 3))"
      ]
     },
     "execution_count": 98,
     "metadata": {},
     "output_type": "execute_result"
    }
   ],
   "source": [
    "train.shape, test.shape"
   ]
  },
  {
   "cell_type": "code",
   "execution_count": 99,
   "id": "c8504c5c",
   "metadata": {},
   "outputs": [],
   "source": [
    "# saving the train and test data on the local dir\n",
    "train.to_csv(\"ecommerce.train\", columns=[\"category_description\"], index=False, header=False)\n",
    "test.to_csv(\"ecommerce.test\", columns=[\"category_description\"], index=False, header=False)"
   ]
  },
  {
   "cell_type": "code",
   "execution_count": 100,
   "id": "51b0dfd3",
   "metadata": {},
   "outputs": [
    {
     "data": {
      "text/plain": [
       "(10084, 0.9686632288774296, 0.9686632288774296)"
      ]
     },
     "execution_count": 100,
     "metadata": {},
     "output_type": "execute_result"
    }
   ],
   "source": [
    "import fasttext\n",
    "\n",
    "model = fasttext.train_supervised(input=\"ecommerce.train\")\n",
    "model.test(\"ecommerce.test\")"
   ]
  },
  {
   "cell_type": "markdown",
   "id": "6c5393e8",
   "metadata": {},
   "source": [
    "First parameter (10084) is test size. Second and third parameters are precision and recall respectively. You can see we are getting around 96.8% precision which is pretty good. The precision value indicates the percentage of correctly predicted positive instances among all instances predicted as positive, while recall represents the percentage of correctly predicted positive instances among all actual positive instances. In this case, both precision and recall are approximately 96.84%, suggesting a high accuracy in predicting the correct categories for the given product descriptions.<br>\n",
    "\n",
    "Overall, the evaluation metrics reflect a robust performance of the FastText model in classifying product categories based on the provided textual data."
   ]
  },
  {
   "cell_type": "code",
   "execution_count": 102,
   "id": "1b89d208",
   "metadata": {},
   "outputs": [],
   "source": [
    "household=\"Modern LED Table Lamp with Adjustable Brightness and Color Temperature. This sleek and stylish lamp is perfect for illuminating your home office or study area. It features adjustable brightness settings and color temperature control, allowing you to create the perfect lighting environment for any task. The modern design and energy-efficient LED technology make it a great addition to your household.\"\n",
    "cloth=\"Fashionable Men's Casual Slim Fit Blazer Jacket. Elevate your style with this trendy blazer that combines sophistication with comfort. Made from high-quality materials, it offers a slim fit and modern design, making it a perfect choice for various occasions. Stay in vogue with this versatile clothing item that complements your wardrobe and enhances your overall look.\"\n",
    "electronics=\"Smart Home Security Camera System with HD Video Monitoring. Ensure the safety of your home with this advanced security camera system. Featuring high-definition video monitoring and smart connectivity, it allows you to keep an eye on your property remotely. Easy installation and user-friendly controls make it an essential electronic gadget for modern homes focused on security and convenience.\"\n",
    "book=\"Bestselling Mystery Novel - Whispers in the Shadows. Dive into the captivating world of suspense and intrigue with this bestselling mystery novel. Written by a renowned author, the book weaves a gripping tale of unexpected twists and turns. Immerse yourself in the thrilling narrative that keeps you on the edge of your seat, making it a must-read for book enthusiasts and mystery lovers alike.\"\n",
    "\n"
   ]
  },
  {
   "cell_type": "code",
   "execution_count": 104,
   "id": "2afb75bc",
   "metadata": {},
   "outputs": [
    {
     "data": {
      "text/plain": [
       "(('__label__books',), array([0.99954009]))"
      ]
     },
     "execution_count": 104,
     "metadata": {},
     "output_type": "execute_result"
    }
   ],
   "source": [
    "model.predict(\"Lord of the rings\")\n"
   ]
  },
  {
   "cell_type": "code",
   "execution_count": 105,
   "id": "56f8558f",
   "metadata": {},
   "outputs": [
    {
     "data": {
      "text/plain": [
       "(('__label__household',), array([0.9987278]))"
      ]
     },
     "execution_count": 105,
     "metadata": {},
     "output_type": "execute_result"
    }
   ],
   "source": [
    "model.predict(household)"
   ]
  },
  {
   "cell_type": "code",
   "execution_count": 106,
   "id": "f0718a1c",
   "metadata": {},
   "outputs": [
    {
     "data": {
      "text/plain": [
       "(('__label__clothing_accessories',), array([0.85875785]))"
      ]
     },
     "execution_count": 106,
     "metadata": {},
     "output_type": "execute_result"
    }
   ],
   "source": [
    "model.predict(cloth)"
   ]
  },
  {
   "cell_type": "code",
   "execution_count": 107,
   "id": "9c9fc465",
   "metadata": {},
   "outputs": [
    {
     "data": {
      "text/plain": [
       "(('__label__household',), array([0.9804548]))"
      ]
     },
     "execution_count": 107,
     "metadata": {},
     "output_type": "execute_result"
    }
   ],
   "source": [
    "model.predict(electronics)"
   ]
  },
  {
   "cell_type": "code",
   "execution_count": 108,
   "id": "ed83a3c0",
   "metadata": {},
   "outputs": [
    {
     "data": {
      "text/plain": [
       "(('__label__books',), array([0.9899534]))"
      ]
     },
     "execution_count": 108,
     "metadata": {},
     "output_type": "execute_result"
    }
   ],
   "source": [
    "model.predict(book)"
   ]
  },
  {
   "cell_type": "markdown",
   "id": "a2a336c8",
   "metadata": {},
   "source": [
    "# Conclusion\n",
    "\n",
    "In this project, we explored the capabilities of FastText for both unsupervised and supervised machine learning tasks in the context of text identification. FastText demonstrated its effectiveness in capturing word similarities and learning meaningful representations through unsupervised training. Additionally, we utilized a pre-trained FastText model on a generic dataset and later fine-tuned it on an e-commerce dataset for specific applications.\n",
    "\n",
    "### Unsupervised Learning:\n",
    "We initially examined the word similarities based on a pre-trained FastText model, specifically focusing on the word 'table.' The model successfully identified similar words, such as 'tables' and 'tablecloth,' showcasing its ability to capture semantic relationships. After training the model on our e-commerce dataset, we observed improvements, with the model now associating words like 'dining' and 'placemats,' indicating a better understanding of domain-specific language.\n",
    "\n",
    "### Supervised Learning:\n",
    "In the supervised learning phase, we employed FastText to predict product categories based on their descriptions. The model achieved a high precision of approximately 96.8%, indicating its accuracy in categorizing products. Examples of predicting categories for input texts further demonstrated the model's capability to assign relevant labels.\n",
    "\n",
    "## Areas for Improvement:\n",
    "1. **Hyperparameter Tuning:** Experimenting with different hyperparameter settings during model training can significantly impact performance. Parameters such as epochs, learning rate, and the number of dimensions in word vectors could be fine-tuned for optimal results.\n",
    "\n",
    "2. **Dataset Size:** Increasing the size of the dataset for supervised learning could potentially improve model generalization. A larger and more diverse dataset may capture a broader range of language nuances and improve the model's ability to handle various product categories.\n",
    "\n",
    "3. **Model Evaluation:** While our model achieved high precision, exploring additional evaluation metrics like recall, F1 score, or utilizing techniques like cross-validation can provide a more comprehensive understanding of the model's overall performance.\n",
    "\n",
    "4. **Domain-Specific Embeddings:** Consider exploring domain-specific pre-trained embeddings or training embeddings on a larger and more relevant e-commerce dataset. This may further enhance the model's understanding of domain-specific language.\n",
    "\n",
    "Continuing to iterate on these aspects and experimenting with different configurations will likely lead to an even more robust and accurate text identification model."
   ]
  },
  {
   "cell_type": "code",
   "execution_count": null,
   "id": "b58896e6",
   "metadata": {},
   "outputs": [],
   "source": []
  }
 ],
 "metadata": {
  "kernelspec": {
   "display_name": "Python 3 (ipykernel)",
   "language": "python",
   "name": "python3"
  },
  "language_info": {
   "codemirror_mode": {
    "name": "ipython",
    "version": 3
   },
   "file_extension": ".py",
   "mimetype": "text/x-python",
   "name": "python",
   "nbconvert_exporter": "python",
   "pygments_lexer": "ipython3",
   "version": "3.11.7"
  },
  "toc": {
   "base_numbering": 1,
   "nav_menu": {},
   "number_sections": true,
   "sideBar": true,
   "skip_h1_title": false,
   "title_cell": "Table of Contents",
   "title_sidebar": "Contents",
   "toc_cell": false,
   "toc_position": {
    "height": "calc(100% - 180px)",
    "left": "10px",
    "top": "150px",
    "width": "250.188px"
   },
   "toc_section_display": true,
   "toc_window_display": true
  }
 },
 "nbformat": 4,
 "nbformat_minor": 5
}
