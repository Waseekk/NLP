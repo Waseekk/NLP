{
 "cells": [
  {
   "cell_type": "markdown",
   "id": "21a105e0",
   "metadata": {},
   "source": []
  },
  {
   "cell_type": "markdown",
   "id": "396224f7",
   "metadata": {},
   "source": [
    "# Introduction\n",
    "FastText is a popular open-source, free, lightweight library that allows users to learn text representations and perform text classification tasks efficiently. It was developed by Facebook's AI Research (FAIR) lab. FastText is known for its speed and ability to handle large datasets.<p>\n",
    "\n",
    "FastText primarily supports supervised learning, where a model is trained on labeled data to make predictions on new, unseen data. However, it doesn't have built-in functionality for unsupervised learning. In unsupervised learning, the algorithm doesn't have labeled data and aims to find patterns or representations within the data.<p>\n",
    "\n",
    "That said, you can use FastText for unsupervised tasks by leveraging its ability to learn word embeddings. The unsupervised approach often involves training FastText on a large corpus to learn word representations and then using those embeddings for downstream tasks or analysis.<p>\n",
    "\n",
    "In this notebook, We will explore two small project on fasttext - supervised and unsupervised machine learning for text identification in fasttext. Fasttext is pre trained word vectors on 'Common Crawl' and 'Wikipedia'. We can learn more about fasttext on https://fasttext.cc/docs/en/crawl-vectors.html"
   ]
  },
  {
   "cell_type": "code",
   "execution_count": null,
   "id": "34fcb212",
   "metadata": {},
   "outputs": [],
   "source": []
  },
  {
   "cell_type": "code",
   "execution_count": 30,
   "id": "293b7285",
   "metadata": {},
   "outputs": [],
   "source": [
    "#pip install fasttext\n",
    "#pip install fasttext-wheel\n"
   ]
  },
  {
   "cell_type": "markdown",
   "id": "f1512036",
   "metadata": {},
   "source": [
    "# Unsupervised Model Training \n",
    "In unsupervised learning with FastText, the model is trained on unlabeled data to learn meaningful representations of words or phrases. FastText employs techniques such as skip-gram to capture semantic relationships and similarities between words. This unsupervised approach is valuable for tasks like word embedding generation, semantic similarity analysis, and clustering, where the model extracts patterns and structures from data without relying on predefined labels.\n",
    "\n",
    "\n",
    "<p>\n",
    "\n",
    "In this section we will first load the fasttext model then train in on south asian food recipe dataset so that the model can better understand the regional food name or its ingredients. They can "
   ]
  },
  {
   "cell_type": "code",
   "execution_count": 1,
   "id": "8b634407",
   "metadata": {},
   "outputs": [],
   "source": [
    "import fasttext"
   ]
  },
  {
   "cell_type": "code",
   "execution_count": 2,
   "id": "46d4919e",
   "metadata": {},
   "outputs": [],
   "source": [
    "model_en = fasttext.load_model('G:\\\\2024\\\\NLP\\\\cc.en.300.bin\\\\cc.en.300.bin') # fastText wikipedia dataset"
   ]
  },
  {
   "cell_type": "markdown",
   "id": "02c1a6d7",
   "metadata": {},
   "source": [
    "Let's say we want to know the similar word or the words that are most related to a specific word,say 'kheer'. 'kheer' is a kind of Rice Pudding type south asian cuisine and sweet dish"
   ]
  },
  {
   "cell_type": "code",
   "execution_count": 19,
   "id": "6ffac3d8",
   "metadata": {},
   "outputs": [
    {
     "data": {
      "text/plain": [
       "[(0.856397807598114, 'halwa'),\n",
       " (0.8488601446151733, 'payasam'),\n",
       " (0.8202382326126099, 'Kheer'),\n",
       " (0.7866618633270264, 'rabdi'),\n",
       " (0.7792357802391052, 'burfi'),\n",
       " (0.7742787599563599, 'kesari'),\n",
       " (0.7710885405540466, 'khichdi'),\n",
       " (0.7663241028785706, 'laddoo'),\n",
       " (0.7605330348014832, 'Payasam'),\n",
       " (0.7598305344581604, 'phirni')]"
      ]
     },
     "execution_count": 19,
     "metadata": {},
     "output_type": "execute_result"
    }
   ],
   "source": [
    "model_en.get_nearest_neighbors('kheer') # kheer is a south asian sweet "
   ]
  },
  {
   "cell_type": "markdown",
   "id": "c71124b3",
   "metadata": {},
   "source": [
    "The get_nearest_neighbors method in FastText calculates the nearest neighbors of a given word based on the learned word vectors in the model. The similarity between words is determined by the cosine similarity between their vectors. Here all other names are sweet ingredients of south asian. we can see the closet vectors of the words."
   ]
  },
  {
   "cell_type": "code",
   "execution_count": 4,
   "id": "f346d51d",
   "metadata": {},
   "outputs": [],
   "source": [
    "#dir(model_en)"
   ]
  },
  {
   "cell_type": "code",
   "execution_count": 8,
   "id": "ed7f4a38",
   "metadata": {},
   "outputs": [
    {
     "name": "stdout",
     "output_type": "stream",
     "text": [
      "Help on method get_analogies in module fasttext.FastText:\n",
      "\n",
      "get_analogies(wordA, wordB, wordC, k=10, on_unicode_error='strict') method of fasttext.FastText._FastText instance\n",
      "\n"
     ]
    }
   ],
   "source": [
    "#help(model_en.get_analogies)"
   ]
  },
  {
   "cell_type": "code",
   "execution_count": 5,
   "id": "62ed77cf",
   "metadata": {},
   "outputs": [
    {
     "data": {
      "text/plain": [
       "[(0.5573194622993469, 'drives'),\n",
       " (0.5201934576034546, 'dirve'),\n",
       " (0.49024200439453125, 'drive.I'),\n",
       " (0.48620370030403137, 'drive.It'),\n",
       " (0.4767036736011505, 'drive.You'),\n",
       " (0.4736213684082031, 'drive.This'),\n",
       " (0.47208210825920105, 'drive.As'),\n",
       " (0.46843627095222473, 'drive.The'),\n",
       " (0.46421313285827637, 'drive.So'),\n",
       " (0.46390312910079956, 'drive.And')]"
      ]
     },
     "execution_count": 5,
     "metadata": {},
     "output_type": "execute_result"
    }
   ],
   "source": [
    "#The method tries to find a word that is related to 'driver' in the same way as 'sailor' is related to 'ship'.\n",
    "model_en.get_analogies(\"ship \",\"sailor \",\"drive\")"
   ]
  },
  {
   "cell_type": "code",
   "execution_count": 18,
   "id": "6a4b1cb9",
   "metadata": {},
   "outputs": [
    {
     "data": {
      "text/plain": [
       "300"
      ]
     },
     "execution_count": 18,
     "metadata": {},
     "output_type": "execute_result"
    }
   ],
   "source": [
    "model_en.get_dimension()"
   ]
  },
  {
   "cell_type": "markdown",
   "id": "4c3386e0",
   "metadata": {},
   "source": [
    "## Unsupervised Learning\n",
    "In this section, We will train out fasttext model on south asian food recipe. Then we will observe if the model is trained to find specific words based on our model. At first lets examine the results of the pre trained fasttext model to get the similar words of 'payesh'. We can get the nearest vectors of payesh by calling <code>.get_nearest_neighbors</code> on 'payesh', which is also a type of sweet dish. We can check it again after training the model on our dataset."
   ]
  },
  {
   "cell_type": "code",
   "execution_count": 27,
   "id": "477588a1",
   "metadata": {},
   "outputs": [],
   "source": [
    "nearest_neighbors_model_en = model_en.get_nearest_neighbors('payesh')"
   ]
  },
  {
   "cell_type": "code",
   "execution_count": 30,
   "id": "1cd05480",
   "metadata": {},
   "outputs": [
    {
     "data": {
      "text/html": [
       "<div>\n",
       "<style scoped>\n",
       "    .dataframe tbody tr th:only-of-type {\n",
       "        vertical-align: middle;\n",
       "    }\n",
       "\n",
       "    .dataframe tbody tr th {\n",
       "        vertical-align: top;\n",
       "    }\n",
       "\n",
       "    .dataframe thead th {\n",
       "        text-align: right;\n",
       "    }\n",
       "</style>\n",
       "<table border=\"1\" class=\"dataframe\">\n",
       "  <thead>\n",
       "    <tr style=\"text-align: right;\">\n",
       "      <th></th>\n",
       "      <th>Similarity</th>\n",
       "      <th>Word</th>\n",
       "    </tr>\n",
       "  </thead>\n",
       "  <tbody>\n",
       "    <tr>\n",
       "      <th>0</th>\n",
       "      <td>0.782398</td>\n",
       "      <td>Payesh</td>\n",
       "    </tr>\n",
       "    <tr>\n",
       "      <th>1</th>\n",
       "      <td>0.743830</td>\n",
       "      <td>kheer</td>\n",
       "    </tr>\n",
       "    <tr>\n",
       "      <th>2</th>\n",
       "      <td>0.737900</td>\n",
       "      <td>payasa</td>\n",
       "    </tr>\n",
       "    <tr>\n",
       "      <th>3</th>\n",
       "      <td>0.726549</td>\n",
       "      <td>luchi</td>\n",
       "    </tr>\n",
       "    <tr>\n",
       "      <th>4</th>\n",
       "      <td>0.724554</td>\n",
       "      <td>mawa</td>\n",
       "    </tr>\n",
       "    <tr>\n",
       "      <th>5</th>\n",
       "      <td>0.724183</td>\n",
       "      <td>rabdi</td>\n",
       "    </tr>\n",
       "    <tr>\n",
       "      <th>6</th>\n",
       "      <td>0.723011</td>\n",
       "      <td>payasam</td>\n",
       "    </tr>\n",
       "    <tr>\n",
       "      <th>7</th>\n",
       "      <td>0.722865</td>\n",
       "      <td>rasmalai</td>\n",
       "    </tr>\n",
       "    <tr>\n",
       "      <th>8</th>\n",
       "      <td>0.717786</td>\n",
       "      <td>bhaat</td>\n",
       "    </tr>\n",
       "    <tr>\n",
       "      <th>9</th>\n",
       "      <td>0.713453</td>\n",
       "      <td>halwa</td>\n",
       "    </tr>\n",
       "  </tbody>\n",
       "</table>\n",
       "</div>"
      ],
      "text/plain": [
       "   Similarity      Word\n",
       "0    0.782398    Payesh\n",
       "1    0.743830     kheer\n",
       "2    0.737900    payasa\n",
       "3    0.726549     luchi\n",
       "4    0.724554      mawa\n",
       "5    0.724183     rabdi\n",
       "6    0.723011   payasam\n",
       "7    0.722865  rasmalai\n",
       "8    0.717786     bhaat\n",
       "9    0.713453     halwa"
      ]
     },
     "execution_count": 30,
     "metadata": {},
     "output_type": "execute_result"
    }
   ],
   "source": [
    "df_model_en = pd.DataFrame(nearest_neighbors_model_en, columns=['Similarity', 'Word'])\n",
    "df_model_en"
   ]
  },
  {
   "cell_type": "code",
   "execution_count": 20,
   "id": "e545f2a6",
   "metadata": {},
   "outputs": [
    {
     "data": {
      "text/plain": [
       "-816025"
      ]
     },
     "execution_count": 20,
     "metadata": {},
     "output_type": "execute_result"
    }
   ],
   "source": [
    "# we can also get the id of any specific word\n",
    "model_en.get_label_id('payesh')"
   ]
  },
  {
   "cell_type": "code",
   "execution_count": 22,
   "id": "12454388",
   "metadata": {},
   "outputs": [
    {
     "name": "stdout",
     "output_type": "stream",
     "text": [
      "(5938, 9)\n"
     ]
    },
    {
     "data": {
      "text/html": [
       "<div>\n",
       "<style scoped>\n",
       "    .dataframe tbody tr th:only-of-type {\n",
       "        vertical-align: middle;\n",
       "    }\n",
       "\n",
       "    .dataframe tbody tr th {\n",
       "        vertical-align: top;\n",
       "    }\n",
       "\n",
       "    .dataframe thead th {\n",
       "        text-align: right;\n",
       "    }\n",
       "</style>\n",
       "<table border=\"1\" class=\"dataframe\">\n",
       "  <thead>\n",
       "    <tr style=\"text-align: right;\">\n",
       "      <th></th>\n",
       "      <th>TranslatedRecipeName</th>\n",
       "      <th>TranslatedIngredients</th>\n",
       "      <th>TotalTimeInMins</th>\n",
       "      <th>Cuisine</th>\n",
       "      <th>TranslatedInstructions</th>\n",
       "      <th>URL</th>\n",
       "      <th>Cleaned-Ingredients</th>\n",
       "      <th>image-url</th>\n",
       "      <th>Ingredient-count</th>\n",
       "    </tr>\n",
       "  </thead>\n",
       "  <tbody>\n",
       "    <tr>\n",
       "      <th>0</th>\n",
       "      <td>Masala Karela Recipe</td>\n",
       "      <td>1 tablespoon Red Chilli powder,3 tablespoon Gr...</td>\n",
       "      <td>45</td>\n",
       "      <td>Indian</td>\n",
       "      <td>To begin making the Masala Karela Recipe,de-se...</td>\n",
       "      <td>https://www.archanaskitchen.com/masala-karela-...</td>\n",
       "      <td>salt,amchur (dry mango powder),karela (bitter ...</td>\n",
       "      <td>https://www.archanaskitchen.com/images/archana...</td>\n",
       "      <td>10</td>\n",
       "    </tr>\n",
       "    <tr>\n",
       "      <th>1</th>\n",
       "      <td>Spicy Tomato Rice (Recipe)</td>\n",
       "      <td>2 teaspoon cashew - or peanuts, 1/2 Teaspoon ...</td>\n",
       "      <td>15</td>\n",
       "      <td>South Indian Recipes</td>\n",
       "      <td>To make tomato puliogere, first cut the tomato...</td>\n",
       "      <td>https://www.archanaskitchen.com/spicy-tomato-r...</td>\n",
       "      <td>tomato,salt,chickpea lentils,green chilli,rice...</td>\n",
       "      <td>https://www.archanaskitchen.com/images/archana...</td>\n",
       "      <td>12</td>\n",
       "    </tr>\n",
       "    <tr>\n",
       "      <th>2</th>\n",
       "      <td>Ragi Semiya Upma Recipe - Ragi Millet Vermicel...</td>\n",
       "      <td>1 Onion - sliced,1 teaspoon White Urad Dal (Sp...</td>\n",
       "      <td>50</td>\n",
       "      <td>South Indian Recipes</td>\n",
       "      <td>To begin making the Ragi Vermicelli Recipe, fi...</td>\n",
       "      <td>https://www.archanaskitchen.com/ragi-vermicell...</td>\n",
       "      <td>salt,rice vermicelli noodles (thin),asafoetida...</td>\n",
       "      <td>https://www.archanaskitchen.com/images/archana...</td>\n",
       "      <td>12</td>\n",
       "    </tr>\n",
       "    <tr>\n",
       "      <th>3</th>\n",
       "      <td>Gongura Chicken Curry Recipe - Andhra Style Go...</td>\n",
       "      <td>1/2 teaspoon Turmeric powder (Haldi),1 tablesp...</td>\n",
       "      <td>45</td>\n",
       "      <td>Andhra</td>\n",
       "      <td>To begin making Gongura Chicken Curry Recipe f...</td>\n",
       "      <td>https://www.archanaskitchen.com/gongura-chicke...</td>\n",
       "      <td>tomato,salt,ginger,sorrel leaves (gongura),fen...</td>\n",
       "      <td>https://www.archanaskitchen.com/images/archana...</td>\n",
       "      <td>15</td>\n",
       "    </tr>\n",
       "    <tr>\n",
       "      <th>4</th>\n",
       "      <td>Andhra Style Alam Pachadi Recipe - Adrak Chutn...</td>\n",
       "      <td>oil - as per use, 1 tablespoon coriander seed...</td>\n",
       "      <td>30</td>\n",
       "      <td>Andhra</td>\n",
       "      <td>To make Andhra Style Alam Pachadi, first heat ...</td>\n",
       "      <td>https://www.archanaskitchen.com/andhra-style-a...</td>\n",
       "      <td>tomato,salt,ginger,red chillies,curry,asafoeti...</td>\n",
       "      <td>https://www.archanaskitchen.com/images/archana...</td>\n",
       "      <td>12</td>\n",
       "    </tr>\n",
       "  </tbody>\n",
       "</table>\n",
       "</div>"
      ],
      "text/plain": [
       "                                TranslatedRecipeName  \\\n",
       "0                               Masala Karela Recipe   \n",
       "1                         Spicy Tomato Rice (Recipe)   \n",
       "2  Ragi Semiya Upma Recipe - Ragi Millet Vermicel...   \n",
       "3  Gongura Chicken Curry Recipe - Andhra Style Go...   \n",
       "4  Andhra Style Alam Pachadi Recipe - Adrak Chutn...   \n",
       "\n",
       "                               TranslatedIngredients  TotalTimeInMins  \\\n",
       "0  1 tablespoon Red Chilli powder,3 tablespoon Gr...               45   \n",
       "1   2 teaspoon cashew - or peanuts, 1/2 Teaspoon ...               15   \n",
       "2  1 Onion - sliced,1 teaspoon White Urad Dal (Sp...               50   \n",
       "3  1/2 teaspoon Turmeric powder (Haldi),1 tablesp...               45   \n",
       "4   oil - as per use, 1 tablespoon coriander seed...               30   \n",
       "\n",
       "                Cuisine                             TranslatedInstructions  \\\n",
       "0                Indian  To begin making the Masala Karela Recipe,de-se...   \n",
       "1  South Indian Recipes  To make tomato puliogere, first cut the tomato...   \n",
       "2  South Indian Recipes  To begin making the Ragi Vermicelli Recipe, fi...   \n",
       "3                Andhra  To begin making Gongura Chicken Curry Recipe f...   \n",
       "4                Andhra  To make Andhra Style Alam Pachadi, first heat ...   \n",
       "\n",
       "                                                 URL  \\\n",
       "0  https://www.archanaskitchen.com/masala-karela-...   \n",
       "1  https://www.archanaskitchen.com/spicy-tomato-r...   \n",
       "2  https://www.archanaskitchen.com/ragi-vermicell...   \n",
       "3  https://www.archanaskitchen.com/gongura-chicke...   \n",
       "4  https://www.archanaskitchen.com/andhra-style-a...   \n",
       "\n",
       "                                 Cleaned-Ingredients  \\\n",
       "0  salt,amchur (dry mango powder),karela (bitter ...   \n",
       "1  tomato,salt,chickpea lentils,green chilli,rice...   \n",
       "2  salt,rice vermicelli noodles (thin),asafoetida...   \n",
       "3  tomato,salt,ginger,sorrel leaves (gongura),fen...   \n",
       "4  tomato,salt,ginger,red chillies,curry,asafoeti...   \n",
       "\n",
       "                                           image-url  Ingredient-count  \n",
       "0  https://www.archanaskitchen.com/images/archana...                10  \n",
       "1  https://www.archanaskitchen.com/images/archana...                12  \n",
       "2  https://www.archanaskitchen.com/images/archana...                12  \n",
       "3  https://www.archanaskitchen.com/images/archana...                15  \n",
       "4  https://www.archanaskitchen.com/images/archana...                12  "
      ]
     },
     "execution_count": 22,
     "metadata": {},
     "output_type": "execute_result"
    }
   ],
   "source": [
    "import pandas as pd\n",
    "\n",
    "food = pd.read_csv(\"Cleaned_Indian_Food_Dataset.csv\")\n",
    "print(food.shape)\n",
    "food.head(5)"
   ]
  },
  {
   "cell_type": "code",
   "execution_count": 32,
   "id": "994db6a7",
   "metadata": {},
   "outputs": [
    {
     "data": {
      "text/plain": [
       "'To begin making the Masala Karela Recipe,de-seed the karela and slice.\\nDo not remove the skin as the skin has all the nutrients.\\nAdd the karela to the pressure cooker with 3 tablespoon of water, salt and turmeric powder and pressure cook for three whistles.\\nRelease the pressure immediately and open the lids.\\nKeep aside.Heat oil in a heavy bottomed pan or a kadhai.\\nAdd cumin seeds and let it sizzle.Once the cumin seeds have sizzled, add onions and saute them till it turns golden brown in color.Add the karela, red chilli powder, amchur powder, coriander powder and besan.\\nStir to combine the masalas into the karela.Drizzle a little extra oil on the top and mix again.\\nCover the pan and simmer Masala Karela stirring occasionally until everything comes together well.\\nTurn off the heat.Transfer Masala Karela into a serving bowl and serve.Serve Masala Karela along with Panchmel Dal and Phulka for a weekday meal with your family.\\n'"
      ]
     },
     "execution_count": 32,
     "metadata": {},
     "output_type": "execute_result"
    }
   ],
   "source": [
    "# see the instructions of the recipe\n",
    "df.TranslatedInstructions[0]"
   ]
  },
  {
   "cell_type": "markdown",
   "id": "5f5abd80",
   "metadata": {},
   "source": [
    "### preprocessing"
   ]
  },
  {
   "cell_type": "code",
   "execution_count": 23,
   "id": "0ad54600",
   "metadata": {},
   "outputs": [],
   "source": [
    "import re\n",
    "from nltk.tokenize import word_tokenize\n",
    "from nltk.corpus import stopwords\n",
    "\n",
    "def preprocess(text):\n",
    "    # Remove URLs\n",
    "    text = re.sub(r'http\\S+', '', text)\n",
    "\n",
    "    # Remove punctuation\n",
    "    text = re.sub(r'[^\\w\\s]', '', text)\n",
    "\n",
    "    # Tokenize\n",
    "    tokens = word_tokenize(text)\n",
    "\n",
    "    # Remove stop words\n",
    "    stop_words = set(stopwords.words('english'))\n",
    "    tokens = [token.lower() for token in tokens if token.lower() not in stop_words]\n",
    "\n",
    "    return ' '.join(tokens)"
   ]
  },
  {
   "cell_type": "markdown",
   "id": "5571a09e",
   "metadata": {},
   "source": [
    "Now we will apply the preprocess function of data instructions column. FastText expects its input data to be in the form of a text file where each line represents a document or a piece of text."
   ]
  },
  {
   "cell_type": "code",
   "execution_count": 24,
   "id": "75d35739",
   "metadata": {},
   "outputs": [
    {
     "name": "stdout",
     "output_type": "stream",
     "text": [
      "[(0.878330409526825, 'nolen'), (0.8532389998435974, 'dudh'), (0.8402368426322937, 'gilefirdaus'), (0.8105514645576477, 'mishti'), (0.8076498508453369, 'paal'), (0.8022317290306091, 'pradesh'), (0.7958285212516785, 'paan'), (0.7909544706344604, 'ganesh'), (0.7895087599754333, 'paani'), (0.7852368950843811, 'pradhaman')]\n"
     ]
    }
   ],
   "source": [
    "# Apply preprocessing to TranslatedInstructions column\n",
    "df['TranslatedInstructions'] = df['TranslatedInstructions'].map(preprocess)\n",
    "\n",
    "# Save the preprocessed data to a text file\n",
    "df.to_csv(\"food_recipes.txt\", columns=[\"TranslatedInstructions\"], header=None, index=False)\n",
    "\n",
    "# Train a FastText model on the preprocessed data\n",
    "model = fasttext.train_unsupervised(\"food_recipes.txt\")\n",
    "\n",
    "# Get the nearest neighbors for the word \"paneer\" in the trained model\n",
    "nearest_neighbors = model.get_nearest_neighbors(\"payesh\")\n",
    "\n",
    "# Print the nearest neighbors\n",
    "print(nearest_neighbors)"
   ]
  },
  {
   "cell_type": "markdown",
   "id": "687e8a3d",
   "metadata": {},
   "source": [
    "[https://fasttext.cc/docs/en/unsupervised-tutorial.html](https://fasttext.cc/docs/en/unsupervised-tutorial.html) for details on parameters in `train_unsupervised` function. Based on the need, one can use the following parameters for fine-tuning:\n",
    "\n",
    "- `epochs`: Default value is 5. Epoch is how many times it will loop over the same dataset for the training.\n",
    "- `lr`: Learning rate.\n",
    "- `thread`: Number of threads for the training.\n"
   ]
  },
  {
   "cell_type": "code",
   "execution_count": 31,
   "id": "f224f7db",
   "metadata": {},
   "outputs": [
    {
     "data": {
      "text/html": [
       "<div>\n",
       "<style scoped>\n",
       "    .dataframe tbody tr th:only-of-type {\n",
       "        vertical-align: middle;\n",
       "    }\n",
       "\n",
       "    .dataframe tbody tr th {\n",
       "        vertical-align: top;\n",
       "    }\n",
       "\n",
       "    .dataframe thead th {\n",
       "        text-align: right;\n",
       "    }\n",
       "</style>\n",
       "<table border=\"1\" class=\"dataframe\">\n",
       "  <thead>\n",
       "    <tr style=\"text-align: right;\">\n",
       "      <th></th>\n",
       "      <th>Similarity</th>\n",
       "      <th>Word</th>\n",
       "    </tr>\n",
       "  </thead>\n",
       "  <tbody>\n",
       "    <tr>\n",
       "      <th>0</th>\n",
       "      <td>0.878330</td>\n",
       "      <td>nolen</td>\n",
       "    </tr>\n",
       "    <tr>\n",
       "      <th>1</th>\n",
       "      <td>0.853239</td>\n",
       "      <td>dudh</td>\n",
       "    </tr>\n",
       "    <tr>\n",
       "      <th>2</th>\n",
       "      <td>0.840237</td>\n",
       "      <td>gilefirdaus</td>\n",
       "    </tr>\n",
       "    <tr>\n",
       "      <th>3</th>\n",
       "      <td>0.810551</td>\n",
       "      <td>mishti</td>\n",
       "    </tr>\n",
       "    <tr>\n",
       "      <th>4</th>\n",
       "      <td>0.807650</td>\n",
       "      <td>paal</td>\n",
       "    </tr>\n",
       "    <tr>\n",
       "      <th>5</th>\n",
       "      <td>0.802232</td>\n",
       "      <td>pradesh</td>\n",
       "    </tr>\n",
       "    <tr>\n",
       "      <th>6</th>\n",
       "      <td>0.795829</td>\n",
       "      <td>paan</td>\n",
       "    </tr>\n",
       "    <tr>\n",
       "      <th>7</th>\n",
       "      <td>0.790954</td>\n",
       "      <td>ganesh</td>\n",
       "    </tr>\n",
       "    <tr>\n",
       "      <th>8</th>\n",
       "      <td>0.789509</td>\n",
       "      <td>paani</td>\n",
       "    </tr>\n",
       "    <tr>\n",
       "      <th>9</th>\n",
       "      <td>0.785237</td>\n",
       "      <td>pradhaman</td>\n",
       "    </tr>\n",
       "  </tbody>\n",
       "</table>\n",
       "</div>"
      ],
      "text/plain": [
       "   Similarity         Word\n",
       "0    0.878330        nolen\n",
       "1    0.853239         dudh\n",
       "2    0.840237  gilefirdaus\n",
       "3    0.810551       mishti\n",
       "4    0.807650         paal\n",
       "5    0.802232      pradesh\n",
       "6    0.795829         paan\n",
       "7    0.790954       ganesh\n",
       "8    0.789509        paani\n",
       "9    0.785237    pradhaman"
      ]
     },
     "execution_count": 31,
     "metadata": {},
     "output_type": "execute_result"
    }
   ],
   "source": [
    "nearest_neighbors_model = model.get_nearest_neighbors('payesh')\n",
    "df_model = pd.DataFrame(nearest_neighbors_model, columns=['Similarity', 'Word'])\n",
    "df_model"
   ]
  },
  {
   "cell_type": "markdown",
   "id": "720efac3",
   "metadata": {},
   "source": [
    "### Comparing\n",
    "Now comparing the result before and after training the model we can get"
   ]
  },
  {
   "cell_type": "code",
   "execution_count": 38,
   "id": "fcdeb85c",
   "metadata": {},
   "outputs": [
    {
     "name": "stdout",
     "output_type": "stream",
     "text": [
      "    Similarity_model_en(before)         Word  Similarity_model(after)\n",
      "0                      0.782398       Payesh                      NaN\n",
      "1                      0.743830        kheer                      NaN\n",
      "2                      0.737900       payasa                      NaN\n",
      "3                      0.726549        luchi                      NaN\n",
      "4                      0.724554         mawa                      NaN\n",
      "5                      0.724183        rabdi                      NaN\n",
      "6                      0.723011      payasam                      NaN\n",
      "7                      0.722865     rasmalai                      NaN\n",
      "8                      0.717786        bhaat                      NaN\n",
      "9                      0.713453        halwa                      NaN\n",
      "10                          NaN        nolen                 0.878330\n",
      "11                          NaN         dudh                 0.853239\n",
      "12                          NaN  gilefirdaus                 0.840237\n",
      "13                          NaN       mishti                 0.810551\n",
      "14                          NaN         paal                 0.807650\n",
      "15                          NaN      pradesh                 0.802232\n",
      "16                          NaN         paan                 0.795829\n",
      "17                          NaN       ganesh                 0.790954\n",
      "18                          NaN        paani                 0.789509\n",
      "19                          NaN    pradhaman                 0.785237\n"
     ]
    }
   ],
   "source": [
    "df_comparison = pd.merge(df_model_en, df_model, on='Word', suffixes=('_model_en(before)', '_model(after)'), how='outer')\n",
    "\n",
    "# Print or display the comparison DataFrame\n",
    "print(df_comparison)"
   ]
  },
  {
   "cell_type": "markdown",
   "id": "fda27ac1",
   "metadata": {},
   "source": [
    "# Supervised Model Training\n",
    "In supervised learning with FastText, the model is trained on a labeled dataset, where each text sample is associated with a predefined category or label. FastText efficiently learns text representations by considering subword information, allowing it to capture morphological and semantic features. The trained model can then classify new, unseen text samples into predefined categories based on the learned representations, making it suitable for tasks such as text classification, sentiment analysis, and topic categorization.<p>\n",
    "    \n",
    "Here, We are using ecommerce dataset to predict the label/class of a item where it belongs."
   ]
  },
  {
   "cell_type": "code",
   "execution_count": 39,
   "id": "6354f687",
   "metadata": {},
   "outputs": [
    {
     "name": "stdout",
     "output_type": "stream",
     "text": [
      "(50425, 2)\n"
     ]
    },
    {
     "data": {
      "text/html": [
       "<div>\n",
       "<style scoped>\n",
       "    .dataframe tbody tr th:only-of-type {\n",
       "        vertical-align: middle;\n",
       "    }\n",
       "\n",
       "    .dataframe tbody tr th {\n",
       "        vertical-align: top;\n",
       "    }\n",
       "\n",
       "    .dataframe thead th {\n",
       "        text-align: right;\n",
       "    }\n",
       "</style>\n",
       "<table border=\"1\" class=\"dataframe\">\n",
       "  <thead>\n",
       "    <tr style=\"text-align: right;\">\n",
       "      <th></th>\n",
       "      <th>category</th>\n",
       "      <th>description</th>\n",
       "    </tr>\n",
       "  </thead>\n",
       "  <tbody>\n",
       "    <tr>\n",
       "      <th>0</th>\n",
       "      <td>Household</td>\n",
       "      <td>Paper Plane Design Framed Wall Hanging Motivat...</td>\n",
       "    </tr>\n",
       "    <tr>\n",
       "      <th>1</th>\n",
       "      <td>Household</td>\n",
       "      <td>SAF 'Floral' Framed Painting (Wood, 30 inch x ...</td>\n",
       "    </tr>\n",
       "    <tr>\n",
       "      <th>2</th>\n",
       "      <td>Household</td>\n",
       "      <td>SAF 'UV Textured Modern Art Print Framed' Pain...</td>\n",
       "    </tr>\n",
       "  </tbody>\n",
       "</table>\n",
       "</div>"
      ],
      "text/plain": [
       "    category                                        description\n",
       "0  Household  Paper Plane Design Framed Wall Hanging Motivat...\n",
       "1  Household  SAF 'Floral' Framed Painting (Wood, 30 inch x ...\n",
       "2  Household  SAF 'UV Textured Modern Art Print Framed' Pain..."
      ]
     },
     "execution_count": 39,
     "metadata": {},
     "output_type": "execute_result"
    }
   ],
   "source": [
    "ecommerce= pd.read_csv(\"ecommerce_dataset.csv\",  names=[\"category\", \"description\"],header=None)\n",
    "print(ecommerce.shape)\n",
    "ecommerce.head(3)"
   ]
  },
  {
   "cell_type": "code",
   "execution_count": 50,
   "id": "9b2dc8f8",
   "metadata": {},
   "outputs": [
    {
     "name": "stdout",
     "output_type": "stream",
     "text": [
      "<class 'pandas.core.frame.DataFrame'>\n",
      "RangeIndex: 50425 entries, 0 to 50424\n",
      "Data columns (total 2 columns):\n",
      " #   Column       Non-Null Count  Dtype \n",
      "---  ------       --------------  ----- \n",
      " 0   category     50425 non-null  object\n",
      " 1   description  50424 non-null  object\n",
      "dtypes: object(2)\n",
      "memory usage: 788.0+ KB\n"
     ]
    }
   ],
   "source": [
    "ecommerce.info()"
   ]
  },
  {
   "cell_type": "markdown",
   "id": "c0daaf7b",
   "metadata": {},
   "source": [
    "There is no nan values in the dataset."
   ]
  },
  {
   "cell_type": "code",
   "execution_count": 51,
   "id": "f84d890d",
   "metadata": {},
   "outputs": [
    {
     "data": {
      "text/plain": [
       "'Paper Plane Design Framed Wall Hanging Motivational Office Decor Art Prints (8.7 X 8.7 inch) - Set of 4 Painting made up in synthetic frame with uv textured print which gives multi effects and attracts towards it. This is an special series of paintings which makes your wall very beautiful and gives a royal touch. This painting is ready to hang, you would be proud to possess this unique painting that is a niche apart. We use only the most modern and efficient printing technology on our prints, with only the and inks and precision epson, roland and hp printers. This innovative hd printing technique results in durable and spectacular looking prints of the highest that last a lifetime. We print solely with top-notch 100% inks, to achieve brilliant and true colours. Due to their high level of uv resistance, our prints retain their beautiful colours for many years. Add colour and style to your living space with this digitally printed painting. Some are for pleasure and some for eternal bliss.so bring home this elegant print that is lushed with rich colors that makes it nothing but sheer elegance to be to your friends and family.it would be treasured forever by whoever your lucky recipient is. Liven up your place with these intriguing paintings that are high definition hd graphic digital prints for home, office or any room.'"
      ]
     },
     "execution_count": 51,
     "metadata": {},
     "output_type": "execute_result"
    }
   ],
   "source": [
    "ecommerce.description[0]"
   ]
  },
  {
   "cell_type": "code",
   "execution_count": 52,
   "id": "4efb4c7d",
   "metadata": {},
   "outputs": [
    {
     "data": {
      "text/plain": [
       "(50424, 2)"
      ]
     },
     "execution_count": 52,
     "metadata": {},
     "output_type": "execute_result"
    }
   ],
   "source": [
    "ecommerce.dropna(inplace=True)\n",
    "ecommerce.shape"
   ]
  },
  {
   "cell_type": "code",
   "execution_count": 53,
   "id": "5f00815c",
   "metadata": {},
   "outputs": [
    {
     "data": {
      "text/plain": [
       "array(['Household', 'Books', 'Clothing & Accessories', 'Electronics'],\n",
       "      dtype=object)"
      ]
     },
     "execution_count": 53,
     "metadata": {},
     "output_type": "execute_result"
    }
   ],
   "source": [
    "ecommerce.category.unique()"
   ]
  },
  {
   "cell_type": "code",
   "execution_count": 40,
   "id": "985b1018",
   "metadata": {},
   "outputs": [
    {
     "data": {
      "text/plain": [
       "category\n",
       "Household                 19313\n",
       "Books                     11820\n",
       "Electronics               10621\n",
       "Clothing & Accessories     8671\n",
       "Name: count, dtype: int64"
      ]
     },
     "execution_count": 40,
     "metadata": {},
     "output_type": "execute_result"
    }
   ],
   "source": [
    "# CHECKING THE LABEL COUNT\n",
    "ecommerce.category.value_counts()"
   ]
  },
  {
   "cell_type": "markdown",
   "id": "8f2be1ae",
   "metadata": {},
   "source": [
    "## Formatting & Preprocessing\n",
    "In FastText, adding a prefix like 'label' to each category and combining it with the text is a formatting requirement for supervised text classification. This prefix helps FastText recognize and distinguish between the category labels and the actual text during training. The combined format ensures that the model understands the association between the provided labels and their corresponding textual descriptions, allowing it to learn and make accurate predictions on new, unseen data."
   ]
  },
  {
   "cell_type": "code",
   "execution_count": 54,
   "id": "60a9d267",
   "metadata": {},
   "outputs": [
    {
     "data": {
      "text/html": [
       "<div>\n",
       "<style scoped>\n",
       "    .dataframe tbody tr th:only-of-type {\n",
       "        vertical-align: middle;\n",
       "    }\n",
       "\n",
       "    .dataframe tbody tr th {\n",
       "        vertical-align: top;\n",
       "    }\n",
       "\n",
       "    .dataframe thead th {\n",
       "        text-align: right;\n",
       "    }\n",
       "</style>\n",
       "<table border=\"1\" class=\"dataframe\">\n",
       "  <thead>\n",
       "    <tr style=\"text-align: right;\">\n",
       "      <th></th>\n",
       "      <th>category</th>\n",
       "      <th>description</th>\n",
       "      <th>category_description</th>\n",
       "    </tr>\n",
       "  </thead>\n",
       "  <tbody>\n",
       "    <tr>\n",
       "      <th>0</th>\n",
       "      <td>__label__Household</td>\n",
       "      <td>Paper Plane Design Framed Wall Hanging Motivat...</td>\n",
       "      <td>__label__Household Paper Plane Design Framed W...</td>\n",
       "    </tr>\n",
       "    <tr>\n",
       "      <th>1</th>\n",
       "      <td>__label__Household</td>\n",
       "      <td>SAF 'Floral' Framed Painting (Wood, 30 inch x ...</td>\n",
       "      <td>__label__Household SAF 'Floral' Framed Paintin...</td>\n",
       "    </tr>\n",
       "    <tr>\n",
       "      <th>2</th>\n",
       "      <td>__label__Household</td>\n",
       "      <td>SAF 'UV Textured Modern Art Print Framed' Pain...</td>\n",
       "      <td>__label__Household SAF 'UV Textured Modern Art...</td>\n",
       "    </tr>\n",
       "  </tbody>\n",
       "</table>\n",
       "</div>"
      ],
      "text/plain": [
       "             category                                        description  \\\n",
       "0  __label__Household  Paper Plane Design Framed Wall Hanging Motivat...   \n",
       "1  __label__Household  SAF 'Floral' Framed Painting (Wood, 30 inch x ...   \n",
       "2  __label__Household  SAF 'UV Textured Modern Art Print Framed' Pain...   \n",
       "\n",
       "                                category_description  \n",
       "0  __label__Household Paper Plane Design Framed W...  \n",
       "1  __label__Household SAF 'Floral' Framed Paintin...  \n",
       "2  __label__Household SAF 'UV Textured Modern Art...  "
      ]
     },
     "execution_count": 54,
     "metadata": {},
     "output_type": "execute_result"
    }
   ],
   "source": [
    "ecommerce.category.replace(\"Clothing & Accessories\", \"Clothing_Accessories\", inplace=True)\n",
    "ecommerce['category'] = '__label__' + ecommerce['category'].astype(str)\n",
    "ecommerce['category_description'] = ecommerce['category'] + ' ' + ecommerce['description']\n",
    "ecommerce.head(3)\n"
   ]
  },
  {
   "cell_type": "code",
   "execution_count": null,
   "id": "4085c95a",
   "metadata": {},
   "outputs": [],
   "source": []
  },
  {
   "cell_type": "code",
   "execution_count": 55,
   "id": "f357e5bf",
   "metadata": {},
   "outputs": [],
   "source": [
    "def preprocess(text):\n",
    "    text = re.sub(r'[^\\w\\s\\']',' ', text)\n",
    "    text = re.sub(' +', ' ', text)\n",
    "    return text.strip().lower() "
   ]
  },
  {
   "cell_type": "code",
   "execution_count": 56,
   "id": "407baf2b",
   "metadata": {},
   "outputs": [
    {
     "data": {
      "text/html": [
       "<div>\n",
       "<style scoped>\n",
       "    .dataframe tbody tr th:only-of-type {\n",
       "        vertical-align: middle;\n",
       "    }\n",
       "\n",
       "    .dataframe tbody tr th {\n",
       "        vertical-align: top;\n",
       "    }\n",
       "\n",
       "    .dataframe thead th {\n",
       "        text-align: right;\n",
       "    }\n",
       "</style>\n",
       "<table border=\"1\" class=\"dataframe\">\n",
       "  <thead>\n",
       "    <tr style=\"text-align: right;\">\n",
       "      <th></th>\n",
       "      <th>category</th>\n",
       "      <th>description</th>\n",
       "      <th>category_description</th>\n",
       "    </tr>\n",
       "  </thead>\n",
       "  <tbody>\n",
       "    <tr>\n",
       "      <th>0</th>\n",
       "      <td>__label__Household</td>\n",
       "      <td>Paper Plane Design Framed Wall Hanging Motivat...</td>\n",
       "      <td>__label__household paper plane design framed w...</td>\n",
       "    </tr>\n",
       "    <tr>\n",
       "      <th>1</th>\n",
       "      <td>__label__Household</td>\n",
       "      <td>SAF 'Floral' Framed Painting (Wood, 30 inch x ...</td>\n",
       "      <td>__label__household saf 'floral' framed paintin...</td>\n",
       "    </tr>\n",
       "    <tr>\n",
       "      <th>2</th>\n",
       "      <td>__label__Household</td>\n",
       "      <td>SAF 'UV Textured Modern Art Print Framed' Pain...</td>\n",
       "      <td>__label__household saf 'uv textured modern art...</td>\n",
       "    </tr>\n",
       "    <tr>\n",
       "      <th>3</th>\n",
       "      <td>__label__Household</td>\n",
       "      <td>SAF Flower Print Framed Painting (Synthetic, 1...</td>\n",
       "      <td>__label__household saf flower print framed pai...</td>\n",
       "    </tr>\n",
       "    <tr>\n",
       "      <th>4</th>\n",
       "      <td>__label__Household</td>\n",
       "      <td>Incredible Gifts India Wooden Happy Birthday U...</td>\n",
       "      <td>__label__household incredible gifts india wood...</td>\n",
       "    </tr>\n",
       "  </tbody>\n",
       "</table>\n",
       "</div>"
      ],
      "text/plain": [
       "             category                                        description  \\\n",
       "0  __label__Household  Paper Plane Design Framed Wall Hanging Motivat...   \n",
       "1  __label__Household  SAF 'Floral' Framed Painting (Wood, 30 inch x ...   \n",
       "2  __label__Household  SAF 'UV Textured Modern Art Print Framed' Pain...   \n",
       "3  __label__Household  SAF Flower Print Framed Painting (Synthetic, 1...   \n",
       "4  __label__Household  Incredible Gifts India Wooden Happy Birthday U...   \n",
       "\n",
       "                                category_description  \n",
       "0  __label__household paper plane design framed w...  \n",
       "1  __label__household saf 'floral' framed paintin...  \n",
       "2  __label__household saf 'uv textured modern art...  \n",
       "3  __label__household saf flower print framed pai...  \n",
       "4  __label__household incredible gifts india wood...  "
      ]
     },
     "execution_count": 56,
     "metadata": {},
     "output_type": "execute_result"
    }
   ],
   "source": [
    "ecommerce['category_description'] = ecommerce['category_description'].map(preprocess)\n",
    "ecommerce.head()"
   ]
  },
  {
   "cell_type": "code",
   "execution_count": null,
   "id": "6ca63493",
   "metadata": {},
   "outputs": [],
   "source": [
    "### training the data"
   ]
  },
  {
   "cell_type": "code",
   "execution_count": 57,
   "id": "b8ec55fb",
   "metadata": {},
   "outputs": [],
   "source": [
    "from sklearn.model_selection import train_test_split\n",
    "\n",
    "train, test = train_test_split(ecommerce, test_size=0.2) # 20% test, 80% train"
   ]
  },
  {
   "cell_type": "code",
   "execution_count": 58,
   "id": "4524ab40",
   "metadata": {},
   "outputs": [
    {
     "data": {
      "text/plain": [
       "((40339, 3), (10085, 3))"
      ]
     },
     "execution_count": 58,
     "metadata": {},
     "output_type": "execute_result"
    }
   ],
   "source": [
    "train.shape, test.shape"
   ]
  },
  {
   "cell_type": "code",
   "execution_count": 59,
   "id": "c8504c5c",
   "metadata": {},
   "outputs": [],
   "source": [
    "# saving the train and test data on the local dir\n",
    "train.to_csv(\"ecommerce.train\", columns=[\"category_description\"], index=False, header=False)\n",
    "test.to_csv(\"ecommerce.test\", columns=[\"category_description\"], index=False, header=False)"
   ]
  },
  {
   "cell_type": "code",
   "execution_count": 60,
   "id": "51b0dfd3",
   "metadata": {},
   "outputs": [
    {
     "data": {
      "text/plain": [
       "(10084, 0.9684648948829829, 0.9684648948829829)"
      ]
     },
     "execution_count": 60,
     "metadata": {},
     "output_type": "execute_result"
    }
   ],
   "source": [
    "import fasttext\n",
    "\n",
    "model = fasttext.train_supervised(input=\"ecommerce.train\")\n",
    "model.test(\"ecommerce.test\")"
   ]
  },
  {
   "cell_type": "markdown",
   "id": "6c5393e8",
   "metadata": {},
   "source": [
    "First parameter (10084) is test size. Second and third parameters are precision and recall respectively. You can see we are getting around 96% precision which is pretty good"
   ]
  },
  {
   "cell_type": "code",
   "execution_count": 61,
   "id": "471b35c2",
   "metadata": {},
   "outputs": [
    {
     "data": {
      "text/plain": [
       "(('__label__electronics',), array([0.99999654]))"
      ]
     },
     "execution_count": 61,
     "metadata": {},
     "output_type": "execute_result"
    }
   ],
   "source": [
    "model.predict(\"corei 5 macbook samsung voltage sound microphone smart\")\n"
   ]
  },
  {
   "cell_type": "code",
   "execution_count": 62,
   "id": "2afb75bc",
   "metadata": {},
   "outputs": [
    {
     "data": {
      "text/plain": [
       "(('__label__books',), array([0.99891174]))"
      ]
     },
     "execution_count": 62,
     "metadata": {},
     "output_type": "execute_result"
    }
   ],
   "source": [
    "model.predict(\"Lord of the rings\")\n"
   ]
  },
  {
   "cell_type": "code",
   "execution_count": 74,
   "id": "56f8558f",
   "metadata": {},
   "outputs": [
    {
     "data": {
      "text/plain": [
       "(('__label__clothing_accessories',), array([0.98994315]))"
      ]
     },
     "execution_count": 74,
     "metadata": {},
     "output_type": "execute_result"
    }
   ],
   "source": [
    "model.predict(\"nivea men deodorant\")\n"
   ]
  },
  {
   "cell_type": "code",
   "execution_count": null,
   "id": "baafffea",
   "metadata": {},
   "outputs": [],
   "source": []
  }
 ],
 "metadata": {
  "kernelspec": {
   "display_name": "Python 3 (ipykernel)",
   "language": "python",
   "name": "python3"
  },
  "language_info": {
   "codemirror_mode": {
    "name": "ipython",
    "version": 3
   },
   "file_extension": ".py",
   "mimetype": "text/x-python",
   "name": "python",
   "nbconvert_exporter": "python",
   "pygments_lexer": "ipython3",
   "version": "3.11.7"
  },
  "toc": {
   "base_numbering": 1,
   "nav_menu": {},
   "number_sections": true,
   "sideBar": true,
   "skip_h1_title": false,
   "title_cell": "Table of Contents",
   "title_sidebar": "Contents",
   "toc_cell": false,
   "toc_position": {
    "height": "calc(100% - 180px)",
    "left": "10px",
    "top": "150px",
    "width": "250.188px"
   },
   "toc_section_display": true,
   "toc_window_display": true
  }
 },
 "nbformat": 4,
 "nbformat_minor": 5
}
