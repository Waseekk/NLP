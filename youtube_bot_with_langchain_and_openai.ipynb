{
  "cells": [
    {
      "source": [],
      "metadata": {
        "id": "333b6c1a-a3c4-4c3c-b5e1-145bd214f4e0"
      },
      "id": "333b6c1a-a3c4-4c3c-b5e1-145bd214f4e0",
      "cell_type": "markdown"
    },
    {
      "source": [
        "# Building Multimodal AI Applications with LangChain & the OpenAI API\n",
        "\n",
        "## Goals\n",
        "- Videos can be full of useful information, but getting hold of that info can be slow, since one needs to watch the whole thing or try skipping through it. It can be much faster to use a bot to ask questions about the contents of the transcript.\n",
        "- In this project, a video will be downloaded from YouTube, the audio will be transcribed, and a simple Q&A bot will be created to ask questions about the content.\n",
        "\n",
        "## Objectives\n",
        "- Understanding the building blocks of working with Multimodal AI projects\n",
        "- Working with some of the fundamental concepts of LangChain\n",
        "- Learning how to use the Whisper API to transcribe audio to text\n",
        "- Understanding how to combine both LangChain and Whisper API to create ask questions of any YouTube video\n",
        "\n",
        "\n"
      ],
      "metadata": {
        "id": "701b76fe-04db-405c-98f7-f0f5babd84b4"
      },
      "id": "701b76fe-04db-405c-98f7-f0f5babd84b4",
      "cell_type": "markdown"
    },
    {
      "source": [
        "##  Setup"
      ],
      "metadata": {
        "id": "a9274661-8d8c-4cc5-901e-5fc497866b89"
      },
      "id": "a9274661-8d8c-4cc5-901e-5fc497866b89",
      "cell_type": "markdown"
    },
    {
      "source": [
        "The project requires several packages that need to be installed into Workspace.\n",
        "\n",
        "- `langchain` is a framework for developing generative AI applications.\n",
        "- `yt_dlp` lets you download YouTube videos.\n",
        "- `tiktoken` converts text into tokens.\n",
        "- `docarray` makes it easier to work with multi-model data (in this case mixing audio and text)."
      ],
      "metadata": {
        "id": "823598ac-fa77-4532-997d-2923d0017e90"
      },
      "id": "823598ac-fa77-4532-997d-2923d0017e90",
      "cell_type": "markdown"
    },
    {
      "source": [
        "## Installing libraries"
      ],
      "metadata": {
        "id": "c17ab340-c582-4ba7-ab33-5d582210f5c2"
      },
      "id": "c17ab340-c582-4ba7-ab33-5d582210f5c2",
      "cell_type": "markdown"
    },
    {
      "source": [
        "# Install langchain\n",
        "!pip install --upgrade langchain"
      ],
      "metadata": {
        "executionCancelledAt": null,
        "executionTime": 5032,
        "lastExecutedAt": 1695387652535,
        "lastScheduledRunId": null,
        "lastSuccessfullyExecutedCode": "# Install langchain\n!pip install langchain==0.0.292",
        "outputsMetadata": {
          "0": {
            "height": 463,
            "type": "stream"
          }
        },
        "collapsed": true,
        "jupyter": {
          "outputs_hidden": true,
          "source_hidden": false
        },
        "colab": {
          "base_uri": "https://localhost:8080/"
        },
        "id": "e1ca41e3-2dfd-4b9a-b595-e5af720ca36a",
        "outputId": "ef8aa5c4-0e8a-4eba-a98f-5c5902629ada"
      },
      "id": "e1ca41e3-2dfd-4b9a-b595-e5af720ca36a",
      "cell_type": "code",
      "execution_count": 1,
      "outputs": [
        {
          "output_type": "stream",
          "name": "stdout",
          "text": [
            "Collecting langchain\n",
            "  Downloading langchain-0.1.8-py3-none-any.whl (816 kB)\n",
            "\u001b[2K     \u001b[90m━━━━━━━━━━━━━━━━━━━━━━━━━━━━━━━━━━━━━━━━\u001b[0m \u001b[32m816.1/816.1 kB\u001b[0m \u001b[31m5.0 MB/s\u001b[0m eta \u001b[36m0:00:00\u001b[0m\n",
            "\u001b[?25hRequirement already satisfied: PyYAML>=5.3 in /usr/local/lib/python3.10/dist-packages (from langchain) (6.0.1)\n",
            "Requirement already satisfied: SQLAlchemy<3,>=1.4 in /usr/local/lib/python3.10/dist-packages (from langchain) (2.0.27)\n",
            "Requirement already satisfied: aiohttp<4.0.0,>=3.8.3 in /usr/local/lib/python3.10/dist-packages (from langchain) (3.9.3)\n",
            "Requirement already satisfied: async-timeout<5.0.0,>=4.0.0 in /usr/local/lib/python3.10/dist-packages (from langchain) (4.0.3)\n",
            "Collecting dataclasses-json<0.7,>=0.5.7 (from langchain)\n",
            "  Downloading dataclasses_json-0.6.4-py3-none-any.whl (28 kB)\n",
            "Collecting jsonpatch<2.0,>=1.33 (from langchain)\n",
            "  Downloading jsonpatch-1.33-py2.py3-none-any.whl (12 kB)\n",
            "Collecting langchain-community<0.1,>=0.0.21 (from langchain)\n",
            "  Downloading langchain_community-0.0.21-py3-none-any.whl (1.7 MB)\n",
            "\u001b[2K     \u001b[90m━━━━━━━━━━━━━━━━━━━━━━━━━━━━━━━━━━━━━━━━\u001b[0m \u001b[32m1.7/1.7 MB\u001b[0m \u001b[31m28.7 MB/s\u001b[0m eta \u001b[36m0:00:00\u001b[0m\n",
            "\u001b[?25hCollecting langchain-core<0.2,>=0.1.24 (from langchain)\n",
            "  Downloading langchain_core-0.1.25-py3-none-any.whl (242 kB)\n",
            "\u001b[2K     \u001b[90m━━━━━━━━━━━━━━━━━━━━━━━━━━━━━━━━━━━━━━━━\u001b[0m \u001b[32m242.1/242.1 kB\u001b[0m \u001b[31m22.9 MB/s\u001b[0m eta \u001b[36m0:00:00\u001b[0m\n",
            "\u001b[?25hCollecting langsmith<0.2.0,>=0.1.0 (from langchain)\n",
            "  Downloading langsmith-0.1.5-py3-none-any.whl (61 kB)\n",
            "\u001b[2K     \u001b[90m━━━━━━━━━━━━━━━━━━━━━━━━━━━━━━━━━━━━━━━━\u001b[0m \u001b[32m61.0/61.0 kB\u001b[0m \u001b[31m6.7 MB/s\u001b[0m eta \u001b[36m0:00:00\u001b[0m\n",
            "\u001b[?25hRequirement already satisfied: numpy<2,>=1 in /usr/local/lib/python3.10/dist-packages (from langchain) (1.25.2)\n",
            "Requirement already satisfied: pydantic<3,>=1 in /usr/local/lib/python3.10/dist-packages (from langchain) (2.6.1)\n",
            "Requirement already satisfied: requests<3,>=2 in /usr/local/lib/python3.10/dist-packages (from langchain) (2.31.0)\n",
            "Requirement already satisfied: tenacity<9.0.0,>=8.1.0 in /usr/local/lib/python3.10/dist-packages (from langchain) (8.2.3)\n",
            "Requirement already satisfied: aiosignal>=1.1.2 in /usr/local/lib/python3.10/dist-packages (from aiohttp<4.0.0,>=3.8.3->langchain) (1.3.1)\n",
            "Requirement already satisfied: attrs>=17.3.0 in /usr/local/lib/python3.10/dist-packages (from aiohttp<4.0.0,>=3.8.3->langchain) (23.2.0)\n",
            "Requirement already satisfied: frozenlist>=1.1.1 in /usr/local/lib/python3.10/dist-packages (from aiohttp<4.0.0,>=3.8.3->langchain) (1.4.1)\n",
            "Requirement already satisfied: multidict<7.0,>=4.5 in /usr/local/lib/python3.10/dist-packages (from aiohttp<4.0.0,>=3.8.3->langchain) (6.0.5)\n",
            "Requirement already satisfied: yarl<2.0,>=1.0 in /usr/local/lib/python3.10/dist-packages (from aiohttp<4.0.0,>=3.8.3->langchain) (1.9.4)\n",
            "Collecting marshmallow<4.0.0,>=3.18.0 (from dataclasses-json<0.7,>=0.5.7->langchain)\n",
            "  Downloading marshmallow-3.20.2-py3-none-any.whl (49 kB)\n",
            "\u001b[2K     \u001b[90m━━━━━━━━━━━━━━━━━━━━━━━━━━━━━━━━━━━━━━━━\u001b[0m \u001b[32m49.4/49.4 kB\u001b[0m \u001b[31m5.7 MB/s\u001b[0m eta \u001b[36m0:00:00\u001b[0m\n",
            "\u001b[?25hCollecting typing-inspect<1,>=0.4.0 (from dataclasses-json<0.7,>=0.5.7->langchain)\n",
            "  Downloading typing_inspect-0.9.0-py3-none-any.whl (8.8 kB)\n",
            "Collecting jsonpointer>=1.9 (from jsonpatch<2.0,>=1.33->langchain)\n",
            "  Downloading jsonpointer-2.4-py2.py3-none-any.whl (7.8 kB)\n",
            "Requirement already satisfied: anyio<5,>=3 in /usr/local/lib/python3.10/dist-packages (from langchain-core<0.2,>=0.1.24->langchain) (3.7.1)\n",
            "Requirement already satisfied: packaging<24.0,>=23.2 in /usr/local/lib/python3.10/dist-packages (from langchain-core<0.2,>=0.1.24->langchain) (23.2)\n",
            "Requirement already satisfied: annotated-types>=0.4.0 in /usr/local/lib/python3.10/dist-packages (from pydantic<3,>=1->langchain) (0.6.0)\n",
            "Requirement already satisfied: pydantic-core==2.16.2 in /usr/local/lib/python3.10/dist-packages (from pydantic<3,>=1->langchain) (2.16.2)\n",
            "Requirement already satisfied: typing-extensions>=4.6.1 in /usr/local/lib/python3.10/dist-packages (from pydantic<3,>=1->langchain) (4.9.0)\n",
            "Requirement already satisfied: charset-normalizer<4,>=2 in /usr/local/lib/python3.10/dist-packages (from requests<3,>=2->langchain) (3.3.2)\n",
            "Requirement already satisfied: idna<4,>=2.5 in /usr/local/lib/python3.10/dist-packages (from requests<3,>=2->langchain) (3.6)\n",
            "Requirement already satisfied: urllib3<3,>=1.21.1 in /usr/local/lib/python3.10/dist-packages (from requests<3,>=2->langchain) (2.0.7)\n",
            "Requirement already satisfied: certifi>=2017.4.17 in /usr/local/lib/python3.10/dist-packages (from requests<3,>=2->langchain) (2024.2.2)\n",
            "Requirement already satisfied: greenlet!=0.4.17 in /usr/local/lib/python3.10/dist-packages (from SQLAlchemy<3,>=1.4->langchain) (3.0.3)\n",
            "Requirement already satisfied: sniffio>=1.1 in /usr/local/lib/python3.10/dist-packages (from anyio<5,>=3->langchain-core<0.2,>=0.1.24->langchain) (1.3.0)\n",
            "Requirement already satisfied: exceptiongroup in /usr/local/lib/python3.10/dist-packages (from anyio<5,>=3->langchain-core<0.2,>=0.1.24->langchain) (1.2.0)\n",
            "Collecting mypy-extensions>=0.3.0 (from typing-inspect<1,>=0.4.0->dataclasses-json<0.7,>=0.5.7->langchain)\n",
            "  Downloading mypy_extensions-1.0.0-py3-none-any.whl (4.7 kB)\n",
            "Installing collected packages: mypy-extensions, marshmallow, jsonpointer, typing-inspect, jsonpatch, langsmith, dataclasses-json, langchain-core, langchain-community, langchain\n",
            "Successfully installed dataclasses-json-0.6.4 jsonpatch-1.33 jsonpointer-2.4 langchain-0.1.8 langchain-community-0.0.21 langchain-core-0.1.25 langsmith-0.1.5 marshmallow-3.20.2 mypy-extensions-1.0.0 typing-inspect-0.9.0\n"
          ]
        }
      ]
    },
    {
      "source": [
        "# Install yt_dlp\n",
        "!pip install --upgrade yt_dlp"
      ],
      "metadata": {
        "executionCancelledAt": null,
        "executionTime": 5044,
        "lastExecutedAt": 1695387659142,
        "lastScheduledRunId": null,
        "lastSuccessfullyExecutedCode": "# Install yt_dlp\n!pip install yt_dlp==2023.7.6",
        "outputsMetadata": {
          "0": {
            "height": 447,
            "type": "stream"
          }
        },
        "collapsed": true,
        "jupyter": {
          "outputs_hidden": true,
          "source_hidden": false
        },
        "colab": {
          "base_uri": "https://localhost:8080/"
        },
        "id": "4eb141d6-8eaf-4fe2-b29a-e58765a02252",
        "outputId": "f9cef3d1-29f7-480b-9b54-1ba6b64452b6"
      },
      "id": "4eb141d6-8eaf-4fe2-b29a-e58765a02252",
      "cell_type": "code",
      "execution_count": 2,
      "outputs": [
        {
          "output_type": "stream",
          "name": "stdout",
          "text": [
            "Collecting yt_dlp\n",
            "  Downloading yt_dlp-2023.12.30-py2.py3-none-any.whl (3.0 MB)\n",
            "\u001b[2K     \u001b[90m━━━━━━━━━━━━━━━━━━━━━━━━━━━━━━━━━━━━━━━━\u001b[0m \u001b[32m3.0/3.0 MB\u001b[0m \u001b[31m4.6 MB/s\u001b[0m eta \u001b[36m0:00:00\u001b[0m\n",
            "\u001b[?25hCollecting mutagen (from yt_dlp)\n",
            "  Downloading mutagen-1.47.0-py3-none-any.whl (194 kB)\n",
            "\u001b[2K     \u001b[90m━━━━━━━━━━━━━━━━━━━━━━━━━━━━━━━━━━━━━━━━\u001b[0m \u001b[32m194.4/194.4 kB\u001b[0m \u001b[31m5.8 MB/s\u001b[0m eta \u001b[36m0:00:00\u001b[0m\n",
            "\u001b[?25hCollecting pycryptodomex (from yt_dlp)\n",
            "  Downloading pycryptodomex-3.20.0-cp35-abi3-manylinux_2_17_x86_64.manylinux2014_x86_64.whl (2.1 MB)\n",
            "\u001b[2K     \u001b[90m━━━━━━━━━━━━━━━━━━━━━━━━━━━━━━━━━━━━━━━━\u001b[0m \u001b[32m2.1/2.1 MB\u001b[0m \u001b[31m5.5 MB/s\u001b[0m eta \u001b[36m0:00:00\u001b[0m\n",
            "\u001b[?25hRequirement already satisfied: certifi in /usr/local/lib/python3.10/dist-packages (from yt_dlp) (2024.2.2)\n",
            "Requirement already satisfied: requests<3,>=2.31.0 in /usr/local/lib/python3.10/dist-packages (from yt_dlp) (2.31.0)\n",
            "Requirement already satisfied: urllib3<3,>=1.26.17 in /usr/local/lib/python3.10/dist-packages (from yt_dlp) (2.0.7)\n",
            "Collecting websockets>=12.0 (from yt_dlp)\n",
            "  Downloading websockets-12.0-cp310-cp310-manylinux_2_5_x86_64.manylinux1_x86_64.manylinux_2_17_x86_64.manylinux2014_x86_64.whl (130 kB)\n",
            "\u001b[2K     \u001b[90m━━━━━━━━━━━━━━━━━━━━━━━━━━━━━━━━━━━━━━━━\u001b[0m \u001b[32m130.2/130.2 kB\u001b[0m \u001b[31m5.0 MB/s\u001b[0m eta \u001b[36m0:00:00\u001b[0m\n",
            "\u001b[?25hCollecting brotli (from yt_dlp)\n",
            "  Downloading Brotli-1.1.0-cp310-cp310-manylinux_2_5_x86_64.manylinux1_x86_64.manylinux_2_12_x86_64.manylinux2010_x86_64.whl (3.0 MB)\n",
            "\u001b[2K     \u001b[90m━━━━━━━━━━━━━━━━━━━━━━━━━━━━━━━━━━━━━━━━\u001b[0m \u001b[32m3.0/3.0 MB\u001b[0m \u001b[31m5.3 MB/s\u001b[0m eta \u001b[36m0:00:00\u001b[0m\n",
            "\u001b[?25hRequirement already satisfied: charset-normalizer<4,>=2 in /usr/local/lib/python3.10/dist-packages (from requests<3,>=2.31.0->yt_dlp) (3.3.2)\n",
            "Requirement already satisfied: idna<4,>=2.5 in /usr/local/lib/python3.10/dist-packages (from requests<3,>=2.31.0->yt_dlp) (3.6)\n",
            "Installing collected packages: brotli, websockets, pycryptodomex, mutagen, yt_dlp\n",
            "Successfully installed brotli-1.1.0 mutagen-1.47.0 pycryptodomex-3.20.0 websockets-12.0 yt_dlp-2023.12.30\n"
          ]
        }
      ]
    },
    {
      "source": [
        "!pip install --upgrade tiktoken"
      ],
      "metadata": {
        "executionCancelledAt": null,
        "executionTime": 2563,
        "lastExecutedAt": 1695387663053,
        "lastScheduledRunId": null,
        "lastSuccessfullyExecutedCode": "!pip install tiktoken==0.5.1",
        "outputsMetadata": {
          "0": {
            "height": 447,
            "type": "stream"
          }
        },
        "collapsed": true,
        "jupyter": {
          "outputs_hidden": true,
          "source_hidden": false
        },
        "colab": {
          "base_uri": "https://localhost:8080/"
        },
        "id": "3dce7fdd-9f8a-4517-a1bb-d03221dddc9e",
        "outputId": "f92c3d86-e5ca-4268-d524-142ed7878cfb"
      },
      "id": "3dce7fdd-9f8a-4517-a1bb-d03221dddc9e",
      "cell_type": "code",
      "execution_count": 3,
      "outputs": [
        {
          "output_type": "stream",
          "name": "stdout",
          "text": [
            "Collecting tiktoken\n",
            "  Downloading tiktoken-0.6.0-cp310-cp310-manylinux_2_17_x86_64.manylinux2014_x86_64.whl (1.8 MB)\n",
            "\u001b[2K     \u001b[90m━━━━━━━━━━━━━━━━━━━━━━━━━━━━━━━━━━━━━━━━\u001b[0m \u001b[32m1.8/1.8 MB\u001b[0m \u001b[31m7.9 MB/s\u001b[0m eta \u001b[36m0:00:00\u001b[0m\n",
            "\u001b[?25hRequirement already satisfied: regex>=2022.1.18 in /usr/local/lib/python3.10/dist-packages (from tiktoken) (2023.12.25)\n",
            "Requirement already satisfied: requests>=2.26.0 in /usr/local/lib/python3.10/dist-packages (from tiktoken) (2.31.0)\n",
            "Requirement already satisfied: charset-normalizer<4,>=2 in /usr/local/lib/python3.10/dist-packages (from requests>=2.26.0->tiktoken) (3.3.2)\n",
            "Requirement already satisfied: idna<4,>=2.5 in /usr/local/lib/python3.10/dist-packages (from requests>=2.26.0->tiktoken) (3.6)\n",
            "Requirement already satisfied: urllib3<3,>=1.21.1 in /usr/local/lib/python3.10/dist-packages (from requests>=2.26.0->tiktoken) (2.0.7)\n",
            "Requirement already satisfied: certifi>=2017.4.17 in /usr/local/lib/python3.10/dist-packages (from requests>=2.26.0->tiktoken) (2024.2.2)\n",
            "Installing collected packages: tiktoken\n",
            "Successfully installed tiktoken-0.6.0\n"
          ]
        }
      ]
    },
    {
      "source": [
        "!pip install --upgrade docarray"
      ],
      "metadata": {
        "executionCancelledAt": null,
        "executionTime": 5036,
        "lastExecutedAt": 1695387673657,
        "lastScheduledRunId": null,
        "lastSuccessfullyExecutedCode": "!pip install docarray==0.38.0",
        "outputsMetadata": {
          "0": {
            "height": 557,
            "type": "stream"
          }
        },
        "collapsed": true,
        "jupyter": {
          "outputs_hidden": true,
          "source_hidden": false
        },
        "colab": {
          "base_uri": "https://localhost:8080/"
        },
        "id": "6a7d041f-ea6c-470f-a3ca-1361f161021d",
        "outputId": "4f7b131c-3a0f-46e0-cd93-c3e4d6ea1dea"
      },
      "id": "6a7d041f-ea6c-470f-a3ca-1361f161021d",
      "cell_type": "code",
      "execution_count": 4,
      "outputs": [
        {
          "output_type": "stream",
          "name": "stdout",
          "text": [
            "Collecting docarray\n",
            "  Downloading docarray-0.40.0-py3-none-any.whl (270 kB)\n",
            "\u001b[2K     \u001b[90m━━━━━━━━━━━━━━━━━━━━━━━━━━━━━━━━━━━━━━━━\u001b[0m \u001b[32m270.2/270.2 kB\u001b[0m \u001b[31m2.1 MB/s\u001b[0m eta \u001b[36m0:00:00\u001b[0m\n",
            "\u001b[?25hRequirement already satisfied: numpy>=1.17.3 in /usr/local/lib/python3.10/dist-packages (from docarray) (1.25.2)\n",
            "Collecting orjson>=3.8.2 (from docarray)\n",
            "  Downloading orjson-3.9.14-cp310-cp310-manylinux_2_17_x86_64.manylinux2014_x86_64.whl (138 kB)\n",
            "\u001b[2K     \u001b[90m━━━━━━━━━━━━━━━━━━━━━━━━━━━━━━━━━━━━━━━━\u001b[0m \u001b[32m139.0/139.0 kB\u001b[0m \u001b[31m11.5 MB/s\u001b[0m eta \u001b[36m0:00:00\u001b[0m\n",
            "\u001b[?25hRequirement already satisfied: pydantic>=1.10.8 in /usr/local/lib/python3.10/dist-packages (from docarray) (2.6.1)\n",
            "Requirement already satisfied: rich>=13.1.0 in /usr/local/lib/python3.10/dist-packages (from docarray) (13.7.0)\n",
            "Collecting types-requests>=2.28.11.6 (from docarray)\n",
            "  Downloading types_requests-2.31.0.20240218-py3-none-any.whl (14 kB)\n",
            "Requirement already satisfied: typing-inspect>=0.8.0 in /usr/local/lib/python3.10/dist-packages (from docarray) (0.9.0)\n",
            "Requirement already satisfied: annotated-types>=0.4.0 in /usr/local/lib/python3.10/dist-packages (from pydantic>=1.10.8->docarray) (0.6.0)\n",
            "Requirement already satisfied: pydantic-core==2.16.2 in /usr/local/lib/python3.10/dist-packages (from pydantic>=1.10.8->docarray) (2.16.2)\n",
            "Requirement already satisfied: typing-extensions>=4.6.1 in /usr/local/lib/python3.10/dist-packages (from pydantic>=1.10.8->docarray) (4.9.0)\n",
            "Requirement already satisfied: markdown-it-py>=2.2.0 in /usr/local/lib/python3.10/dist-packages (from rich>=13.1.0->docarray) (3.0.0)\n",
            "Requirement already satisfied: pygments<3.0.0,>=2.13.0 in /usr/local/lib/python3.10/dist-packages (from rich>=13.1.0->docarray) (2.16.1)\n",
            "Requirement already satisfied: urllib3>=2 in /usr/local/lib/python3.10/dist-packages (from types-requests>=2.28.11.6->docarray) (2.0.7)\n",
            "Requirement already satisfied: mypy-extensions>=0.3.0 in /usr/local/lib/python3.10/dist-packages (from typing-inspect>=0.8.0->docarray) (1.0.0)\n",
            "Requirement already satisfied: mdurl~=0.1 in /usr/local/lib/python3.10/dist-packages (from markdown-it-py>=2.2.0->rich>=13.1.0->docarray) (0.1.2)\n",
            "Installing collected packages: types-requests, orjson, docarray\n",
            "Successfully installed docarray-0.40.0 orjson-3.9.14 types-requests-2.31.0.20240218\n"
          ]
        }
      ]
    },
    {
      "source": [
        "### Instructions"
      ],
      "metadata": {
        "id": "92a9caca-70fd-4ac0-aa15-1bee55c456d3"
      },
      "id": "92a9caca-70fd-4ac0-aa15-1bee55c456d3",
      "cell_type": "markdown"
    },
    {
      "source": [
        "##  Import The Required Libraries"
      ],
      "metadata": {
        "id": "7f6c51c7-bbbb-4f0f-b218-850221f3dcdf"
      },
      "cell_type": "markdown",
      "id": "7f6c51c7-bbbb-4f0f-b218-850221f3dcdf"
    },
    {
      "source": [
        "For this project, the `os` and `yt_dlp` packages are required to download the YouTube video of our choosing, convert it to an `.mp3`, and save the file. Additionally, the `openai` package will be used to make easy calls to the OpenAI models we will utilize.\n"
      ],
      "metadata": {
        "id": "2cf847fd-f8f8-49f6-9b43-0eb098239072"
      },
      "id": "2cf847fd-f8f8-49f6-9b43-0eb098239072",
      "cell_type": "markdown"
    },
    {
      "cell_type": "code",
      "source": [
        "!pip install openai"
      ],
      "metadata": {
        "colab": {
          "base_uri": "https://localhost:8080/"
        },
        "id": "OTsAnhYOxw_R",
        "outputId": "c1cfc168-0386-4f6a-bd6a-b561eab127ed"
      },
      "id": "OTsAnhYOxw_R",
      "execution_count": 9,
      "outputs": [
        {
          "output_type": "stream",
          "name": "stdout",
          "text": [
            "Collecting openai\n",
            "  Downloading openai-1.12.0-py3-none-any.whl (226 kB)\n",
            "\u001b[2K     \u001b[90m━━━━━━━━━━━━━━━━━━━━━━━━━━━━━━━━━━━━━━━━\u001b[0m \u001b[32m226.7/226.7 kB\u001b[0m \u001b[31m2.1 MB/s\u001b[0m eta \u001b[36m0:00:00\u001b[0m\n",
            "\u001b[?25hRequirement already satisfied: anyio<5,>=3.5.0 in /usr/local/lib/python3.10/dist-packages (from openai) (3.7.1)\n",
            "Requirement already satisfied: distro<2,>=1.7.0 in /usr/lib/python3/dist-packages (from openai) (1.7.0)\n",
            "Collecting httpx<1,>=0.23.0 (from openai)\n",
            "  Downloading httpx-0.26.0-py3-none-any.whl (75 kB)\n",
            "\u001b[2K     \u001b[90m━━━━━━━━━━━━━━━━━━━━━━━━━━━━━━━━━━━━━━━━\u001b[0m \u001b[32m75.9/75.9 kB\u001b[0m \u001b[31m11.0 MB/s\u001b[0m eta \u001b[36m0:00:00\u001b[0m\n",
            "\u001b[?25hRequirement already satisfied: pydantic<3,>=1.9.0 in /usr/local/lib/python3.10/dist-packages (from openai) (2.6.1)\n",
            "Requirement already satisfied: sniffio in /usr/local/lib/python3.10/dist-packages (from openai) (1.3.0)\n",
            "Requirement already satisfied: tqdm>4 in /usr/local/lib/python3.10/dist-packages (from openai) (4.66.2)\n",
            "Requirement already satisfied: typing-extensions<5,>=4.7 in /usr/local/lib/python3.10/dist-packages (from openai) (4.9.0)\n",
            "Requirement already satisfied: idna>=2.8 in /usr/local/lib/python3.10/dist-packages (from anyio<5,>=3.5.0->openai) (3.6)\n",
            "Requirement already satisfied: exceptiongroup in /usr/local/lib/python3.10/dist-packages (from anyio<5,>=3.5.0->openai) (1.2.0)\n",
            "Requirement already satisfied: certifi in /usr/local/lib/python3.10/dist-packages (from httpx<1,>=0.23.0->openai) (2024.2.2)\n",
            "Collecting httpcore==1.* (from httpx<1,>=0.23.0->openai)\n",
            "  Downloading httpcore-1.0.3-py3-none-any.whl (77 kB)\n",
            "\u001b[2K     \u001b[90m━━━━━━━━━━━━━━━━━━━━━━━━━━━━━━━━━━━━━━━━\u001b[0m \u001b[32m77.0/77.0 kB\u001b[0m \u001b[31m7.8 MB/s\u001b[0m eta \u001b[36m0:00:00\u001b[0m\n",
            "\u001b[?25hCollecting h11<0.15,>=0.13 (from httpcore==1.*->httpx<1,>=0.23.0->openai)\n",
            "  Downloading h11-0.14.0-py3-none-any.whl (58 kB)\n",
            "\u001b[2K     \u001b[90m━━━━━━━━━━━━━━━━━━━━━━━━━━━━━━━━━━━━━━━━\u001b[0m \u001b[32m58.3/58.3 kB\u001b[0m \u001b[31m7.0 MB/s\u001b[0m eta \u001b[36m0:00:00\u001b[0m\n",
            "\u001b[?25hRequirement already satisfied: annotated-types>=0.4.0 in /usr/local/lib/python3.10/dist-packages (from pydantic<3,>=1.9.0->openai) (0.6.0)\n",
            "Requirement already satisfied: pydantic-core==2.16.2 in /usr/local/lib/python3.10/dist-packages (from pydantic<3,>=1.9.0->openai) (2.16.2)\n",
            "Installing collected packages: h11, httpcore, httpx, openai\n",
            "Successfully installed h11-0.14.0 httpcore-1.0.3 httpx-0.26.0 openai-1.12.0\n"
          ]
        }
      ]
    },
    {
      "source": [
        "\n",
        "# Import the os package\n",
        "import os\n",
        "\n",
        "# Import the glob package\n",
        "import glob\n",
        "\n",
        "# Import the openai package\n",
        "import openai\n",
        "\n",
        "# Import the yt_dlp package as youtube_dl\n",
        "import yt_dlp as youtube_dl\n",
        "\n",
        "# Import DownloadError from yt_dlp\n",
        "from yt_dlp import DownloadError\n",
        "\n",
        "# Import DocArray\n",
        "import docarray\n"
      ],
      "metadata": {
        "executionCancelledAt": null,
        "executionTime": 2566,
        "lastExecutedAt": 1695381616329,
        "lastScheduledRunId": null,
        "lastSuccessfullyExecutedCode": "# Importing the Required Packages including: \"os\" \"openai\" \"yt_dlp as youtube_dl\" and \"from yt_dl import Download Error\"\n\n# Import the os package\nimport os  \n\n# Import the glob package\nimport glob\n\n# Import the openai package \nimport openai \n\n# Import the yt_dlp package as youtube_dl\nimport yt_dlp as youtube_dl \n\n# Import DownloadError from yt_dlp\nfrom yt_dlp import DownloadError \n\nimport docarray ",
        "outputsMetadata": {
          "0": {
            "height": 77,
            "type": "stream"
          }
        },
        "id": "541cd9f5-0aaa-4374-8411-25bedecd8c84"
      },
      "id": "541cd9f5-0aaa-4374-8411-25bedecd8c84",
      "cell_type": "code",
      "execution_count": 10,
      "outputs": []
    },
    {
      "cell_type": "code",
      "source": [
        "## Setting up the openai api key\n",
        "\n",
        "from getpass import getpass\n",
        "\n",
        "OPENAI_API_KEY = getpass()\n",
        "\n",
        "os.environ[\"OPENAI_API_KEY\"] = OPENAI_API_KEY # give the openai api key"
      ],
      "metadata": {
        "colab": {
          "base_uri": "https://localhost:8080/"
        },
        "id": "Gy3Zb3z-w4Hv",
        "outputId": "52f201c9-d10f-4606-afbc-191fd3394537"
      },
      "id": "Gy3Zb3z-w4Hv",
      "execution_count": 28,
      "outputs": [
        {
          "name": "stdout",
          "output_type": "stream",
          "text": [
            "··········\n"
          ]
        }
      ]
    },
    {
      "source": [
        "openai_api_key = os.getenv(\"openai_api_key)\")"
      ],
      "metadata": {
        "executionCancelledAt": null,
        "executionTime": 10,
        "lastExecutedAt": 1695381359221,
        "lastScheduledRunId": null,
        "lastSuccessfullyExecutedCode": "openai_api_key = os.getenv(\"OPENAI_API_KEY\")",
        "id": "7156b205-f844-4d9e-8867-449ff5840839"
      },
      "id": "7156b205-f844-4d9e-8867-449ff5840839",
      "cell_type": "code",
      "execution_count": null,
      "outputs": []
    },
    {
      "source": [
        "##  Download the YouTube Video"
      ],
      "metadata": {
        "id": "751b9539-cbf7-4d6e-9634-045345cf8a4a"
      },
      "id": "751b9539-cbf7-4d6e-9634-045345cf8a4a",
      "cell_type": "markdown"
    },
    {
      "source": [
        "After setting up the environment, the first step is to download the video from YouTube and convert it to an audio file (.mp3).\n",
        "\n",
        "We'll download a documentary on Bangladesh's economy, a documentary by econ(https://www.youtube.com/watch?v=cI0Cx5dfuVI&ab_channel=Econ).\n",
        "\n",
        "We will do this by setting variables to store the `youtube_url` and the `output_dir` where we want the file to be stored.\n",
        "\n",
        "The `yt_dlp` package allows us to download and convert the video in a few steps, but it does require some configuration.\n",
        "\n",
        "Lastly, we'll create a loop to search the `output_dir` for any .mp3 files. These files will be stored in a list called `audio_files`, which will be used later for transcription with the Whisper model.\n"
      ],
      "metadata": {
        "id": "48abc459-48e5-4c7c-a795-daaf347ceef6"
      },
      "id": "48abc459-48e5-4c7c-a795-daaf347ceef6",
      "cell_type": "markdown"
    },
    {
      "source": [
        "Create the following:\n",
        "- Two variables - `youtube_url` to store the Video URL and `output_dir` that will be the directory where the audio files will be saved.\n"
      ],
      "metadata": {
        "id": "8f2f2698-f768-4437-8e7f-c11327d3d4a7"
      },
      "id": "8f2f2698-f768-4437-8e7f-c11327d3d4a7",
      "cell_type": "markdown"
    },
    {
      "source": [
        "\n",
        "youtube_url = \"https://www.youtube.com/watch?v=cI0Cx5dfuVI&ab_channel=Econ\"\n",
        "# Directory to store the downloaded video\n",
        "output_dir = \"files/audio/\"\n",
        "\n",
        "# Config for youtube-dl\n",
        "ydl_config = {\n",
        "    \"format\": \"bestaudio/best\",\n",
        "    \"postprocessors\": [\n",
        "        {\n",
        "            \"key\": \"FFmpegExtractAudio\",\n",
        "            \"preferredcodec\": \"mp3\",\n",
        "            \"preferredquality\": \"192\",\n",
        "        }\n",
        "    ],\n",
        "    \"outtmpl\": os.path.join(output_dir, \"%(title)s.%(ext)s\"),\n",
        "    \"verbose\": True\n",
        "}\n",
        "\n",
        "# Check if the output directory exists, if not create it\n",
        "if not os.path.exists(output_dir):\n",
        "    os.makedirs(output_dir)\n",
        "\n",
        "\n",
        "# Print a message indicating which video is being downloaded\n",
        "\n",
        "print(f\"Downloading video from {youtube_url}\")\n",
        "\n",
        "\n",
        "# Attempt to download the video using the specified configuration\n",
        "# If a DownloadError occurs, attempt to download the video again\n",
        "\n",
        "try:\n",
        "    with youtube_dl.YoutubeDL(ydl_config) as ydl:\n",
        "        ydl.download([youtube_url])\n",
        "except DownloadError:\n",
        "    with youtube_dl.YoutubeDL(ydl_config) as ydl:\n",
        "        ydl.download([youtube_url])\n",
        "\n"
      ],
      "metadata": {
        "executionCancelledAt": null,
        "executionTime": 13030,
        "lastExecutedAt": 1695381382849,
        "lastScheduledRunId": null,
        "lastSuccessfullyExecutedCode": "# An example YouTube tutorial video\nyoutube_url = \"https://www.youtube.com/watch?v=aqzxYofJ_ck\"\n# Directory to store the downloaded video\noutput_dir = \"files/audio/\"\n\n# Config for youtube-dl\nydl_config = {\n    \"format\": \"bestaudio/best\",\n    \"postprocessors\": [\n        {\n            \"key\": \"FFmpegExtractAudio\",\n            \"preferredcodec\": \"mp3\",\n            \"preferredquality\": \"192\",\n        }\n    ],\n    \"outtmpl\": os.path.join(output_dir, \"%(title)s.%(ext)s\"),\n    \"verbose\": True\n}\n\n# Check if the output directory exists, if not create it\n\nif not os.path.exists(output_dir):\n    os.makedirs(output_dir)\n\n# Print a message indicating which video is being downloaded\n\nprint(f\"Downloading video from {youtube_url}\")\n\n\n# Attempt to download the video using the specified configuration\n# If a DownloadError occurs, attempt to download the video again\n\ntry:\n    with youtube_dl.YoutubeDL(ydl_config) as ydl:\n        ydl.download([youtube_url])\nexcept DownloadError:\n    with youtube_dl.YoutubeDL(ydl_config) as ydl:\n        ydl.download([youtube_url])\n\n\n",
        "outputsMetadata": {
          "0": {
            "height": 357,
            "type": "stream"
          },
          "1": {
            "height": 137,
            "type": "stream"
          },
          "2": {
            "height": 97,
            "type": "stream"
          },
          "3": {
            "height": 37,
            "type": "stream"
          },
          "4": {
            "height": 257,
            "type": "stream"
          },
          "5": {
            "height": 77,
            "type": "stream"
          },
          "6": {
            "height": 57,
            "type": "stream"
          },
          "7": {
            "height": 57,
            "type": "stream"
          },
          "8": {
            "height": 97,
            "type": "stream"
          },
          "9": {
            "height": 77,
            "type": "stream"
          }
        },
        "collapsed": true,
        "jupyter": {
          "outputs_hidden": true,
          "source_hidden": false
        },
        "colab": {
          "base_uri": "https://localhost:8080/"
        },
        "id": "ffb3836d-7b1b-47db-9ccc-6910972dd045",
        "outputId": "a083a755-14e8-46db-9e2d-c28f446fb119"
      },
      "id": "ffb3836d-7b1b-47db-9ccc-6910972dd045",
      "cell_type": "code",
      "execution_count": 62,
      "outputs": [
        {
          "output_type": "stream",
          "name": "stderr",
          "text": [
            "[debug] Encodings: locale UTF-8, fs utf-8, pref UTF-8, out UTF-8 (No ANSI), error UTF-8 (No ANSI), screen UTF-8 (No ANSI)\n",
            "[debug] yt-dlp version stable@2023.12.30 from yt-dlp/yt-dlp [f10589e34] (pip) API\n",
            "[debug] params: {'format': 'bestaudio/best', 'postprocessors': [{'key': 'FFmpegExtractAudio', 'preferredcodec': 'mp3', 'preferredquality': '192'}], 'outtmpl': 'files/audio/%(title)s.%(ext)s', 'verbose': True, 'compat_opts': set(), 'http_headers': {'User-Agent': 'Mozilla/5.0 (Windows NT 10.0; Win64; x64) AppleWebKit/537.36 (KHTML, like Gecko) Chrome/90.0.4430.93 Safari/537.36', 'Accept': 'text/html,application/xhtml+xml,application/xml;q=0.9,*/*;q=0.8', 'Accept-Language': 'en-us,en;q=0.5', 'Sec-Fetch-Mode': 'navigate'}}\n",
            "[debug] Python 3.10.12 (CPython x86_64 64bit) - Linux-6.1.58+-x86_64-with-glibc2.35 (OpenSSL 3.0.2 15 Mar 2022, glibc 2.35)\n",
            "[debug] exe versions: ffmpeg 4.4.2 (setts), ffprobe 4.4.2\n",
            "[debug] Optional libraries: Cryptodome-3.20.0, brotli-1.1.0, certifi-2024.02.02, mutagen-1.47.0, requests-2.31.0, secretstorage-3.3.1, sqlite3-3.37.2, urllib3-2.0.7, websockets-12.0\n",
            "[debug] Proxy map: {'colab_language_server': '/usr/colab/bin/language_service'}\n",
            "[debug] Request Handlers: urllib, requests, websockets\n",
            "[debug] Loaded 1798 extractors\n"
          ]
        },
        {
          "output_type": "stream",
          "name": "stdout",
          "text": [
            "Downloading video from https://www.youtube.com/watch?v=cI0Cx5dfuVI&ab_channel=Econ\n",
            "[youtube] Extracting URL: https://www.youtube.com/watch?v=cI0Cx5dfuVI&ab_channel=Econ\n",
            "[youtube] cI0Cx5dfuVI: Downloading webpage\n",
            "[youtube] cI0Cx5dfuVI: Downloading ios player API JSON\n",
            "[youtube] cI0Cx5dfuVI: Downloading android player API JSON\n",
            "[youtube] cI0Cx5dfuVI: Downloading m3u8 information\n"
          ]
        },
        {
          "output_type": "stream",
          "name": "stderr",
          "text": [
            "[debug] Sort order given by extractor: quality, res, fps, hdr:12, source, vcodec:vp9.2, channels, acodec, lang, proto\n",
            "[debug] Formats sorted by: hasvid, ie_pref, quality, res, fps, hdr:12(7), source, vcodec:vp9.2(10), channels, acodec, lang, proto, size, br, asr, vext, aext, hasaud, id\n"
          ]
        },
        {
          "output_type": "stream",
          "name": "stdout",
          "text": [
            "[info] cI0Cx5dfuVI: Downloading 1 format(s): 251\n"
          ]
        },
        {
          "output_type": "stream",
          "name": "stderr",
          "text": [
            "[debug] Invoking http downloader on \"https://rr3---sn-qxo7rn7r.googlevideo.com/videoplayback?expire=1708513318&ei=xoPVZdy8MdWAir4PvrmKmA8&ip=34.173.139.183&id=o-AFLk2001Kuazy_zWAAhcYj2hrOV1CfRqB-bggCur4UCo&itag=251&source=youtube&requiressl=yes&xpc=EgVo2aDSNQ%3D%3D&mh=M5&mm=31%2C29&mn=sn-qxo7rn7r%2Csn-qxoedn7k&ms=au%2Crdu&mv=m&mvi=3&pl=17&initcwndbps=5591250&spc=UWF9f8vubpQ-ScSq08seuH_AiLivgxvVey7QqFDAzkRb4Jg&vprv=1&svpuc=1&mime=audio%2Fwebm&gir=yes&clen=13726412&dur=822.021&lmt=1704833614198901&mt=1708491404&fvip=1&keepalive=yes&fexp=24007246&c=ANDROID&txp=5532434&sparams=expire%2Cei%2Cip%2Cid%2Citag%2Csource%2Crequiressl%2Cxpc%2Cspc%2Cvprv%2Csvpuc%2Cmime%2Cgir%2Cclen%2Cdur%2Clmt&sig=AJfQdSswRAIgPsZcdtgUCWwCzlwQu9fkspB3Z8TbJHG9OGLtBvQF3cQCIGUTydxmj0qNIMydnhKthwpO7YDWLabr8BMBqbIiZieG&lsparams=mh%2Cmm%2Cmn%2Cms%2Cmv%2Cmvi%2Cpl%2Cinitcwndbps&lsig=APTiJQcwRAIgctDReoRNkDqaRQWYmkne2reFEIG2dEF5txMTPSUtGSwCIByjffXbMF_x4_x9DlBVJYsY-rUQZQfAX6ly63EKRvoR\"\n"
          ]
        },
        {
          "output_type": "stream",
          "name": "stdout",
          "text": [
            "[download] Destination: files/audio/Bangladesh Economy is Getting Rich but It Is at Risk ｜ Bangladesh Economy ｜ Econ.webm\n",
            "[download] 100% of   13.09MiB in 00:00:00 at 25.47MiB/s  \n"
          ]
        },
        {
          "output_type": "stream",
          "name": "stderr",
          "text": [
            "[debug] ffmpeg command line: ffprobe -show_streams 'file:files/audio/Bangladesh Economy is Getting Rich but It Is at Risk ｜ Bangladesh Economy ｜ Econ.webm'\n"
          ]
        },
        {
          "output_type": "stream",
          "name": "stdout",
          "text": [
            "[ExtractAudio] Destination: files/audio/Bangladesh Economy is Getting Rich but It Is at Risk ｜ Bangladesh Economy ｜ Econ.mp3\n"
          ]
        },
        {
          "output_type": "stream",
          "name": "stderr",
          "text": [
            "[debug] ffmpeg command line: ffmpeg -y -loglevel repeat+info -i 'file:files/audio/Bangladesh Economy is Getting Rich but It Is at Risk ｜ Bangladesh Economy ｜ Econ.webm' -vn -acodec libmp3lame -b:a 192.0k -movflags +faststart 'file:files/audio/Bangladesh Economy is Getting Rich but It Is at Risk ｜ Bangladesh Economy ｜ Econ.mp3'\n"
          ]
        },
        {
          "output_type": "stream",
          "name": "stdout",
          "text": [
            "Deleting original file files/audio/Bangladesh Economy is Getting Rich but It Is at Risk ｜ Bangladesh Economy ｜ Econ.webm (pass -k to keep)\n"
          ]
        }
      ]
    },
    {
      "source": [
        "To find the audio files that we will use the `glob`module that looks in the `output_dir` to find any .mp3 files. Then we will append the file to a list called `audio_files`. This will be used later to send each file to the Whisper model for transcription."
      ],
      "metadata": {
        "id": "df9c586d-309a-411b-90a5-6e81fe85eda4"
      },
      "id": "df9c586d-309a-411b-90a5-6e81fe85eda4",
      "cell_type": "markdown"
    },
    {
      "source": [
        "Varifying the file name:"
      ],
      "metadata": {
        "id": "0fa69a42-7065-4c3f-8699-fe48908f11b1"
      },
      "id": "0fa69a42-7065-4c3f-8699-fe48908f11b1",
      "cell_type": "markdown"
    },
    {
      "source": [
        "# Find the audio file in the output directory\n",
        "\n",
        "# Find all the audio files in the output directory\n",
        "audio_files = glob.glob(os.path.join(output_dir, \"*.mp3\"))\n",
        "\n",
        "\n",
        "# Select the first audio file in the list\n",
        "audio_filename = audio_files[0]\n",
        "\n",
        "# Print the name of the selected audio file\n",
        "print(audio_filename)"
      ],
      "metadata": {
        "executionCancelledAt": null,
        "executionTime": 53,
        "lastExecutedAt": 1695381382903,
        "lastScheduledRunId": null,
        "lastSuccessfullyExecutedCode": "# Find the audio file in the output directory\n\n# Find all the audio files in the output directory\naudio_files = glob.glob(os.path.join(output_dir, \"*.mp3\"))\n\n# Select the first audio file in the list\naudio_filename = audio_files[0]\n\n# Print the name of the selected audio file\nprint(audio_filename)",
        "outputsMetadata": {
          "0": {
            "height": 56,
            "type": "stream"
          }
        },
        "colab": {
          "base_uri": "https://localhost:8080/"
        },
        "id": "c3d0a34d-ade9-4314-bc7d-480f165b3992",
        "outputId": "64b30ccf-77f4-4e2b-d358-c24f8e28f30c"
      },
      "id": "c3d0a34d-ade9-4314-bc7d-480f165b3992",
      "cell_type": "code",
      "execution_count": 63,
      "outputs": [
        {
          "output_type": "stream",
          "name": "stdout",
          "text": [
            "files/audio/Bangladesh Economy is Getting Rich but It Is at Risk ｜ Bangladesh Economy ｜ Econ.mp3\n"
          ]
        }
      ]
    },
    {
      "source": [
        "##  Transcribe the Video using Whisper"
      ],
      "metadata": {
        "id": "a9fe2a4e-b6ac-43d3-9b22-7df437015913"
      },
      "id": "a9fe2a4e-b6ac-43d3-9b22-7df437015913",
      "cell_type": "markdown"
    },
    {
      "source": [
        "In this step we will take the downloaded and converted Youtube video and send it to the Whisper model to be transcribed. To do this we will create variables for the `audio_file`, for the `output_file` and the model.\n",
        "\n",
        "Using these variables we will:\n",
        "- create a list to store the transcripts\n",
        "- Read the Audio File\n",
        "- Send the file to the Whisper Model using the OpenAI package"
      ],
      "metadata": {
        "id": "1a00b32c-06e2-4fb1-8830-3634b13d133a"
      },
      "id": "1a00b32c-06e2-4fb1-8830-3634b13d133a",
      "cell_type": "markdown"
    },
    {
      "cell_type": "code",
      "source": [
        "from openai import OpenAI\n",
        "client = OpenAI(api_key=\"openai-api-key\")\n"
      ],
      "metadata": {
        "id": "xBepLOWN0RhT"
      },
      "id": "xBepLOWN0RhT",
      "execution_count": 64,
      "outputs": []
    },
    {
      "source": [
        "# Define the directory containing the audio files\n",
        "audio_directory = \"/content/files/audio/\"\n",
        "\n",
        "# List all files in the directory\n",
        "audio_files = [file for file in os.listdir(audio_directory) if file.endswith(\".mp3\")]\n",
        "\n",
        "# Define the model to use for transcription\n",
        "model = \"whisper-1\"\n",
        "\n",
        "# Iterate over each audio file\n",
        "for filename in audio_files:\n",
        "    # Construct the full path of the audio file\n",
        "    audio_file_path = os.path.join(audio_directory, filename)\n",
        "\n",
        "    # Open the audio file\n",
        "    with open(audio_file_path, \"rb\") as audio_file:\n",
        "        # Transcribe the audio file to text using OpenAI API\n",
        "        print(f\"Transcribing {filename}...\")\n",
        "        transcription = client.audio.transcriptions.create(\n",
        "            model=model,\n",
        "            file=audio_file\n",
        "        )\n",
        "        # Access the text from the transcription object\n",
        "\n",
        "\n",
        "        # Print the transcript for each audio file\n",
        "        print(f\"Transcript for {filename}: {transcription}\")"
      ],
      "metadata": {
        "executionCancelledAt": null,
        "executionTime": 1667,
        "lastExecutedAt": 1695385362796,
        "lastScheduledRunId": null,
        "lastSuccessfullyExecutedCode": "# Define function parameters\naudio_file = audio_filename\noutput_file = \"files/transcripts/transcript.txt\"\nmodel = \"whisper-1\"\n\n# Print the name of the audio file\nprint(audio_file)\n\n# Transcribe the audio file to text using OpenAI API\nprint(\"converting audio to text...\")\nwith open(audio_file, \"rb\") as audio:\n    response = openai.Audio.transcribe(model, audio)\n\n# Extract the transcript from the response\ntranscript = (response[\"text\"])\n",
        "outputsMetadata": {
          "0": {
            "height": 76,
            "type": "stream"
          }
        },
        "jupyter": {
          "outputs_hidden": false,
          "source_hidden": false
        },
        "colab": {
          "base_uri": "https://localhost:8080/"
        },
        "id": "54306dcc-40f7-4a12-97ef-388b95c70ad4",
        "outputId": "27bde462-4a11-46fd-9171-f3ce3c6e15fb"
      },
      "id": "54306dcc-40f7-4a12-97ef-388b95c70ad4",
      "cell_type": "code",
      "execution_count": 77,
      "outputs": [
        {
          "output_type": "stream",
          "name": "stdout",
          "text": [
            "Transcribing Bangladesh Economy is Getting Rich but It Is at Risk ｜ Bangladesh Economy ｜ Econ.mp3...\n",
            "Transcript for Bangladesh Economy is Getting Rich but It Is at Risk ｜ Bangladesh Economy ｜ Econ.mp3: Transcription(text=\"This is Bangladesh, which has emerged as one of Asia's most remarkable and unexpected success stories in recent years. In colonial times, the eastern half of Bengal was one of the poorest parts of British India. However, in the 18th century, before the British Raj, it stood as the richest region in India. Bengal operated as a centre for the worldwide muslin, silk and pearl trades. It exported saltpetre to Europe, sold opium in Indonesia, sent raw silk to Japan and the Netherlands, and manufactured cotton and silk textiles for global export. Real wages and living standards in 18th century Bengal were comparable to Britain, which, in turn, had the highest living standards in Europe. After phases of economic exploitation in India, gaining independence and experiencing partition in 1947, East Bengal, or East Pakistan, became one of the poorest countries in the Indian subcontinent. After declaring itself an independent country, Bangladesh, in 1971, became even poorer as the rump of Pakistan fought a savage war to retain it, destroying a significant share of its few assets and killing many of its best and brightest. Following its independence from Pakistan, a new nation, Bangladesh, was born. But expectations couldn't have been lower. The country was promptly dismissed as an international basket case by Ural Alexis Johnson, the US Undersecretary of State for Political Affairs at the time. Secretary of State Henry Kissinger agreed. Few could have predicted how the tables would turn. Over the intervening period, the country's income per person has surpassed both Pakistan's and India's at current prices. But in terms of purchasing power parity, India is still ahead. Before the pandemic, economic growth exceeded 7%, outpacing not just Pakistan and India, but even China. Bangladeshis are not just wealthier, but also healthier and better educated. Some 98% of Bangladeshi children finish primary school, compared with less than a third in the 1980s. Literacy has soared, and infant mortality has plunged. Life expectancy in 2021 was 72 years, a gain of over 16 years since 1990. The country's Human Development Index, HDI ranking, is now 129th out of a total of 189 countries. Still relatively low, but better than both Pakistan and India. Bangladesh achieved remarkable economic transformation in just 52 years of independence. The World Bank now classifies it as a lower-middle income economy, deserving praise and capable of offering important lessons for today's low-income countries. But is the praise entirely justified? Is its economy sustainable? Can Bangladesh now serve as a model for other countries, perhaps providing an alternative to the long-standing East Asian export-led growth paradigm? On August 15th, 1947, the great symbol of the British Empire came down for the last time, to be replaced by the banner of the new Indian government. The partition of India created two dominions to separate Muslim and non-Muslim populations, India and West and East Pakistan, which included modern-day Bangladesh. For over two decades, the majority Bengali population in East Pakistan was ruled by a central government based in West Pakistan, which spent the majority of capital on its own development. The Bengali grievance was that Bengal was being deprived of its legitimate share in economic resources. Devastating as the War of Independence was, in some ways, it set Bangladesh on the path to success. Many expatriates came home to help their new country recover. Charities like BRAC had a particularly significant impact because they targeted women. By the 1990s, it was running 64,000 schools, not only educating girls, but also employing women to teach in them. There are now more girls in high school than boys, another difference from India and Pakistan. BRAC and other organisations also popularised microcredit, turning millions of rural women into entrepreneurs and maintaining basic social spending. On the jammed streets of Dhaka, bicycle rickshaws jostle for position with cars and trucks. In the world's most densely populated country, to survive you have to find your niche. And in the global economy, Bangladesh has found its niche in exporting ready-made garments. Bangladesh's growth stems, in large part, from its success as an exporter of garments. Today, Bangladesh is one of the world's largest garment exporters, with the RMG, ready-made garment, sector accounting for 85% of the country's exports and contributing 9% to GDP. The sector supplies clothing to top brands worldwide, and the majority of the 4.4 million workers in this industry are women, 60-70%, an immensely empowering phenomenon in a country where other job opportunities are scarce. About 80% of Bangladesh's foreign exchange is generated by the sector. Additionally, approximately 10 million Bangladeshis working overseas send back $15 billion annually as remittances, constituting another substantial part of the national income. In 2021, Bangladesh's foreign exchange reserves reached an all-time high of $48 billion. The principal driver of growth is investment, which has risen from 24% of GDP in 2000 to 32% in 2022, significantly higher than Pakistan's 13%. Very little is derived from productivity, remaining below 1% per annum since 2000. Bangladesh has lower productivity compared to India, Indonesia, Pakistan, Vietnam, and China, the primary determinant of long-term growth of incomes for all countries. Despite dire expectations, military coups in 1975, 1982, and 2007, and a series of natural disasters, Bangladesh has, in fact, made significant progress in reducing poverty and promoting economic growth. It has dramatically improved its prospects, even overtaking India's economic standing, at least on a per capita basis. However, a closer look raises other questions about the quality of this economic record. First, its extreme dependence on a single category of exports, apparel and clothing, and the low share of exports to GDP. While a country like South Korea managed to diversify away from resource-based products, garments and footwear within a matter of 15-20 years, starting in 1963, and emerged stronger as an exporter of complex products including steel, machinery, chemicals, transport equipment and consumer electronics, Bangladesh remains focused on a narrow range of relatively low-value garments more than 40 years after the industry took root in 1977-1982. While Bangladesh's RMG sector remains a strong exporter to Europe's fashion industry, and has significantly grown its market share over the past decade, this trend may not continue. The new preferential trade agreement between the European Union, EU, and Vietnam could well lead to apparel exports from Vietnam outperforming Bangladesh's. Among US apparel importers, Vietnam has outpaced Bangladesh's RMG industry for some time. Vietnamese apparel imports into the US were worth 2.5 times those from Bangladesh. As buyers from the US move sourcing out of China, Vietnam is proving to be the biggest winner. Bangladesh's share of exports in GDP has also fallen since 2012, from 20% to 12%, far short of Vietnam's. In addition, the economic complexity, which measures the productive capabilities of large economic systems, of Bangladesh's trade has also slipped from 77 in 1991 to 101 in 2021, whereas India is at 41 and Vietnam at 54. Bangladesh's achievement in ready-made garments is remarkable. However, dependence on a single sector for the majority of export earnings is risky. To sustain economic growth amidst the current global landscape, Bangladesh needs to improve the competitiveness of several other promising sectors to diversify its export basket. It is striving to diversify the trade landscape into light engineering, plastics, leather, and footwear. However, to compete on a global scale, companies must improve to meet international standards, but they often fail to do so. Although Bangladesh has attempted to diversify into pharmaceuticals and can meet most of the domestic demand, export earnings were a mere $169 million in 2021, but it is growing at 21%. Needed diversification is slowed by the weakness of private investment in new industries, which has been exasperated by constraints on the availability of credit, especially to small and medium enterprises. The entry and growth of firms are also hampered by the deterioration of the business environment. According to the World Bank's Doing Business Index, Bangladesh ranked 168th out of 190 countries, falling from 65th in 2006. In contrast, competitive countries like India, Indonesia, and Vietnam have seen improvements in their rankings over time. Despite steady economic growth in the country over the past decade, foreign direct investment – FDI – has been comparatively low in Bangladesh compared to regional peers. The rate of FDI inflow in Bangladesh is less than 1% of GDP – one of the lowest in Asia – while FDI in Vietnam is dominating in the region. Government agencies in Bangladesh often claim that they are sincere and very keen on promoting investment by implementing various liberal policies and policy reforms, along with providing incentives. However, government claims do not always reflect the ground reality. The main reasons that discourage foreign investors include its time-consuming bureaucracy, inadequate physical infrastructure, unreliable energy supply, low labour productivity, high cost of doing business, and pervasive corruption. According to Transparency International's ranking, Bangladesh occupies the 147th slot between Madagascar and Nigeria, making a drop of four places from 2010. The experience of Vietnam, which has attracted foreign investment in the electronics industry from Chinese, Japanese, and Korean multinational corporations, and of Thailand, which major auto manufacturers have turned into the Detroit of Southeast Asia, is not being replicated, making it even harder for India and Indonesia. Bangladesh's success brings its own set of problems. For one, its exports benefit from the country's participation in various mechanisms that allow tariff-free access to developed economies, such as the US's Generalised System of Preferences. These groupings are only open to the world's least developed countries. Thanks to its growth, Bangladesh will likely have to give up these privileges by 2026 or so, upon graduation from the least developed country status. Recently, increasing access to financial services is becoming increasingly important, especially in today's digital economy. Bangladesh has been a pioneer in financial inclusion. The introduction of microfinance, mobile financial services, and agent-based banking are notable initiatives. The authorities also promote lending for small and medium-sized enterprises and women entrepreneurs, requiring that banks open at least 50% of their branches in rural areas. These efforts have improved the ratio of bank deposit accounts in the adult population, and credit provided to small and medium-sized enterprises run by women. They have also helped boost the number of women entrepreneurs and the number of active mobile money accounts. The forthcoming National Financial Inclusion Strategy will carry forth this momentum. However, to keep this momentum going, Bangladesh will need to boost productive investment by addressing infrastructure bottlenecks and strengthening the banking sector. Bangladesh's success story raises a question. If Bangladesh's social achievements have been greater than its economic ones, does that mean economic growth is pointless? No, but Bangladesh shows that we do not need to wait for extensive growth. However, it might have been done better had its economy grown faster. Growth either made only a modest contribution to the factors that mattered most, or it could have helped them along more. There were no strong trade-offs. Clearly, the major economic challenges facing Bangladesh are results of inadequate and incorrect policies. Added to this are poor policy implementation, inherent structural weaknesses, lack of good governance, and an absence of reform initiatives. A valuable aspect of this 52-year anniversary is that we can observe the megatrends clearly visible in Bangladesh. Sometimes, we are caught up in the issues of the day and forget what has been achieved thanks to the hard work of the Bangladeshi people. It is impressive to see how this country has transformed itself from the devastation of war and natural disasters at the beginning of independence, to become a middle-income country today, aspiring to even greater prosperity for all of its people.\")\n"
          ]
        }
      ]
    },
    {
      "cell_type": "code",
      "source": [
        "## see the text data\n",
        "transcription.text"
      ],
      "metadata": {
        "colab": {
          "base_uri": "https://localhost:8080/",
          "height": 140
        },
        "id": "E-yEORkl1SRi",
        "outputId": "fb7e93ab-09a2-4657-c3f8-5c2b1c6ce071"
      },
      "id": "E-yEORkl1SRi",
      "execution_count": 78,
      "outputs": [
        {
          "output_type": "execute_result",
          "data": {
            "text/plain": [
              "\"This is Bangladesh, which has emerged as one of Asia's most remarkable and unexpected success stories in recent years. In colonial times, the eastern half of Bengal was one of the poorest parts of British India. However, in the 18th century, before the British Raj, it stood as the richest region in India. Bengal operated as a centre for the worldwide muslin, silk and pearl trades. It exported saltpetre to Europe, sold opium in Indonesia, sent raw silk to Japan and the Netherlands, and manufactured cotton and silk textiles for global export. Real wages and living standards in 18th century Bengal were comparable to Britain, which, in turn, had the highest living standards in Europe. After phases of economic exploitation in India, gaining independence and experiencing partition in 1947, East Bengal, or East Pakistan, became one of the poorest countries in the Indian subcontinent. After declaring itself an independent country, Bangladesh, in 1971, became even poorer as the rump of Pakistan fought a savage war to retain it, destroying a significant share of its few assets and killing many of its best and brightest. Following its independence from Pakistan, a new nation, Bangladesh, was born. But expectations couldn't have been lower. The country was promptly dismissed as an international basket case by Ural Alexis Johnson, the US Undersecretary of State for Political Affairs at the time. Secretary of State Henry Kissinger agreed. Few could have predicted how the tables would turn. Over the intervening period, the country's income per person has surpassed both Pakistan's and India's at current prices. But in terms of purchasing power parity, India is still ahead. Before the pandemic, economic growth exceeded 7%, outpacing not just Pakistan and India, but even China. Bangladeshis are not just wealthier, but also healthier and better educated. Some 98% of Bangladeshi children finish primary school, compared with less than a third in the 1980s. Literacy has soared, and infant mortality has plunged. Life expectancy in 2021 was 72 years, a gain of over 16 years since 1990. The country's Human Development Index, HDI ranking, is now 129th out of a total of 189 countries. Still relatively low, but better than both Pakistan and India. Bangladesh achieved remarkable economic transformation in just 52 years of independence. The World Bank now classifies it as a lower-middle income economy, deserving praise and capable of offering important lessons for today's low-income countries. But is the praise entirely justified? Is its economy sustainable? Can Bangladesh now serve as a model for other countries, perhaps providing an alternative to the long-standing East Asian export-led growth paradigm? On August 15th, 1947, the great symbol of the British Empire came down for the last time, to be replaced by the banner of the new Indian government. The partition of India created two dominions to separate Muslim and non-Muslim populations, India and West and East Pakistan, which included modern-day Bangladesh. For over two decades, the majority Bengali population in East Pakistan was ruled by a central government based in West Pakistan, which spent the majority of capital on its own development. The Bengali grievance was that Bengal was being deprived of its legitimate share in economic resources. Devastating as the War of Independence was, in some ways, it set Bangladesh on the path to success. Many expatriates came home to help their new country recover. Charities like BRAC had a particularly significant impact because they targeted women. By the 1990s, it was running 64,000 schools, not only educating girls, but also employing women to teach in them. There are now more girls in high school than boys, another difference from India and Pakistan. BRAC and other organisations also popularised microcredit, turning millions of rural women into entrepreneurs and maintaining basic social spending. On the jammed streets of Dhaka, bicycle rickshaws jostle for position with cars and trucks. In the world's most densely populated country, to survive you have to find your niche. And in the global economy, Bangladesh has found its niche in exporting ready-made garments. Bangladesh's growth stems, in large part, from its success as an exporter of garments. Today, Bangladesh is one of the world's largest garment exporters, with the RMG, ready-made garment, sector accounting for 85% of the country's exports and contributing 9% to GDP. The sector supplies clothing to top brands worldwide, and the majority of the 4.4 million workers in this industry are women, 60-70%, an immensely empowering phenomenon in a country where other job opportunities are scarce. About 80% of Bangladesh's foreign exchange is generated by the sector. Additionally, approximately 10 million Bangladeshis working overseas send back $15 billion annually as remittances, constituting another substantial part of the national income. In 2021, Bangladesh's foreign exchange reserves reached an all-time high of $48 billion. The principal driver of growth is investment, which has risen from 24% of GDP in 2000 to 32% in 2022, significantly higher than Pakistan's 13%. Very little is derived from productivity, remaining below 1% per annum since 2000. Bangladesh has lower productivity compared to India, Indonesia, Pakistan, Vietnam, and China, the primary determinant of long-term growth of incomes for all countries. Despite dire expectations, military coups in 1975, 1982, and 2007, and a series of natural disasters, Bangladesh has, in fact, made significant progress in reducing poverty and promoting economic growth. It has dramatically improved its prospects, even overtaking India's economic standing, at least on a per capita basis. However, a closer look raises other questions about the quality of this economic record. First, its extreme dependence on a single category of exports, apparel and clothing, and the low share of exports to GDP. While a country like South Korea managed to diversify away from resource-based products, garments and footwear within a matter of 15-20 years, starting in 1963, and emerged stronger as an exporter of complex products including steel, machinery, chemicals, transport equipment and consumer electronics, Bangladesh remains focused on a narrow range of relatively low-value garments more than 40 years after the industry took root in 1977-1982. While Bangladesh's RMG sector remains a strong exporter to Europe's fashion industry, and has significantly grown its market share over the past decade, this trend may not continue. The new preferential trade agreement between the European Union, EU, and Vietnam could well lead to apparel exports from Vietnam outperforming Bangladesh's. Among US apparel importers, Vietnam has outpaced Bangladesh's RMG industry for some time. Vietnamese apparel imports into the US were worth 2.5 times those from Bangladesh. As buyers from the US move sourcing out of China, Vietnam is proving to be the biggest winner. Bangladesh's share of exports in GDP has also fallen since 2012, from 20% to 12%, far short of Vietnam's. In addition, the economic complexity, which measures the productive capabilities of large economic systems, of Bangladesh's trade has also slipped from 77 in 1991 to 101 in 2021, whereas India is at 41 and Vietnam at 54. Bangladesh's achievement in ready-made garments is remarkable. However, dependence on a single sector for the majority of export earnings is risky. To sustain economic growth amidst the current global landscape, Bangladesh needs to improve the competitiveness of several other promising sectors to diversify its export basket. It is striving to diversify the trade landscape into light engineering, plastics, leather, and footwear. However, to compete on a global scale, companies must improve to meet international standards, but they often fail to do so. Although Bangladesh has attempted to diversify into pharmaceuticals and can meet most of the domestic demand, export earnings were a mere $169 million in 2021, but it is growing at 21%. Needed diversification is slowed by the weakness of private investment in new industries, which has been exasperated by constraints on the availability of credit, especially to small and medium enterprises. The entry and growth of firms are also hampered by the deterioration of the business environment. According to the World Bank's Doing Business Index, Bangladesh ranked 168th out of 190 countries, falling from 65th in 2006. In contrast, competitive countries like India, Indonesia, and Vietnam have seen improvements in their rankings over time. Despite steady economic growth in the country over the past decade, foreign direct investment – FDI – has been comparatively low in Bangladesh compared to regional peers. The rate of FDI inflow in Bangladesh is less than 1% of GDP – one of the lowest in Asia – while FDI in Vietnam is dominating in the region. Government agencies in Bangladesh often claim that they are sincere and very keen on promoting investment by implementing various liberal policies and policy reforms, along with providing incentives. However, government claims do not always reflect the ground reality. The main reasons that discourage foreign investors include its time-consuming bureaucracy, inadequate physical infrastructure, unreliable energy supply, low labour productivity, high cost of doing business, and pervasive corruption. According to Transparency International's ranking, Bangladesh occupies the 147th slot between Madagascar and Nigeria, making a drop of four places from 2010. The experience of Vietnam, which has attracted foreign investment in the electronics industry from Chinese, Japanese, and Korean multinational corporations, and of Thailand, which major auto manufacturers have turned into the Detroit of Southeast Asia, is not being replicated, making it even harder for India and Indonesia. Bangladesh's success brings its own set of problems. For one, its exports benefit from the country's participation in various mechanisms that allow tariff-free access to developed economies, such as the US's Generalised System of Preferences. These groupings are only open to the world's least developed countries. Thanks to its growth, Bangladesh will likely have to give up these privileges by 2026 or so, upon graduation from the least developed country status. Recently, increasing access to financial services is becoming increasingly important, especially in today's digital economy. Bangladesh has been a pioneer in financial inclusion. The introduction of microfinance, mobile financial services, and agent-based banking are notable initiatives. The authorities also promote lending for small and medium-sized enterprises and women entrepreneurs, requiring that banks open at least 50% of their branches in rural areas. These efforts have improved the ratio of bank deposit accounts in the adult population, and credit provided to small and medium-sized enterprises run by women. They have also helped boost the number of women entrepreneurs and the number of active mobile money accounts. The forthcoming National Financial Inclusion Strategy will carry forth this momentum. However, to keep this momentum going, Bangladesh will need to boost productive investment by addressing infrastructure bottlenecks and strengthening the banking sector. Bangladesh's success story raises a question. If Bangladesh's social achievements have been greater than its economic ones, does that mean economic growth is pointless? No, but Bangladesh shows that we do not need to wait for extensive growth. However, it might have been done better had its economy grown faster. Growth either made only a modest contribution to the factors that mattered most, or it could have helped them along more. There were no strong trade-offs. Clearly, the major economic challenges facing Bangladesh are results of inadequate and incorrect policies. Added to this are poor policy implementation, inherent structural weaknesses, lack of good governance, and an absence of reform initiatives. A valuable aspect of this 52-year anniversary is that we can observe the megatrends clearly visible in Bangladesh. Sometimes, we are caught up in the issues of the day and forget what has been achieved thanks to the hard work of the Bangladeshi people. It is impressive to see how this country has transformed itself from the devastation of war and natural disasters at the beginning of independence, to become a middle-income country today, aspiring to even greater prosperity for all of its people.\""
            ],
            "application/vnd.google.colaboratory.intrinsic+json": {
              "type": "string"
            }
          },
          "metadata": {},
          "execution_count": 78
        }
      ]
    },
    {
      "source": [
        "To save the transcripts to text files we will use the below provided code. The .txt file will be uploaded in langchain for the purpose of querying."
      ],
      "metadata": {
        "id": "7255d301-69e2-4e04-813d-5a90b5ebcbdc"
      },
      "id": "7255d301-69e2-4e04-813d-5a90b5ebcbdc",
      "cell_type": "markdown"
    },
    {
      "cell_type": "code",
      "source": [
        "import os\n",
        "\n",
        "# Define the directory where you want to save the transcript file\n",
        "output_directory = \"/content/files/transcripts/\"\n",
        "\n",
        "# Create the directory if it doesn't exist\n",
        "os.makedirs(output_directory, exist_ok=True)\n",
        "\n",
        "# Specify the name of the output file within the directory\n",
        "output_file = os.path.join(output_directory, \"BD_transcript.txt\")\n",
        "\n",
        "# Assuming you have a variable named transcript containing the transcript content\n",
        "transcript = \"This is the transcript content.\"\n",
        "\n",
        "# Write the transcript to the output file\n",
        "with open(output_file, 'w') as file:\n",
        "    file.write(transcript)\n",
        "\n",
        "print(f\"Transcript saved to {output_file}\")\n"
      ],
      "metadata": {
        "colab": {
          "base_uri": "https://localhost:8080/"
        },
        "id": "znquoKsENGd2",
        "outputId": "b22928af-9605-4b88-f769-caee5fdcfce3"
      },
      "id": "znquoKsENGd2",
      "execution_count": 79,
      "outputs": [
        {
          "output_type": "stream",
          "name": "stdout",
          "text": [
            "Transcript saved to /content/files/transcripts/BD_transcript.txt\n"
          ]
        }
      ]
    },
    {
      "source": [
        "## Create a TextLoader using LangChain"
      ],
      "metadata": {
        "id": "c1001454-eb29-4981-825f-fa08e2fc48e8"
      },
      "id": "c1001454-eb29-4981-825f-fa08e2fc48e8",
      "cell_type": "markdown"
    },
    {
      "source": [
        "In order to use text or other types of data with LangChain we must first convert that data into Documents. This is done by using loaders. Here, we will use the `TextLoader` that will take the text from our transcript and load it into a document."
      ],
      "metadata": {
        "id": "8191715b-72ad-4a34-ac95-02e1fbf8d391"
      },
      "id": "8191715b-72ad-4a34-ac95-02e1fbf8d391",
      "cell_type": "markdown"
    },
    {
      "source": [
        "# Import the TextLoader class from the langchain.document_loaders module\n",
        "\n",
        "from langchain.document_loaders import TextLoader\n",
        "\n",
        "# Create a new instance of the TextLoader class, specifying the directory containing the text files\n",
        "\n",
        "loader = TextLoader(\"/content/files/transcripts/BD_transcript.txt\")\n",
        "\n",
        "# Load the documents from the specified directory using the TextLoader instance\n",
        "\n",
        "docs = loader.load()"
      ],
      "metadata": {
        "executionCancelledAt": null,
        "executionTime": 12,
        "lastExecutedAt": 1695381464265,
        "lastScheduledRunId": null,
        "lastSuccessfullyExecutedCode": "# Import the TextLoader class from the langchain.document_loaders module\n\nfrom langchain.document_loaders import TextLoader\n\n# Create a new instance of the TextLoader class, specifying the directory containing the text files\n\nloader = TextLoader(\"./files/text\")\n\n# Load the documents from the specified directory using the TextLoader instance\n\ndocs = loader.load()",
        "id": "bb8654f7-965e-4e62-98ab-d08b7026e3d9"
      },
      "id": "bb8654f7-965e-4e62-98ab-d08b7026e3d9",
      "cell_type": "code",
      "execution_count": 81,
      "outputs": []
    },
    {
      "cell_type": "code",
      "source": [
        "docs"
      ],
      "metadata": {
        "colab": {
          "base_uri": "https://localhost:8080/"
        },
        "id": "UTssId2j2hLq",
        "outputId": "eb6eab51-d37e-49cf-9a26-cef8852513eb"
      },
      "id": "UTssId2j2hLq",
      "execution_count": 82,
      "outputs": [
        {
          "output_type": "execute_result",
          "data": {
            "text/plain": [
              "[Document(page_content='This is the transcript content.', metadata={'source': '/content/files/transcripts/BD_transcript.txt'})]"
            ]
          },
          "metadata": {},
          "execution_count": 82
        }
      ]
    },
    {
      "cell_type": "markdown",
      "source": [
        "We can also upload different documents. In that case, we need run a for loop and save all the documents together in a list for further analysis. But it is prefarable to use multiple files for pdf with vector database."
      ],
      "metadata": {
        "id": "pqqCCeB--SYQ"
      },
      "id": "pqqCCeB--SYQ"
    },
    {
      "cell_type": "code",
      "source": [
        "## example case of multiple file usage. BE AWARE OF THE TOKENS!!!!!\n",
        "\n",
        "from langchain.document_loaders import TextLoader\n",
        "import os\n",
        "\n",
        "# Specify the directory containing the text files\n",
        "directory_path = \"./files/transcripts/\"\n",
        "\n",
        "# List all files in the directory\n",
        "all_files = os.listdir(directory_path)\n",
        "\n",
        "# Filter out only the .txt files\n",
        "txt_files = [file for file in all_files if file.endswith(\".txt\")]\n",
        "\n",
        "# Create a new instance of the TextLoader class for each text file\n",
        "docs2 = []\n",
        "for txt_file in txt_files:\n",
        "    # Construct the full path of the text file\n",
        "    txt_file_path = os.path.join(directory_path, txt_file)\n",
        "    # Create a TextLoader instance for the text file\n",
        "    loader = TextLoader(txt_file_path)\n",
        "    # Load the document from the text file\n",
        "    doc = loader.load()\n",
        "    # Append the loaded document to the list of documents\n",
        "    docs2.append(doc)"
      ],
      "metadata": {
        "id": "FzCz5miU2KTk"
      },
      "id": "FzCz5miU2KTk",
      "execution_count": null,
      "outputs": []
    },
    {
      "source": [
        "# Show the first element of docs to verify it has been loaded\n",
        "docs2"
      ],
      "metadata": {
        "executionCancelledAt": null,
        "executionTime": 18,
        "lastExecutedAt": 1695381467004,
        "lastScheduledRunId": null,
        "lastSuccessfullyExecutedCode": "# Show the first element of docs to verify it has been loaded \ndocs[0]",
        "jupyter": {
          "outputs_hidden": false,
          "source_hidden": false
        },
        "colab": {
          "base_uri": "https://localhost:8080/"
        },
        "id": "269aaed5-7d07-43d7-a2d0-a89730ec4bc9",
        "outputId": "2b282664-9e5d-40f5-8e86-7f1acacf9642"
      },
      "id": "269aaed5-7d07-43d7-a2d0-a89730ec4bc9",
      "cell_type": "code",
      "execution_count": null,
      "outputs": [
        {
          "output_type": "execute_result",
          "data": {
            "text/plain": [
              "[[Document(page_content=\"Machine learning. Teach a computer how to perform a task without explicitly programming it to perform said task. Instead, feed data into an algorithm to gradually improve outcomes with experience, similar to how organic life learns. The term was coined in 1959 by Arthur Samuel at IBM, who was developing artificial intelligence that could play checkers. Half a century later, and predictive models are embedded in many of the products we use every day, which perform two fundamental jobs. One is to classify data, like is there another car on the road, or does this patient have cancer? The other is to make predictions about future outcomes, like will the stock go up, or which YouTube video do you want to watch next? The first step in the process is to acquire and clean up data. Lots and lots of data. The better the data represents the problem, the better the results. Garbage in, garbage out. The data needs to have some kind of signal to be valuable to the algorithm for making predictions. And data scientists perform a job called feature engineering to transform raw data into features that better represent the underlying problem. The next step is to separate the data into a training set and testing set. The training data is fed into an algorithm to build a model, then the testing data is used to validate the accuracy or error of the model. The next step is to choose an algorithm, which might be a simple statistical model like linear or logistic regression, or a decision tree that assigns different weights to features in the data. Or you might get fancy with a convolutional neural network, which is an algorithm that also assigns weights to features, but also takes the input data and creates additional features automatically. And that's extremely useful for datasets that contain things like images or natural language, where manual feature engineering is virtually impossible. Every one of these algorithms learns to get better by comparing its predictions to an error function. If it's a classification problem, like is this animal a cat or a dog, the error function might be accuracy. If it's a regression problem, like how much will a loaf of bread cost next year, then it might be mean absolute error. Python is the language of choice among data scientists, but R and Julia are also popular options, and there are many supporting frameworks out there to make the process approachable. The end result of the machine learning process is a model, which is just a file that takes some input data in the same shape that it was trained on, then spits out a prediction that tries to minimize the error that it was optimized for. It can then be embedded on an actual device or deployed to the cloud to build a real-world product. This has been Machine Learning in 100 Seconds. Like and subscribe if you want to see more short videos like this, and leave a comment if you want to see more machine learning content on this channel. Thanks for watching, and I will see you in the next one.\", metadata={'source': './files/transcripts/transcript.txt'})]]"
            ]
          },
          "metadata": {},
          "execution_count": 28
        }
      ]
    },
    {
      "source": [
        "## Creating a Vector Store"
      ],
      "metadata": {
        "id": "577069b3-02f6-4b73-aaaa-d8b8e8006d98"
      },
      "id": "577069b3-02f6-4b73-aaaa-d8b8e8006d98",
      "cell_type": "markdown"
    },
    {
      "source": [
        "Now that we've transcribed the video content into documents, we'll organize these documents within a vector store. Vector stores facilitate LLMs in navigating through data to identify similarities based on spatial distance.\n"
      ],
      "metadata": {
        "id": "79af9e43-c32f-478d-b057-dc3b7890925e"
      },
      "id": "79af9e43-c32f-478d-b057-dc3b7890925e",
      "cell_type": "markdown"
    },
    {
      "source": [
        "# Import the tiktoken package\n",
        "import tiktoken"
      ],
      "metadata": {
        "executionCancelledAt": null,
        "executionTime": 49,
        "lastExecutedAt": 1695381479098,
        "lastScheduledRunId": null,
        "lastSuccessfullyExecutedCode": "# Import the tiktoken package\nimport tiktoken",
        "id": "15298bd3-5465-450d-b917-5e5d87d78bf2"
      },
      "id": "15298bd3-5465-450d-b917-5e5d87d78bf2",
      "cell_type": "code",
      "execution_count": 83,
      "outputs": []
    },
    {
      "source": [
        "##  Create the Document Search"
      ],
      "metadata": {
        "id": "6e01af9c-f5ea-4382-b7ff-01fe0bb30edc"
      },
      "id": "6e01af9c-f5ea-4382-b7ff-01fe0bb30edc",
      "cell_type": "markdown"
    },
    {
      "source": [
        "# Import the RetrievalQA class from the langchain.chains module\n",
        "from langchain.chains import RetrievalQA\n",
        "\n",
        "# Import the ChatOpenAI class from the langchain.chat_models module\n",
        "from langchain.chat_models import ChatOpenAI\n",
        "\n",
        "# Import the DocArrayInMemorySearch class from the langchain.vectorstores module\n",
        "from langchain.vectorstores import DocArrayInMemorySearch\n",
        "\n",
        "# Import the OpenAIEmbeddings class from the langchain.embeddings module\n",
        "from langchain.embeddings import OpenAIEmbeddings"
      ],
      "metadata": {
        "executionCancelledAt": null,
        "executionTime": 10,
        "lastExecutedAt": 1695381482721,
        "lastScheduledRunId": null,
        "lastSuccessfullyExecutedCode": "# Import the RetrievalQA class from the langchain.chains module\nfrom langchain.chains import RetrievalQA\n\n# Import the ChatOpenAI class from the langchain.chat_models module\nfrom langchain.chat_models import ChatOpenAI\n\n# Import the DocArrayInMemorySearch class from the langchain.vectorstores module\nfrom langchain.vectorstores import DocArrayInMemorySearch\n\n# Import the OpenAIEmbeddings class from the langchain.embeddings module\nfrom langchain.embeddings import OpenAIEmbeddings",
        "id": "3a7fb40d-de20-4ec8-b05a-036b6dc6ad66"
      },
      "id": "3a7fb40d-de20-4ec8-b05a-036b6dc6ad66",
      "cell_type": "code",
      "execution_count": 24,
      "outputs": []
    },
    {
      "cell_type": "code",
      "source": [
        "from langchain_core.vectorstores import VectorStoreRetriever"
      ],
      "metadata": {
        "id": "gDMiquaNQ1Y5"
      },
      "id": "gDMiquaNQ1Y5",
      "execution_count": 25,
      "outputs": []
    },
    {
      "source": [
        "Now we will create a vector store that will use the `DocArrayInMemory` search methods which will search through the created embeddings created by the OpenAI Embeddings function."
      ],
      "metadata": {
        "id": "9bec39d2-8a4c-4638-953f-fbd9fa47ad6f"
      },
      "id": "9bec39d2-8a4c-4638-953f-fbd9fa47ad6f",
      "cell_type": "markdown"
    },
    {
      "source": [
        "To complete this step:\n",
        "- Create a variable called `db`\n",
        "- Assign the `db` variable to store the result of the method `DocArrayInMemorySearch.from_documents`\n",
        "- In the DocArrayInMemorySearch method, pass in the `docs` and a function call to `OpenAIEmbeddings()`"
      ],
      "metadata": {
        "id": "665d55d7-25fb-4aeb-9434-6b76de0ee405"
      },
      "id": "665d55d7-25fb-4aeb-9434-6b76de0ee405",
      "cell_type": "markdown"
    },
    {
      "cell_type": "code",
      "source": [
        "import os\n",
        "from getpass import getpass\n",
        "\n",
        "OPENAI_API_KEY = getpass()\n",
        "\n",
        "os.environ[\"OPENAI_API_KEY\"] = OPENAI_API_KEY"
      ],
      "metadata": {
        "colab": {
          "base_uri": "https://localhost:8080/"
        },
        "id": "cZu9WCTB5z7K",
        "outputId": "53110a05-6402-4605-d733-92330e72ee21"
      },
      "id": "cZu9WCTB5z7K",
      "execution_count": 34,
      "outputs": [
        {
          "name": "stdout",
          "output_type": "stream",
          "text": [
            "··········\n"
          ]
        }
      ]
    },
    {
      "cell_type": "code",
      "source": [
        "pip install -U langchain-openai"
      ],
      "metadata": {
        "id": "7eaEZwIJ4Uw6",
        "colab": {
          "base_uri": "https://localhost:8080/"
        },
        "outputId": "d16a36cf-cb3f-46c8-df17-a4557d22445a"
      },
      "id": "7eaEZwIJ4Uw6",
      "execution_count": 31,
      "outputs": [
        {
          "output_type": "stream",
          "name": "stdout",
          "text": [
            "Collecting langchain-openai\n",
            "  Downloading langchain_openai-0.0.6-py3-none-any.whl (29 kB)\n",
            "Requirement already satisfied: langchain-core<0.2,>=0.1.16 in /usr/local/lib/python3.10/dist-packages (from langchain-openai) (0.1.25)\n",
            "Requirement already satisfied: numpy<2,>=1 in /usr/local/lib/python3.10/dist-packages (from langchain-openai) (1.25.2)\n",
            "Requirement already satisfied: openai<2.0.0,>=1.10.0 in /usr/local/lib/python3.10/dist-packages (from langchain-openai) (1.12.0)\n",
            "Requirement already satisfied: tiktoken<1,>=0.5.2 in /usr/local/lib/python3.10/dist-packages (from langchain-openai) (0.6.0)\n",
            "Requirement already satisfied: PyYAML>=5.3 in /usr/local/lib/python3.10/dist-packages (from langchain-core<0.2,>=0.1.16->langchain-openai) (6.0.1)\n",
            "Requirement already satisfied: anyio<5,>=3 in /usr/local/lib/python3.10/dist-packages (from langchain-core<0.2,>=0.1.16->langchain-openai) (3.7.1)\n",
            "Requirement already satisfied: jsonpatch<2.0,>=1.33 in /usr/local/lib/python3.10/dist-packages (from langchain-core<0.2,>=0.1.16->langchain-openai) (1.33)\n",
            "Requirement already satisfied: langsmith<0.2.0,>=0.1.0 in /usr/local/lib/python3.10/dist-packages (from langchain-core<0.2,>=0.1.16->langchain-openai) (0.1.5)\n",
            "Requirement already satisfied: packaging<24.0,>=23.2 in /usr/local/lib/python3.10/dist-packages (from langchain-core<0.2,>=0.1.16->langchain-openai) (23.2)\n",
            "Requirement already satisfied: pydantic<3,>=1 in /usr/local/lib/python3.10/dist-packages (from langchain-core<0.2,>=0.1.16->langchain-openai) (2.6.1)\n",
            "Requirement already satisfied: requests<3,>=2 in /usr/local/lib/python3.10/dist-packages (from langchain-core<0.2,>=0.1.16->langchain-openai) (2.31.0)\n",
            "Requirement already satisfied: tenacity<9.0.0,>=8.1.0 in /usr/local/lib/python3.10/dist-packages (from langchain-core<0.2,>=0.1.16->langchain-openai) (8.2.3)\n",
            "Requirement already satisfied: distro<2,>=1.7.0 in /usr/lib/python3/dist-packages (from openai<2.0.0,>=1.10.0->langchain-openai) (1.7.0)\n",
            "Requirement already satisfied: httpx<1,>=0.23.0 in /usr/local/lib/python3.10/dist-packages (from openai<2.0.0,>=1.10.0->langchain-openai) (0.26.0)\n",
            "Requirement already satisfied: sniffio in /usr/local/lib/python3.10/dist-packages (from openai<2.0.0,>=1.10.0->langchain-openai) (1.3.0)\n",
            "Requirement already satisfied: tqdm>4 in /usr/local/lib/python3.10/dist-packages (from openai<2.0.0,>=1.10.0->langchain-openai) (4.66.2)\n",
            "Requirement already satisfied: typing-extensions<5,>=4.7 in /usr/local/lib/python3.10/dist-packages (from openai<2.0.0,>=1.10.0->langchain-openai) (4.9.0)\n",
            "Requirement already satisfied: regex>=2022.1.18 in /usr/local/lib/python3.10/dist-packages (from tiktoken<1,>=0.5.2->langchain-openai) (2023.12.25)\n",
            "Requirement already satisfied: idna>=2.8 in /usr/local/lib/python3.10/dist-packages (from anyio<5,>=3->langchain-core<0.2,>=0.1.16->langchain-openai) (3.6)\n",
            "Requirement already satisfied: exceptiongroup in /usr/local/lib/python3.10/dist-packages (from anyio<5,>=3->langchain-core<0.2,>=0.1.16->langchain-openai) (1.2.0)\n",
            "Requirement already satisfied: certifi in /usr/local/lib/python3.10/dist-packages (from httpx<1,>=0.23.0->openai<2.0.0,>=1.10.0->langchain-openai) (2024.2.2)\n",
            "Requirement already satisfied: httpcore==1.* in /usr/local/lib/python3.10/dist-packages (from httpx<1,>=0.23.0->openai<2.0.0,>=1.10.0->langchain-openai) (1.0.3)\n",
            "Requirement already satisfied: h11<0.15,>=0.13 in /usr/local/lib/python3.10/dist-packages (from httpcore==1.*->httpx<1,>=0.23.0->openai<2.0.0,>=1.10.0->langchain-openai) (0.14.0)\n",
            "Requirement already satisfied: jsonpointer>=1.9 in /usr/local/lib/python3.10/dist-packages (from jsonpatch<2.0,>=1.33->langchain-core<0.2,>=0.1.16->langchain-openai) (2.4)\n",
            "Requirement already satisfied: annotated-types>=0.4.0 in /usr/local/lib/python3.10/dist-packages (from pydantic<3,>=1->langchain-core<0.2,>=0.1.16->langchain-openai) (0.6.0)\n",
            "Requirement already satisfied: pydantic-core==2.16.2 in /usr/local/lib/python3.10/dist-packages (from pydantic<3,>=1->langchain-core<0.2,>=0.1.16->langchain-openai) (2.16.2)\n",
            "Requirement already satisfied: charset-normalizer<4,>=2 in /usr/local/lib/python3.10/dist-packages (from requests<3,>=2->langchain-core<0.2,>=0.1.16->langchain-openai) (3.3.2)\n",
            "Requirement already satisfied: urllib3<3,>=1.21.1 in /usr/local/lib/python3.10/dist-packages (from requests<3,>=2->langchain-core<0.2,>=0.1.16->langchain-openai) (2.0.7)\n",
            "Installing collected packages: langchain-openai\n",
            "Successfully installed langchain-openai-0.0.6\n"
          ]
        }
      ]
    },
    {
      "cell_type": "code",
      "source": [
        "from langchain_openai import OpenAIEmbeddings"
      ],
      "metadata": {
        "id": "CDtljecwOf38"
      },
      "id": "CDtljecwOf38",
      "execution_count": 138,
      "outputs": []
    },
    {
      "source": [
        "# Create a new DocArrayInMemorySearch instance from the specified documents and embeddings\n",
        "db = DocArrayInMemorySearch.from_documents(\n",
        "    docs,\n",
        "    OpenAIEmbeddings()\n",
        ")"
      ],
      "metadata": {
        "executionCancelledAt": null,
        "executionTime": 1041,
        "lastExecutedAt": 1695381624056,
        "lastScheduledRunId": null,
        "lastSuccessfullyExecutedCode": "# Create a new DocArrayInMemorySearch instance from the specified documents and embeddings\ndb = DocArrayInMemorySearch.from_documents(\n    docs, \n    OpenAIEmbeddings()\n)",
        "id": "66ef212c-eefd-4cf2-a02c-3c01b1b29118"
      },
      "id": "66ef212c-eefd-4cf2-a02c-3c01b1b29118",
      "cell_type": "code",
      "execution_count": 84,
      "outputs": []
    },
    {
      "source": [
        "We will now create a retriever from the `db` we created in the last step. This enables the retrieval of the stored embeddings. Since we are also using the `ChatOpenAI` model of openAI, will assigned that as our LLM."
      ],
      "metadata": {
        "id": "033f3ebc-c098-49e8-a96f-f428940996d9"
      },
      "id": "033f3ebc-c098-49e8-a96f-f428940996d9",
      "cell_type": "markdown"
    },
    {
      "source": [],
      "metadata": {
        "id": "0aabff95-8fa2-47ea-b0b3-23c53c6d3c38"
      },
      "id": "0aabff95-8fa2-47ea-b0b3-23c53c6d3c38",
      "cell_type": "markdown"
    },
    {
      "source": [
        "# Convert the DocArrayInMemorySearch instance to a retriever\n",
        "retriever = db.as_retriever()\n",
        "\n",
        "# Create a new ChatOpenAI instance with a temperature of 0.0\n",
        "llm = ChatOpenAI(temperature = 0.0)"
      ],
      "metadata": {
        "executionCancelledAt": null,
        "executionTime": 49,
        "lastExecutedAt": 1695381626978,
        "lastScheduledRunId": null,
        "lastSuccessfullyExecutedCode": "# Convert the DocArrayInMemorySearch instance to a retriever\nretriever = db.as_retriever()\n\n# Create a new ChatOpenAI instance with a temperature of 0.0\nllm = ChatOpenAI(temperature = 0.0)",
        "id": "7c7f6113-c145-47ff-ab9c-ada04ca047ce"
      },
      "id": "7c7f6113-c145-47ff-ab9c-ada04ca047ce",
      "cell_type": "code",
      "execution_count": 139,
      "outputs": []
    },
    {
      "cell_type": "code",
      "source": [],
      "metadata": {
        "id": "MZT-JBt9S3VB"
      },
      "id": "MZT-JBt9S3VB",
      "execution_count": null,
      "outputs": []
    },
    {
      "source": [
        "## Create the 'qa chain' for query"
      ],
      "metadata": {
        "id": "4ce8cff5-ab49-44f0-96ee-88826d88ea6a"
      },
      "id": "4ce8cff5-ab49-44f0-96ee-88826d88ea6a",
      "cell_type": "markdown"
    },
    {
      "source": [
        "Now we are ready to create queries about the YouTube video and read the responses from the LLM. This done first by creating a query and then running the RetrievalQA we setup in the last step and passing it the query."
      ],
      "metadata": {
        "id": "d51218d4-4e81-4d87-9f3f-77eacde057c1"
      },
      "id": "d51218d4-4e81-4d87-9f3f-77eacde057c1",
      "cell_type": "markdown"
    },
    {
      "cell_type": "code",
      "source": [
        "from langchain.chains import RetrievalQA\n",
        "from langchain.text_splitter import RecursiveCharacterTextSplitter\n",
        "from langchain_openai import ChatOpenAI, OpenAIEmbeddings\n",
        "from langchain_community.vectorstores import FAISS"
      ],
      "metadata": {
        "id": "7AkBtSW9BUGn"
      },
      "id": "7AkBtSW9BUGn",
      "execution_count": 86,
      "outputs": []
    },
    {
      "cell_type": "code",
      "source": [
        "text_splitter = RecursiveCharacterTextSplitter(chunk_size=1000, chunk_overlap=150)\n",
        "splits = text_splitter.split_text(transcription.text)"
      ],
      "metadata": {
        "id": "quc8rIGJA49i"
      },
      "id": "quc8rIGJA49i",
      "execution_count": 140,
      "outputs": []
    },
    {
      "cell_type": "code",
      "source": [
        "# Build an index\n",
        "embeddings = OpenAIEmbeddings()\n",
        "vectordb = FAISS.from_texts(splits, embeddings) # install faiss-cpu"
      ],
      "metadata": {
        "id": "EA7IjoXRA5FC"
      },
      "id": "EA7IjoXRA5FC",
      "execution_count": 141,
      "outputs": []
    },
    {
      "cell_type": "code",
      "source": [
        "retriever = VectorStoreRetriever(vectorstore=db) # selecting db as our vectorstore\n",
        "retrievalQA = RetrievalQA.from_llm(llm=llm, retriever=retriever)"
      ],
      "metadata": {
        "id": "iESep52YQbsK"
      },
      "id": "iESep52YQbsK",
      "execution_count": 142,
      "outputs": []
    },
    {
      "cell_type": "code",
      "source": [
        "#pip install faiss-cpu"
      ],
      "metadata": {
        "id": "UYiWJeWeQb88"
      },
      "id": "UYiWJeWeQb88",
      "execution_count": 53,
      "outputs": []
    },
    {
      "cell_type": "code",
      "source": [
        "# Build a QA chain\n",
        "qa_chain = RetrievalQA.from_chain_type(\n",
        "    llm=ChatOpenAI(model_name=\"gpt-3.5-turbo\", temperature=0),\n",
        "    chain_type=\"stuff\",\n",
        "    retriever=vectordb.as_retriever(),\n",
        ")"
      ],
      "metadata": {
        "id": "XshUOvCLSPAR"
      },
      "id": "XshUOvCLSPAR",
      "execution_count": 143,
      "outputs": []
    },
    {
      "cell_type": "markdown",
      "source": [
        "## Create & Analyze the Queries"
      ],
      "metadata": {
        "id": "uQFupuICO7Qo"
      },
      "id": "uQFupuICO7Qo"
    },
    {
      "cell_type": "code",
      "source": [
        "query = \"summarize the text\"\n",
        "display(qa_chain.run(query))"
      ],
      "metadata": {
        "colab": {
          "base_uri": "https://localhost:8080/",
          "height": 88
        },
        "id": "uIXOxeSySPDL",
        "outputId": "44f86b4b-3278-4fb1-af5b-7cef4f6410f5"
      },
      "id": "uIXOxeSySPDL",
      "execution_count": 130,
      "outputs": [
        {
          "output_type": "display_data",
          "data": {
            "text/plain": [
              "\"The text discusses the transformation of Bangladesh from a country devastated by war and natural disasters to a middle-income country today. It highlights the country's achievements in areas like education, women's empowerment, and financial inclusion. Despite progress in reducing poverty and promoting economic growth, Bangladesh faces challenges such as over-reliance on garment exports and the need for economic diversification. The text also mentions the importance of addressing infrastructure bottlenecks and strengthening the banking sector to sustain growth.\""
            ],
            "application/vnd.google.colaboratory.intrinsic+json": {
              "type": "string"
            }
          },
          "metadata": {}
        }
      ]
    },
    {
      "cell_type": "code",
      "source": [
        "query = \"why the economy of bangladesh is blooming?\"\n",
        "display(qa_chain.run(query))"
      ],
      "metadata": {
        "colab": {
          "base_uri": "https://localhost:8080/",
          "height": 105
        },
        "id": "jz3CJd3xSPGF",
        "outputId": "79872b83-c6b4-4909-84d7-a3b9426b72b0"
      },
      "id": "jz3CJd3xSPGF",
      "execution_count": 131,
      "outputs": [
        {
          "output_type": "display_data",
          "data": {
            "text/plain": [
              "\"The economy of Bangladesh has seen growth primarily due to its success in exporting ready-made garments. The ready-made garment sector accounts for a significant portion of the country's exports and GDP, employing a large number of workers, especially women. Additionally, remittances from Bangladeshis working overseas contribute significantly to the national income. The country has also focused on improving financial inclusion, especially in rural areas, which has helped boost entrepreneurship and access to credit. However, challenges such as low productivity, dependence on a single category of exports, and the need for infrastructure development and banking sector strengthening remain.\""
            ],
            "application/vnd.google.colaboratory.intrinsic+json": {
              "type": "string"
            }
          },
          "metadata": {}
        }
      ]
    },
    {
      "cell_type": "code",
      "source": [
        "query = \"compare bd with ind and pak\"\n",
        "display(qa_chain.run(query))"
      ],
      "metadata": {
        "colab": {
          "base_uri": "https://localhost:8080/",
          "height": 123
        },
        "id": "77AZ1hJRSPIN",
        "outputId": "aea6f799-a8c7-4c57-9cec-1fe16c7f176b"
      },
      "id": "77AZ1hJRSPIN",
      "execution_count": 132,
      "outputs": [
        {
          "output_type": "display_data",
          "data": {
            "text/plain": [
              "\"Bangladesh has made significant progress in reducing poverty and promoting economic growth, surpassing both Pakistan and India in terms of income per person at current prices. Before the pandemic, Bangladesh's economic growth exceeded 7%, outpacing not just Pakistan and India, but even China. Bangladeshis are wealthier, healthier, and better educated compared to the past. However, Bangladesh's economy is heavily dependent on a single category of exports, apparel and clothing, which raises questions about the sustainability of its economic record. In terms of the Human Development Index (HDI) ranking, Bangladesh is now ahead of both Pakistan and India. Despite its progress, Bangladesh faces challenges such as the potential loss of preferential trade agreements due to its graduation from the least developed country status by 2026. Bangladesh has been a pioneer in financial inclusion, with initiatives like microfinance and mobile financial services.\""
            ],
            "application/vnd.google.colaboratory.intrinsic+json": {
              "type": "string"
            }
          },
          "metadata": {}
        }
      ]
    },
    {
      "cell_type": "code",
      "source": [
        "query = \"tell me about the historical events of bd in chorological way\"\n",
        "display(qa_chain.run(query))"
      ],
      "metadata": {
        "id": "JQw2lCn_SPJ_",
        "colab": {
          "base_uri": "https://localhost:8080/",
          "height": 123
        },
        "outputId": "4b5fea9f-e9db-4438-9823-46ba08393071"
      },
      "id": "JQw2lCn_SPJ_",
      "execution_count": 133,
      "outputs": [
        {
          "output_type": "display_data",
          "data": {
            "text/plain": [
              "\"1. In 1947, the partition of India led to the creation of East Pakistan, which included modern-day Bangladesh.\\n2. Over two decades, East Pakistan faced economic deprivation under the central government based in West Pakistan.\\n3. In 1971, Bangladesh declared independence from Pakistan after a devastating War of Independence.\\n4. Following independence, Bangladesh faced challenges such as military coups in 1975, 1982, and 2007, as well as natural disasters.\\n5. Despite these challenges, Bangladesh has made significant progress in reducing poverty and promoting economic growth.\\n6. Bangladesh has become a middle-income country and has overtaken India's economic standing on a per capita basis.\\n7. However, there are concerns about the country's heavy dependence on apparel and clothing exports and the need for diversification in its export sector.\""
            ],
            "application/vnd.google.colaboratory.intrinsic+json": {
              "type": "string"
            }
          },
          "metadata": {}
        }
      ]
    },
    {
      "cell_type": "markdown",
      "source": [
        "1. In 1947, the partition of India led to the creation of East Pakistan, which included modern-day Bangladesh.\n",
        "2. Over two decades, East Pakistan faced economic disparities and grievances under the central government based in West Pakistan.\n",
        "3. In 1971, Bangladesh declared independence from Pakistan after a devastating War of Independence.\n",
        "4. Following independence, Bangladesh faced challenges and was initially dismissed as an international basket case.\n",
        "5. Despite dire expectations, Bangladesh made significant progress in reducing poverty and promoting economic growth.\n",
        "6. Bangladesh has become a middle-income country and has overtaken India's economic standing on a per capita basis.\n",
        "7. However, concerns exist about Bangladesh's heavy dependence on apparel and clothing exports and the need for diversification in its export sector."
      ],
      "metadata": {
        "id": "uYY7ivxZNkBv"
      },
      "id": "uYY7ivxZNkBv"
    },
    {
      "cell_type": "code",
      "source": [
        "query = \"why the economy is at risk?\"\n",
        "display(qa_chain.run(query))"
      ],
      "metadata": {
        "id": "qwW07cqiSPMe",
        "colab": {
          "base_uri": "https://localhost:8080/",
          "height": 140
        },
        "outputId": "49d38036-0429-4665-b6d2-1abcd95aae6d"
      },
      "id": "qwW07cqiSPMe",
      "execution_count": 134,
      "outputs": [
        {
          "output_type": "display_data",
          "data": {
            "text/plain": [
              "\"The economy of Bangladesh is at risk due to several factors. Some of the key reasons include:\\n\\n1. Weak private investment in new industries: There is a weakness in private investment in new industries, which is exacerbated by constraints on the availability of credit, especially for small and medium enterprises.\\n\\n2. Deterioration of the business environment: The entry and growth of firms are hampered by the deterioration of the business environment in Bangladesh. The country's ranking in the World Bank's Doing Business Index has fallen significantly over the years.\\n\\n3. Low foreign direct investment (FDI): Despite steady economic growth, FDI inflow in Bangladesh is comparatively low, less than 1% of GDP, which is one of the lowest rates in Asia. This low FDI inflow hinders economic growth and development.\\n\\n4. Bureaucracy and corruption: Time-consuming bureaucracy, inadequate physical infrastructure, unreliable energy supply, low labor productivity, high cost of doing business, and pervasive corruption are factors that discourage foreign investors from investing in Bangladesh.\\n\\n5. Dependence on a single category of exports: Bangladesh's extreme dependence on the ready-made garment (RMG) sector for exports poses a risk to the economy. Diversification of exports is essential for long-term economic stability and growth.\\n\\nOverall, addressing these challenges and implementing reforms to improve the business environment, attract more investment, and diversify the economy will be crucial in mitigating the risks to Bangladesh's economy.\""
            ],
            "application/vnd.google.colaboratory.intrinsic+json": {
              "type": "string"
            }
          },
          "metadata": {}
        }
      ]
    },
    {
      "cell_type": "markdown",
      "source": [
        "The economy of Bangladesh is at risk due to several factors. Some of the key reasons include:\n",
        "\n",
        "1. Weak private investment in new industries: There is a weakness in private investment in new industries, which is exacerbated by constraints on the availability of credit, especially for small and medium enterprises.\n",
        "\n",
        "2. Deterioration of the business environment: The entry and growth of firms are hampered by the deterioration of the business environment in Bangladesh. The country's ranking in the World Bank's Doing Business Index has fallen significantly over the years.\n",
        "\n",
        "3. Low foreign direct investment (FDI): Despite steady economic growth, FDI inflow in Bangladesh is comparatively low, less than 1% of GDP, which is one of the lowest rates in Asia. This low FDI inflow hinders economic growth and development.\n",
        "\n",
        "4. Bureaucracy and corruption: Time-consuming bureaucracy, inadequate physical infrastructure, unreliable energy supply, low labor productivity, high cost of doing business, and pervasive corruption are factors that discourage foreign investors from investing in Bangladesh.\n",
        "\n",
        "5. Dependence on a single category of exports: Bangladesh's extreme dependence on the ready-made garment (RMG) sector for exports poses a risk to the economy. Diversification of exports is essential for long-term economic stability and growth.\n",
        "\n",
        "Overall, addressing these challenges and implementing reforms to improve the business environment, attract more investment, and diversify the economy will be crucial in mitigating the risks to Bangladesh's economy."
      ],
      "metadata": {
        "id": "MkDU7ENUNrQl"
      },
      "id": "MkDU7ENUNrQl"
    },
    {
      "cell_type": "code",
      "source": [
        "query = \"bangladesh education and economy\"\n",
        "qa_chain.run(query)"
      ],
      "metadata": {
        "colab": {
          "base_uri": "https://localhost:8080/",
          "height": 123
        },
        "id": "L0i87wRrKUzB",
        "outputId": "96415346-2132-49ba-d863-b493ec804782"
      },
      "id": "L0i87wRrKUzB",
      "execution_count": 120,
      "outputs": [
        {
          "output_type": "execute_result",
          "data": {
            "text/plain": [
              "\"Bangladesh has made significant progress in education and the economy over the years. The country has seen improvements in literacy rates, school completion rates, and overall educational attainment. In terms of the economy, Bangladesh has experienced strong economic growth, surpassing both Pakistan and India in terms of income per person. However, there are concerns about the sustainability of the economy, particularly due to its heavy reliance on a single category of exports, such as apparel and clothing. Additionally, there are challenges related to diversifying the economy and addressing infrastructure bottlenecks to support continued growth. Bangladesh's success in social achievements has been greater than its economic ones, highlighting the need for balanced growth and addressing policy challenges to ensure long-term sustainability.\""
            ],
            "application/vnd.google.colaboratory.intrinsic+json": {
              "type": "string"
            }
          },
          "metadata": {},
          "execution_count": 120
        }
      ]
    },
    {
      "cell_type": "markdown",
      "source": [
        "Bangladesh has made significant progress in education and the economy over the years. The country has seen improvements in literacy rates, school completion rates, and overall educational attainment. In terms of the economy, Bangladesh has experienced strong economic growth, surpassing both Pakistan and India in terms of income per person. However, there are concerns about the sustainability of the economy, particularly due to its heavy reliance on a single category of exports, such as apparel and clothing. Additionally, there are challenges related to diversifying the economy and addressing infrastructure bottlenecks to support continued growth. Bangladesh's success in social achievements has been greater than its economic ones, highlighting the need for balanced growth and addressing policy challenges to ensure long-term sustainability."
      ],
      "metadata": {
        "id": "prxbKPUMNwZ9"
      },
      "id": "prxbKPUMNwZ9"
    },
    {
      "cell_type": "code",
      "source": [
        "query = \"what are the challenges?\"\n",
        "display(qa_chain.run(query))"
      ],
      "metadata": {
        "colab": {
          "base_uri": "https://localhost:8080/",
          "height": 88
        },
        "id": "Vhbo1ALWKamH",
        "outputId": "a95592fc-7f57-4db0-bf62-62f5ac679673"
      },
      "id": "Vhbo1ALWKamH",
      "execution_count": 135,
      "outputs": [
        {
          "output_type": "display_data",
          "data": {
            "text/plain": [
              "'Some of the challenges facing Bangladesh include inadequate and incorrect policies, poor policy implementation, inherent structural weaknesses, lack of good governance, and an absence of reform initiatives. Additionally, there are constraints on the availability of credit, especially to small and medium enterprises, deterioration of the business environment, low foreign direct investment (FDI) compared to regional peers, time-consuming bureaucracy, inadequate physical infrastructure, unreliable energy supply, low labor productivity, high cost of doing business, and pervasive corruption.'"
            ],
            "application/vnd.google.colaboratory.intrinsic+json": {
              "type": "string"
            }
          },
          "metadata": {}
        }
      ]
    },
    {
      "cell_type": "markdown",
      "source": [
        "Some of the challenges facing Bangladesh include inadequate and incorrect policies, poor policy implementation, inherent structural weaknesses, lack of good governance, and an absence of reform initiatives. Additionally, there are constraints on the availability of credit, especially to small and medium enterprises, deterioration of the business environment, low foreign direct investment (FDI) compared to regional peers, time-consuming bureaucracy, inadequate physical infrastructure, unreliable energy supply, low labor productivity, high cost of doing business, and pervasive corruption."
      ],
      "metadata": {
        "id": "NJGXzqwUN2F9"
      },
      "id": "NJGXzqwUN2F9"
    },
    {
      "cell_type": "code",
      "source": [
        "query = \"how to mitigate it?\"\n",
        "qa_chain.run(query)"
      ],
      "metadata": {
        "colab": {
          "base_uri": "https://localhost:8080/",
          "height": 140
        },
        "id": "xifTtBF0MdWb",
        "outputId": "796001ce-7f94-4565-a8bc-7725799dcfc1"
      },
      "id": "xifTtBF0MdWb",
      "execution_count": 122,
      "outputs": [
        {
          "output_type": "execute_result",
          "data": {
            "text/plain": [
              "\"To mitigate the economic challenges faced by Bangladesh, several strategies can be considered:\\n\\n1. **Diversification of exports**: Encouraging and supporting the growth of sectors beyond ready-made garments, such as light engineering, plastics, leather, and footwear, can help diversify the export basket. This can reduce the country's dependence on a single sector and increase economic resilience.\\n\\n2. **Improving competitiveness**: Enhancing the competitiveness of Bangladeshi companies by ensuring they meet international standards can help them compete on a global scale. This may involve investing in technology, innovation, and skills development.\\n\\n3. **Strengthening private investment**: Addressing constraints on the availability of credit to new industries can help stimulate private investment. This may involve improving access to finance for businesses, streamlining regulatory processes, and creating a conducive business environment.\\n\\n4. **Enhancing infrastructure**: Addressing infrastructure bottlenecks can help boost productive investment in the country. Improving transportation networks, energy supply, and digital infrastructure can make Bangladesh more attractive for investors and businesses.\\n\\n5. **Policy reforms**: Implementing effective policies that promote economic diversification, innovation, and competitiveness is crucial. This may involve regulatory reforms, trade facilitation measures, and investment incentives to attract both domestic and foreign investment.\\n\\nBy implementing these strategies and addressing the underlying challenges, Bangladesh can work towards sustaining economic growth and achieving greater prosperity for its people.\""
            ],
            "application/vnd.google.colaboratory.intrinsic+json": {
              "type": "string"
            }
          },
          "metadata": {},
          "execution_count": 122
        }
      ]
    },
    {
      "cell_type": "markdown",
      "source": [
        "To mitigate the economic challenges faced by Bangladesh, several strategies can be considered:\n",
        "\n",
        "1. **Diversification of exports**: Encouraging and supporting the growth of sectors beyond ready-made garments, such as light engineering, plastics, leather, and footwear, can help diversify the export basket. This can reduce the country's dependence on a single sector and increase economic resilience.\n",
        "\n",
        "2. **Improving competitiveness**: Enhancing the competitiveness of Bangladeshi companies by ensuring they meet international standards can help them compete on a global scale. This may involve investing in technology, innovation, and skills development.\n",
        "\n",
        "3. **Strengthening private investment**: Addressing constraints on the availability of credit to new industries can help stimulate private investment. This may involve improving access to finance for businesses, streamlining regulatory processes, and creating a conducive business environment.\n",
        "\n",
        "4. **Enhancing infrastructure**: Addressing infrastructure bottlenecks can help boost productive investment in the country. Improving transportation networks, energy supply, and digital infrastructure can make Bangladesh more attractive for investors and businesses.\n",
        "\n",
        "5. **Policy reforms**: Implementing effective policies that promote economic diversification, innovation, and competitiveness is crucial. This may involve regulatory reforms, trade facilitation measures, and investment incentives to attract both domestic and foreign investment.\n",
        "\n",
        "By implementing these strategies and addressing the underlying challenges, Bangladesh can work towards sustaining economic growth and achieving greater prosperity for its people."
      ],
      "metadata": {
        "id": "lqhnykvIN5x1"
      },
      "id": "lqhnykvIN5x1"
    },
    {
      "cell_type": "code",
      "source": [
        "query = \"are bangladeshi people lazy?\"\n",
        "qa_chain.run(query)"
      ],
      "metadata": {
        "colab": {
          "base_uri": "https://localhost:8080/",
          "height": 36
        },
        "id": "A3OzmcAfMm2F",
        "outputId": "28b8a79f-6bfe-4def-de8a-9486295d5e1d"
      },
      "id": "A3OzmcAfMm2F",
      "execution_count": 123,
      "outputs": [
        {
          "output_type": "execute_result",
          "data": {
            "text/plain": [
              "\"I don't know.\""
            ],
            "application/vnd.google.colaboratory.intrinsic+json": {
              "type": "string"
            }
          },
          "metadata": {},
          "execution_count": 123
        }
      ]
    },
    {
      "cell_type": "code",
      "source": [
        "query = \"tell me about shundarban\"\n",
        "qa_chain.run(query)"
      ],
      "metadata": {
        "colab": {
          "base_uri": "https://localhost:8080/",
          "height": 88
        },
        "id": "d_xqc6q9MsNx",
        "outputId": "9bbb9d5f-17ac-4958-89ef-8479a3731c01"
      },
      "id": "d_xqc6q9MsNx",
      "execution_count": 124,
      "outputs": [
        {
          "output_type": "execute_result",
          "data": {
            "text/plain": [
              "'The Sundarbans is a vast mangrove forest in the coastal region of the Bay of Bengal, spread across Bangladesh and the Indian state of West Bengal. It is one of the largest mangrove forests in the world and is known for its unique ecosystem and biodiversity. The Sundarbans is home to the Bengal tiger and various other species of wildlife, including crocodiles, snakes, and a variety of bird species. The mangrove forest also serves as a natural barrier against cyclones and storm surges, protecting the coastal areas from natural disasters. The Sundarbans is a UNESCO World Heritage Site and is of significant ecological importance.'"
            ],
            "application/vnd.google.colaboratory.intrinsic+json": {
              "type": "string"
            }
          },
          "metadata": {},
          "execution_count": 124
        }
      ]
    },
    {
      "cell_type": "markdown",
      "source": [
        "The Sundarbans is a vast mangrove forest in the coastal region of the Bay of Bengal, spread across Bangladesh and the Indian state of West Bengal. It is one of the largest mangrove forests in the world and is known for its unique ecosystem and biodiversity. The Sundarbans is home to the Bengal tiger and various other species of wildlife, including crocodiles, snakes, and a variety of bird species. The mangrove forest also serves as a natural barrier against cyclones and storm surges, protecting the coastal areas from natural disasters. The Sundarbans is a UNESCO World Heritage Site and is of significant ecological importance."
      ],
      "metadata": {
        "id": "7WdIWI_QOBcO"
      },
      "id": "7WdIWI_QOBcO"
    },
    {
      "cell_type": "code",
      "source": [
        "query = \"how can shundarban play vital role in economy?\"\n",
        "qa_chain.run(query)"
      ],
      "metadata": {
        "colab": {
          "base_uri": "https://localhost:8080/",
          "height": 105
        },
        "id": "xalL26plMxTw",
        "outputId": "858bc3f9-0547-4929-df42-db22c759cdd6"
      },
      "id": "xalL26plMxTw",
      "execution_count": 125,
      "outputs": [
        {
          "output_type": "execute_result",
          "data": {
            "text/plain": [
              "'The Sundarbans, a mangrove forest in Bangladesh, can play a vital role in the economy through various ways. One significant aspect is ecotourism, as the Sundarbans is a unique and biodiverse ecosystem that attracts tourists. This can generate income and employment opportunities for local communities. Additionally, the Sundarbans provide natural resources like timber, honey, and fish, which can contribute to the economy through sustainable harvesting practices. Furthermore, the mangrove forest acts as a natural barrier against cyclones and storm surges, protecting coastal areas and infrastructure, which in turn can save costs related to disaster recovery and rebuilding. Overall, sustainable management and utilization of the Sundarbans can have positive economic impacts on Bangladesh.'"
            ],
            "application/vnd.google.colaboratory.intrinsic+json": {
              "type": "string"
            }
          },
          "metadata": {},
          "execution_count": 125
        }
      ]
    },
    {
      "cell_type": "markdown",
      "source": [
        "The Sundarbans, a mangrove forest in Bangladesh, can play a vital role in the economy through various ways. One significant aspect is ecotourism, as the Sundarbans is a unique and biodiverse ecosystem that attracts tourists. This can generate income and employment opportunities for local communities. Additionally, the Sundarbans provide natural resources like timber, honey, and fish, which can contribute to the economy through sustainable harvesting practices. Furthermore, the mangrove forest acts as a natural barrier against cyclones and storm surges, protecting coastal areas and infrastructure, which in turn can save costs related to disaster recovery and rebuilding. Overall, sustainable management and utilization of the Sundarbans can have positive economic impacts on Bangladesh."
      ],
      "metadata": {
        "id": "UQK3T6_MOFzH"
      },
      "id": "UQK3T6_MOFzH"
    },
    {
      "cell_type": "code",
      "source": [
        "query = \"is dhaka the economical hub of bangladesh?\"\n",
        "qa_chain.run(query)"
      ],
      "metadata": {
        "colab": {
          "base_uri": "https://localhost:8080/",
          "height": 53
        },
        "id": "592yTC61M5tm",
        "outputId": "5dddb3bd-e647-4e06-fe10-93389823801f"
      },
      "id": "592yTC61M5tm",
      "execution_count": 127,
      "outputs": [
        {
          "output_type": "execute_result",
          "data": {
            "text/plain": [
              "'Yes, Dhaka is considered the economic hub of Bangladesh. It is the capital city and the largest economic center in the country, housing many important industries, businesses, and financial institutions.'"
            ],
            "application/vnd.google.colaboratory.intrinsic+json": {
              "type": "string"
            }
          },
          "metadata": {},
          "execution_count": 127
        }
      ]
    },
    {
      "cell_type": "markdown",
      "source": [
        "Yes, Dhaka is considered the economic hub of Bangladesh. It is the capital city and the largest economic center in the country, housing many important industries, businesses, and financial institutions."
      ],
      "metadata": {
        "id": "SWYwzaEyOQ0G"
      },
      "id": "SWYwzaEyOQ0G"
    },
    {
      "cell_type": "markdown",
      "source": [
        "## querying multiple ques"
      ],
      "metadata": {
        "id": "uwzQgziiTFiM"
      },
      "id": "uwzQgziiTFiM"
    },
    {
      "cell_type": "code",
      "source": [
        "# List of queries\n",
        "queries = [\n",
        "    \"who is Sheikh Mujibur Rahman\",\n",
        "    \"what are the major industries in Bangladesh?\",\n",
        "    \"how does the export sector contribute to Bangladesh's economy?\",\n",
        "]\n",
        "\n",
        "# Results dictionary to store responses\n",
        "results = {}\n",
        "\n",
        "# Iterate over each query\n",
        "for query in queries:\n",
        "    # Run the QA chain for the current query\n",
        "    response = qa_chain.run(query)\n",
        "    # Store the response in the results dictionary\n",
        "    results[query] = response\n",
        "\n",
        "# Print or process the results as needed\n",
        "print(results)\n"
      ],
      "metadata": {
        "colab": {
          "base_uri": "https://localhost:8080/"
        },
        "id": "GcoDniVhPhEg",
        "outputId": "01295957-f4aa-438c-92b2-4a2a115bed4a"
      },
      "id": "GcoDniVhPhEg",
      "execution_count": 136,
      "outputs": [
        {
          "output_type": "stream",
          "name": "stdout",
          "text": [
            "{'who is Sheikh Mujibur Rahman': \"Sheikh Mujibur Rahman, also known as Bangabandhu (Friend of Bengal), was a prominent political leader in Bangladesh. He played a crucial role in the country's independence movement and became the founding father of Bangladesh after it gained independence from Pakistan in 1971. Sheikh Mujibur Rahman served as the first President of Bangladesh and later as its Prime Minister. He is highly regarded for his efforts in leading the nation towards independence and is considered a national hero in Bangladesh.\", 'what are the major industries in Bangladesh?': \"The major industry in Bangladesh is the ready-made garment (RMG) sector, which accounts for 85% of the country's exports and contributes 9% to GDP. Additionally, Bangladesh has been striving to diversify into industries such as light engineering, plastics, leather, footwear, and pharmaceuticals. However, the RMG sector remains the dominant industry in the country.\", \"how does the export sector contribute to Bangladesh's economy?\": \"The export sector, particularly the ready-made garment (RMG) industry, plays a significant role in Bangladesh's economy. The RMG sector accounts for 85% of the country's exports, contributing 9% to GDP. This sector employs around 4.4 million workers, with the majority being women, providing job opportunities in a country where other options are limited. Additionally, about 80% of Bangladesh's foreign exchange is generated by the RMG sector. The country's foreign exchange reserves reached an all-time high of $48 billion in 2021, driven by exports. However, there are concerns about over-reliance on a single sector for exports, highlighting the need for diversification to sustain economic growth.\"}\n"
          ]
        }
      ]
    },
    {
      "cell_type": "code",
      "source": [
        "display(results)"
      ],
      "metadata": {
        "colab": {
          "base_uri": "https://localhost:8080/",
          "height": 225
        },
        "id": "800mMqPqQYe8",
        "outputId": "f36f65b6-4bde-4ca7-9475-91a8e6206838"
      },
      "id": "800mMqPqQYe8",
      "execution_count": 137,
      "outputs": [
        {
          "output_type": "display_data",
          "data": {
            "text/plain": [
              "{'who is Sheikh Mujibur Rahman': \"Sheikh Mujibur Rahman, also known as Bangabandhu (Friend of Bengal), was a prominent political leader in Bangladesh. He played a crucial role in the country's independence movement and became the founding father of Bangladesh after it gained independence from Pakistan in 1971. Sheikh Mujibur Rahman served as the first President of Bangladesh and later as its Prime Minister. He is highly regarded for his efforts in leading the nation towards independence and is considered a national hero in Bangladesh.\",\n",
              " 'what are the major industries in Bangladesh?': \"The major industry in Bangladesh is the ready-made garment (RMG) sector, which accounts for 85% of the country's exports and contributes 9% to GDP. Additionally, Bangladesh has been striving to diversify into industries such as light engineering, plastics, leather, footwear, and pharmaceuticals. However, the RMG sector remains the dominant industry in the country.\",\n",
              " \"how does the export sector contribute to Bangladesh's economy?\": \"The export sector, particularly the ready-made garment (RMG) industry, plays a significant role in Bangladesh's economy. The RMG sector accounts for 85% of the country's exports, contributing 9% to GDP. This sector employs around 4.4 million workers, with the majority being women, providing job opportunities in a country where other options are limited. Additionally, about 80% of Bangladesh's foreign exchange is generated by the RMG sector. The country's foreign exchange reserves reached an all-time high of $48 billion in 2021, driven by exports. However, there are concerns about over-reliance on a single sector for exports, highlighting the need for diversification to sustain economic growth.\"}"
            ]
          },
          "metadata": {}
        }
      ]
    },
    {
      "cell_type": "code",
      "source": [],
      "metadata": {
        "id": "Nw_C2UgqQeB-"
      },
      "id": "Nw_C2UgqQeB-",
      "execution_count": null,
      "outputs": []
    }
  ],
  "metadata": {
    "language_info": {
      "name": "python",
      "version": "3.8.10",
      "mimetype": "text/x-python",
      "codemirror_mode": {
        "name": "ipython",
        "version": 3
      },
      "pygments_lexer": "ipython3",
      "nbconvert_exporter": "python",
      "file_extension": ".py"
    },
    "kernelspec": {
      "display_name": "Python 3 (ipykernel)",
      "language": "python",
      "name": "python3"
    },
    "editor": "DataCamp Workspace",
    "colab": {
      "provenance": []
    }
  },
  "nbformat": 4,
  "nbformat_minor": 5
}