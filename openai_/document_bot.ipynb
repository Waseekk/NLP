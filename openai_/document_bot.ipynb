{
  "cells": [
    {
      "source": [
        "## Building a Document Retrieval and Question Answering System Using LangChain\n",
        "\n",
        "In this project, our goal is to develop a comprehensive system for retrieving pertinent information from a collection of PDF documents and responding to questions based on the retrieved content. We will leverage LangChain, a powerful toolkit, for streamlined document processing, vectorization, and retrieval tasks. The project pipeline encompasses several key stages:\n",
        "\n",
        "### 1. Loading and Preprocessing PDF Documents\n",
        "\n",
        "We initiate the process by loading our PDF documents and performing preprocessing steps to extract relevant text chunks. This phase includes:\n",
        "\n",
        "- Parsing PDF files to extract textual content.\n",
        "- Segmenting the extracted text into manageable chunks for further processing.\n",
        "\n",
        "### 2. Vectorization and Storage\n",
        "\n",
        "Subsequently, we transform the segmented text chunks into vector representations using advanced language models such as BERT or Universal Sentence Encoder. These vectors are then stored in a dedicated vector database, such as FAISS, CHROMA, or PINECONE, to facilitate efficient retrieval.\n",
        "\n",
        "### 3. Retrieval Augmented Generation Pipeline\n",
        "\n",
        "Our pipeline incorporates a sophisticated mechanism for retrieving pertinent text chunks based on user queries and utilizing them to provide context for generating precise answers. This stage comprises the following steps:\n",
        "\n",
        "- Embedding user queries into vector representations.\n",
        "- Retrieving similar text chunks from the vector database.\n",
        "- Ranking the retrieved chunks based on their relevance to the user query.\n",
        "- Employing the retrieved chunks as contextual information for a large language model (LLM) to generate accurate answers.\n",
        "\n",
        "### 4. Question Answering Bot\n",
        "\n",
        "Lastly, we construct a question-answering bot that leverages the retrieved text chunks and user queries to generate informative answers. This phase encompasses:\n",
        "\n",
        "- Providing the user question and relevant context to the LLM.\n",
        "- Generating answers based on the supplied context.\n",
        "- Presenting the generated answers to the user in a comprehensible format.\n",
        "\n",
        "At first we will use a sigle pdf for the bot then we will use multiple pdf files for processing for the chatbot. Chatbot will generte answer based on the context of the pdf files and with the response of openai api.\n"
      ],
      "metadata": {
        "id": "bdd098e2-49c6-43df-9151-050694970b75"
      },
      "id": "bdd098e2-49c6-43df-9151-050694970b75",
      "cell_type": "markdown"
    },
    {
      "source": [
        "## Install Imports and API Keys\n",
        "\n",
        "We need to make sure our environment has the following packages:\n",
        "\n",
        "- Install `langchain`\n",
        "- Install `tiktoken`, `wikipedia`, `pypdf`, `faiss-cpu`, `pinecone-client`."
      ],
      "metadata": {
        "id": "42239f47-628c-4f50-aa9d-ee482177dd0c"
      },
      "id": "42239f47-628c-4f50-aa9d-ee482177dd0c",
      "cell_type": "markdown"
    },
    {
      "source": [
        "!pip install langchain\n",
        "!pip install tiktoken\n",
        "!pip install pypdf\n",
        "!pip install faiss-cpu\n",
        "!pip install pinecone-client"
      ],
      "metadata": {
        "executionCancelledAt": null,
        "executionTime": 38260,
        "lastExecutedAt": 1708201711312,
        "lastScheduledRunId": null,
        "lastSuccessfullyExecutedCode": "!pip install langchain==0.0.184\n!pip install tiktoken\n!pip install wikipedia\n!pip install pypdf\n!pip install faiss-cpu\n!pip install pinecone-client",
        "outputsMetadata": {
          "0": {
            "height": 603,
            "type": "stream"
          }
        },
        "id": "7430d0f5-7341-464e-8d2e-c1f322edeb76",
        "outputId": "8a7c1482-2777-4728-a00d-62a3f889a6dc",
        "colab": {
          "base_uri": "https://localhost:8080/"
        },
        "collapsed": true
      },
      "id": "7430d0f5-7341-464e-8d2e-c1f322edeb76",
      "cell_type": "code",
      "execution_count": 127,
      "outputs": [
        {
          "output_type": "stream",
          "name": "stdout",
          "text": [
            "Requirement already satisfied: langchain in /usr/local/lib/python3.10/dist-packages (0.1.9)\n",
            "Requirement already satisfied: PyYAML>=5.3 in /usr/local/lib/python3.10/dist-packages (from langchain) (6.0.1)\n",
            "Requirement already satisfied: SQLAlchemy<3,>=1.4 in /usr/local/lib/python3.10/dist-packages (from langchain) (2.0.27)\n",
            "Requirement already satisfied: aiohttp<4.0.0,>=3.8.3 in /usr/local/lib/python3.10/dist-packages (from langchain) (3.9.3)\n",
            "Requirement already satisfied: async-timeout<5.0.0,>=4.0.0 in /usr/local/lib/python3.10/dist-packages (from langchain) (4.0.3)\n",
            "Requirement already satisfied: dataclasses-json<0.7,>=0.5.7 in /usr/local/lib/python3.10/dist-packages (from langchain) (0.6.4)\n",
            "Requirement already satisfied: jsonpatch<2.0,>=1.33 in /usr/local/lib/python3.10/dist-packages (from langchain) (1.33)\n",
            "Requirement already satisfied: langchain-community<0.1,>=0.0.21 in /usr/local/lib/python3.10/dist-packages (from langchain) (0.0.23)\n",
            "Requirement already satisfied: langchain-core<0.2,>=0.1.26 in /usr/local/lib/python3.10/dist-packages (from langchain) (0.1.26)\n",
            "Requirement already satisfied: langsmith<0.2.0,>=0.1.0 in /usr/local/lib/python3.10/dist-packages (from langchain) (0.1.5)\n",
            "Requirement already satisfied: numpy<2,>=1 in /usr/local/lib/python3.10/dist-packages (from langchain) (1.25.2)\n",
            "Requirement already satisfied: pydantic<3,>=1 in /usr/local/lib/python3.10/dist-packages (from langchain) (2.6.1)\n",
            "Requirement already satisfied: requests<3,>=2 in /usr/local/lib/python3.10/dist-packages (from langchain) (2.31.0)\n",
            "Requirement already satisfied: tenacity<9.0.0,>=8.1.0 in /usr/local/lib/python3.10/dist-packages (from langchain) (8.2.3)\n",
            "Requirement already satisfied: aiosignal>=1.1.2 in /usr/local/lib/python3.10/dist-packages (from aiohttp<4.0.0,>=3.8.3->langchain) (1.3.1)\n",
            "Requirement already satisfied: attrs>=17.3.0 in /usr/local/lib/python3.10/dist-packages (from aiohttp<4.0.0,>=3.8.3->langchain) (23.2.0)\n",
            "Requirement already satisfied: frozenlist>=1.1.1 in /usr/local/lib/python3.10/dist-packages (from aiohttp<4.0.0,>=3.8.3->langchain) (1.4.1)\n",
            "Requirement already satisfied: multidict<7.0,>=4.5 in /usr/local/lib/python3.10/dist-packages (from aiohttp<4.0.0,>=3.8.3->langchain) (6.0.5)\n",
            "Requirement already satisfied: yarl<2.0,>=1.0 in /usr/local/lib/python3.10/dist-packages (from aiohttp<4.0.0,>=3.8.3->langchain) (1.9.4)\n",
            "Requirement already satisfied: marshmallow<4.0.0,>=3.18.0 in /usr/local/lib/python3.10/dist-packages (from dataclasses-json<0.7,>=0.5.7->langchain) (3.20.2)\n",
            "Requirement already satisfied: typing-inspect<1,>=0.4.0 in /usr/local/lib/python3.10/dist-packages (from dataclasses-json<0.7,>=0.5.7->langchain) (0.9.0)\n",
            "Requirement already satisfied: jsonpointer>=1.9 in /usr/local/lib/python3.10/dist-packages (from jsonpatch<2.0,>=1.33->langchain) (2.4)\n",
            "Requirement already satisfied: anyio<5,>=3 in /usr/local/lib/python3.10/dist-packages (from langchain-core<0.2,>=0.1.26->langchain) (3.7.1)\n",
            "Requirement already satisfied: packaging<24.0,>=23.2 in /usr/local/lib/python3.10/dist-packages (from langchain-core<0.2,>=0.1.26->langchain) (23.2)\n",
            "Requirement already satisfied: annotated-types>=0.4.0 in /usr/local/lib/python3.10/dist-packages (from pydantic<3,>=1->langchain) (0.6.0)\n",
            "Requirement already satisfied: pydantic-core==2.16.2 in /usr/local/lib/python3.10/dist-packages (from pydantic<3,>=1->langchain) (2.16.2)\n",
            "Requirement already satisfied: typing-extensions>=4.6.1 in /usr/local/lib/python3.10/dist-packages (from pydantic<3,>=1->langchain) (4.9.0)\n",
            "Requirement already satisfied: charset-normalizer<4,>=2 in /usr/local/lib/python3.10/dist-packages (from requests<3,>=2->langchain) (3.3.2)\n",
            "Requirement already satisfied: idna<4,>=2.5 in /usr/local/lib/python3.10/dist-packages (from requests<3,>=2->langchain) (3.6)\n",
            "Requirement already satisfied: urllib3<3,>=1.21.1 in /usr/local/lib/python3.10/dist-packages (from requests<3,>=2->langchain) (2.0.7)\n",
            "Requirement already satisfied: certifi>=2017.4.17 in /usr/local/lib/python3.10/dist-packages (from requests<3,>=2->langchain) (2024.2.2)\n",
            "Requirement already satisfied: greenlet!=0.4.17 in /usr/local/lib/python3.10/dist-packages (from SQLAlchemy<3,>=1.4->langchain) (3.0.3)\n",
            "Requirement already satisfied: sniffio>=1.1 in /usr/local/lib/python3.10/dist-packages (from anyio<5,>=3->langchain-core<0.2,>=0.1.26->langchain) (1.3.0)\n",
            "Requirement already satisfied: exceptiongroup in /usr/local/lib/python3.10/dist-packages (from anyio<5,>=3->langchain-core<0.2,>=0.1.26->langchain) (1.2.0)\n",
            "Requirement already satisfied: mypy-extensions>=0.3.0 in /usr/local/lib/python3.10/dist-packages (from typing-inspect<1,>=0.4.0->dataclasses-json<0.7,>=0.5.7->langchain) (1.0.0)\n",
            "Requirement already satisfied: tiktoken in /usr/local/lib/python3.10/dist-packages (0.6.0)\n",
            "Requirement already satisfied: regex>=2022.1.18 in /usr/local/lib/python3.10/dist-packages (from tiktoken) (2023.12.25)\n",
            "Requirement already satisfied: requests>=2.26.0 in /usr/local/lib/python3.10/dist-packages (from tiktoken) (2.31.0)\n",
            "Requirement already satisfied: charset-normalizer<4,>=2 in /usr/local/lib/python3.10/dist-packages (from requests>=2.26.0->tiktoken) (3.3.2)\n",
            "Requirement already satisfied: idna<4,>=2.5 in /usr/local/lib/python3.10/dist-packages (from requests>=2.26.0->tiktoken) (3.6)\n",
            "Requirement already satisfied: urllib3<3,>=1.21.1 in /usr/local/lib/python3.10/dist-packages (from requests>=2.26.0->tiktoken) (2.0.7)\n",
            "Requirement already satisfied: certifi>=2017.4.17 in /usr/local/lib/python3.10/dist-packages (from requests>=2.26.0->tiktoken) (2024.2.2)\n",
            "Requirement already satisfied: wikipedia in /usr/local/lib/python3.10/dist-packages (1.4.0)\n",
            "Requirement already satisfied: beautifulsoup4 in /usr/local/lib/python3.10/dist-packages (from wikipedia) (4.12.3)\n",
            "Requirement already satisfied: requests<3.0.0,>=2.0.0 in /usr/local/lib/python3.10/dist-packages (from wikipedia) (2.31.0)\n",
            "Requirement already satisfied: charset-normalizer<4,>=2 in /usr/local/lib/python3.10/dist-packages (from requests<3.0.0,>=2.0.0->wikipedia) (3.3.2)\n",
            "Requirement already satisfied: idna<4,>=2.5 in /usr/local/lib/python3.10/dist-packages (from requests<3.0.0,>=2.0.0->wikipedia) (3.6)\n",
            "Requirement already satisfied: urllib3<3,>=1.21.1 in /usr/local/lib/python3.10/dist-packages (from requests<3.0.0,>=2.0.0->wikipedia) (2.0.7)\n",
            "Requirement already satisfied: certifi>=2017.4.17 in /usr/local/lib/python3.10/dist-packages (from requests<3.0.0,>=2.0.0->wikipedia) (2024.2.2)\n",
            "Requirement already satisfied: soupsieve>1.2 in /usr/local/lib/python3.10/dist-packages (from beautifulsoup4->wikipedia) (2.5)\n",
            "Requirement already satisfied: pypdf in /usr/local/lib/python3.10/dist-packages (4.0.2)\n",
            "Requirement already satisfied: faiss-cpu in /usr/local/lib/python3.10/dist-packages (1.7.4)\n",
            "Requirement already satisfied: pinecone-client in /usr/local/lib/python3.10/dist-packages (3.0.3)\n",
            "Requirement already satisfied: certifi>=2019.11.17 in /usr/local/lib/python3.10/dist-packages (from pinecone-client) (2024.2.2)\n",
            "Requirement already satisfied: tqdm>=4.64.1 in /usr/local/lib/python3.10/dist-packages (from pinecone-client) (4.66.2)\n",
            "Requirement already satisfied: typing-extensions>=3.7.4 in /usr/local/lib/python3.10/dist-packages (from pinecone-client) (4.9.0)\n",
            "Requirement already satisfied: urllib3>=1.26.0 in /usr/local/lib/python3.10/dist-packages (from pinecone-client) (2.0.7)\n"
          ]
        }
      ]
    },
    {
      "cell_type": "code",
      "source": [
        "!pip install openai\n",
        "!pip install langchain_community\n",
        "!pip install langchain_openai"
      ],
      "metadata": {
        "colab": {
          "base_uri": "https://localhost:8080/"
        },
        "collapsed": true,
        "id": "KED67IIg-NKe",
        "outputId": "92da858f-c3c5-4b25-8c28-af71ee705200"
      },
      "id": "KED67IIg-NKe",
      "execution_count": 128,
      "outputs": [
        {
          "output_type": "stream",
          "name": "stdout",
          "text": [
            "Requirement already satisfied: openai in /usr/local/lib/python3.10/dist-packages (1.12.0)\n",
            "Requirement already satisfied: anyio<5,>=3.5.0 in /usr/local/lib/python3.10/dist-packages (from openai) (3.7.1)\n",
            "Requirement already satisfied: distro<2,>=1.7.0 in /usr/lib/python3/dist-packages (from openai) (1.7.0)\n",
            "Requirement already satisfied: httpx<1,>=0.23.0 in /usr/local/lib/python3.10/dist-packages (from openai) (0.27.0)\n",
            "Requirement already satisfied: pydantic<3,>=1.9.0 in /usr/local/lib/python3.10/dist-packages (from openai) (2.6.1)\n",
            "Requirement already satisfied: sniffio in /usr/local/lib/python3.10/dist-packages (from openai) (1.3.0)\n",
            "Requirement already satisfied: tqdm>4 in /usr/local/lib/python3.10/dist-packages (from openai) (4.66.2)\n",
            "Requirement already satisfied: typing-extensions<5,>=4.7 in /usr/local/lib/python3.10/dist-packages (from openai) (4.9.0)\n",
            "Requirement already satisfied: idna>=2.8 in /usr/local/lib/python3.10/dist-packages (from anyio<5,>=3.5.0->openai) (3.6)\n",
            "Requirement already satisfied: exceptiongroup in /usr/local/lib/python3.10/dist-packages (from anyio<5,>=3.5.0->openai) (1.2.0)\n",
            "Requirement already satisfied: certifi in /usr/local/lib/python3.10/dist-packages (from httpx<1,>=0.23.0->openai) (2024.2.2)\n",
            "Requirement already satisfied: httpcore==1.* in /usr/local/lib/python3.10/dist-packages (from httpx<1,>=0.23.0->openai) (1.0.4)\n",
            "Requirement already satisfied: h11<0.15,>=0.13 in /usr/local/lib/python3.10/dist-packages (from httpcore==1.*->httpx<1,>=0.23.0->openai) (0.14.0)\n",
            "Requirement already satisfied: annotated-types>=0.4.0 in /usr/local/lib/python3.10/dist-packages (from pydantic<3,>=1.9.0->openai) (0.6.0)\n",
            "Requirement already satisfied: pydantic-core==2.16.2 in /usr/local/lib/python3.10/dist-packages (from pydantic<3,>=1.9.0->openai) (2.16.2)\n",
            "Requirement already satisfied: langchain_community in /usr/local/lib/python3.10/dist-packages (0.0.23)\n",
            "Requirement already satisfied: PyYAML>=5.3 in /usr/local/lib/python3.10/dist-packages (from langchain_community) (6.0.1)\n",
            "Requirement already satisfied: SQLAlchemy<3,>=1.4 in /usr/local/lib/python3.10/dist-packages (from langchain_community) (2.0.27)\n",
            "Requirement already satisfied: aiohttp<4.0.0,>=3.8.3 in /usr/local/lib/python3.10/dist-packages (from langchain_community) (3.9.3)\n",
            "Requirement already satisfied: dataclasses-json<0.7,>=0.5.7 in /usr/local/lib/python3.10/dist-packages (from langchain_community) (0.6.4)\n",
            "Requirement already satisfied: langchain-core<0.2,>=0.1.26 in /usr/local/lib/python3.10/dist-packages (from langchain_community) (0.1.26)\n",
            "Requirement already satisfied: langsmith<0.2.0,>=0.1.0 in /usr/local/lib/python3.10/dist-packages (from langchain_community) (0.1.5)\n",
            "Requirement already satisfied: numpy<2,>=1 in /usr/local/lib/python3.10/dist-packages (from langchain_community) (1.25.2)\n",
            "Requirement already satisfied: requests<3,>=2 in /usr/local/lib/python3.10/dist-packages (from langchain_community) (2.31.0)\n",
            "Requirement already satisfied: tenacity<9.0.0,>=8.1.0 in /usr/local/lib/python3.10/dist-packages (from langchain_community) (8.2.3)\n",
            "Requirement already satisfied: aiosignal>=1.1.2 in /usr/local/lib/python3.10/dist-packages (from aiohttp<4.0.0,>=3.8.3->langchain_community) (1.3.1)\n",
            "Requirement already satisfied: attrs>=17.3.0 in /usr/local/lib/python3.10/dist-packages (from aiohttp<4.0.0,>=3.8.3->langchain_community) (23.2.0)\n",
            "Requirement already satisfied: frozenlist>=1.1.1 in /usr/local/lib/python3.10/dist-packages (from aiohttp<4.0.0,>=3.8.3->langchain_community) (1.4.1)\n",
            "Requirement already satisfied: multidict<7.0,>=4.5 in /usr/local/lib/python3.10/dist-packages (from aiohttp<4.0.0,>=3.8.3->langchain_community) (6.0.5)\n",
            "Requirement already satisfied: yarl<2.0,>=1.0 in /usr/local/lib/python3.10/dist-packages (from aiohttp<4.0.0,>=3.8.3->langchain_community) (1.9.4)\n",
            "Requirement already satisfied: async-timeout<5.0,>=4.0 in /usr/local/lib/python3.10/dist-packages (from aiohttp<4.0.0,>=3.8.3->langchain_community) (4.0.3)\n",
            "Requirement already satisfied: marshmallow<4.0.0,>=3.18.0 in /usr/local/lib/python3.10/dist-packages (from dataclasses-json<0.7,>=0.5.7->langchain_community) (3.20.2)\n",
            "Requirement already satisfied: typing-inspect<1,>=0.4.0 in /usr/local/lib/python3.10/dist-packages (from dataclasses-json<0.7,>=0.5.7->langchain_community) (0.9.0)\n",
            "Requirement already satisfied: anyio<5,>=3 in /usr/local/lib/python3.10/dist-packages (from langchain-core<0.2,>=0.1.26->langchain_community) (3.7.1)\n",
            "Requirement already satisfied: jsonpatch<2.0,>=1.33 in /usr/local/lib/python3.10/dist-packages (from langchain-core<0.2,>=0.1.26->langchain_community) (1.33)\n",
            "Requirement already satisfied: packaging<24.0,>=23.2 in /usr/local/lib/python3.10/dist-packages (from langchain-core<0.2,>=0.1.26->langchain_community) (23.2)\n",
            "Requirement already satisfied: pydantic<3,>=1 in /usr/local/lib/python3.10/dist-packages (from langchain-core<0.2,>=0.1.26->langchain_community) (2.6.1)\n",
            "Requirement already satisfied: charset-normalizer<4,>=2 in /usr/local/lib/python3.10/dist-packages (from requests<3,>=2->langchain_community) (3.3.2)\n",
            "Requirement already satisfied: idna<4,>=2.5 in /usr/local/lib/python3.10/dist-packages (from requests<3,>=2->langchain_community) (3.6)\n",
            "Requirement already satisfied: urllib3<3,>=1.21.1 in /usr/local/lib/python3.10/dist-packages (from requests<3,>=2->langchain_community) (2.0.7)\n",
            "Requirement already satisfied: certifi>=2017.4.17 in /usr/local/lib/python3.10/dist-packages (from requests<3,>=2->langchain_community) (2024.2.2)\n",
            "Requirement already satisfied: typing-extensions>=4.6.0 in /usr/local/lib/python3.10/dist-packages (from SQLAlchemy<3,>=1.4->langchain_community) (4.9.0)\n",
            "Requirement already satisfied: greenlet!=0.4.17 in /usr/local/lib/python3.10/dist-packages (from SQLAlchemy<3,>=1.4->langchain_community) (3.0.3)\n",
            "Requirement already satisfied: sniffio>=1.1 in /usr/local/lib/python3.10/dist-packages (from anyio<5,>=3->langchain-core<0.2,>=0.1.26->langchain_community) (1.3.0)\n",
            "Requirement already satisfied: exceptiongroup in /usr/local/lib/python3.10/dist-packages (from anyio<5,>=3->langchain-core<0.2,>=0.1.26->langchain_community) (1.2.0)\n",
            "Requirement already satisfied: jsonpointer>=1.9 in /usr/local/lib/python3.10/dist-packages (from jsonpatch<2.0,>=1.33->langchain-core<0.2,>=0.1.26->langchain_community) (2.4)\n",
            "Requirement already satisfied: annotated-types>=0.4.0 in /usr/local/lib/python3.10/dist-packages (from pydantic<3,>=1->langchain-core<0.2,>=0.1.26->langchain_community) (0.6.0)\n",
            "Requirement already satisfied: pydantic-core==2.16.2 in /usr/local/lib/python3.10/dist-packages (from pydantic<3,>=1->langchain-core<0.2,>=0.1.26->langchain_community) (2.16.2)\n",
            "Requirement already satisfied: mypy-extensions>=0.3.0 in /usr/local/lib/python3.10/dist-packages (from typing-inspect<1,>=0.4.0->dataclasses-json<0.7,>=0.5.7->langchain_community) (1.0.0)\n",
            "Requirement already satisfied: langchain_openai in /usr/local/lib/python3.10/dist-packages (0.0.7)\n",
            "Requirement already satisfied: langchain-core<0.2.0,>=0.1.26 in /usr/local/lib/python3.10/dist-packages (from langchain_openai) (0.1.26)\n",
            "Requirement already satisfied: numpy<2,>=1 in /usr/local/lib/python3.10/dist-packages (from langchain_openai) (1.25.2)\n",
            "Requirement already satisfied: openai<2.0.0,>=1.10.0 in /usr/local/lib/python3.10/dist-packages (from langchain_openai) (1.12.0)\n",
            "Requirement already satisfied: tiktoken<1,>=0.5.2 in /usr/local/lib/python3.10/dist-packages (from langchain_openai) (0.6.0)\n",
            "Requirement already satisfied: PyYAML>=5.3 in /usr/local/lib/python3.10/dist-packages (from langchain-core<0.2.0,>=0.1.26->langchain_openai) (6.0.1)\n",
            "Requirement already satisfied: anyio<5,>=3 in /usr/local/lib/python3.10/dist-packages (from langchain-core<0.2.0,>=0.1.26->langchain_openai) (3.7.1)\n",
            "Requirement already satisfied: jsonpatch<2.0,>=1.33 in /usr/local/lib/python3.10/dist-packages (from langchain-core<0.2.0,>=0.1.26->langchain_openai) (1.33)\n",
            "Requirement already satisfied: langsmith<0.2.0,>=0.1.0 in /usr/local/lib/python3.10/dist-packages (from langchain-core<0.2.0,>=0.1.26->langchain_openai) (0.1.5)\n",
            "Requirement already satisfied: packaging<24.0,>=23.2 in /usr/local/lib/python3.10/dist-packages (from langchain-core<0.2.0,>=0.1.26->langchain_openai) (23.2)\n",
            "Requirement already satisfied: pydantic<3,>=1 in /usr/local/lib/python3.10/dist-packages (from langchain-core<0.2.0,>=0.1.26->langchain_openai) (2.6.1)\n",
            "Requirement already satisfied: requests<3,>=2 in /usr/local/lib/python3.10/dist-packages (from langchain-core<0.2.0,>=0.1.26->langchain_openai) (2.31.0)\n",
            "Requirement already satisfied: tenacity<9.0.0,>=8.1.0 in /usr/local/lib/python3.10/dist-packages (from langchain-core<0.2.0,>=0.1.26->langchain_openai) (8.2.3)\n",
            "Requirement already satisfied: distro<2,>=1.7.0 in /usr/lib/python3/dist-packages (from openai<2.0.0,>=1.10.0->langchain_openai) (1.7.0)\n",
            "Requirement already satisfied: httpx<1,>=0.23.0 in /usr/local/lib/python3.10/dist-packages (from openai<2.0.0,>=1.10.0->langchain_openai) (0.27.0)\n",
            "Requirement already satisfied: sniffio in /usr/local/lib/python3.10/dist-packages (from openai<2.0.0,>=1.10.0->langchain_openai) (1.3.0)\n",
            "Requirement already satisfied: tqdm>4 in /usr/local/lib/python3.10/dist-packages (from openai<2.0.0,>=1.10.0->langchain_openai) (4.66.2)\n",
            "Requirement already satisfied: typing-extensions<5,>=4.7 in /usr/local/lib/python3.10/dist-packages (from openai<2.0.0,>=1.10.0->langchain_openai) (4.9.0)\n",
            "Requirement already satisfied: regex>=2022.1.18 in /usr/local/lib/python3.10/dist-packages (from tiktoken<1,>=0.5.2->langchain_openai) (2023.12.25)\n",
            "Requirement already satisfied: idna>=2.8 in /usr/local/lib/python3.10/dist-packages (from anyio<5,>=3->langchain-core<0.2.0,>=0.1.26->langchain_openai) (3.6)\n",
            "Requirement already satisfied: exceptiongroup in /usr/local/lib/python3.10/dist-packages (from anyio<5,>=3->langchain-core<0.2.0,>=0.1.26->langchain_openai) (1.2.0)\n",
            "Requirement already satisfied: certifi in /usr/local/lib/python3.10/dist-packages (from httpx<1,>=0.23.0->openai<2.0.0,>=1.10.0->langchain_openai) (2024.2.2)\n",
            "Requirement already satisfied: httpcore==1.* in /usr/local/lib/python3.10/dist-packages (from httpx<1,>=0.23.0->openai<2.0.0,>=1.10.0->langchain_openai) (1.0.4)\n",
            "Requirement already satisfied: h11<0.15,>=0.13 in /usr/local/lib/python3.10/dist-packages (from httpcore==1.*->httpx<1,>=0.23.0->openai<2.0.0,>=1.10.0->langchain_openai) (0.14.0)\n",
            "Requirement already satisfied: jsonpointer>=1.9 in /usr/local/lib/python3.10/dist-packages (from jsonpatch<2.0,>=1.33->langchain-core<0.2.0,>=0.1.26->langchain_openai) (2.4)\n",
            "Requirement already satisfied: annotated-types>=0.4.0 in /usr/local/lib/python3.10/dist-packages (from pydantic<3,>=1->langchain-core<0.2.0,>=0.1.26->langchain_openai) (0.6.0)\n",
            "Requirement already satisfied: pydantic-core==2.16.2 in /usr/local/lib/python3.10/dist-packages (from pydantic<3,>=1->langchain-core<0.2.0,>=0.1.26->langchain_openai) (2.16.2)\n",
            "Requirement already satisfied: charset-normalizer<4,>=2 in /usr/local/lib/python3.10/dist-packages (from requests<3,>=2->langchain-core<0.2.0,>=0.1.26->langchain_openai) (3.3.2)\n",
            "Requirement already satisfied: urllib3<3,>=1.21.1 in /usr/local/lib/python3.10/dist-packages (from requests<3,>=2->langchain-core<0.2.0,>=0.1.26->langchain_openai) (2.0.7)\n"
          ]
        }
      ]
    },
    {
      "cell_type": "code",
      "source": [
        "import os\n",
        "from getpass import getpass"
      ],
      "metadata": {
        "id": "S1Dabkzh-kIQ"
      },
      "id": "S1Dabkzh-kIQ",
      "execution_count": 129,
      "outputs": []
    },
    {
      "source": [
        "### Environments. Pinecone is a vector database that can store our data with its metadata.\n",
        "We will need:\n",
        "- OpenAI API Key.(5.00$ credit for first time use)\n",
        "- Pinecone API Key and environment.(one free project)\n",
        "\n",
        "At first, lets create the environments."
      ],
      "metadata": {
        "id": "26db4425-1415-4422-878e-fc555b2fbe0b"
      },
      "id": "26db4425-1415-4422-878e-fc555b2fbe0b",
      "cell_type": "markdown"
    },
    {
      "cell_type": "code",
      "source": [
        "# use your openai api key\n",
        "from getpass import getpass\n",
        "\n",
        "OPENAI_API_KEY = getpass()\n",
        "\n",
        "os.environ[\"OPENAI_API_KEY\"] = OPENAI_API_KEY # give the openai api key"
      ],
      "metadata": {
        "colab": {
          "base_uri": "https://localhost:8080/"
        },
        "id": "78GBtcWTh4yq",
        "outputId": "5a465ec3-e8e2-4243-9b2b-43d3b816cd6c"
      },
      "id": "78GBtcWTh4yq",
      "execution_count": 130,
      "outputs": [
        {
          "name": "stdout",
          "output_type": "stream",
          "text": [
            "··········\n"
          ]
        }
      ]
    },
    {
      "cell_type": "code",
      "source": [
        "# use your pinecone api key\n",
        "\n",
        "PINECONE_API_KEY = getpass()\n",
        "\n",
        "os.environ[\"PINECONE_API_KEY\"] = PINECONE_API_KEY"
      ],
      "metadata": {
        "colab": {
          "base_uri": "https://localhost:8080/"
        },
        "id": "ziIvpJc-i42q",
        "outputId": "79a1eff7-1700-480d-cff9-2a2669442cb5"
      },
      "id": "ziIvpJc-i42q",
      "execution_count": 154,
      "outputs": [
        {
          "name": "stdout",
          "output_type": "stream",
          "text": [
            "··········\n"
          ]
        }
      ]
    },
    {
      "cell_type": "code",
      "source": [
        "# pinecone env key\n",
        "PINECONE_ENV_KEY = getpass()\n",
        "\n",
        "os.environ[\"PINECONE_ENV_KEY\"] = PINECONE_ENV_KEY"
      ],
      "metadata": {
        "colab": {
          "base_uri": "https://localhost:8080/"
        },
        "id": "oClAJ0hjjCuy",
        "outputId": "d32ff24b-05fd-4e1a-86d1-ecc4e002b49b"
      },
      "id": "oClAJ0hjjCuy",
      "execution_count": 132,
      "outputs": [
        {
          "name": "stdout",
          "output_type": "stream",
          "text": [
            "··········\n"
          ]
        }
      ]
    },
    {
      "source": [
        "# Basics\n",
        "\n",
        "import pandas as pd\n",
        "import matplotlib.pyplot as plt\n",
        "\n",
        "# LangChain Training\n",
        "# LLM\n",
        "from langchain_community.llms import OpenAI\n",
        "\n",
        "# Document Loader\n",
        "from langchain_community.document_loaders import PyPDFLoader\n",
        "\n",
        "# Splitter\n",
        "from langchain.text_splitter import RecursiveCharacterTextSplitter\n",
        "#This text splitter is the recommended one for generic text. It is parameterized by a list of characters. It tries to split on them in order until the chunks are small enough. The default list is [\"\\n\\n\", \"\\n\", \" \", \"\"]. This has the effect of trying to keep all paragraphs (and then sentences, and then words) together as long as possible, as those would generically seem to be the strongest semantically related pieces of text.\n",
        "# Tokenizer\n",
        "from transformers import GPT2TokenizerFast\n",
        "\n",
        "# Embedding\n",
        "from langchain_community.embeddings import OpenAIEmbeddings\n",
        "\n",
        "# Vector DataBase\n",
        "from langchain_community.vectorstores import FAISS, Pinecone # for the vector database part -- FAISS is local and temporal, Pinecone is cloud-based and permanent.\n",
        "\n",
        "# Chains\n",
        "#from langchain.chains.question_answering import load_qa_chain\n",
        "#from langchain.chains import ConversationalRetrievalChain"
      ],
      "metadata": {
        "executionCancelledAt": null,
        "executionTime": 1324,
        "lastExecutedAt": 1708201725767,
        "lastScheduledRunId": null,
        "lastSuccessfullyExecutedCode": "# Basics\nimport os\nimport pandas as pd\nimport matplotlib.pyplot as plt\nfrom dotenv import load_dotenv\n\n# LangChain Training\n# LLM\nfrom langchain.llms import OpenAI\n\n# Document Loader\nfrom langchain.document_loaders import PyPDFLoader \n\n# Splitter\nfrom langchain.text_splitter import RecursiveCharacterTextSplitter \n\n# Tokenizer\nfrom transformers import GPT2TokenizerFast  \n\n# Embedding\nfrom langchain.embeddings import OpenAIEmbeddings \n\n# Vector DataBase\nfrom langchain.vectorstores import FAISS, Pinecone # for the vector database part -- FAISS is local and temporal, Pinecone is cloud-based and permanent. \n\n# Chains\n#from langchain.chains.question_answering import load_qa_chain\n#from langchain.chains import ConversationalRetrievalChain",
        "id": "0d8360cb-c7a0-4976-8fe9-5482d14b4495"
      },
      "id": "0d8360cb-c7a0-4976-8fe9-5482d14b4495",
      "cell_type": "code",
      "execution_count": 133,
      "outputs": []
    },
    {
      "source": [
        "## LangChain library and their usages\n",
        "The LangChain library encompasses various elements to facilitate the development of intricate applications using LangChain. This module will primarily delve into the following components:\n",
        "\n",
        "**Loading and Processing Documents:**\n",
        "- Document Loaders: Tools for loading documents into the system.\n",
        "- Text Splitters: Components for breaking down text into smaller segments.\n",
        "- Chat Messages: Functionality for managing messages within the chat interface.\n",
        "\n",
        "**Interacting with Documents Using NLP:**\n",
        "- LLM Model (GPT, Llama...): Advanced language models for understanding and generating text.\n",
        "- Chains: Mechanisms for organizing and processing text chains.\n",
        "- Natural Language Retrieval: Techniques for retrieving information based on natural language queries.\n",
        "- Metadata and Indexes: Structures for storing additional information about documents.\n",
        "- Memory: Functions for retaining context and information throughout interactions.\n",
        "\n",
        "**Processes Involving Document Handling and NLP:**\n",
        "- Text Embedding (OpenAI or Open-source models): Techniques for converting text into numerical representations.\n",
        "- Vector Stores: Databases for storing and retrieving vectorized representations of text.\n"
      ],
      "metadata": {
        "id": "1f548002-dda8-4d89-9c1e-7057392c11c5"
      },
      "id": "1f548002-dda8-4d89-9c1e-7057392c11c5",
      "cell_type": "markdown"
    },
    {
      "source": [
        "### The Model - Large Language Model of our Choice\n",
        "\n",
        "Our chatbot employs a sophisticated Large Language Model (LLM) powered by artificial intelligence. This model functions by receiving textual input and generating corresponding textual responses. While the default model is ada-001, we retain the flexibility to explicitly select a model of our preference. For a comprehensive list of available models, please refer to the [documentation](https://platform.openai.com/docs/models).\n"
      ],
      "metadata": {
        "id": "46cb81ae-fe1d-4108-a050-2e66c1bbf296"
      },
      "id": "46cb81ae-fe1d-4108-a050-2e66c1bbf296",
      "cell_type": "markdown"
    },
    {
      "cell_type": "code",
      "source": [
        "import openai\n",
        "from openai import OpenAI\n",
        "from langchain.chains import LLMChain\n",
        "from langchain.prompts import PromptTemplate\n",
        "from langchain_openai import OpenAI\n",
        "#from langchain_community.llms import OpenAI\n",
        "from langchain.llms import OpenAI\n",
        "from langchain.chat_models import ChatOpenAI"
      ],
      "metadata": {
        "id": "sRiGYVThohmA"
      },
      "id": "sRiGYVThohmA",
      "execution_count": 22,
      "outputs": []
    },
    {
      "cell_type": "markdown",
      "source": [
        "### Creating a Directory\n",
        "\n",
        "To begin, a directory named 'doc' has been created. This directory serves as the repository for uploading PDF files. Initially, we will focus on a single PDF file for query-response operations. Subsequently, we will expand our scope to encompass the entire directory of files in the development of our chatbot."
      ],
      "metadata": {
        "id": "DalFv-b3Be8M"
      },
      "id": "DalFv-b3Be8M"
    },
    {
      "cell_type": "code",
      "source": [
        "\n",
        "# Specify the output directory\n",
        "output_directory = \"/content/doc\"\n",
        "\n",
        "# Create the directory if it doesn't exist\n",
        "os.makedirs(output_directory, exist_ok=True)"
      ],
      "metadata": {
        "id": "xKCw1stYBfUR"
      },
      "id": "xKCw1stYBfUR",
      "execution_count": null,
      "outputs": []
    },
    {
      "cell_type": "code",
      "source": [
        "from langchain_openai import OpenAI\n",
        "#from langchain_community.llms import OpenAI\n",
        "\n",
        "#from langchain.llms import OpenAI\n",
        "from langchain.chat_models import ChatOpenAI\n",
        "\n",
        "llm = OpenAI()\n",
        "chat_model = ChatOpenAI()"
      ],
      "metadata": {
        "id": "dkke7-CcG2FI"
      },
      "id": "dkke7-CcG2FI",
      "execution_count": 205,
      "outputs": []
    },
    {
      "cell_type": "markdown",
      "source": [
        "## Loading the PDF\n",
        "\n",
        "To facilitate the loading of documents, we have imported PyPDFLoader and PyPDFDirectoryLoader modules. These modules enable us to efficiently load individual PDF documents and entire directories containing multiple PDFs.\n"
      ],
      "metadata": {
        "id": "U-9gtF9oBEgN"
      },
      "id": "U-9gtF9oBEgN"
    },
    {
      "cell_type": "code",
      "source": [
        "from langchain.document_loaders import PyPDFLoader, PyPDFDirectoryLoader\n",
        "\n",
        "##We can use PyPDFLoader to load more than one PDF at once.\n",
        "pdf_loader=PyPDFLoader(\"/content/doc/codegen.pdf\")\n",
        "pdf_data=pdf_loader.load()\n",
        "\n",
        "#We can use a directory loader to load more than one PDF at once.\n",
        "dir_loader = PyPDFDirectoryLoader(\"/content/doc/\")\n",
        "pdf_directory_data = dir_loader.load()"
      ],
      "metadata": {
        "id": "-XXc_FYq6NC6"
      },
      "id": "-XXc_FYq6NC6",
      "execution_count": 135,
      "outputs": []
    },
    {
      "source": [
        "In this approach, the PyPDFLoader is used at first for loading a single pdf file then the PyPDFDirectoryLoader class is used to directly load and split PDF files from a directory.\n",
        "\n",
        "### Text Splitter\n",
        "\n",
        "In the context of building an LLM-based application, efficient handling of data is essential. This involves dividing the data into manageable portions known as data chunks, with the size of these chunks significantly impacting the quality of the chatbot.\n",
        "\n",
        "The tokenizer assumes a pivotal role in managing data chunks when working with LLMs:\n",
        "- **Tokenizer**: This tool is used for converting text data into a format that can be processed by the model.\n",
        "- The data, once tokenized, is then stored in vector stores.\n",
        "\n",
        "For the conversion of original data into tokens and subsequent splitting into data chunks, we employ the **LangChain Text Splitter**.\n",
        "\n"
      ],
      "metadata": {
        "id": "da29979d-f779-41e1-a35c-598770a03139"
      },
      "id": "da29979d-f779-41e1-a35c-598770a03139",
      "cell_type": "markdown"
    },
    {
      "source": [
        "Here, we initialize a GPT-2 tokenizer using the GPT2TokenizerFast class from the Hugging Face transformers library. This tokenizer is responsible for tokenizing the text into tokens. We set truncation=True to ensure that long sentences are truncated to fit the model's input size.\n",
        "\n",
        "The `count_tokens` function takes a string of text as input and returns the number of tokens after tokenization using the initialized tokenizer. It utilizes the `tokenizer.encode(text)` method to tokenize the text and then returns the length of the resulting list of tokens.\n"
      ],
      "metadata": {
        "id": "c72a417e-7708-4d1e-bc99-0b0ba703dbe1"
      },
      "id": "c72a417e-7708-4d1e-bc99-0b0ba703dbe1",
      "cell_type": "markdown"
    },
    {
      "source": [
        "#PDF DATA\n",
        "# 1 - Splitter\n",
        "\n",
        "\n",
        "# 3 - Create function to count tokens\n",
        "tokenizer = GPT2TokenizerFast.from_pretrained(\"gpt2\")\n",
        "def count_tokens(text: str) -> int:\n",
        "    return len(tokenizer.encode(text))\n",
        "\n",
        "# 4 - Define the splitter for 1 pdf\n",
        "text_splitter = RecursiveCharacterTextSplitter(\n",
        "    chunk_size=200,\n",
        "    chunk_overlap=20,\n",
        "    length_function=count_tokens\n",
        ")\n",
        "\n",
        "# 5 - Apply the .split_document command\n",
        "pdf_chunks = text_splitter.split_documents(pdf_data)\n",
        "print(\"PDF Data - Now you have {0} number of chunks.\".format(len(pdf_chunks)))\n",
        "\n",
        "# 4 - Define the splitter pdf doc\n",
        "text_splitter = RecursiveCharacterTextSplitter(\n",
        "    chunk_size=200,\n",
        "    chunk_overlap=20\n",
        ")\n",
        "\n",
        "pdf_directory_chunks = text_splitter.split_documents(pdf_directory_data)\n",
        "print(\"pdf_directory_data - Now you have {0} number of chunks.\".format(len(pdf_directory_chunks)))"
      ],
      "metadata": {
        "executionCancelledAt": null,
        "executionTime": 288,
        "lastExecutedAt": 1704818288170,
        "lastScheduledRunId": null,
        "lastSuccessfullyExecutedCode": "#_____________________________________________________________________PDF DATA\n# 1 - Splitter\nfrom langchain.text_splitter import RecursiveCharacterTextSplitter \n# 2 - Tokenizer\nfrom transformers import GPT2TokenizerFast  \n \n# 3 - Create function to count tokens\ntokenizer = GPT2TokenizerFast.from_pretrained(\"gpt2\")\n\ndef count_tokens(text: str) -> int:\n    return len(tokenizer.encode(text))\n\n# 4 - Define the splitter\ntext_splitter = RecursiveCharacterTextSplitter(\n    chunk_size=200,\n    chunk_overlap=20,\n    length_function=count_tokens\n)\n\n# 5 - Apply the .split_document command\npdf_chunks = text_splitter.split_documents(pdf_data)\nprint(\"PDF Data - Now you have {0} number of chunks.\".format(len(pdf_chunks)))\n\n\n#_____________________________________________________________________HN DATA\n# 3 - We use the default len, no need to do anything.\n\n# 4 - Define the splitter\ntext_splitter = RecursiveCharacterTextSplitter(\n    chunk_size=200,\n    chunk_overlap=20\n)\n\nhn_chunks = text_splitter.split_documents(hn_data)\nprint(\"Online HN - Now you have {0} number of chunks.\".format(len(hn_chunks)))",
        "outputsMetadata": {
          "0": {
            "height": 57,
            "type": "stream"
          }
        },
        "id": "bd61a742-dc5e-441a-a746-37d43012aceb",
        "outputId": "5f1afde6-eb23-48d7-debf-e5bd0d13696f",
        "colab": {
          "base_uri": "https://localhost:8080/"
        }
      },
      "id": "bd61a742-dc5e-441a-a746-37d43012aceb",
      "cell_type": "code",
      "execution_count": 136,
      "outputs": [
        {
          "output_type": "stream",
          "name": "stdout",
          "text": [
            "PDF Data - Now you have 139 number of chunks.\n",
            "pdf_directory_data - Now you have 2161 number of chunks.\n"
          ]
        }
      ]
    },
    {
      "source": [
        "tokenizer = GPT2TokenizerFast.from_pretrained(\"openai-community/gpt2\")\n",
        "def count_tokens(text: str) -> int:\n",
        "    return len(tokenizer.encode(text))\n",
        "\n",
        "# 4 - Define the splitter for 1 pdf\n",
        "text_splitter = RecursiveCharacterTextSplitter(\n",
        "    chunk_size=200,\n",
        "    chunk_overlap=20,\n",
        "    length_function=count_tokens\n",
        ")\n",
        "\n",
        "# 5 - Apply the .split_document command\n",
        "pdf_chunks = text_splitter.split_documents(pdf_data)\n",
        "print(\"PDF Data - Now you have {0} number of chunks.\".format(len(pdf_chunks)))\n",
        "\n",
        "# 4 - Define the splitter pdf doc\n",
        "text_splitter = RecursiveCharacterTextSplitter(\n",
        "    chunk_size=200,\n",
        "    chunk_overlap=20\n",
        ")\n",
        "\n",
        "pdf_directory_chunks = text_splitter.split_documents(pdf_directory_data)\n",
        "print(\"pdf_directory_data - Now you have {0} number of chunks.\".format(len(pdf_directory_chunks)))"
      ],
      "metadata": {
        "executionCancelledAt": null,
        "executionTime": null,
        "lastExecutedAt": null,
        "lastScheduledRunId": null,
        "lastSuccessfullyExecutedCode": null,
        "outputsMetadata": {
          "0": {
            "height": 57,
            "type": "stream"
          }
        },
        "id": "b4d3bcfc-64b2-48e2-ae3a-49dc9c44bd4c",
        "outputId": "c39ecd42-e1cf-4d9f-de84-95efbabcc9a5",
        "colab": {
          "base_uri": "https://localhost:8080/"
        }
      },
      "cell_type": "code",
      "id": "b4d3bcfc-64b2-48e2-ae3a-49dc9c44bd4c",
      "outputs": [
        {
          "output_type": "stream",
          "name": "stdout",
          "text": [
            "PDF Data - Now you have 139 number of chunks.\n",
            "pdf_directory_data - Now you have 2161 number of chunks.\n"
          ]
        }
      ],
      "execution_count": 137
    },
    {
      "source": [
        "We can make sure that the chunking has been successful by visualizing the distribution of chunk sizes.\n",
        "Since we have selected a chunk size of 200, **the majority of our chunks should have this lenght.** However, to plot the chunk sizes, you should plot the distribution of the chunk lengths rather than the token counts."
      ],
      "metadata": {
        "id": "ad447dd1-d5a5-4b2e-91ce-ef41539ddf73"
      },
      "id": "ad447dd1-d5a5-4b2e-91ce-ef41539ddf73",
      "cell_type": "markdown"
    },
    {
      "cell_type": "code",
      "source": [
        "import matplotlib.pyplot as plt\n",
        "\n",
        "# Create a list of chunk sizes\n",
        "chunk_sizes_pdf = [len(chunk.page_content) for chunk in pdf_chunks]\n",
        "chunk_sizes_pdf_directory = [len(chunk.page_content) for chunk in pdf_directory_chunks]\n",
        "\n",
        "# Create DataFrames from the chunk sizes\n",
        "df_pdf = pd.DataFrame({'Chunk Size': chunk_sizes_pdf})\n",
        "df_pdf_directory = pd.DataFrame({'Chunk Size': chunk_sizes_pdf_directory})\n",
        "\n",
        "# Plot the histogram of chunk size distributions\n",
        "plt.figure(figsize=(10, 5))\n",
        "\n",
        "plt.subplot(1, 2, 1)\n",
        "plt.hist(df_pdf['Chunk Size'], bins=40, color='skyblue', edgecolor='black')\n",
        "plt.title('Single PDF Chunk Size Distribution')\n",
        "plt.xlabel('Chunk Size')\n",
        "plt.ylabel('Frequency')\n",
        "\n",
        "plt.subplot(1, 2, 2)\n",
        "plt.hist(df_pdf_directory['Chunk Size'], bins=40, color='salmon', edgecolor='black')\n",
        "plt.title('Multiple PDFs Chunk Size Distribution')\n",
        "plt.xlabel('Chunk Size')\n",
        "plt.ylabel('Frequency')\n",
        "\n",
        "plt.tight_layout()\n",
        "plt.show()\n"
      ],
      "metadata": {
        "colab": {
          "base_uri": "https://localhost:8080/",
          "height": 507
        },
        "id": "SgcKp0OvKsOQ",
        "outputId": "1b204193-1987-48d5-fe2b-ab63f962e561"
      },
      "id": "SgcKp0OvKsOQ",
      "execution_count": 143,
      "outputs": [
        {
          "output_type": "display_data",
          "data": {
            "text/plain": [
              "<Figure size 1000x500 with 2 Axes>"
            ],
            "image/png": "[encoded data removed]"
          },
          "metadata": {}
        }
      ]
    },
    {
      "cell_type": "markdown",
      "source": [
        "In this histogram, the x-axis represents the chunk lengths, while the y-axis represents the frequency of each length. The blue bars represent the distribution of chunk lengths for the pdf file, and the red bars represent the distribution of the whole documentary. By comparing these two distributions, we can see how the changes in parameters affected the resulting chunk lengths.\n",
        "The ideal distribution depends on the specific requirements of our text-processing task. WE might want smaller, more numerous chunks if we're dealing with fine-grained analysis or larger, fewer chunks for broader semantic analysis.\n"
      ],
      "metadata": {
        "id": "kepMcasWJL5i"
      },
      "id": "kepMcasWJL5i"
    },
    {
      "source": [
        "- **Split by pages**: If our data comes from documents organized in pages, there are methods that allow you to split data in pages to keep track of the page content. This method is specially useful when dealing with PDFs, as in the following example:"
      ],
      "metadata": {
        "id": "c149bde7-39f5-4912-83f2-fb238e4d72a7"
      },
      "id": "c149bde7-39f5-4912-83f2-fb238e4d72a7",
      "cell_type": "markdown"
    },
    {
      "cell_type": "code",
      "source": [
        "\n",
        "# Directory containing PDF files\n",
        "pdf_directory = \"/content/doc\"\n",
        "\n",
        "# Initialize an empty list to store PDF chunks\n",
        "pdf_dir_page_chunks = []\n",
        "\n",
        "# Loop through each file in the directory\n",
        "for filename in os.listdir(pdf_directory):\n",
        "    # Check if the file is a PDF\n",
        "    if filename.endswith(\".pdf\"):\n",
        "        # Construct the full path to the PDF file\n",
        "        pdf_file_path = os.path.join(pdf_directory, filename)\n",
        "        # Initialize PyPDFLoader with the PDF file\n",
        "        loader = PyPDFLoader(pdf_file_path)\n",
        "        # Load and split the PDF file\n",
        "        pdf_file_chunks = loader.load_and_split()\n",
        "        # Extend the list of PDF chunks with the chunks from the current file\n",
        "        pdf_dir_page_chunks.extend(pdf_file_chunks)\n",
        "\n",
        "# Output the number of chunks obtained\n",
        "print(\"Total number of PDF chunks:\", len(pdf_dir_page_chunks))\n"
      ],
      "metadata": {
        "colab": {
          "base_uri": "https://localhost:8080/"
        },
        "id": "-HYjDlreWbOG",
        "outputId": "ff0217f5-8dd2-43c3-cec2-e947dbc4fead"
      },
      "id": "-HYjDlreWbOG",
      "execution_count": 145,
      "outputs": [
        {
          "output_type": "stream",
          "name": "stdout",
          "text": [
            "Total number of PDF chunks: 141\n",
            "Total number of PDF chunks: 141\n"
          ]
        }
      ]
    },
    {
      "cell_type": "markdown",
      "source": [
        "In this approach, each PDF file in the directory is processed individually. For each file, the code constructs the full path to the PDF file, initializes a PyPDFLoader instance with the file, loads and splits the PDF file using loader.load_and_split(), and then extends the list of PDF chunks with the chunks obtained from the current file. Finally, the total number of PDF chunks obtained is outputted."
      ],
      "metadata": {
        "id": "IyekvobxblkM"
      },
      "id": "IyekvobxblkM"
    },
    {
      "cell_type": "markdown",
      "source": [],
      "metadata": {
        "id": "5GVl6cNacuFS"
      },
      "id": "5GVl6cNacuFS"
    },
    {
      "cell_type": "markdown",
      "source": [
        "A sample comparism between larger chunk size and smaller chunk size."
      ],
      "metadata": {
        "id": "VzqblSSqb2FM"
      },
      "id": "VzqblSSqb2FM"
    },
    {
      "cell_type": "markdown",
      "source": [
        "| **Model Performance**      | **Memory and Resource Usage** |\n",
        "|---------------------------|-------------------------------|\n",
        "| Larger chunk sizes may result in better performance by considering more context. | Larger chunk sizes require more memory and computational resources. |\n",
        "| Smaller chunk sizes are preferable for fine-grained analysis and resource-constrained environments. | Smaller chunk sizes help mitigate memory issues and reduce computational burden. |\n",
        "|                          |                               |\n",
        "| **Speed and Efficiency**   | **Task Specificity**          |\n",
        "|---------------------------|-------------------------------|\n",
        "| Smaller chunk sizes may lead to faster processing times and increased efficiency. | The optimal chunk size varies depending on the NLP task and data characteristics. |\n",
        "| Considerations include parallelization, distribution, and processing overhead. | Chunk size impacts tasks like NER, sentiment analysis, and document classification differently. |\n"
      ],
      "metadata": {
        "id": "ZU-URZJsN2i2"
      },
      "id": "ZU-URZJsN2i2"
    },
    {
      "cell_type": "code",
      "source": [],
      "metadata": {
        "id": "M7Ng1Ph6N1Q3"
      },
      "id": "M7Ng1Ph6N1Q3",
      "execution_count": null,
      "outputs": []
    },
    {
      "cell_type": "code",
      "source": [],
      "metadata": {
        "id": "MwV19bjaN1W-"
      },
      "id": "MwV19bjaN1W-",
      "execution_count": null,
      "outputs": []
    },
    {
      "source": [
        "## Vector Stores\n",
        "\n",
        "Vector stores, also known as vector databases, are specialized types of databases designed to efficiently handle and manipulate high-dimensional vector data. In our case, we will store the tokenized and splitted content, e.g., the data chunks in the format that LLMs can process.\n",
        "\n",
        "There are different types of vector stores. Depending on the storage of the data, we can classify them as:\n",
        "- **Local Vector Stores**: This type of databases store the information in your local system. As an example of Local Vector Store, we will use FAISS.\n",
        "- **Online Vector Stores**: This type of databases store the information in the cloud. We will use Pinecone as out preferred option for Online Vector Stores.\n",
        "\n"
      ],
      "metadata": {
        "id": "06933573-24eb-4ba2-bf05-4410912be27e"
      },
      "id": "06933573-24eb-4ba2-bf05-4410912be27e",
      "cell_type": "markdown"
    },
    {
      "cell_type": "markdown",
      "source": [
        "### FAISS - EXAMPLE OF LOCAL VECTOR STORE"
      ],
      "metadata": {
        "id": "_Z6hnCgcf-Ug"
      },
      "id": "_Z6hnCgcf-Ug"
    },
    {
      "cell_type": "markdown",
      "source": [
        "\n",
        "We have imported the `FAISS` module from `langchain_community.vectorstores` for the vector database part. It's worth noting that FAISS is a local and temporary solution, while Pinecone is a cloud-based alternative.\n",
        "\n",
        "The code `embeddings = OpenAIEmbeddings()` initializes an embedding model using the `OpenAIEmbeddings` class.\n",
        "\n",
        "We have created two separate vector databases using FAISS: `db_FAISS_pdf` for storing documents loaded from individual PDF chunks, and `db_FAISS_dir` for storing documents from the directory of PDFs, both utilizing the initialized `embeddings` model.\n"
      ],
      "metadata": {
        "id": "JUnndoe_PHrR"
      },
      "id": "JUnndoe_PHrR"
    },
    {
      "source": [
        "from langchain_community.vectorstores import FAISS\n",
        "from langchain_community.embeddings import OpenAIEmbeddings\n",
        "\n",
        "# Get embedding model\n",
        "embeddings = OpenAIEmbeddings()\n",
        "\n",
        "db_FAISS_pdf= FAISS.from_documents(pdf_chunks, embeddings)\n",
        "db_FAISS_dir= FAISS.from_documents(pdf_directory_chunks, embeddings)"
      ],
      "metadata": {
        "executionCancelledAt": null,
        "executionTime": 4512,
        "lastExecutedAt": 1708204683784,
        "lastScheduledRunId": null,
        "lastSuccessfullyExecutedCode": "from langchain.vectorstores import FAISS  # for the vector database part -- FAISS is local and temporal, Pinecone is cloud-\nfrom langchain.embeddings.openai import OpenAIEmbeddings\n\n# Get embedding model\nembeddings = OpenAIEmbeddings()\n\n# OPTION 1: FAISS (Facebook AI Similarity Search) Local _______________________________________________________________________________________\n# Create vector database\ndb_FAISS = FAISS.from_documents(pdf_chunks, embeddings)",
        "outputsMetadata": {
          "0": {
            "height": 580,
            "type": "stream"
          },
          "1": {
            "height": 616,
            "type": "stream"
          }
        },
        "id": "b7dc17d0-275f-4376-86e1-11661a2dd1ef"
      },
      "id": "b7dc17d0-275f-4376-86e1-11661a2dd1ef",
      "cell_type": "code",
      "execution_count": 148,
      "outputs": []
    },
    {
      "cell_type": "code",
      "source": [],
      "metadata": {
        "id": "gHgdZpf1dID-"
      },
      "id": "gHgdZpf1dID-",
      "execution_count": 113,
      "outputs": []
    },
    {
      "source": [
        "### PINECONE - EXAMPLE OF ONLINE VECTOR STORE\n",
        "\n",
        "We utilized the `Pinecone` module from `langchain_pinecone` to create vector databases for storing documents. The `index_name` variable is set to \"chtbt-documents\" for both databases to identify them within the Pinecone platform.\n",
        "\n",
        "The  `db_Pinecone_pdf` creates a Pinecone vector database named  from the documents loaded from individual PDF chunks, utilizing the provided embeddings and the specified index name.\n",
        "\n",
        "Similarly, `db_Pinecone_dir` creates another Pinecone vector database named `db_Pinecone_dir` for documents from the directory of PDFs, also utilizing the embeddings and index name.\n"
      ],
      "metadata": {
        "id": "1c4faca6-6ae9-453c-90d0-b31fc75a7872"
      },
      "id": "1c4faca6-6ae9-453c-90d0-b31fc75a7872",
      "cell_type": "markdown"
    },
    {
      "source": [
        "#from langchain.vectorstores import Pinecone"
      ],
      "metadata": {
        "executionCancelledAt": null,
        "executionTime": 10,
        "lastExecutedAt": 1708207034397,
        "lastScheduledRunId": null,
        "lastSuccessfullyExecutedCode": "from langchain.vectorstores import Pinecone",
        "id": "05b50d9e-bd87-410b-82d2-86aa9c6804ae"
      },
      "cell_type": "code",
      "id": "05b50d9e-bd87-410b-82d2-86aa9c6804ae",
      "outputs": [],
      "execution_count": 109
    },
    {
      "source": [
        "pip install langchain_pinecone"
      ],
      "metadata": {
        "executionCancelledAt": null,
        "executionTime": null,
        "lastExecutedAt": null,
        "lastScheduledRunId": null,
        "lastSuccessfullyExecutedCode": null,
        "outputsMetadata": {
          "0": {
            "height": 603,
            "type": "stream"
          }
        },
        "id": "e0ac948b-901c-46df-b2ec-6fa811209593",
        "outputId": "08668b97-74e8-4594-9a75-8cfb5719b04e",
        "colab": {
          "base_uri": "https://localhost:8080/"
        },
        "collapsed": true
      },
      "cell_type": "code",
      "id": "e0ac948b-901c-46df-b2ec-6fa811209593",
      "outputs": [
        {
          "output_type": "stream",
          "name": "stdout",
          "text": [
            "Requirement already satisfied: langchain_pinecone in /usr/local/lib/python3.10/dist-packages (0.0.3)\n",
            "Requirement already satisfied: langchain-core<0.2,>=0.1 in /usr/local/lib/python3.10/dist-packages (from langchain_pinecone) (0.1.26)\n",
            "Requirement already satisfied: numpy<2,>=1 in /usr/local/lib/python3.10/dist-packages (from langchain_pinecone) (1.25.2)\n",
            "Requirement already satisfied: pinecone-client<4,>=3 in /usr/local/lib/python3.10/dist-packages (from langchain_pinecone) (3.0.3)\n",
            "Requirement already satisfied: PyYAML>=5.3 in /usr/local/lib/python3.10/dist-packages (from langchain-core<0.2,>=0.1->langchain_pinecone) (6.0.1)\n",
            "Requirement already satisfied: anyio<5,>=3 in /usr/local/lib/python3.10/dist-packages (from langchain-core<0.2,>=0.1->langchain_pinecone) (3.7.1)\n",
            "Requirement already satisfied: jsonpatch<2.0,>=1.33 in /usr/local/lib/python3.10/dist-packages (from langchain-core<0.2,>=0.1->langchain_pinecone) (1.33)\n",
            "Requirement already satisfied: langsmith<0.2.0,>=0.1.0 in /usr/local/lib/python3.10/dist-packages (from langchain-core<0.2,>=0.1->langchain_pinecone) (0.1.5)\n",
            "Requirement already satisfied: packaging<24.0,>=23.2 in /usr/local/lib/python3.10/dist-packages (from langchain-core<0.2,>=0.1->langchain_pinecone) (23.2)\n",
            "Requirement already satisfied: pydantic<3,>=1 in /usr/local/lib/python3.10/dist-packages (from langchain-core<0.2,>=0.1->langchain_pinecone) (2.6.1)\n",
            "Requirement already satisfied: requests<3,>=2 in /usr/local/lib/python3.10/dist-packages (from langchain-core<0.2,>=0.1->langchain_pinecone) (2.31.0)\n",
            "Requirement already satisfied: tenacity<9.0.0,>=8.1.0 in /usr/local/lib/python3.10/dist-packages (from langchain-core<0.2,>=0.1->langchain_pinecone) (8.2.3)\n",
            "Requirement already satisfied: certifi>=2019.11.17 in /usr/local/lib/python3.10/dist-packages (from pinecone-client<4,>=3->langchain_pinecone) (2024.2.2)\n",
            "Requirement already satisfied: tqdm>=4.64.1 in /usr/local/lib/python3.10/dist-packages (from pinecone-client<4,>=3->langchain_pinecone) (4.66.2)\n",
            "Requirement already satisfied: typing-extensions>=3.7.4 in /usr/local/lib/python3.10/dist-packages (from pinecone-client<4,>=3->langchain_pinecone) (4.9.0)\n",
            "Requirement already satisfied: urllib3>=1.26.0 in /usr/local/lib/python3.10/dist-packages (from pinecone-client<4,>=3->langchain_pinecone) (2.0.7)\n",
            "Requirement already satisfied: idna>=2.8 in /usr/local/lib/python3.10/dist-packages (from anyio<5,>=3->langchain-core<0.2,>=0.1->langchain_pinecone) (3.6)\n",
            "Requirement already satisfied: sniffio>=1.1 in /usr/local/lib/python3.10/dist-packages (from anyio<5,>=3->langchain-core<0.2,>=0.1->langchain_pinecone) (1.3.0)\n",
            "Requirement already satisfied: exceptiongroup in /usr/local/lib/python3.10/dist-packages (from anyio<5,>=3->langchain-core<0.2,>=0.1->langchain_pinecone) (1.2.0)\n",
            "Requirement already satisfied: jsonpointer>=1.9 in /usr/local/lib/python3.10/dist-packages (from jsonpatch<2.0,>=1.33->langchain-core<0.2,>=0.1->langchain_pinecone) (2.4)\n",
            "Requirement already satisfied: annotated-types>=0.4.0 in /usr/local/lib/python3.10/dist-packages (from pydantic<3,>=1->langchain-core<0.2,>=0.1->langchain_pinecone) (0.6.0)\n",
            "Requirement already satisfied: pydantic-core==2.16.2 in /usr/local/lib/python3.10/dist-packages (from pydantic<3,>=1->langchain-core<0.2,>=0.1->langchain_pinecone) (2.16.2)\n",
            "Requirement already satisfied: charset-normalizer<4,>=2 in /usr/local/lib/python3.10/dist-packages (from requests<3,>=2->langchain-core<0.2,>=0.1->langchain_pinecone) (3.3.2)\n"
          ]
        }
      ],
      "execution_count": 149
    },
    {
      "source": [
        "import langchain_pinecone"
      ],
      "metadata": {
        "executionCancelledAt": null,
        "executionTime": 58,
        "lastExecutedAt": 1708207290033,
        "lastScheduledRunId": null,
        "lastSuccessfullyExecutedCode": "import langchain_pinecone",
        "id": "0fc24f90-1cbe-45d5-800b-7513f9604bb0"
      },
      "cell_type": "code",
      "id": "0fc24f90-1cbe-45d5-800b-7513f9604bb0",
      "outputs": [],
      "execution_count": 155
    },
    {
      "cell_type": "code",
      "source": [
        "from langchain_pinecone import Pinecone\n",
        "\n",
        "index_name = \"chtbt-documents\"\n",
        "\n",
        "db_Pinecone_pdf= Pinecone.from_documents(pdf_chunks, embeddings, index_name=index_name)\n"
      ],
      "metadata": {
        "id": "KJw3c2m-dpt1"
      },
      "id": "KJw3c2m-dpt1",
      "execution_count": 222,
      "outputs": []
    },
    {
      "cell_type": "code",
      "source": [
        "db_Pinecone_pdf"
      ],
      "metadata": {
        "colab": {
          "base_uri": "https://localhost:8080/"
        },
        "id": "yPHeQEOCcHUh",
        "outputId": "dde994b0-9e70-4688-dafc-54e30748347a"
      },
      "id": "yPHeQEOCcHUh",
      "execution_count": 223,
      "outputs": [
        {
          "output_type": "execute_result",
          "data": {
            "text/plain": [
              "<langchain_pinecone.vectorstores.Pinecone at 0x7aa9ccd898d0>"
            ]
          },
          "metadata": {},
          "execution_count": 223
        }
      ]
    },
    {
      "source": [
        "## PDF FILE Natural Language Retrieval\n",
        "We first start performing a semantic search within our Vector DataBase."
      ],
      "metadata": {
        "id": "e2e6151d-08d3-4c8f-8a7a-643c101bd701"
      },
      "id": "e2e6151d-08d3-4c8f-8a7a-643c101bd701",
      "cell_type": "markdown"
    },
    {
      "source": [
        "\n",
        "# We can define how many similarities we want to get back by defining the variable k\n",
        "query = \"Can you please tell me what is this article CODEGEN: AN OPEN LARGE LANGUAGE MODEL FOR CODE WITH MULTI-TURN PROGRAM SYNTHESIS is about?\"\n",
        "matches = db_FAISS_pdf.similarity_search(query, k=2)\n",
        "print(matches)"
      ],
      "metadata": {
        "executionCancelledAt": null,
        "executionTime": null,
        "lastExecutedAt": null,
        "lastScheduledRunId": null,
        "lastSuccessfullyExecutedCode": null,
        "outputsMetadata": {
          "0": {
            "height": 257,
            "type": "stream"
          }
        },
        "id": "826da9fb-03ba-4101-b793-3b9ac3203d79",
        "outputId": "d7f5299d-ea17-44af-99df-0b9006f67084",
        "colab": {
          "base_uri": "https://localhost:8080/"
        }
      },
      "id": "826da9fb-03ba-4101-b793-3b9ac3203d79",
      "cell_type": "code",
      "execution_count": 230,
      "outputs": [
        {
          "output_type": "stream",
          "name": "stdout",
          "text": [
            "[Document(page_content='Published as a conference paper at ICLR 2023\\nCODEGEN: ANOPEN LARGE LANGUAGE MODEL FOR\\nCODE WITH MULTI -TURN PROGRAM SYNTHESIS\\nErik Nijkamp∗, Bo Pang∗, Hiroaki Hayashi∗,\\nLifu Tu ,Huan Wang ,Yingbo Zhou ,Silvio Savarese ,Caiming Xiong\\nSalesforce Research\\nABSTRACT\\nProgram synthesis strives to generate a computer program as a solution to a given\\nproblem speciﬁcation, expressed with input-output examples or natural language\\ndescriptions. The prevalence of large language models advances the state-of-the-art\\nfor program synthesis, though limited training resources and data impede open\\naccess to such models. To democratize this, we train and release a family of large', metadata={'source': '/content/doc/codegen.pdf', 'page': 0, 'text': 'Published as a conference paper at ICLR 2023\\nCODEGEN: ANOPEN LARGE LANGUAGE MODEL FOR\\nCODE WITH MULTI -TURN PROGRAM SYNTHESIS\\nErik Nijkamp∗, Bo Pang∗, Hiroaki Hayashi∗,\\nLifu Tu ,Huan Wang ,Yingbo Zhou ,Silvio Savarese ,Caiming Xiong\\nSalesforce Research\\nABSTRACT\\nProgram synthesis strives to generate a computer program as a solution to a given\\nproblem speciﬁcation, expressed with input-output examples or natural language\\ndescriptions. The prevalence of large language models advances the state-of-the-art\\nfor program synthesis, though limited training resources and data impede open\\naccess to such models. To democratize this, we train and release a family of large'}), Document(page_content='access to such models. To democratize this, we train and release a family of large\\nlanguage models up to 16.1B parameters, called CODEGEN, on natural language\\nand programming language data, and open source the training library JAX FORMER .\\nWe show the utility of the trained model by demonstrating that it is competitive with\\nthe previous state-of-the-art on zero-shot Python code generation on HumanEval.\\nWe further investigate the multi-step paradigm for program synthesis, where a single\\nprogram is factorized into multiple prompts specifying subproblems. To this end,\\nwe construct an open benchmark, Multi-Turn Programming Benchmark (MTPB),\\nconsisting of 115 diverse problem sets that are factorized into multi-turn prompts.\\nOur analysis on MTPB shows that the same intent provided to CODEGENin multi-', metadata={'source': '/content/doc/codegen.pdf', 'page': 0, 'text': 'access to such models. To democratize this, we train and release a family of large\\nlanguage models up to 16.1B parameters, called CODEGEN, on natural language\\nand programming language data, and open source the training library JAX FORMER .\\nWe show the utility of the trained model by demonstrating that it is competitive with\\nthe previous state-of-the-art on zero-shot Python code generation on HumanEval.\\nWe further investigate the multi-step paradigm for program synthesis, where a single\\nprogram is factorized into multiple prompts specifying subproblems. To this end,\\nwe construct an open benchmark, Multi-Turn Programming Benchmark (MTPB),\\nconsisting of 115 diverse problem sets that are factorized into multi-turn prompts.\\nOur analysis on MTPB shows that the same intent provided to CODEGENin multi-'})]\n"
          ]
        }
      ]
    },
    {
      "cell_type": "code",
      "source": [
        "# We can define how many similarities we want to get back by defining the variable k\n",
        "query = \"Can you please tell me what is this article CODEGEN: AN OPEN LARGE LANGUAGE MODEL FOR CODE WITH MULTI-TURN PROGRAM SYNTHESIS is about?\"\n",
        "matches = db_FAISS_pdf.similarity_search(query, k=3)\n",
        "display(matches[0].page_content)"
      ],
      "metadata": {
        "colab": {
          "base_uri": "https://localhost:8080/",
          "height": 123
        },
        "id": "KkNCvI5Bd6SF",
        "outputId": "1e18b734-067d-4dbd-c806-aab0a37e7a21"
      },
      "id": "KkNCvI5Bd6SF",
      "execution_count": 235,
      "outputs": [
        {
          "output_type": "display_data",
          "data": {
            "text/plain": [
              "'Published as a conference paper at ICLR 2023\\nCODEGEN: ANOPEN LARGE LANGUAGE MODEL FOR\\nCODE WITH MULTI -TURN PROGRAM SYNTHESIS\\nErik Nijkamp∗, Bo Pang∗, Hiroaki Hayashi∗,\\nLifu Tu ,Huan Wang ,Yingbo Zhou ,Silvio Savarese ,Caiming Xiong\\nSalesforce Research\\nABSTRACT\\nProgram synthesis strives to generate a computer program as a solution to a given\\nproblem speciﬁcation, expressed with input-output examples or natural language\\ndescriptions. The prevalence of large language models advances the state-of-the-art\\nfor program synthesis, though limited training resources and data impede open\\naccess to such models. To democratize this, we train and release a family of large'"
            ],
            "application/vnd.google.colaboratory.intrinsic+json": {
              "type": "string"
            }
          },
          "metadata": {}
        }
      ]
    },
    {
      "cell_type": "markdown",
      "source": [],
      "metadata": {
        "id": "wEWj-OEIhsxf"
      },
      "id": "wEWj-OEIhsxf"
    },
    {
      "cell_type": "code",
      "source": [
        "query2 = \"Can you please tell me the findings of the artcile CODEGEN?\"\n",
        "matches2 = db_FAISS_pdf.similarity_search(query2, k=3)\n",
        "print(matches2[0].page_content)"
      ],
      "metadata": {
        "colab": {
          "base_uri": "https://localhost:8080/"
        },
        "id": "qm3zK3UneF1t",
        "outputId": "627e5d0d-0875-43db-e124-78ad4c8189d3"
      },
      "id": "qm3zK3UneF1t",
      "execution_count": 238,
      "outputs": [
        {
          "output_type": "stream",
          "name": "stdout",
          "text": [
            "Published as a conference paper at ICLR 2023\n",
            "BROADER IMPACT AND ETHICAL CONSIDERATIONS\n",
            "All variants of CODEGENare ﬁrstly pre-trained on the Pile, which includes a small portion of\n",
            "profane language. Focusing on the GitHub data that best aligns our expected use case of program\n",
            "synthesis, Gao et al. (2020) report that 0.1% of the data contained profane language, and has sentiment\n",
            "biases against gender and certain religious groups. Thus, while we did not observe in our samples,\n",
            "CODEGENmay generate such content as well. In addition to risks on natural language outputs\n",
            "(e.g., docstrings), generated programs may include vulnerabilities and safety concerns, which are not\n",
            "remedied in this work. Models should not be used in applications until being treated for these risks.\n",
            "REFERENCES\n"
          ]
        }
      ]
    },
    {
      "source": [
        "# ONLINE - PINECONE\n",
        "\n",
        "# 1. Define our query of interest.\n",
        "query = \"Can you please tell me what is this article CODEGEN: AN OPEN LARGE LANGUAGE MODEL FOR CODE WITH MULTI-TURN PROGRAM SYNTHESIS is about?\"\n",
        "# 2. Perform the semantic search in our vector database with the similarity_search command.\n",
        "matches = db_Pinecone_pdf.similarity_search(query, k=2)\n",
        "\n",
        "# 3. Define a load_qa_chain.\n",
        "chain = load_qa_chain(chatgpt, chain_type=\"stuff\")\n",
        "\n",
        "# 4. Execute the chain with the prompt and the matches.\n",
        "chain.run(input_documents=matches, question = query)\n"
      ],
      "metadata": {
        "executionCancelledAt": null,
        "executionTime": 1946,
        "lastExecutedAt": 1708207544281,
        "lastScheduledRunId": null,
        "lastSuccessfullyExecutedCode": "# ONLINE - PINECONE\n\n# 1. Define our query of interest. \nquery = \"Can you please tell me all the autors of the article Attention is all you need?\"\n\n# 2. Perform the semantic search in our vector database with the similarity_search command.  \nmatches = db_Pinecone2.similarity_search(query, k=2)\n\n# 3. Define a load_qa_chain.\nchain = load_qa_chain(chatgpt, chain_type=\"stuff\")\n\n# 4. Execute the chain with the prompt and the matches. \nchain.run(input_documents=matches, question = query)",
        "outputsMetadata": {
          "0": {
            "height": 257,
            "type": "stream"
          }
        },
        "id": "ccc9684f-f666-473f-8a48-9c8f53e413ab",
        "outputId": "acff26ff-d51d-43b8-bc92-31e58d5714b3",
        "colab": {
          "base_uri": "https://localhost:8080/",
          "height": 140
        }
      },
      "id": "ccc9684f-f666-473f-8a48-9c8f53e413ab",
      "cell_type": "code",
      "execution_count": 239,
      "outputs": [
        {
          "output_type": "execute_result",
          "data": {
            "text/plain": [
              "'The article \"CODEGEN: AN OPEN LARGE LANGUAGE MODEL FOR CODE WITH MULTI-TURN PROGRAM SYNTHESIS\" discusses the development and release of a family of large language models called CODEGEN, trained on natural language and programming language data. These models, with up to 16.1B parameters, aim to advance the state-of-the-art in program synthesis. The paper explores the use of these models for zero-shot Python code generation and investigates a multi-step paradigm for program synthesis, where a single program is broken down into multiple prompts. Additionally, the authors introduce a benchmark called Multi-Turn Programming Benchmark (MTPB) to evaluate the effectiveness of multi-turn prompts in program synthesis. The article emphasizes the importance of democratizing access to large language models for program synthesis.'"
            ],
            "application/vnd.google.colaboratory.intrinsic+json": {
              "type": "string"
            }
          },
          "metadata": {},
          "execution_count": 239
        }
      ]
    },
    {
      "cell_type": "code",
      "source": [
        "query2=\"who are the authors of this article CODEGEN: AN OPEN LARGE LANGUAGE MODEL FOR CODE WITH MULTI-TURN PROGRAM SYNTHESIS?\"\n",
        "matches2 = db_Pinecone_pdf.similarity_search(query2, k=3)\n",
        "chain.run(input_documents=matches2, question = query2)"
      ],
      "metadata": {
        "colab": {
          "base_uri": "https://localhost:8080/",
          "height": 53
        },
        "id": "Fs4oII5bVmWc",
        "outputId": "12b738d3-d9af-4883-f5dc-26e141bac087"
      },
      "id": "Fs4oII5bVmWc",
      "execution_count": 240,
      "outputs": [
        {
          "output_type": "execute_result",
          "data": {
            "text/plain": [
              "'The authors of the article \"CODEGEN: AN OPEN LARGE LANGUAGE MODEL FOR CODE WITH MULTI-TURN PROGRAM SYNTHESIS\" are Erik Nijkamp, Bo Pang, and Hiroaki Hayashi.'"
            ],
            "application/vnd.google.colaboratory.intrinsic+json": {
              "type": "string"
            }
          },
          "metadata": {},
          "execution_count": 240
        }
      ]
    },
    {
      "source": [
        "\n",
        "When we upload data to our vector database, there is metadata that allows us to understand where the data is coming from.\n",
        "When dealing with PDFs, the source information allows us to know what pdf and page the info is coming from."
      ],
      "metadata": {
        "id": "95ad7d06-178b-467b-979b-8976582012a7"
      },
      "id": "95ad7d06-178b-467b-979b-8976582012a7",
      "cell_type": "markdown"
    },
    {
      "source": [
        "Now it is the time to put it all together and generate a simple pipeline to query our documents using a LLM model."
      ],
      "metadata": {
        "id": "f2e5f032-6e4d-40b2-b851-ccb9c86fc097"
      },
      "id": "f2e5f032-6e4d-40b2-b851-ccb9c86fc097",
      "cell_type": "markdown"
    },
    {
      "source": [
        "\n",
        "\n",
        "# Check similarity search is working\n",
        "query = \"Who created transformers?\"\n",
        "matches = db_FAISS_dir.similarity_search(query)\n",
        "print(\"We found {0} number of similarities.\".format(len(matches)))\n",
        "for match in matches:\n",
        "    display(\"\\n\", match.page_content)"
      ],
      "metadata": {
        "executionCancelledAt": null,
        "executionTime": 30793,
        "lastExecutedAt": 1708209312964,
        "lastScheduledRunId": null,
        "lastSuccessfullyExecutedCode": "# STEP 3 - EMBEDDING AND UPLOAD DATA INTO OUR VECTORSTORE\n\n# ___________________________________________________________________________ LOCAL VERSION\n\n# 1. Create vector database with FAISS\ndb_FAISS = FAISS.from_documents(chunks, embeddings)\n\n# Check similarity search is working\nquery = \"Who created transformers?\"\nmatches = db_FAISS.similarity_search(query)\nprint(\"We found {0} number of similarities.\".format(len(matches)))\nfor match in matches:\n    print(\"\\n\", match.page_content)",
        "outputsMetadata": {
          "0": {
            "height": 603,
            "type": "stream"
          }
        },
        "id": "04a6a94c-153d-438a-978b-df189a33fa6c",
        "outputId": "049a58b4-ac26-4e8d-d0db-2beb82613c4e",
        "colab": {
          "base_uri": "https://localhost:8080/",
          "height": 237
        }
      },
      "id": "04a6a94c-153d-438a-978b-df189a33fa6c",
      "cell_type": "code",
      "execution_count": 242,
      "outputs": [
        {
          "output_type": "stream",
          "name": "stdout",
          "text": [
            "We found 4 number of similarities.\n"
          ]
        },
        {
          "output_type": "display_data",
          "data": {
            "text/plain": [
              "'\\n'"
            ],
            "application/vnd.google.colaboratory.intrinsic+json": {
              "type": "string"
            }
          },
          "metadata": {}
        },
        {
          "output_type": "display_data",
          "data": {
            "text/plain": [
              "'Dehghani, M., Gouws, S., Vinyals, O., Uszkoreit, J., and Łukasz\\nKaiser. Universal transformers, 2019.\\nDevlin, J., Uesato, J., Bhupatiraju, S., Singh, R., rahman Mohamed,'"
            ],
            "application/vnd.google.colaboratory.intrinsic+json": {
              "type": "string"
            }
          },
          "metadata": {}
        },
        {
          "output_type": "display_data",
          "data": {
            "text/plain": [
              "'\\n'"
            ],
            "application/vnd.google.colaboratory.intrinsic+json": {
              "type": "string"
            }
          },
          "metadata": {}
        },
        {
          "output_type": "display_data",
          "data": {
            "text/plain": [
              "'Unterthiner, Mostafa Dehghani, Matthias Minderer, Georg Heigold, Sylvain Gelly, Jakob Uszkoreit,\\nand Neil Houlsby. An image is worth 16x16 words: Transformers for image recognition at scale.'"
            ],
            "application/vnd.google.colaboratory.intrinsic+json": {
              "type": "string"
            }
          },
          "metadata": {}
        },
        {
          "output_type": "display_data",
          "data": {
            "text/plain": [
              "'\\n'"
            ],
            "application/vnd.google.colaboratory.intrinsic+json": {
              "type": "string"
            }
          },
          "metadata": {}
        },
        {
          "output_type": "display_data",
          "data": {
            "text/plain": [
              "'To the best of our knowledge, however, the Transformer is the first transduction model relying\\nentirely on self-attention to compute representations of its input and output without using sequence-'"
            ],
            "application/vnd.google.colaboratory.intrinsic+json": {
              "type": "string"
            }
          },
          "metadata": {}
        },
        {
          "output_type": "display_data",
          "data": {
            "text/plain": [
              "'\\n'"
            ],
            "application/vnd.google.colaboratory.intrinsic+json": {
              "type": "string"
            }
          },
          "metadata": {}
        },
        {
          "output_type": "display_data",
          "data": {
            "text/plain": [
              "'the effort to evaluate this idea. Ashish, with Illia, designed and implemented the first Transformer models and'"
            ],
            "application/vnd.google.colaboratory.intrinsic+json": {
              "type": "string"
            }
          },
          "metadata": {}
        }
      ]
    },
    {
      "source": [
        "# Talking with our documents"
      ],
      "metadata": {
        "id": "37afb3bf-6c25-4562-b9c7-f32d17729cf9"
      },
      "id": "37afb3bf-6c25-4562-b9c7-f32d17729cf9",
      "cell_type": "markdown"
    },
    {
      "source": [
        "##  DEFINE A CHAIN AND PERFORM THE SIMILARITY SEARCH\n",
        "Generating a simple pipeline to query our documents with a load_qa_chain.\n",
        "\n",
        "1. Import the `load_qa_chain`from the langchain.chains.question_answering library.\n",
        "2. Define a prompt of interest, like: \"Can you please tell me all the autors of the article Attention is all you need?\"\n",
        "3. Define the chain.\n",
        "4. Perform a semantic search with the `.similarity_search`.\n",
        "5. Execute the chain."
      ],
      "metadata": {
        "id": "b5d54ac1-c3ff-42c3-a9c8-151548914489"
      },
      "id": "b5d54ac1-c3ff-42c3-a9c8-151548914489",
      "cell_type": "markdown"
    },
    {
      "cell_type": "markdown",
      "source": [
        "### Using FAISS and openai"
      ],
      "metadata": {
        "id": "vYKt8RGsqJc_"
      },
      "id": "vYKt8RGsqJc_"
    },
    {
      "source": [
        "\n",
        "# 2. Define a prompt of interest.\n",
        "query = \"Can you please tell me  the autors of the article 'Evaluating Large Language Models Trained on Code'?\"\n",
        "\n",
        "# 3. Define the chain\n",
        "chain = load_qa_chain(llm, chain_type=\"stuff\")\n",
        "\n",
        "# 4. Perform a similarity search.\n",
        "matches = db_FAISS_dir.similarity_search(query, k=1)\n",
        "\n",
        "# 5. Execute the chain to obtain a NLP based response.\n",
        "response = chain.run(input_documents = matches, question = query)\n",
        "print(response)"
      ],
      "metadata": {
        "executionCancelledAt": null,
        "executionTime": 1844,
        "lastExecutedAt": 1704819185918,
        "lastScheduledRunId": null,
        "lastSuccessfullyExecutedCode": "# 1. Import the load_qa_chain\nfrom langchain.chains.question_answering import load_qa_chain \n\n# 2. Define a prompt of interest. \nquery = \"Can you please tell me all the autors of the article Attention is all you need?\"\n\n# 3. Define the chain\nchain = load_qa_chain(chatgpt, chain_type=\"stuff\")\n\n# 4. Perform a similarity search. \nmatches = db_FAISS.similarity_search(query, k=1)\n\n# 5. Execute the chain to obtain a NLP based response. \nresponse = chain.run(input_documents = matches, question = query)\nprint(response)",
        "outputsMetadata": {
          "0": {
            "height": 217,
            "type": "stream"
          }
        },
        "id": "85627ed4-89b0-475c-b7ea-caba04fce893",
        "outputId": "a35801ba-6136-492b-97f0-b2c277d07873",
        "colab": {
          "base_uri": "https://localhost:8080/"
        }
      },
      "id": "85627ed4-89b0-475c-b7ea-caba04fce893",
      "cell_type": "code",
      "execution_count": 244,
      "outputs": [
        {
          "output_type": "stream",
          "name": "stdout",
          "text": [
            " Mark Chen, Jerry Tworek, Heewoo Jun, Qiming Yuan, and Henrique Ponde de Oliveira Pinto.\n"
          ]
        }
      ]
    },
    {
      "source": [
        "Now that we already have a working pipeline to query our documents, we want to understand where our data is coming from."
      ],
      "metadata": {
        "id": "3570da7e-07ca-4dbd-a390-0f74aeabc044"
      },
      "id": "3570da7e-07ca-4dbd-a390-0f74aeabc044",
      "cell_type": "markdown"
    },
    {
      "source": [
        "# 1. Import the load_qa_chain\n",
        "from langchain.chains.question_answering import load_qa_chain\n",
        "\n",
        "# 2. Define a prompt of interest.\n",
        "query = \"Can you please tell me all the autors of the article 'Evaluating Large Language Models Trained on Code' is all you need?\"\n",
        "\n",
        "# 3. Define the chain\n",
        "chain = load_qa_chain(llm, chain_type=\"stuff\")\n",
        "\n",
        "# 4. Perform a similarity search.\n",
        "matches = db_FAISS_dir.similarity_search(query, k=1)\n",
        "\n",
        "# 5. We define both the text and the metadata obtain from the semantic search.\n",
        "input_text = [x.page_content for x in matches]\n",
        "input_metadata= [x.metadata for x in matches]\n",
        "\n",
        "# 6. We define a metadata prompt with the metadata and ask the model to explicitily state the source.\n",
        "meta_data_enriching = \"The provided information has been extracted from {0}, please state info sources (both pdf and page) in the response\".format(input_metadata)\n",
        "\n",
        "# 7. We define an enriched query with the initial prompt and the metadata prompt.\n",
        "enriched_query = query + meta_data_enriching\n",
        "\n",
        "# 8. We execute the chain.\n",
        "response = chain.run(input_documents = matches, question = enriched_query)\n",
        "display(response)"
      ],
      "metadata": {
        "executionCancelledAt": null,
        "executionTime": 132434,
        "lastExecutedAt": 1708210236236,
        "lastScheduledRunId": null,
        "lastSuccessfullyExecutedCode": "# 1. Import the load_qa_chain\nfrom langchain.chains.question_answering import load_qa_chain \n\n# 2. Define a prompt of interest. \nquery = \"Can you please tell me all the autors of the article Attention is all you need?\"\n\n# 3. Define the chain\nchain = load_qa_chain(chatgpt, chain_type=\"stuff\")\n\n# 4. Perform a similarity search. \nmatches = db_FAISS.similarity_search(query, k=1)\n\n# 5. We define both the text and the metadata obtain from the semantic search.\ninput_text = [x.page_content for x in matches]\ninput_metadata= [x.metadata for x in matches]\n\n# 6. We define a metadata prompt with the metadata and ask the model to explicitily state the source. \nmeta_data_enriching = \"The provided information has been extracted from {0}, please state info sources (both pdf and page) in the response\".format(input_metadata) \n\n# 7. We define an enriched query with the initial prompt and the metadata prompt. \nenriched_query = query + meta_data_enriching\n\n# 8. We execute the chain. \nresponse = chain.run(input_documents = matches, question = enriched_query)\nprint(response)",
        "outputsMetadata": {
          "0": {
            "height": 237,
            "type": "stream"
          }
        },
        "id": "c9445c4e-6c17-4a2f-8a5e-0456873c8ac6",
        "outputId": "d9620d6e-f6b6-4fd7-ae7a-c1f23f5f2a7d",
        "colab": {
          "base_uri": "https://localhost:8080/",
          "height": 71
        }
      },
      "id": "c9445c4e-6c17-4a2f-8a5e-0456873c8ac6",
      "cell_type": "code",
      "execution_count": 249,
      "outputs": [
        {
          "output_type": "display_data",
          "data": {
            "text/plain": [
              "' According to the provided information, the authors of the article \"Evaluating Large Language Models Trained on Code\" are Mark Chen*, Jerry Tworek*, Heewoo Jun*, Qiming Yuan*, and Henrique Ponde de Oliveira Pinto*. The information was extracted from the pdf file \"codex.pdf\" and the page number is 0.'"
            ],
            "application/vnd.google.colaboratory.intrinsic+json": {
              "type": "string"
            }
          },
          "metadata": {}
        }
      ]
    },
    {
      "source": [
        "def asking_your_model(query, k):\n",
        "    # Define the chain\n",
        "    chain = load_qa_chain(llm, chain_type=\"stuff\")\n",
        "    #Perform a similarity search.\n",
        "    matches = db_FAISS_dir.similarity_search(query, k=k)\n",
        "    #We define both the text and the metadata obtain from the semantic search.\n",
        "    input_text = [x.page_content for x in matches]\n",
        "    input_metadata= [x.metadata for x in matches]\n",
        "    #We define a metadata prompt with the metadata and ask the model to explicitily state the source.\n",
        "    meta_data_enriching = \"The provided information has been extracted from {0}, please state info sources (both pdf and page) in       the response\".format(input_metadata)\n",
        "    #We define an enriched query with the initial prompt and the metadata prompt.\n",
        "    enriched_query = query + meta_data_enriching\n",
        "    #We execute the chain.\n",
        "    response = chain.run(input_documents = matches, question = enriched_query)\n",
        "    return response\n"
      ],
      "metadata": {
        "executionCancelledAt": null,
        "executionTime": 12,
        "lastExecutedAt": 1708210307954,
        "lastScheduledRunId": null,
        "lastSuccessfullyExecutedCode": "def asking_your_model(query, k):\n    # Define the chain\n    chain = load_qa_chain(chatgpt, chain_type=\"stuff\")\n    #Perform a similarity search. \n    matches = db_FAISS.similarity_search(query, k=k)\n    #We define both the text and the metadata obtain from the semantic search.\n    input_text = [x.page_content for x in matches]\n    input_metadata= [x.metadata for x in matches]\n    #We define a metadata prompt with the metadata and ask the model to explicitily state the source. \n    meta_data_enriching = \"The provided information has been extracted from {0}, please state info sources (both pdf and page) in       the response\".format(input_metadata) \n    #We define an enriched query with the initial prompt and the metadata prompt. \n    enriched_query = query + meta_data_enriching\n    #We execute the chain. \n    response = chain.run(input_documents = matches, question = enriched_query)\n    return response\n    ",
        "id": "9c4b26ec-dc92-49bc-9955-2516e8a0cca6"
      },
      "id": "9c4b26ec-dc92-49bc-9955-2516e8a0cca6",
      "cell_type": "code",
      "execution_count": 281,
      "outputs": []
    },
    {
      "source": [
        "\n",
        "# Check similarity search is working\n",
        "query = \"What is functional correctness?\"\n",
        "response = asking_your_model(query, k=4)\n",
        "display(response)"
      ],
      "metadata": {
        "executionCancelledAt": null,
        "executionTime": 1337,
        "lastExecutedAt": 1708210325393,
        "lastScheduledRunId": null,
        "lastSuccessfullyExecutedCode": "from langchain.chains.question_answering import load_qa_chain \n\n# Check similarity search is working\nquery = \"What is functional correctness?\"\nresponse = asking_your_model(query, k=4)\nprint(response)",
        "outputsMetadata": {
          "0": {
            "height": 97,
            "type": "stream"
          }
        },
        "id": "64a2c499-6ef6-424d-b58d-fbd571dd0522",
        "outputId": "2b1c0584-85a2-4593-9681-181cd0263022",
        "colab": {
          "base_uri": "https://localhost:8080/",
          "height": 53
        }
      },
      "id": "64a2c499-6ef6-424d-b58d-fbd571dd0522",
      "cell_type": "code",
      "execution_count": 282,
      "outputs": [
        {
          "output_type": "display_data",
          "data": {
            "text/plain": [
              "\" Functional correctness is a measure of how accurately code performs the intended function, often evaluated through test-driven development. It is discussed in the sources '/content/doc/codex.pdf' on pages 1 and 13.\""
            ],
            "application/vnd.google.colaboratory.intrinsic+json": {
              "type": "string"
            }
          },
          "metadata": {}
        }
      ]
    },
    {
      "source": [
        "\n",
        "# Check similarity search is working\n",
        "query = \"What is the multi-head attention in a transformer?\"\n",
        "response = asking_your_model(query, k=4)\n",
        "display(response)"
      ],
      "metadata": {
        "executionCancelledAt": null,
        "executionTime": null,
        "lastExecutedAt": null,
        "lastScheduledRunId": null,
        "lastSuccessfullyExecutedCode": null,
        "outputsMetadata": {
          "0": {
            "height": 137,
            "type": "stream"
          }
        },
        "id": "e6eb01de-7644-45a0-a88c-f290ee351640",
        "outputId": "5b82be65-b2d3-46aa-9630-a1facfa4ec3d",
        "colab": {
          "base_uri": "https://localhost:8080/",
          "height": 71
        }
      },
      "id": "e6eb01de-7644-45a0-a88c-f290ee351640",
      "cell_type": "code",
      "execution_count": 254,
      "outputs": [
        {
          "output_type": "display_data",
          "data": {
            "text/plain": [
              "'Multi-head attention in a transformer allows the model to jointly attend to information from different representation subspaces at different positions. With a single attention head, averaging inhibits this. This information was extracted from the document \"attentions.pdf\", page 4.'"
            ],
            "application/vnd.google.colaboratory.intrinsic+json": {
              "type": "string"
            }
          },
          "metadata": {}
        }
      ]
    },
    {
      "source": [
        "\n",
        "# Check similarity search is working\n",
        "query = \"What are the main components of a transformer?\"\n",
        "response = asking_your_model(query, k=4)\n",
        "display(response)"
      ],
      "metadata": {
        "executionCancelledAt": null,
        "executionTime": null,
        "lastExecutedAt": null,
        "lastScheduledRunId": null,
        "lastSuccessfullyExecutedCode": null,
        "outputsMetadata": {
          "0": {
            "height": 117,
            "type": "stream"
          }
        },
        "id": "0925bf69-fc5b-47d8-8f7d-322dab181ae3",
        "outputId": "5e31ff02-70fb-4ccf-f315-2972dd6c768d",
        "colab": {
          "base_uri": "https://localhost:8080/",
          "height": 88
        }
      },
      "id": "0925bf69-fc5b-47d8-8f7d-322dab181ae3",
      "cell_type": "code",
      "execution_count": 256,
      "outputs": [
        {
          "output_type": "display_data",
          "data": {
            "text/plain": [
              "'The main components of a Transformer are self-attention mechanisms. This model relies entirely on self-attention to compute representations of its input and output without using sequence-specific recurrence or convolution. \\n\\nSources:\\n- Dehghani, M., Gouws, S., Vinyals, O., Uszkoreit, J., and Łukasz Kaiser. Universal transformers, 2019.\\n- Devlin, J., Uesato, J., Bhupatiraju, S., Singh, R., rahman Mohamed,\\n- Source: /content/doc/attentions.pdf, Page 1'"
            ],
            "application/vnd.google.colaboratory.intrinsic+json": {
              "type": "string"
            }
          },
          "metadata": {}
        }
      ]
    },
    {
      "source": [
        "\n",
        "# Check similarity search is working\n",
        "query = \"What is deep learning?\"\n",
        "response = asking_your_model(query, k=4)\n",
        "display(response)"
      ],
      "metadata": {
        "executionCancelledAt": null,
        "executionTime": null,
        "lastExecutedAt": null,
        "lastScheduledRunId": null,
        "lastSuccessfullyExecutedCode": null,
        "outputsMetadata": {
          "0": {
            "height": 137,
            "type": "stream"
          }
        },
        "id": "020d8c56-3973-46a3-9c63-a84cffe88078",
        "outputId": "bf8c00d2-7c25-4f00-f39a-73f4ca7f2a86",
        "colab": {
          "base_uri": "https://localhost:8080/",
          "height": 53
        }
      },
      "cell_type": "code",
      "id": "020d8c56-3973-46a3-9c63-a84cffe88078",
      "outputs": [
        {
          "output_type": "display_data",
          "data": {
            "text/plain": [
              "'\\nDeep learning is a popular approach to neural program learning that has led to strong advances in the field of program learning. It is mentioned on page 12 of the codex.pdf document and on page 9 of the incoder.pdf document.'"
            ],
            "application/vnd.google.colaboratory.intrinsic+json": {
              "type": "string"
            }
          },
          "metadata": {}
        }
      ],
      "execution_count": 269
    },
    {
      "cell_type": "markdown",
      "source": [
        "### Using Pinecone and openai"
      ],
      "metadata": {
        "id": "eQ0-O3tPnn3Q"
      },
      "id": "eQ0-O3tPnn3Q"
    },
    {
      "cell_type": "code",
      "source": [
        "db_Pinecone_dir = Pinecone.from_documents(pdf_directory_chunks, embeddings, index_name=index_name)"
      ],
      "metadata": {
        "id": "PdhBUt0soQS2"
      },
      "id": "PdhBUt0soQS2",
      "execution_count": 276,
      "outputs": []
    },
    {
      "cell_type": "code",
      "source": [
        "def asking_your_model2(query, k):\n",
        "    # Define the chain\n",
        "    chain = load_qa_chain(llm, chain_type=\"stuff\")\n",
        "    #Perform a similarity search.\n",
        "    matches = db_Pinecone_dir.similarity_search(query, k=k)\n",
        "    #We define both the text and the metadata obtain from the semantic search.\n",
        "    input_text = [x.page_content for x in matches]\n",
        "    input_metadata= [x.metadata for x in matches]\n",
        "    #We define a metadata prompt with the metadata and ask the model to explicitily state the source.\n",
        "    meta_data_enriching = \"The provided information has been extracted from {0}, please state info sources (both pdf and page) in       the response\".format(input_metadata)\n",
        "    #We define an enriched query with the initial prompt and the metadata prompt.\n",
        "    enriched_query = query + meta_data_enriching\n",
        "    #We execute the chain.\n",
        "    response = chain.run(input_documents = matches, question = enriched_query)\n",
        "    return response"
      ],
      "metadata": {
        "id": "SI5UqcupoGj3"
      },
      "id": "SI5UqcupoGj3",
      "execution_count": 278,
      "outputs": []
    },
    {
      "cell_type": "code",
      "source": [
        "query = \"What is functional correctness?\"\n",
        "response = asking_your_model2(query, k=4)\n",
        "display(response)"
      ],
      "metadata": {
        "colab": {
          "base_uri": "https://localhost:8080/",
          "height": 53
        },
        "id": "LT6mGVX-oP6F",
        "outputId": "dea7e6f6-1740-40d1-e4fa-65f54ecf19d2"
      },
      "id": "LT6mGVX-oP6F",
      "execution_count": 279,
      "outputs": [
        {
          "output_type": "display_data",
          "data": {
            "text/plain": [
              "' Functional correctness is the evaluation of code based on its ability to perform its intended function. This information is provided on page 1.0 of the codex.pdf document.'"
            ],
            "application/vnd.google.colaboratory.intrinsic+json": {
              "type": "string"
            }
          },
          "metadata": {}
        }
      ]
    },
    {
      "cell_type": "code",
      "source": [
        "# Check similarity search is working\n",
        "query = \"What is the multi-head attention in a transformer?\"\n",
        "response = asking_your_model2(query, k=4)\n",
        "display(response)"
      ],
      "metadata": {
        "colab": {
          "base_uri": "https://localhost:8080/",
          "height": 53
        },
        "id": "CMBecfyyokNz",
        "outputId": "4b36cdc0-46c8-407f-9e10-50ba4d0de2f5"
      },
      "id": "CMBecfyyokNz",
      "execution_count": 287,
      "outputs": [
        {
          "output_type": "display_data",
          "data": {
            "text/plain": [
              "' The multi-head attention in a transformer is a mechanism that allows the model to attend to different parts of the input sequence simultaneously. It is used in three different ways in the transformer architecture. (Source: doc/attentions.pdf, page 4)'"
            ],
            "application/vnd.google.colaboratory.intrinsic+json": {
              "type": "string"
            }
          },
          "metadata": {}
        }
      ]
    },
    {
      "cell_type": "code",
      "source": [
        "# Check similarity search is working\n",
        "query = \"What are the main components of a transformer?\"\n",
        "response = asking_your_model2(query, k=4)\n",
        "display(response)"
      ],
      "metadata": {
        "colab": {
          "base_uri": "https://localhost:8080/",
          "height": 53
        },
        "id": "I8qRDhKhoy9W",
        "outputId": "ea3437d2-e598-4d20-92bd-99b7c7acc7d7"
      },
      "id": "I8qRDhKhoy9W",
      "execution_count": 288,
      "outputs": [
        {
          "output_type": "display_data",
          "data": {
            "text/plain": [
              "' The main components of a transformer are self-attention and an encoder-decoder structure. These are discussed in multiple sources, including the PDFs \"attentions.pdf\" (pages 1 and 7) and \"doc/attentions.pdf\" (pages 1 and 7).'"
            ],
            "application/vnd.google.colaboratory.intrinsic+json": {
              "type": "string"
            }
          },
          "metadata": {}
        }
      ]
    },
    {
      "cell_type": "code",
      "source": [
        "# Check similarity search is working\n",
        "query = \"What is deep learning?\"\n",
        "response = asking_your_model2(query, k=4)\n",
        "display(response)"
      ],
      "metadata": {
        "colab": {
          "base_uri": "https://localhost:8080/",
          "height": 71
        },
        "id": "k7HtBpcKo9An",
        "outputId": "42f29f98-3651-4654-bcf4-3bb6e1ba779e"
      },
      "id": "k7HtBpcKo9An",
      "execution_count": 299,
      "outputs": [
        {
          "output_type": "display_data",
          "data": {
            "text/plain": [
              "'Deep learning is a field of study that has seen significant advancements due to the resurgence of this technology. It is an approach to program learning that utilizes two popular methods known as program induction and program synthesis. This information was extracted from page 12 of the pdf document titled \"codex.pdf.\"'"
            ],
            "application/vnd.google.colaboratory.intrinsic+json": {
              "type": "string"
            }
          },
          "metadata": {}
        }
      ]
    },
    {
      "cell_type": "code",
      "source": [
        "# Check similarity search is working\n",
        "query = \"What is football?\"\n",
        "response = asking_your_model2(query, k=4)\n",
        "display(response)"
      ],
      "metadata": {
        "colab": {
          "base_uri": "https://localhost:8080/",
          "height": 36
        },
        "id": "CkR31BDmtOpg",
        "outputId": "10152156-2f8b-48f7-9f79-280fb2b04e5c"
      },
      "id": "CkR31BDmtOpg",
      "execution_count": 302,
      "outputs": [
        {
          "output_type": "display_data",
          "data": {
            "text/plain": [
              "\" I don't know, I do not see any information about football in the provided context.\""
            ],
            "application/vnd.google.colaboratory.intrinsic+json": {
              "type": "string"
            }
          },
          "metadata": {}
        }
      ]
    },
    {
      "cell_type": "markdown",
      "source": [
        "\n",
        "Indeed, we have demonstrated how our system enables the creation of a document bot capable of querying about documents. With this approach, we not only enhance the quality of answers by leveraging the context of the documents but also provide the source of the answer.\n",
        "\n",
        "By employing FAISS as a local database and Pinecone as a cloud-based solution, which are widely utilized for large language models (LLMs), we have ensured efficient storage and retrieval of document embeddings.\n",
        "\n",
        "This system is versatile and applicable beyond articles; it can be integrated into various domains such as call centers, e-commerce platforms, or office environments for streamlined document-related tasks. A document bot has the potential to significantly simplify document-related workflows, thereby enhancing efficiency and productivity in various settings."
      ],
      "metadata": {
        "id": "KNl5o_CDtn7Y"
      },
      "id": "KNl5o_CDtn7Y"
    },
    {
      "cell_type": "markdown",
      "source": [],
      "metadata": {
        "id": "Q3KZqIJhrkCG"
      },
      "id": "Q3KZqIJhrkCG"
    }
  ],
  "metadata": {
    "language_info": {
      "name": "python",
      "version": "3.8.10",
      "mimetype": "text/x-python",
      "codemirror_mode": {
        "name": "ipython",
        "version": 3
      },
      "pygments_lexer": "ipython3",
      "nbconvert_exporter": "python",
      "file_extension": ".py"
    },
    "kernelspec": {
      "display_name": "Python 3 (ipykernel)",
      "language": "python",
      "name": "python3"
    },
    "editor": "DataCamp Workspace",
    "colab": {
      "provenance": [],
      "toc_visible": true
    }
  },
  "nbformat": 4,
  "nbformat_minor": 5
}