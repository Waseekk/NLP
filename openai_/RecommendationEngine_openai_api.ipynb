{
 "cells": [
  {
   "cell_type": "code",
   "execution_count": 4,
   "id": "2a7ea414",
   "metadata": {},
   "outputs": [],
   "source": [
    "from openai import OpenAI "
   ]
  },
  {
   "cell_type": "code",
   "execution_count": null,
   "id": "b16fc429-155a-437f-99c2-d25e59b7b972",
   "metadata": {},
   "outputs": [],
   "source": []
  },
  {
   "cell_type": "markdown",
   "id": "9a40c66f-112e-47e8-b693-7b6498892680",
   "metadata": {},
   "source": [
    "# Introduction:\n",
    "In this project, we aimed to develop a product recommendation system utilizing the OpenAI API. The recommendation system is designed to provide users with personalized product suggestions based on their interaction history and the features of products they have engaged with."
   ]
  },
  {
   "cell_type": "markdown",
   "id": "d32b7e3c-1348-4769-b1ba-4c1d8a4f514a",
   "metadata": {},
   "source": [
    "# Data Acquisition and Preprocessing:\n",
    "\n",
    "The project began with acquiring product data from a JSON file containing information such as title, short description, price, category, and features. This data served as the foundation for our recommendation system."
   ]
  },
  {
   "cell_type": "code",
   "execution_count": 33,
   "id": "25bfdeb0-4fac-4bff-aa48-f71f3cd1396e",
   "metadata": {},
   "outputs": [],
   "source": [
    "import json\n",
    "\n",
    "# Open a JSON file for reading\n",
    "with open('G:\\\\2024\\\\New folder\\\\NLP\\\\NLP_\\\\NLP_\\\\OPANAI\\\\products.json', 'r') as json_file:\n",
    "    products = json.load(json_file)"
   ]
  },
  {
   "cell_type": "code",
   "execution_count": 35,
   "id": "f7893aae-2ab0-4daa-98dd-2e1d329957c1",
   "metadata": {},
   "outputs": [
    {
     "data": {
      "text/plain": [
       "[{'title': 'Smartphone X1',\n",
       "  'short_description': 'The latest flagship smartphone with AI-powered features and 5G connectivity.',\n",
       "  'price': 799.99,\n",
       "  'category': 'Electronics',\n",
       "  'features': ['6.5-inch AMOLED display',\n",
       "   'Quad-camera system with 48MP main sensor',\n",
       "   'Face recognition and fingerprint sensor',\n",
       "   'Fast wireless charging']},\n",
       " {'title': 'Luxury Diamond Necklace',\n",
       "  'short_description': 'Elegant necklace featuring genuine diamonds, perfect for special occasions.',\n",
       "  'price': 1499.99,\n",
       "  'category': 'Beauty',\n",
       "  'features': ['18k white gold chain',\n",
       "   '0.5 carat diamond pendant',\n",
       "   'Adjustable chain length',\n",
       "   'Gift box included']},\n",
       " {'title': 'RC Racing Car',\n",
       "  'short_description': 'High-speed remote-controlled racing car for adrenaline-packed fun.',\n",
       "  'price': 89.99,\n",
       "  'category': 'Toys',\n",
       "  'features': ['Top speed of 30 mph',\n",
       "   'Responsive remote control',\n",
       "   'Rechargeable battery',\n",
       "   'Durable construction']},\n",
       " {'title': 'Ultra HD 4K TV',\n",
       "  'short_description': 'Immerse yourself in stunning visuals with this 65-inch 4K TV.',\n",
       "  'price': 1299.99,\n",
       "  'category': 'Electronics',\n",
       "  'features': ['65-inch 4K UHD display',\n",
       "   'Dolby Vision and HDR10+ support',\n",
       "   'Smart TV with streaming apps',\n",
       "   'Voice remote included']},\n",
       " {'title': 'Glowing Skin Serum',\n",
       "  'short_description': 'Revitalize your skin with this nourishing serum for a radiant glow.',\n",
       "  'price': 39.99,\n",
       "  'category': 'Beauty',\n",
       "  'features': ['Hyaluronic acid and vitamin C',\n",
       "   'Hydrates and reduces fine lines',\n",
       "   'Suitable for all skin types',\n",
       "   'Cruelty-free']}]"
      ]
     },
     "execution_count": 35,
     "metadata": {},
     "output_type": "execute_result"
    }
   ],
   "source": [
    "products[0:5]"
   ]
  },
  {
   "cell_type": "markdown",
   "id": "b609350a-009c-4e1c-b771-abfc3f88f8cc",
   "metadata": {},
   "source": [
    "# Generating Embeddings:\n",
    "\n",
    "We utilized OpenAI's powerful text-embedding capabilities to represent each product's features as dense vectors. This was accomplished by sending the product features to the OpenAI API, which returned embeddings representing semantic features of the text."
   ]
  },
  {
   "cell_type": "code",
   "execution_count": 6,
   "id": "cf824b50-adc8-47dd-a793-10c231b6d9c6",
   "metadata": {},
   "outputs": [
    {
     "name": "stdout",
     "output_type": "stream",
     "text": [
      "dict_keys(['title', 'short_description', 'price', 'category', 'features', 'embedding'])\n"
     ]
    }
   ],
   "source": [
    "# Set your API key\n",
    "client = OpenAI(api_key=\"your_api_key\")\n",
    "\n",
    "# Extract a list of product short descriptions from products\n",
    "product_descriptions = [product['short_description']  for product in products ]\n",
    "\n",
    "# Create embeddings for each product description\n",
    "response = client.embeddings.create( \n",
    "    model=\"text-embedding-ada-002\",\n",
    "    input=product_descriptions)\n",
    "response_dict = response.model_dump()\n",
    "#print(response_dict)\n",
    "# Extract the embeddings from response_dict and store in products\n",
    "for i, product in enumerate(products):\n",
    "    product['embedding'] = response_dict['data'][i]['embedding']\n",
    "    \n",
    "print(products[0].keys())"
   ]
  },
  {
   "cell_type": "markdown",
   "id": "f5e1a5ad-26e0-4e50-99f0-dd288d3ff038",
   "metadata": {},
   "source": [
    "# Visualizing Product Embeddings:\n",
    "\n",
    "To gain insights into the structure of the product space, we applied t-SNE dimensionality reduction technique to visualize the embeddings in a two-dimensional space. This visualization helped us understand the relationships between products based on their textual features."
   ]
  },
  {
   "cell_type": "code",
   "execution_count": 12,
   "id": "35606aad-3702-465a-8b35-ebcfcf8f8f31",
   "metadata": {},
   "outputs": [
    {
     "name": "stderr",
     "output_type": "stream",
     "text": [
      "C:\\Users\\hp\\AppData\\Local\\Temp\\ipykernel_12032\\191349208.py:4: DeprecationWarning: \n",
      "Pyarrow will become a required dependency of pandas in the next major release of pandas (pandas 3.0),\n",
      "(to allow more performant data types, such as the Arrow string type, and better interoperability with other libraries)\n",
      "but was not found to be installed on your system.\n",
      "If this would cause problems for you,\n",
      "please provide us feedback at https://github.com/pandas-dev/pandas/issues/54466\n",
      "        \n",
      "  import pandas as pd\n"
     ]
    }
   ],
   "source": [
    "from sklearn.manifold import TSNE\n",
    "import numpy as np\n",
    "import matplotlib.pyplot as plt\n",
    "import pandas as pd"
   ]
  },
  {
   "cell_type": "markdown",
   "id": "834032e3-2efe-4bdb-a0c1-bb6ee8da808e",
   "metadata": {},
   "source": [
    "## Visualizing the embedded descriptions"
   ]
  },
  {
   "cell_type": "code",
   "execution_count": 13,
   "id": "d7365fe1-cd56-41b1-8df4-b3c4f74be79b",
   "metadata": {},
   "outputs": [
    {
     "data": {
      "image/png": "[encoded data removed]",
      "text/plain": [
       "<Figure size 640x480 with 1 Axes>"
      ]
     },
     "metadata": {},
     "output_type": "display_data"
    }
   ],
   "source": [
    "categories = [product['category'] for product in products]\n",
    "embeddings = [product['embedding'] for product in products]\n",
    "\n",
    "# Reduce the number of embeddings dimensions to two using t-SNE\n",
    "tsne = TSNE(n_components=2, perplexity=5)\n",
    "embeddings_2d = tsne.fit_transform(np.array(embeddings))\n",
    "\n",
    "# Create a scatter plot from embeddings_2d\n",
    "plt.scatter(embeddings_2d[:, 0], embeddings_2d[:, 1])\n",
    "\n",
    "for i, category in enumerate(categories):\n",
    "    plt.annotate(category, (embeddings_2d[i, 0], embeddings_2d[i, 1]))\n",
    "\n",
    "plt.show()"
   ]
  },
  {
   "cell_type": "code",
   "execution_count": null,
   "id": "4a72f0c8-3193-4c53-b3a4-0cb2254e8f94",
   "metadata": {},
   "outputs": [],
   "source": [
    "Notice that the embedded product descriptions are broadly clustered by category!"
   ]
  },
  {
   "cell_type": "markdown",
   "id": "d9f20c97-33fa-4a1c-9b00-ceaad38f4993",
   "metadata": {},
   "source": [
    "# Recommendation Engine:\r\n",
    "\r\n",
    "The recommendation engine consists of two main components:\r\n",
    "\r\n",
    "Finding Similar Products to a Given Product:\r\n",
    "We implemented a function that takes a product as input, generates embeddings for its features, and finds the most similar products based on cosine similarity between embeddings.\r\n",
    "\r\n",
    "Recommendation based on User Interaction History:\r\n",
    "We simulated a user's interaction history with products and used this history to recommend new products. First, we calculated the mean embedding of the user's interaction history. Then, we compared this mean embedding with the embeddings of all products to find the most similar ones."
   ]
  },
  {
   "cell_type": "code",
   "execution_count": 15,
   "id": "2eb2f03d-6a96-4caf-9d92-47a1f5cdab93",
   "metadata": {},
   "outputs": [],
   "source": [
    "# Define a create_embeddings function\n",
    "def create_embeddings(texts):\n",
    "  response = client.embeddings.create(\n",
    "    model=\"text-embedding-ada-002\",\n",
    "    input=texts\n",
    "  )\n",
    "  response_dict = response.model_dump()\n",
    "\n",
    "  return [data['embedding'] for data in response_dict['data']]"
   ]
  },
  {
   "cell_type": "code",
   "execution_count": 18,
   "id": "35cd34cc-667e-4f46-8a75-d1055024fb10",
   "metadata": {},
   "outputs": [
    {
     "name": "stdout",
     "output_type": "stream",
     "text": [
      "Title: Smartphone X1\n",
      "Description: The latest flagship smartphone with AI-powered features and 5G connectivity.\n",
      "Category: Electronics\n",
      "Features: 6.5-inch AMOLED display, Quad-camera system with 48MP main sensor, Face recognition and fingerprint sensor, Fast wireless charging\n"
     ]
    }
   ],
   "source": [
    "# Define a function to combine the relevant features into a single string\n",
    "def create_product_text(product):\n",
    "  return f\"\"\"Title: {product['title']}\n",
    "Description: {product['short_description']}\n",
    "Category: {product['category']}\n",
    "Features: {', '.join(product['features'])}\"\"\"\n",
    "\n",
    "# Combine the features for each product\n",
    "\n",
    "product_texts = [create_product_text(product) for product in products]\n",
    "print(product_texts[0])\n",
    "product_embeddings = create_embeddings(product_texts)\n",
    "#product_embeddings[0] # this is a huge result"
   ]
  },
  {
   "cell_type": "code",
   "execution_count": 20,
   "id": "b1deb90a-7e56-4a28-8c6a-af34ab0d16c0",
   "metadata": {},
   "outputs": [],
   "source": [
    "from scipy.spatial import distance"
   ]
  },
  {
   "cell_type": "code",
   "execution_count": 21,
   "id": "af918654-c5db-4102-b6cc-abb459faaae1",
   "metadata": {},
   "outputs": [],
   "source": [
    "# define a function for measuring cosine similarity \n",
    "def find_n_closest(query_vector, embeddings, n=3):\n",
    "  distances = []\n",
    "  for index, embedding in enumerate(embeddings):\n",
    "    # Calculate the cosine distance between the query vector and embedding\n",
    "    dist = distance.cosine(query_vector, embedding)\n",
    "    # Append the distance and index to distances\n",
    "    distances.append({\"distance\": dist, \"index\": index})\n",
    "  # Sort distances by the distance key\n",
    "  distances_sorted = sorted(distances, key=lambda x: x[\"distance\"])\n",
    "  # Return the first n elements in distances_sorted\n",
    "  return distances_sorted[0:n]"
   ]
  },
  {
   "cell_type": "markdown",
   "id": "0432581a",
   "metadata": {},
   "source": [
    "## Semantic search for products"
   ]
  },
  {
   "cell_type": "code",
   "execution_count": 22,
   "id": "c6cf98e8",
   "metadata": {},
   "outputs": [
    {
     "name": "stdout",
     "output_type": "stream",
     "text": [
      "Search results for \"computer\"\n",
      "High-Performance Gaming Laptop\n",
      "Interactive Robot Pet\n",
      "Remote-Controlled Drone\n",
      "Wireless Charging Dock\n",
      "Robot Building Kit\n"
     ]
    }
   ],
   "source": [
    "# Create the query vector from query_text\n",
    "query_text = \"computer\"\n",
    "query_vector = create_embeddings(query_text)[0]\n",
    "\n",
    "# Find the five closest distances\n",
    "hits = find_n_closest(query_vector, product_embeddings, 5)\n",
    "\n",
    "print(f'Search results for \"{query_text}\"')\n",
    "for hit in hits:\n",
    "  # Extract the product at each index in hits\n",
    "  product = products[hit['index']]\n",
    "  print(product[\"title\"])"
   ]
  },
  {
   "cell_type": "markdown",
   "id": "287b92a2",
   "metadata": {},
   "source": [
    "## Recommentdation System"
   ]
  },
  {
   "cell_type": "code",
   "execution_count": 23,
   "id": "880f0e78",
   "metadata": {},
   "outputs": [],
   "source": [
    "# define a random user history to check the engine\n",
    "last_product={'title': 'Building Blocks Deluxe Set',\n",
    " 'short_description': 'Unleash your creativity with this deluxe set of building blocks for endless fun.',\n",
    " 'price': 34.99,\n",
    " 'category': 'Toys',\n",
    " 'features': ['Includes 500+ colorful building blocks',\n",
    "  'Promotes STEM learning and creativity',\n",
    "  'Compatible with other major brick brands',\n",
    "  'Comes with a durable storage container',\n",
    "  'Ideal for children ages 3 and up']}\n"
   ]
  },
  {
   "cell_type": "code",
   "execution_count": 24,
   "id": "57716838",
   "metadata": {},
   "outputs": [
    {
     "name": "stdout",
     "output_type": "stream",
     "text": [
      "LEGO Space Shuttle\n",
      "Robot Building Kit\n",
      "Luxury Skincare Set\n"
     ]
    }
   ],
   "source": [
    "# Combine the features for last_product and each product in products\n",
    "last_product_text = create_product_text(last_product)\n",
    "product_texts = [create_product_text(product) for product in products]\n",
    "\n",
    "# Embed last_product_text and product_texts\n",
    "last_product_embeddings = create_embeddings(last_product_text)[0]\n",
    "product_embeddings = create_embeddings(product_texts)\n",
    "\n",
    "# Find the three smallest cosine distances and their indexes\n",
    "hits = find_n_closest(last_product_embeddings, product_embeddings)\n",
    "\n",
    "for hit in hits:\n",
    "  product = products[hit['index']]\n",
    "  print(product['title'])"
   ]
  },
  {
   "cell_type": "markdown",
   "id": "10077aac",
   "metadata": {},
   "source": [
    "Congratulations on making our first recommendation engine! As we can see, we were able to make very relevant recommendations based on the last product that the user viewed, a set of building blocks.\n",
    "### Adding user history to the recommendation engine\n",
    "For many recommendation cases, such as film or purchase recommendation, basing the next recommendation on one data point will be insufficient. In these cases, you'll need to embed all or some of the user's history for more accurate and relevant recommendations."
   ]
  },
  {
   "cell_type": "code",
   "execution_count": 25,
   "id": "0f3b38e5",
   "metadata": {},
   "outputs": [],
   "source": [
    "import numpy as np\n",
    "user_history=[{'title': 'Remote-Controlled Dinosaur Toy',\n",
    "  'short_description': 'Roar into action with this remote-controlled dinosaur toy with lifelike movements.',\n",
    "  'price': 49.99,\n",
    "  'category': 'Toys',\n",
    "  'features': ['Realistic dinosaur sound effects',\n",
    "   'Walks and roars like a real dinosaur',\n",
    "   'Remote control included',\n",
    "   'Educational and entertaining']},\n",
    " {'title': 'Building Blocks Deluxe Set',\n",
    "  'short_description': 'Unleash your creativity with this deluxe set of building blocks for endless fun.',\n",
    "  'price': 34.99,\n",
    "  'category': 'Toys',\n",
    "  'features': ['Includes 500+ colorful building blocks',\n",
    "   'Promotes STEM learning and creativity',\n",
    "   'Compatible with other major brick brands',\n",
    "   'Comes with a durable storage container',\n",
    "   'Ideal for children ages 3 and up']}]"
   ]
  },
  {
   "cell_type": "code",
   "execution_count": 26,
   "id": "578e18ef",
   "metadata": {},
   "outputs": [
    {
     "name": "stdout",
     "output_type": "stream",
     "text": [
      "Remote-Controlled Dinosaur Toy\n",
      "Robot Building Kit\n",
      "LEGO Space Shuttle\n"
     ]
    }
   ],
   "source": [
    "\n",
    "# Prepare and embed the user_history, and calculate the mean embeddings\n",
    "history_texts = [create_product_text(product) for product in user_history]\n",
    "history_embeddings = create_embeddings(history_texts)\n",
    "mean_history_embeddings = np.mean(history_embeddings, axis=0) # mean the vectors of the previous search/seen results\n",
    "\n",
    "# Filter products to remove any in user_history\n",
    "products_filtered = [product for product in products if product not in user_history]\n",
    "\n",
    "# Combine product features and embed the resulting texts\n",
    "product_texts = [create_product_text(product) for product in products_filtered]\n",
    "product_embeddings = create_embeddings(product_texts)\n",
    "\n",
    "hits = find_n_closest(mean_history_embeddings, product_embeddings)\n",
    "\n",
    "for hit in hits:\n",
    "  product = products_filtered[hit['index']]\n",
    "  print(product['title'])"
   ]
  },
  {
   "cell_type": "markdown",
   "id": "1af79fc4-2cb7-49ed-a9fc-458a7e7d1544",
   "metadata": {},
   "source": [
    "# Results:\n",
    "\n",
    "The recommendation system successfully provided personalized product suggestions based on both individual product queries and user interaction history. By leveraging the semantic understanding encoded in the embeddings, the system offered relevant recommendations tailored to the user's preferences.\n",
    "\n",
    "# Conclusion:\n",
    "\n",
    "In conclusion, this project demonstrates the effectiveness of utilizing OpenAI's API for building a product recommendation system. By leveraging text embeddings, we were able to capture semantic relationships between products and provide personalized recommendations. Further improvements could include fine-tuning the recommendation algorithm, integrating feedback loops for continuous learning, and optimizing the visualization of product embeddings for better interpretability.\n",
    "\n",
    "# Future Directions:\n",
    "\n",
    "Potential future directions for this project include:\n",
    "\n",
    "Experimenting with different models and hyperparameters for text embeddings.\n",
    "Incorporating user feedback mechanisms to improve the accuracy of recommendations over time.\n",
    "Exploring additional data sources or features to enhance the recommendation engine's understanding of user preferences.\n",
    "Overall, this project serves as a foundation for building more sophisticated recommendation systems using OpenAI's powerful natural language processing capabilities."
   ]
  },
  {
   "cell_type": "code",
   "execution_count": null,
   "id": "52e8b329-d65b-4602-ac2a-0b71bdcd6315",
   "metadata": {},
   "outputs": [],
   "source": []
  }
 ],
 "metadata": {
  "kernelspec": {
   "display_name": "Python 3 (ipykernel)",
   "language": "python",
   "name": "python3"
  },
  "language_info": {
   "codemirror_mode": {
    "name": "ipython",
    "version": 3
   },
   "file_extension": ".py",
   "mimetype": "text/x-python",
   "name": "python",
   "nbconvert_exporter": "python",
   "pygments_lexer": "ipython3",
   "version": "3.9.9"
  },
  "toc": {
   "base_numbering": 1,
   "nav_menu": {},
   "number_sections": true,
   "sideBar": true,
   "skip_h1_title": false,
   "title_cell": "Table of Contents",
   "title_sidebar": "Contents",
   "toc_cell": false,
   "toc_position": {
    "height": "calc(100% - 180px)",
    "left": "10px",
    "top": "150px",
    "width": "195.188px"
   },
   "toc_section_display": true,
   "toc_window_display": true
  }
 },
 "nbformat": 4,
 "nbformat_minor": 5
}
